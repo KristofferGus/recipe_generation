{
 "cells": [
  {
   "cell_type": "code",
   "execution_count": 1,
   "metadata": {},
   "outputs": [],
   "source": [
    "import torch\n",
    "import torch.nn as nn\n",
    "import torch.optim as optim\n",
    "from torch.nn.utils.rnn import pad_sequence\n",
    "import csv\n",
    "from tqdm import tqdm\n",
    "import torch.nn.functional as F\n",
    "import os"
   ]
  },
  {
   "cell_type": "code",
   "execution_count": 2,
   "metadata": {},
   "outputs": [
    {
     "data": {
      "text/plain": [
       "'cuda'"
      ]
     },
     "execution_count": 2,
     "metadata": {},
     "output_type": "execute_result"
    }
   ],
   "source": [
    "device = \"cuda\" if torch.cuda.is_available() else \"cpu\"\n",
    "device\n"
   ]
  },
  {
   "cell_type": "code",
   "execution_count": 3,
   "metadata": {},
   "outputs": [],
   "source": [
    "base_path = r''\n",
    "\n",
    "ids_path = 'prepeard_data2.csv'\n",
    "vocab_path = \"vocab.csv\"\n",
    "\n",
    "data_len = 2231142"
   ]
  },
  {
   "cell_type": "code",
   "execution_count": 4,
   "metadata": {},
   "outputs": [
    {
     "name": "stdout",
     "output_type": "stream",
     "text": [
      "['<UKN>', '<PAD>', '.', '*', ',', 'and', 'the', '1', 'to', 'in', 'a', '2', 'with', '1/2', ')', '(', 'of', 'cup', 'until', 'add']\n"
     ]
    }
   ],
   "source": [
    "with open(base_path + vocab_path, 'r') as file:\n",
    "    vocab = [t[0] for t in list(csv.reader(file))[1:]]\n",
    "\n",
    "print(vocab[:20])"
   ]
  },
  {
   "cell_type": "code",
   "execution_count": 5,
   "metadata": {},
   "outputs": [
    {
     "data": {
      "text/plain": [
       "1501"
      ]
     },
     "execution_count": 5,
     "metadata": {},
     "output_type": "execute_result"
    }
   ],
   "source": [
    "\n",
    "vocab =  vocab + [\"<ING>\", \"<REC>\"]\n",
    "\n",
    "\n",
    "\n",
    "w2id =  {w:i for i,w in  enumerate(vocab)}\n",
    "id2w =  {i:w for i,w in  enumerate(vocab)}\n",
    "\n",
    "(w2id)[\"<REC>\"]"
   ]
  },
  {
   "cell_type": "code",
   "execution_count": 6,
   "metadata": {},
   "outputs": [
    {
     "name": "stdout",
     "output_type": "stream",
     "text": [
      "Input sequence shape: torch.Size([32, 10])\n",
      "Output vector shape: torch.Size([32, 5])\n"
     ]
    }
   ],
   "source": [
    "\n",
    "    \n",
    "class Generator_next_token(nn.Module):\n",
    "    def __init__(self, vocab_len, hidden_size, num_layers=1):\n",
    "        super(Generator_next_token, self).__init__()\n",
    "        self.embedding = nn.Embedding(num_embeddings=vocab_len, embedding_dim=hidden_size)\n",
    "        self.rnn = nn.LSTM(input_size, hidden_size, num_layers=num_layers, batch_first=True)\n",
    "        self.fc = nn.Linear(num_layers * hidden_size, vocab_len)\n",
    "\n",
    "    def forward(self, input_sequence):\n",
    "        embedded = self.embedding(input_sequence)\n",
    "        # input_sequence shape: (batch_size, sequence_length, input_size)\n",
    "        hidden_states, (h_n, _) = self.rnn(embedded)\n",
    "        # h_n shape: (num_layers, batch_size, hidden_size)\n",
    "\n",
    "        # Concatenate or stack hidden states from all layers\n",
    "        h_n_flat = h_n.permute(1, 0, 2).contiguous().view(input_sequence.size(0), -1)\n",
    "        \n",
    "        # Pass through the linear layer\n",
    "\n",
    "        output = self.fc(h_n_flat)\n",
    "        # output shape: (batch_size, output_size)\n",
    "       \n",
    "        return output, hidden_states\n",
    "\n",
    "# Example usage\n",
    "batch_size = 32\n",
    "sequence_length = 10\n",
    "input_size = 5\n",
    "hidden_size = 64\n",
    "output_size = input_size\n",
    "\n",
    "# Create an instance of the Generator\n",
    "generator = Generator_next_token(input_size, hidden_size, 2)\n",
    "\n",
    "# Generate a random batch of input sequences\n",
    "input_sequence = torch.randint(0,input_size,(batch_size, sequence_length))\n",
    "\n",
    "# Forward pass through the generator\n",
    "output_vector, _ = generator(input_sequence)\n",
    "\n",
    "print(\"Input sequence shape:\", input_sequence.shape)\n",
    "print(\"Output vector shape:\", output_vector.shape)\n"
   ]
  },
  {
   "cell_type": "code",
   "execution_count": 7,
   "metadata": {},
   "outputs": [],
   "source": [
    "\n",
    "\n",
    "# Define the Generator\n",
    "class Generator(nn.Module):\n",
    "    def __init__(self, vocab_len,hidden_size, depth,max_len):\n",
    "        super(Generator, self).__init__()\n",
    "        \n",
    "        self.embedding = nn.Linear(vocab_len, hidden_size)\n",
    "        self.rnn = nn.LSTM(hidden_size, hidden_size, num_layers=depth, batch_first=True)\n",
    "        self.hidden2vocab = nn.Linear(hidden_size, vocab_len)\n",
    "        self.hidden_l = nn.Linear(hidden_size * depth, hidden_size)\n",
    "        self.max_len = max_len\n",
    "        \n",
    "\n",
    "        \n",
    "        \n",
    "\n",
    "    def forward(self, input_seq):\n",
    "        original_input = input_seq.clone()\n",
    "        sequences = self.embedding(input_seq.float())\n",
    "        outputs = []\n",
    "    \n",
    "        for _ in range(self.max_len):\n",
    "            last_hidden, hidden_states = self.singel_pass(sequences)\n",
    "            outputs.append(last_hidden)\n",
    "            sequences = torch.cat((sequences, last_hidden.unsqueeze(1)), dim = 1)\n",
    "       \n",
    "        outputs = torch.stack(outputs, dim = 1)\n",
    "        vocab_vectors = self.hidden2vocab(outputs)\n",
    "        vocab_probs = torch.softmax(vocab_vectors, dim=2)\n",
    "        \n",
    "        out = torch.concat((original_input,vocab_probs), dim=1)\n",
    "        return out, hidden_states\n",
    "            \n",
    "        \n",
    "\n",
    "    def singel_pass(self, input_seq):\n",
    "        rand_source = torch.rand((input_seq.shape[0], 1, input_seq.shape[2])).to(device)\n",
    "        #embedded = torch.concat((rand_source, embedded), dim = 1)\n",
    "        hidden_states, (last_hidden, _) = self.rnn(input_seq)\n",
    "        last_hidden = last_hidden.view(1, -1)\n",
    "        output = self.hidden_l(last_hidden)\n",
    "        \n",
    "        return output, hidden_states\n",
    "\n",
    "\n",
    "# Define the Discriminator\n",
    "class Discriminator(nn.Module):\n",
    "    def __init__(self, vocab_len, hidden_size):\n",
    "        super(Discriminator, self).__init__()\n",
    "        self.embedding = nn.Embedding(num_embeddings=vocab_len, embedding_dim=hidden_size)\n",
    "        self.rnn = nn.LSTM(hidden_size, hidden_size, batch_first=True)\n",
    "        self.fc = nn.Linear(hidden_size, 1)\n",
    "\n",
    "    def forward(self, input):\n",
    "        embedded = self.embedding(input)\n",
    "        hidden_states, (last_hidden, _) = self.rnn(embedded)\n",
    "        output = self.fc(last_hidden)\n",
    "        prob = F.sigmoid(output)\n",
    "        return prob, hidden_states"
   ]
  },
  {
   "cell_type": "code",
   "execution_count": 8,
   "metadata": {},
   "outputs": [],
   "source": [
    "class CSVDataLoader:\n",
    "    def __init__(self, csv_file_path, batch_size, num_rows, start = 0):\n",
    "        self.csv_file_path = csv_file_path\n",
    "        self.batch_size = batch_size\n",
    "        self.num_rows = num_rows\n",
    "        self.current_index = 0\n",
    "        self.file_handle = None\n",
    "        self.csv_writer = None\n",
    "        self.headers = None\n",
    "\n",
    "    def open_csv_file(self):\n",
    "        self.file_handle = open(self.csv_file_path, 'r', newline='')\n",
    "        self.csv_writer = csv.reader(self.file_handle)\n",
    "        # Assuming the first row contains headers\n",
    "        self.headers = next(self.csv_writer)\n",
    "\n",
    "    def close_csv_file(self):\n",
    "        if self.file_handle is not None and not self.file_handle.closed:\n",
    "            self.file_handle.close()\n",
    "\n",
    "    def reset(self):\n",
    "        self.close_csv_file()\n",
    "        self.open_csv_file()\n",
    "        self.current_index = 0\n",
    "\n",
    "    def has_next_batch(self):\n",
    "        return self.current_index < self.num_rows\n",
    "\n",
    "    def get_next_batch(self, pad):\n",
    "        ing_batch = [] \n",
    "        rec_batch = []\n",
    "        for _ in range(self.batch_size):\n",
    "            if not self.has_next_batch():\n",
    "                break\n",
    "            ing, rec = next(self.csv_writer)\n",
    "            ing_batch.append(torch.tensor(eval(ing)).to(device))\n",
    "            rec_batch.append(torch.tensor(eval(rec)).to(device))\n",
    "            self.current_index += 1\n",
    "       \n",
    "        \n",
    "\n",
    "        ing_padded = pad_sequence(ing_batch, batch_first=True, padding_value=pad)\n",
    "        rec_padded = pad_sequence(rec_batch, batch_first=True, padding_value=pad)\n",
    "        return ing_padded, rec_padded\n",
    "    \n",
    "    def batches_left(self):\n",
    "        return (self.num_rows - self.current_index) // self.batch_size\n",
    "    \n",
    "    def __del__(self):\n",
    "        self.close_csv_file()"
   ]
  },
  {
   "cell_type": "code",
   "execution_count": 9,
   "metadata": {},
   "outputs": [
    {
     "name": "stdout",
     "output_type": "stream",
     "text": [
      "tensor([[0.1826, 0.3651, 0.9129]])\n",
      "tensor([[0.1826, 0.3651, 0.9129]])\n",
      "tensor([[0.1826, 0.3651, 0.9129]])\n",
      "tensor([[0.1826, 0.3651, 0.9129]])\n",
      "tensor([[0.1826, 0.3651, 0.9129]])\n",
      "tensor([[0.1826, 0.3651, 0.9129]])\n",
      "tensor([[0.1826, 0.3651, 0.9129]])\n",
      "tensor([[0.1826, 0.3651, 0.9129]])\n",
      "tensor([[0.1826, 0.3651, 0.9129]])\n",
      "tensor([[0.1826, 0.3651, 0.9129]])\n"
     ]
    }
   ],
   "source": [
    "for i in range(1,100,10):\n",
    "    print(F.normalize(torch.tensor([[0.1,0.2,0.5]], dtype=torch.float32) * i, dim = 1))"
   ]
  },
  {
   "cell_type": "code",
   "execution_count": null,
   "metadata": {},
   "outputs": [],
   "source": []
  },
  {
   "cell_type": "code",
   "execution_count": 10,
   "metadata": {},
   "outputs": [
    {
     "data": {
      "text/plain": [
       "'args = torch.randint(1,100, (1000, 3))\\nr = torch.arange(2500).view(50, -1)\\nfor b,c,d in tqdm(args):\\n    h = one_hot_noisify_tokens(r, 2500, b,c,30).argmax(dim=2)\\n    assert(torch.equal(r, h))'"
      ]
     },
     "execution_count": 10,
     "metadata": {},
     "output_type": "execute_result"
    }
   ],
   "source": [
    "\"\"\"args = torch.randint(1,100, (1000, 3))\n",
    "r = torch.arange(2500).view(50, -1)\n",
    "for b,c,d in tqdm(args):\n",
    "    h = one_hot_noisify_tokens(r, 2500, b,c,30).argmax(dim=2)\n",
    "    assert(torch.equal(r, h))\"\"\""
   ]
  },
  {
   "cell_type": "code",
   "execution_count": 11,
   "metadata": {},
   "outputs": [],
   "source": [
    "def patch_batch(ings, start, midel):\n",
    "    start_tokens = torch.full((ings.shape[0],), start).unsqueeze(1).to(device)\n",
    "    midel_tokens = torch.full((ings.shape[0],), midel).unsqueeze(1).to(device)\n",
    "    return torch.cat((start_tokens, ings, midel_tokens), dim=1).to(device)\n"
   ]
  },
  {
   "cell_type": "code",
   "execution_count": 12,
   "metadata": {},
   "outputs": [
    {
     "data": {
      "text/plain": [
       "tensor([1500,    7,   80,  434,    0,  155,    4,   69,  142,    3,   45,    0,\n",
       "          59,  472,    3,    7,   60,   46,   16,  436,  147,    3,    7, 1167,\n",
       "         204,   46,    1,    1,    1,    1,    1,    1,    1,    1,    1,    1,\n",
       "           1,    1,    1,    1,    1,    1,    1,    1,    1,    1,    1,    1,\n",
       "           1,    1,    1,    1,    1,    1,    1,    1,    1,    1,    1,    1,\n",
       "           1,    1,    1,    1,    1,    1,    1,    1,    1,    1,    1,    1,\n",
       "           1,    1,    1,    1,    1,    1,    1, 1501], device='cuda:0')"
      ]
     },
     "execution_count": 12,
     "metadata": {},
     "output_type": "execute_result"
    }
   ],
   "source": [
    "data_path = r\"prepeard_data2.csv\"\n",
    "data_loader = CSVDataLoader(data_path, 32, 2231142)\n",
    "data_loader.open_csv_file()\n",
    "d = data_loader.get_next_batch(w2id[\"<PAD>\"])\n",
    "data_loader.close_csv_file()\n",
    "\n",
    "patch_batch(d[0], w2id[\"<ING>\"], w2id[\"<REC>\"])[0]"
   ]
  },
  {
   "cell_type": "code",
   "execution_count": 13,
   "metadata": {},
   "outputs": [],
   "source": [
    "class Dummy_loader:\n",
    "    def __init__(self, d) -> None:\n",
    "        self.d = d\n",
    "\n",
    "    def reset(self):\n",
    "        pass\n",
    "    def open_csv_file(self):\n",
    "        pass\n",
    "    def batches_left(self):\n",
    "        return 1\n",
    "\n",
    "    def get_next_batch(self, a):\n",
    "        return self.d\n",
    "    "
   ]
  },
  {
   "cell_type": "code",
   "execution_count": 14,
   "metadata": {},
   "outputs": [],
   "source": [
    "class NextTokenPredictor(nn.Module):\n",
    "    def __init__(self, vocab_size, embedding_dim, hidden_dim,num_layers, dropout_rate):\n",
    "        super(NextTokenPredictor, self).__init__()\n",
    "        self.num_layers = num_layers\n",
    "        self.hidden_dim = hidden_dim\n",
    "        self.embedding_dim = embedding_dim\n",
    "\n",
    "        self.embedding = nn.Embedding(vocab_size, embedding_dim)\n",
    "        self.lstm = nn.LSTM(embedding_dim, hidden_dim, num_layers=num_layers, \n",
    "                    dropout=dropout_rate, batch_first=True)\n",
    "        self.dropout = nn.Dropout(dropout_rate)\n",
    "        self.fc = nn.Linear(hidden_dim, vocab_size)\n",
    "\n",
    "        self.init_hidden = nn.Parameter(torch.zeros(1, 1, hidden_dim), requires_grad=True)\n",
    "      \n",
    "\n",
    "    def forward(self, x):\n",
    "       \n",
    "        embedding = self.dropout(self.embedding(x))\n",
    "        output, hidden = self.lstm(embedding)          \n",
    "        output = self.dropout(output) \n",
    "        prediction = self.fc(output)\n",
    "        return prediction\n",
    "class NextTokenPredictor2(nn.Module):\n",
    "    def __init__(self, vocab_size, embedding_dim, hidden_dim,num_layers, dropout_rate):\n",
    "        super(NextTokenPredictor2, self).__init__()\n",
    "        self.num_layers = num_layers\n",
    "        self.hidden_dim = hidden_dim\n",
    "        self.embedding_dim = embedding_dim\n",
    "\n",
    "        self.embedding = nn.Embedding(vocab_size, embedding_dim)\n",
    "        self.lstm = nn.LSTM(embedding_dim, hidden_dim, num_layers=num_layers, \n",
    "                    dropout=dropout_rate, batch_first=True)\n",
    "        self.dropout = nn.Dropout(dropout_rate)\n",
    "        self.fc = nn.Linear(hidden_dim, vocab_size)\n",
    "\n",
    "        self.init_hidden = nn.Parameter(torch.zeros(1, 1, hidden_dim), requires_grad=True)\n",
    "      \n",
    "\n",
    "    def forward(self, x):\n",
    "       \n",
    "        embedding = (self.embedding(x))\n",
    "        output, hidden = self.lstm(embedding)          \n",
    "        output = self.dropout(output) \n",
    "        prediction = self.fc(output)\n",
    "        return prediction"
   ]
  },
  {
   "cell_type": "code",
   "execution_count": 15,
   "metadata": {},
   "outputs": [],
   "source": [
    "class NextTokenPredictorEncoded(nn.Module):\n",
    "    def __init__(self, vocab_size, embedding_dim, hidden_dim,c_hidden_dim, num_layers,c_num_layers, dropout_rate):\n",
    "        super(NextTokenPredictorEncoded, self).__init__()\n",
    "        self.num_layers = num_layers\n",
    "        self.hidden_dim = hidden_dim\n",
    "        self.embedding_dim = embedding_dim\n",
    "\n",
    "        self.embedding = nn.Embedding(vocab_size, embedding_dim)\n",
    "\n",
    "        # LSTM to encode context_sequence\n",
    "        self.context_encoder = nn.LSTM(embedding_dim, c_hidden_dim, num_layers=c_num_layers, \n",
    "                                       dropout=dropout_rate, batch_first=True)\n",
    "\n",
    "        self.lstm = nn.LSTM(c_hidden_dim + embedding_dim, hidden_dim, num_layers=num_layers,\n",
    "                            dropout=dropout_rate, batch_first=True)\n",
    "        self.dropout = nn.Dropout(dropout_rate)\n",
    "        self.fc = nn.Linear(hidden_dim, vocab_size)\n",
    "\n",
    "        self.context_encoding = None\n",
    "\n",
    "    def forward_context(self, context_sequence):\n",
    "        # LSTM encoding for context_sequence\n",
    "        embeded = self.embedding(context_sequence)\n",
    "        _, (context_encoding, _) = self.context_encoder(embeded)\n",
    "        context_encoding = self.dropout(context_encoding)\n",
    "        return context_encoding.squeeze(0)\n",
    "\n",
    "    def forward(self, x, context):\n",
    "        \n",
    "        # Embedding for input sequence\n",
    "        embedding_x = self.dropout(self.embedding(x))\n",
    "\n",
    "        # Replicate the encoded context_sequence across time steps\n",
    "        context_encoding = context.unsqueeze(1).repeat(1, x.shape[1], 1)\n",
    "\n",
    "        # Combine embeddings with the replicated context_encoding\n",
    "        combined_embedding = torch.cat((embedding_x, context_encoding), dim=2)\n",
    "\n",
    "        # LSTM processing\n",
    "        output, hidden = self.lstm(combined_embedding)\n",
    "\n",
    "        # Apply dropout\n",
    "        output = self.dropout(output)\n",
    "\n",
    "        # Final prediction\n",
    "        prediction = self.fc(output)\n",
    "        return prediction\n"
   ]
  },
  {
   "cell_type": "code",
   "execution_count": 16,
   "metadata": {},
   "outputs": [],
   "source": [
    "# Hyperparameters\n",
    "generator_hidden_size = 2048\n",
    "generator_hidden_context_size = 1000\n",
    "embed_size = 1500\n",
    "generator_depth = 3\n",
    "generator_context_depth = 1\n",
    "drop_rate = 0.11\n",
    "\n",
    "gen_lr  = 0.001\n",
    "batch_size = 8\n",
    "epochs = 1\n",
    "\n",
    "seq_len = 20\n",
    "\n",
    "nr_batches = 400\n",
    "\n",
    "test_size = 1000"
   ]
  },
  {
   "cell_type": "code",
   "execution_count": 17,
   "metadata": {},
   "outputs": [
    {
     "name": "stderr",
     "output_type": "stream",
     "text": [
      "c:\\Users\\mrmrk\\OneDrive\\Documents\\GitHub\\recipe_generation\\.venv\\lib\\site-packages\\torch\\nn\\modules\\rnn.py:82: UserWarning: dropout option adds dropout after all but last recurrent layer, so non-zero dropout expects num_layers greater than 1, but got dropout=0.11 and num_layers=1\n",
      "  warnings.warn(\"dropout option adds dropout after all but last \"\n"
     ]
    },
    {
     "name": "stdout",
     "output_type": "stream",
     "text": [
      "119753830\n"
     ]
    }
   ],
   "source": [
    "model_name = \"encode_model.pth\"\n",
    "torch.cuda.empty_cache()\n",
    "#a = CSVDataLoader(r\"C:\\Users\\mrmrk\\OneDrive\\Documents\\GitHub\\recipe_generation\\dummy_data.csv\", 1, 1)\n",
    "#a.open_csv_file()\n",
    "#pad1 = w2id[\"<PAD>\"]\n",
    "\n",
    "#dummy_loader = Dummy_loader(a.get_next_batch(pad1))\n",
    "data_loader = CSVDataLoader(data_path, batch_size, data_len - test_size)\n",
    "\n",
    "\n",
    "#data_loader = dummy_loader\n",
    "\n",
    "\n",
    "data_loader.open_csv_file()\n",
    "# Instantiate Generator and Discriminator\n",
    "generator = NextTokenPredictorEncoded(len(vocab),embed_size, \n",
    "                                      generator_hidden_size,generator_hidden_context_size, \n",
    "                                      generator_depth,generator_context_depth, drop_rate).to(device)\n",
    "\n",
    "print(sum([sum(p.numel() for p in generator.parameters() if p.requires_grad)]))\n",
    "\n",
    "# Loss and Optimizer\n",
    "criterion = nn.CrossEntropyLoss()\n",
    "\n",
    "gen_optimizer = optim.Adam(generator.parameters(), lr=gen_lr)\n",
    "lr_scheduler = optim.lr_scheduler.ReduceLROnPlateau(gen_optimizer,mode='min',factor=0.8, patience=3, threshold=0.00005)\n",
    "max_grad_norm = 1.0\n",
    "#torch.nn.utils.clip_grad_norm_(discriminator.parameters(), max_grad_norm)\n",
    "#torch.nn.utils.clip_grad_norm_(generator.parameters(), max_grad_norm)\n",
    "\n",
    "\n",
    "avg_gen_losses = []\n",
    "\n",
    "\n",
    "if not os.path.exists(model_name):\n",
    "    for epoch in (range(epochs)):\n",
    "        \n",
    "        data_loader.reset()\n",
    "        batch_nr = 0\n",
    "        total_nr_batches = data_loader.batches_left()\n",
    "        #total_nr_batches =  100\n",
    "        itr =(range(total_nr_batches))\n",
    "        progress_bar = tqdm(total=nr_batches)\n",
    "        for batch_nr in itr:\n",
    "            if batch_nr == nr_batches:\n",
    "                break\n",
    "            \n",
    "            # Training the Discriminator\n",
    "            pad1 = w2id[\"<PAD>\"]\n",
    "        \n",
    "    \n",
    "            real_ingredients, real_recipies = data_loader.get_next_batch(pad1)\n",
    "            real_patched_ings = patch_batch(real_ingredients, \n",
    "                                                w2id[\"<ING>\"],\n",
    "                                                w2id[\"<REC>\"])\n",
    "            real_patched_recs = patch_batch(real_recipies, \n",
    "                                                w2id[\"<REC>\"],\n",
    "                                                w2id[\"<PAD>\"])\n",
    "            rec_len = real_patched_recs.shape[1]\n",
    "\n",
    "            \n",
    "            current_seq_len = min(seq_len,rec_len-1)\n",
    "            gen_losses = []\n",
    "\n",
    "            \n",
    "\n",
    "            for index in range(0,rec_len - current_seq_len, current_seq_len):\n",
    "                current_seq_len = min(current_seq_len, rec_len-index)\n",
    "                #current_seq_len = seq_len\n",
    "                gen_optimizer.zero_grad()\n",
    "                sequence_x = real_patched_recs[:, index:index+current_seq_len]   \n",
    "                tokens_y = torch.nn.functional.one_hot(real_patched_recs[:, index+1:index+current_seq_len+1]  , len(vocab))\n",
    "                \n",
    "                context = generator.forward_context(real_patched_ings)\n",
    "                \n",
    "                generated_logits = generator(sequence_x, context)\n",
    "                \n",
    "                gen_loss = criterion(generated_logits, tokens_y.float()) / current_seq_len\n",
    "                gen_loss.backward(retain_graph=True)\n",
    "                gen_optimizer.step()\n",
    "                gen_losses.append(gen_loss.item())\n",
    "            \n",
    "            batch_avg_loss = sum(gen_losses) / len(gen_losses)\n",
    "            lr_scheduler.step(batch_avg_loss)\n",
    "            avg_gen_losses.append(batch_avg_loss)\n",
    "            progress_bar.update(1)\n",
    "    torch.save({\"drop_rate\": drop_rate, \n",
    "                \"gen_lr\":gen_lr, \n",
    "                \"batch_size\":batch_size, \n",
    "                \"seq_len\":seq_len, \n",
    "                \"nr_batches\":nr_batches, \n",
    "                \"avg_gen_losses\": avg_gen_losses,\n",
    "                \"model\": generator.state_dict()},\n",
    "                model_name)\n",
    "        \n",
    "\n",
    "    \n",
    "            "
   ]
  },
  {
   "cell_type": "code",
   "execution_count": 18,
   "metadata": {},
   "outputs": [
    {
     "name": "stderr",
     "output_type": "stream",
     "text": [
      "c:\\Users\\mrmrk\\OneDrive\\Documents\\GitHub\\recipe_generation\\.venv\\lib\\site-packages\\torch\\nn\\modules\\rnn.py:82: UserWarning: dropout option adds dropout after all but last recurrent layer, so non-zero dropout expects num_layers greater than 1, but got dropout=0.11 and num_layers=1\n",
      "  warnings.warn(\"dropout option adds dropout after all but last \"\n"
     ]
    }
   ],
   "source": [
    "torch.cuda.empty_cache()\n",
    "NextTokenPredictorEncoded(len(vocab),embed_size, \n",
    "                                      generator_hidden_size,generator_hidden_context_size, \n",
    "                                      generator_depth,generator_context_depth, drop_rate).to(device)\n",
    "train_data = torch.load(model_name)\n",
    "generator.load_state_dict(train_data[\"model\"])\n",
    "avg_gen_losses = train_data[\"avg_gen_losses\"]\n"
   ]
  },
  {
   "cell_type": "code",
   "execution_count": 19,
   "metadata": {},
   "outputs": [
    {
     "data": {
      "text/plain": [
       "'train_data[\"model\"] = {key:value for key,value in train_data[\"model\"].items() if key != \"init_hidden\"}\\ntorch.save(train_data, model_name)'"
      ]
     },
     "execution_count": 19,
     "metadata": {},
     "output_type": "execute_result"
    }
   ],
   "source": [
    "\"\"\"train_data[\"model\"] = {key:value for key,value in train_data[\"model\"].items() if key != \"init_hidden\"}\n",
    "torch.save(train_data, model_name)\"\"\""
   ]
  },
  {
   "cell_type": "code",
   "execution_count": null,
   "metadata": {},
   "outputs": [],
   "source": []
  },
  {
   "cell_type": "code",
   "execution_count": null,
   "metadata": {},
   "outputs": [],
   "source": []
  },
  {
   "cell_type": "code",
   "execution_count": 20,
   "metadata": {},
   "outputs": [
    {
     "data": {
      "image/png": "[encoded data removed]",
      "text/plain": [
       "<Figure size 640x480 with 1 Axes>"
      ]
     },
     "metadata": {},
     "output_type": "display_data"
    },
    {
     "data": {
      "text/plain": [
       "0.0014513591886498034"
      ]
     },
     "execution_count": 20,
     "metadata": {},
     "output_type": "execute_result"
    }
   ],
   "source": [
    "import matplotlib.pyplot as plt\n",
    "plt.plot(avg_gen_losses, color = \"red\")\n",
    "plt.show()\n",
    "avg_gen_losses[-1]"
   ]
  },
  {
   "cell_type": "code",
   "execution_count": 21,
   "metadata": {},
   "outputs": [
    {
     "data": {
      "text/plain": [
       "135.60721974987334"
      ]
     },
     "execution_count": 21,
     "metadata": {},
     "output_type": "execute_result"
    }
   ],
   "source": [
    "p_name = model_name[:-4] + \"_perplexities.pth\"\n",
    "\n",
    "if not os.path.exists(p_name):\n",
    "    from torcheval.metrics.text import Perplexity\n",
    "    test_batch_size = 1\n",
    "    data_loader = CSVDataLoader(data_path, test_batch_size, data_len - test_size)\n",
    "    data_loader.open_csv_file()\n",
    "    perplexities = []\n",
    "    itr = None\n",
    "    with  tqdm(range(int(test_size / test_batch_size))) as itr:\n",
    "        with torch.no_grad():\n",
    "            metric=Perplexity().to(device)\n",
    "            perplexities = []\n",
    "            for i in itr:  # Use your validation data loader\n",
    "                real_ingredients, real_recipies = data_loader.get_next_batch(w2id[\"<PAD>\"])\n",
    "                real_ingredients, real_recipies = real_ingredients.to(device), real_recipies.to(device)\n",
    "                real_patched_ings = patch_batch(real_ingredients, \n",
    "                                                w2id[\"<ING>\"],\n",
    "                                                w2id[\"<REC>\"])\n",
    "                real_patched_recs = patch_batch(real_recipies, \n",
    "                                                    w2id[\"<REC>\"],\n",
    "                                                    w2id[\"<PAD>\"])\n",
    "                \n",
    "                real_x = real_patched_recs[:,:-1]\n",
    "                real_y = real_patched_recs[:,1:].to(device)\n",
    "                context = generator.forward_context(real_patched_ings)\n",
    "                context = torch.zeros_like(context)\n",
    "                outputs = generator(real_x, context).to(device)\n",
    "                #print(outputs.shape, real_y.shape)\n",
    "                metric.update(outputs, real_y)\n",
    "                perplexity = metric.compute()\n",
    "                perplexities.append(perplexity.item())\n",
    "                # calculating perplexity    \n",
    "            torch.save(perplexities, p_name)\n",
    "perplexities = torch.load(p_name)\n",
    "sum(perplexities) / len(perplexities)"
   ]
  },
  {
   "cell_type": "code",
   "execution_count": 22,
   "metadata": {},
   "outputs": [
    {
     "data": {
      "text/plain": [
       "205.33668778908276"
      ]
     },
     "execution_count": 22,
     "metadata": {},
     "output_type": "execute_result"
    }
   ],
   "source": [
    "a = torch.load(\"simpel_model2_perplexities_rec.pth\")\n",
    "sum(a) / len(a)"
   ]
  },
  {
   "cell_type": "code",
   "execution_count": 23,
   "metadata": {},
   "outputs": [
    {
     "data": {
      "text/plain": [
       "146.25156574272827"
      ]
     },
     "execution_count": 23,
     "metadata": {},
     "output_type": "execute_result"
    }
   ],
   "source": [
    "a = torch.load(\"simpel_model_small_perplexities_rec.pth\")\n",
    "sum(a) / len(a)"
   ]
  },
  {
   "cell_type": "code",
   "execution_count": 24,
   "metadata": {},
   "outputs": [
    {
     "data": {
      "text/plain": [
       "834.4202672093616"
      ]
     },
     "execution_count": 24,
     "metadata": {},
     "output_type": "execute_result"
    }
   ],
   "source": [
    "a = torch.load(\"simpel_model_loong_perplexities_rec.pth\")\n",
    "sum(a) / len(a)"
   ]
  },
  {
   "cell_type": "code",
   "execution_count": 25,
   "metadata": {},
   "outputs": [
    {
     "data": {
      "text/plain": [
       "275.67190196020556"
      ]
     },
     "execution_count": 25,
     "metadata": {},
     "output_type": "execute_result"
    }
   ],
   "source": [
    "a = torch.load(\"simpel_model_short_perplexities_rec.pth\")\n",
    "sum(a) / len(a)"
   ]
  },
  {
   "cell_type": "code",
   "execution_count": 26,
   "metadata": {},
   "outputs": [
    {
     "data": {
      "text/plain": [
       "135.60721974987334"
      ]
     },
     "execution_count": 26,
     "metadata": {},
     "output_type": "execute_result"
    }
   ],
   "source": [
    "a = torch.load(\"encode_model_perplexities.pth\")\n",
    "sum(a) / len(a)"
   ]
  },
  {
   "cell_type": "code",
   "execution_count": 27,
   "metadata": {},
   "outputs": [
    {
     "data": {
      "text/plain": [
       "156.6561324889432"
      ]
     },
     "execution_count": 27,
     "metadata": {},
     "output_type": "execute_result"
    }
   ],
   "source": [
    "a = torch.load(\"encode_model_test_perplexities.pth\")\n",
    "sum(a) / len(a)"
   ]
  },
  {
   "cell_type": "code",
   "execution_count": 28,
   "metadata": {},
   "outputs": [
    {
     "data": {
      "text/plain": [
       "{'drop_rate': 0.11,\n",
       " 'gen_lr': 0.001,\n",
       " 'batch_size': 8,\n",
       " 'seq_len': 20,\n",
       " 'nr_batches': 200,\n",
       " 'avg_gen_losses': [0.001993706320515937,\n",
       "  0.001960346863294641,\n",
       "  0.001930293277837336,\n",
       "  0.0019475230481475591,\n",
       "  0.0019058930920436978,\n",
       "  0.0018766439170576632,\n",
       "  0.0018682276519636314,\n",
       "  0.0017470429884269834,\n",
       "  0.0018335436761844903,\n",
       "  0.0018201499769929796,\n",
       "  0.00180369961890392,\n",
       "  0.0017883445543702692,\n",
       "  0.001802253449568525,\n",
       "  0.0016958838095888495,\n",
       "  0.0018455718411132694,\n",
       "  0.0018256581388413906,\n",
       "  0.0017662141472101212,\n",
       "  0.0016752583129952352,\n",
       "  0.0017732435080688447,\n",
       "  0.0016162488609552383,\n",
       "  0.0018297850183444098,\n",
       "  0.0017349691595882177,\n",
       "  0.0015395731898024678,\n",
       "  0.0016427709255367518,\n",
       "  0.001725875213742256,\n",
       "  0.0016358863019074004,\n",
       "  0.0017403225356247276,\n",
       "  0.00176658557860979,\n",
       "  0.0017166579142212867,\n",
       "  0.001634475289999197,\n",
       "  0.0015506205090787262,\n",
       "  0.0015141756739467382,\n",
       "  0.001726002129726112,\n",
       "  0.0015016917993004124,\n",
       "  0.0016098006162792444,\n",
       "  0.001600863120984286,\n",
       "  0.0016072505386546254,\n",
       "  0.00159466159529984,\n",
       "  0.0015362260940795143,\n",
       "  0.0016608483158051968,\n",
       "  0.0014374221209436655,\n",
       "  0.001598156406544149,\n",
       "  0.0015281959786079824,\n",
       "  0.001536468102131039,\n",
       "  0.0014904553827363998,\n",
       "  0.0014265710099910696,\n",
       "  0.0015084717500333984,\n",
       "  0.0016521060839295386,\n",
       "  0.0014136549628650148,\n",
       "  0.0016502877231687307,\n",
       "  0.0016521221492439508,\n",
       "  0.0013392093824222684,\n",
       "  0.0017070410872942635,\n",
       "  0.0015826039016246796,\n",
       "  0.0015155823493842036,\n",
       "  0.0013968077255412936,\n",
       "  0.0014498458476737142,\n",
       "  0.0013795348349958658,\n",
       "  0.0015715899838445087,\n",
       "  0.001542294902416567,\n",
       "  0.0014815301983617246,\n",
       "  0.001428631095526119,\n",
       "  0.0015738841844722628,\n",
       "  0.0015665339305996895,\n",
       "  0.0016225516834917169,\n",
       "  0.001468602247769013,\n",
       "  0.0014671024788791935,\n",
       "  0.0014492877235170454,\n",
       "  0.0015480493661016227,\n",
       "  0.0014518859679810703,\n",
       "  0.0014860069146379828,\n",
       "  0.0015912753064185382,\n",
       "  0.001385428913636133,\n",
       "  0.0015350040048360825,\n",
       "  0.0015221688663586974,\n",
       "  0.0013272874639369547,\n",
       "  0.00133109154800574,\n",
       "  0.0013784816721454263,\n",
       "  0.001405552786309272,\n",
       "  0.0014957285020500422,\n",
       "  0.0015202562091872096,\n",
       "  0.0013838651066180319,\n",
       "  0.0014395629696082324,\n",
       "  0.0014118331717327237,\n",
       "  0.0015247749785582225,\n",
       "  0.0015563344582915305,\n",
       "  0.001679961511399597,\n",
       "  0.001236523617990315,\n",
       "  0.0014059865789022297,\n",
       "  0.001475681143347174,\n",
       "  0.0015389090171083809,\n",
       "  0.0016003493607665102,\n",
       "  0.0016599644108542375,\n",
       "  0.0016305192174123867,\n",
       "  0.0013242189306765795,\n",
       "  0.0016242429015359708,\n",
       "  0.0015776162501424551,\n",
       "  0.0012652995937969536,\n",
       "  0.0012891627072046201,\n",
       "  0.0013071490684524179,\n",
       "  0.0013206315925344825,\n",
       "  0.0014261701609939337,\n",
       "  0.0012832922317708533,\n",
       "  0.001408961834385991,\n",
       "  0.0013874877186026424,\n",
       "  0.0011230180777298908,\n",
       "  0.0013791907404083759,\n",
       "  0.001378800458041951,\n",
       "  0.0013091572327539325,\n",
       "  0.0013617106208888192,\n",
       "  0.0015827147290110588,\n",
       "  0.0012654876724506419,\n",
       "  0.0013802797184325755,\n",
       "  0.0013338300050236285,\n",
       "  0.0014908028533682227,\n",
       "  0.0013365251797949895,\n",
       "  0.0015567992813885212,\n",
       "  0.0015422444225155882,\n",
       "  0.0015616187981019418,\n",
       "  0.0013300002610776573,\n",
       "  0.001363561915544172,\n",
       "  0.0014784459490329027,\n",
       "  0.0016076362392465984,\n",
       "  0.001565859003070121,\n",
       "  0.0014899516245350242,\n",
       "  0.001341095834504813,\n",
       "  0.0016183036329623843,\n",
       "  0.0014034089836059138,\n",
       "  0.0013813777477480471,\n",
       "  0.0013660600234288722,\n",
       "  0.0013291666109580547,\n",
       "  0.0012838790814081829,\n",
       "  0.0012400501097242038,\n",
       "  0.0015687275251063209,\n",
       "  0.001367235672660172,\n",
       "  0.0014620579895563424,\n",
       "  0.0012517960858531296,\n",
       "  0.0014461101382039487,\n",
       "  0.0015610814637814958,\n",
       "  0.0011412768702333171,\n",
       "  0.0015698045725002884,\n",
       "  0.0014617129345424473,\n",
       "  0.0013078923802822828,\n",
       "  0.0013426885707303882,\n",
       "  0.0013561811501858756,\n",
       "  0.001554107910487801,\n",
       "  0.001453506964026019,\n",
       "  0.0014019052032381296,\n",
       "  0.001407855364959687,\n",
       "  0.0013097738459085424,\n",
       "  0.0014121766143944114,\n",
       "  0.0012539740030964215,\n",
       "  0.0014543160796165466,\n",
       "  0.0013848915987182409,\n",
       "  0.0015112481778487563,\n",
       "  0.0012670483847614378,\n",
       "  0.0015747457703885932,\n",
       "  0.0015907972951286606,\n",
       "  0.0015496626923171182,\n",
       "  0.001224322283330063,\n",
       "  0.001260543668953081,\n",
       "  0.001639029593206942,\n",
       "  0.001635420452138143,\n",
       "  0.0015161916380748153,\n",
       "  0.0012476614986856778,\n",
       "  0.0016088122631319696,\n",
       "  0.0013736468681599945,\n",
       "  0.0016183116074119294,\n",
       "  0.0014149586553685368,\n",
       "  0.001276066992431879,\n",
       "  0.001126117732686301,\n",
       "  0.0011357610346749425,\n",
       "  0.001476804172853008,\n",
       "  0.0014981233107391745,\n",
       "  0.001395209925249219,\n",
       "  0.0013765211527546246,\n",
       "  0.0012330155198772748,\n",
       "  0.0016482349601574242,\n",
       "  0.0017059412396823366,\n",
       "  0.001255764247616753,\n",
       "  0.0011769697691003482,\n",
       "  0.0014571855717804283,\n",
       "  0.0013954512542113662,\n",
       "  0.001509278838057071,\n",
       "  0.0014419591636396945,\n",
       "  0.0014170936774462461,\n",
       "  0.0014679362531751395,\n",
       "  0.0014564147917553783,\n",
       "  0.0013869566377252341,\n",
       "  0.0015345510328188539,\n",
       "  0.0014291290193796159,\n",
       "  0.0013887641252949834,\n",
       "  0.0012138153542764485,\n",
       "  0.0011490171309560537,\n",
       "  0.001371374208247289,\n",
       "  0.0013089898129692301,\n",
       "  0.0014781341888010502,\n",
       "  0.001454518351238221,\n",
       "  0.0014174910417447488,\n",
       "  0.0014513591886498034],\n",
       " 'model': OrderedDict([('embedding.weight',\n",
       "               tensor([[-2.5646e-01, -9.6824e-01,  6.0381e-01,  ...,  2.0449e+00,\n",
       "                        -1.3619e+00, -3.9476e-01],\n",
       "                       [-2.4458e-01,  1.0060e+00,  5.6281e-01,  ...,  3.7084e-01,\n",
       "                         1.3893e+00, -7.0484e-01],\n",
       "                       [ 1.1428e+00, -9.1055e-04, -1.4783e+00,  ..., -1.0615e+00,\n",
       "                        -7.6855e-01,  1.0386e+00],\n",
       "                       ...,\n",
       "                       [-1.1032e+00,  5.1012e-01,  1.0703e+00,  ..., -2.0015e+00,\n",
       "                         1.7543e+00, -1.1280e-01],\n",
       "                       [ 6.5046e-01,  7.8388e-01, -1.3452e+00,  ..., -2.5202e+00,\n",
       "                        -1.4016e+00, -2.4294e+00],\n",
       "                       [-7.5566e-01,  8.2571e-01, -5.5957e-01,  ...,  3.2969e+00,\n",
       "                         4.1282e-01,  8.9002e-02]], device='cuda:0')),\n",
       "              ('context_encoder.weight_ih_l0',\n",
       "               tensor([[-2.4656e-03, -1.3273e-02,  1.0645e-02,  ..., -3.2000e-02,\n",
       "                         1.6718e-02,  2.7164e-02],\n",
       "                       [-1.3971e-02, -2.8009e-02, -7.2920e-03,  ..., -6.8646e-03,\n",
       "                        -2.3975e-02, -1.9417e-02],\n",
       "                       [-1.1257e-02, -3.1028e-02,  1.8146e-02,  ...,  1.3812e-02,\n",
       "                        -2.3735e-02, -1.7232e-02],\n",
       "                       ...,\n",
       "                       [-1.1646e-03,  1.9397e-05,  1.2681e-02,  ..., -3.2604e-02,\n",
       "                        -6.8723e-03, -2.8904e-02],\n",
       "                       [-1.9534e-02, -2.7205e-02, -1.9795e-03,  ..., -1.8903e-02,\n",
       "                        -2.7367e-02,  4.1049e-03],\n",
       "                       [-8.8773e-04,  1.6216e-02,  6.6739e-03,  ..., -6.6100e-03,\n",
       "                        -2.9483e-02, -1.0536e-02]], device='cuda:0')),\n",
       "              ('context_encoder.weight_hh_l0',\n",
       "               tensor([[-1.5844e-02, -1.2591e-02, -2.8238e-02,  ..., -2.1181e-02,\n",
       "                         1.8789e-02, -1.0931e-02],\n",
       "                       [ 3.0023e-03, -5.3949e-03, -1.8153e-05,  ..., -8.7747e-03,\n",
       "                         8.8259e-03,  1.5682e-02],\n",
       "                       [ 2.0151e-02,  3.1287e-02,  1.0887e-02,  ..., -1.3924e-02,\n",
       "                        -2.9708e-02, -6.0620e-03],\n",
       "                       ...,\n",
       "                       [ 1.2942e-02, -1.7839e-02,  8.3493e-03,  ..., -8.6377e-03,\n",
       "                        -1.4853e-02,  4.6254e-03],\n",
       "                       [-1.3804e-02, -8.1075e-03,  2.3771e-02,  ..., -7.6753e-03,\n",
       "                        -1.9541e-02, -8.7573e-03],\n",
       "                       [ 5.0121e-03,  2.8361e-02,  2.1307e-02,  ...,  7.4115e-03,\n",
       "                         5.3866e-03, -8.3561e-03]], device='cuda:0')),\n",
       "              ('context_encoder.bias_ih_l0',\n",
       "               tensor([ 0.0195, -0.0231, -0.0164,  ..., -0.0312, -0.0287,  0.0125],\n",
       "                      device='cuda:0')),\n",
       "              ('context_encoder.bias_hh_l0',\n",
       "               tensor([-0.0093,  0.0125, -0.0207,  ...,  0.0088,  0.0181, -0.0319],\n",
       "                      device='cuda:0')),\n",
       "              ('lstm.weight_ih_l0',\n",
       "               tensor([[-0.0063,  0.0198, -0.0053,  ..., -0.0197,  0.0165,  0.0150],\n",
       "                       [ 0.0246,  0.0027, -0.0303,  ..., -0.0147,  0.0200,  0.0061],\n",
       "                       [ 0.0006, -0.0164,  0.0252,  ...,  0.0108,  0.0170, -0.0226],\n",
       "                       ...,\n",
       "                       [ 0.0067,  0.0115,  0.0117,  ..., -0.0037, -0.0222,  0.0187],\n",
       "                       [ 0.0074,  0.0034,  0.0189,  ..., -0.0187, -0.0011, -0.0036],\n",
       "                       [ 0.0098, -0.0077, -0.0244,  ..., -0.0052, -0.0175, -0.0094]],\n",
       "                      device='cuda:0')),\n",
       "              ('lstm.weight_hh_l0',\n",
       "               tensor([[-1.6175e-02, -9.3905e-03, -3.8062e-03,  ..., -4.3724e-03,\n",
       "                        -1.7526e-02, -5.1572e-03],\n",
       "                       [ 1.7923e-02,  1.9907e-02,  7.9858e-03,  ..., -7.6268e-03,\n",
       "                         5.6072e-03,  1.7955e-02],\n",
       "                       [ 7.7169e-03, -2.1744e-02,  1.6976e-02,  ..., -4.9136e-03,\n",
       "                        -4.8062e-03,  1.0240e-02],\n",
       "                       ...,\n",
       "                       [-2.0433e-03,  1.6326e-02,  1.4575e-02,  ...,  1.6148e-02,\n",
       "                        -1.7255e-02,  1.5276e-02],\n",
       "                       [ 1.7305e-02, -3.2222e-04,  4.1917e-03,  ..., -8.7536e-05,\n",
       "                         5.7015e-03, -8.2621e-04],\n",
       "                       [ 1.5145e-02,  1.1633e-03, -1.8028e-02,  ...,  1.0074e-02,\n",
       "                         2.3476e-02,  3.3569e-03]], device='cuda:0')),\n",
       "              ('lstm.bias_ih_l0',\n",
       "               tensor([ 0.0014,  0.0241,  0.0065,  ...,  0.0001, -0.0252, -0.0243],\n",
       "                      device='cuda:0')),\n",
       "              ('lstm.bias_hh_l0',\n",
       "               tensor([-0.0158,  0.0160, -0.0194,  ..., -0.0026, -0.0076, -0.0101],\n",
       "                      device='cuda:0')),\n",
       "              ('lstm.weight_ih_l1',\n",
       "               tensor([[ 0.0053,  0.0002,  0.0139,  ..., -0.0065,  0.0057,  0.0078],\n",
       "                       [ 0.0149,  0.0117,  0.0148,  ...,  0.0040, -0.0094,  0.0216],\n",
       "                       [-0.0053,  0.0139,  0.0192,  ...,  0.0180,  0.0033,  0.0249],\n",
       "                       ...,\n",
       "                       [ 0.0062,  0.0124,  0.0095,  ..., -0.0046, -0.0122, -0.0227],\n",
       "                       [-0.0104, -0.0055, -0.0180,  ...,  0.0071,  0.0173, -0.0150],\n",
       "                       [ 0.0124,  0.0152, -0.0170,  ...,  0.0102,  0.0189,  0.0101]],\n",
       "                      device='cuda:0')),\n",
       "              ('lstm.weight_hh_l1',\n",
       "               tensor([[ 0.0021,  0.0014, -0.0189,  ...,  0.0042, -0.0074,  0.0147],\n",
       "                       [ 0.0213,  0.0043,  0.0188,  ...,  0.0202, -0.0113, -0.0127],\n",
       "                       [ 0.0022, -0.0202,  0.0133,  ...,  0.0034, -0.0012, -0.0053],\n",
       "                       ...,\n",
       "                       [-0.0128, -0.0008, -0.0169,  ...,  0.0183,  0.0224,  0.0145],\n",
       "                       [ 0.0081, -0.0143,  0.0217,  ...,  0.0098, -0.0010, -0.0097],\n",
       "                       [ 0.0242, -0.0127,  0.0062,  ..., -0.0094,  0.0229, -0.0068]],\n",
       "                      device='cuda:0')),\n",
       "              ('lstm.bias_ih_l1',\n",
       "               tensor([ 0.0029, -0.0103, -0.0035,  ..., -0.0090,  0.0221,  0.0288],\n",
       "                      device='cuda:0')),\n",
       "              ('lstm.bias_hh_l1',\n",
       "               tensor([-0.0121, -0.0181,  0.0320,  ...,  0.0001, -0.0071,  0.0132],\n",
       "                      device='cuda:0')),\n",
       "              ('lstm.weight_ih_l2',\n",
       "               tensor([[ 0.0003,  0.0037, -0.0066,  ...,  0.0148, -0.0258,  0.0255],\n",
       "                       [-0.0103, -0.0068, -0.0076,  ..., -0.0121, -0.0062, -0.0089],\n",
       "                       [-0.0023, -0.0012,  0.0167,  ...,  0.0199, -0.0012, -0.0080],\n",
       "                       ...,\n",
       "                       [-0.0151, -0.0003, -0.0242,  ..., -0.0155, -0.0189,  0.0091],\n",
       "                       [-0.0143,  0.0065,  0.0014,  ...,  0.0157,  0.0302, -0.0260],\n",
       "                       [ 0.0259, -0.0113, -0.0051,  ..., -0.0209, -0.0108, -0.0056]],\n",
       "                      device='cuda:0')),\n",
       "              ('lstm.weight_hh_l2',\n",
       "               tensor([[ 0.0208,  0.0041,  0.0237,  ..., -0.0097,  0.0284,  0.0034],\n",
       "                       [ 0.0219, -0.0100,  0.0052,  ..., -0.0159, -0.0105,  0.0011],\n",
       "                       [ 0.0040,  0.0064,  0.0115,  ..., -0.0005, -0.0173,  0.0251],\n",
       "                       ...,\n",
       "                       [-0.0060, -0.0112,  0.0172,  ..., -0.0010,  0.0123,  0.0037],\n",
       "                       [ 0.0073,  0.0179,  0.0092,  ..., -0.0222,  0.0073,  0.0121],\n",
       "                       [-0.0129,  0.0106,  0.0165,  ..., -0.0146, -0.0015,  0.0079]],\n",
       "                      device='cuda:0')),\n",
       "              ('lstm.bias_ih_l2',\n",
       "               tensor([-0.0123, -0.0342, -0.0004,  ...,  0.0067, -0.0255, -0.0206],\n",
       "                      device='cuda:0')),\n",
       "              ('lstm.bias_hh_l2',\n",
       "               tensor([-0.0088, -0.0297,  0.0148,  ...,  0.0230, -0.0075,  0.0062],\n",
       "                      device='cuda:0')),\n",
       "              ('fc.weight',\n",
       "               tensor([[ 0.0179,  0.0083, -0.0050,  ...,  0.0012, -0.0118, -0.0128],\n",
       "                       [ 0.0116, -0.0017, -0.0158,  ...,  0.0145, -0.0136,  0.0111],\n",
       "                       [ 0.0170,  0.0234,  0.0177,  ..., -0.0347,  0.0155,  0.0050],\n",
       "                       ...,\n",
       "                       [-0.0122, -0.0175,  0.0121,  ...,  0.0048,  0.0062, -0.0057],\n",
       "                       [ 0.0159, -0.0123, -0.0149,  ...,  0.0215,  0.0048,  0.0192],\n",
       "                       [ 0.0195, -0.0054,  0.0049,  ...,  0.0004, -0.0198,  0.0066]],\n",
       "                      device='cuda:0')),\n",
       "              ('fc.bias',\n",
       "               tensor([ 0.0111,  0.0070,  0.0192,  ..., -0.0180, -0.0216,  0.0192],\n",
       "                      device='cuda:0'))])}"
      ]
     },
     "execution_count": 28,
     "metadata": {},
     "output_type": "execute_result"
    }
   ],
   "source": [
    "torch.load(\"encode_model.pth\")"
   ]
  },
  {
   "cell_type": "code",
   "execution_count": 29,
   "metadata": {},
   "outputs": [
    {
     "data": {
      "text/plain": [
       "119753830"
      ]
     },
     "execution_count": 29,
     "metadata": {},
     "output_type": "execute_result"
    }
   ],
   "source": [
    "sum(p.numel() for p in generator.parameters()) "
   ]
  },
  {
   "cell_type": "code",
   "execution_count": 30,
   "metadata": {},
   "outputs": [
    {
     "data": {
      "text/plain": [
       "1461.331132373804"
      ]
     },
     "execution_count": 30,
     "metadata": {},
     "output_type": "execute_result"
    }
   ],
   "source": [
    "175000000000 / sum(p.numel() for p in generator.parameters()) "
   ]
  },
  {
   "cell_type": "code",
   "execution_count": 31,
   "metadata": {},
   "outputs": [],
   "source": [
    "from nltk.tokenize import word_tokenize"
   ]
  },
  {
   "cell_type": "code",
   "execution_count": 32,
   "metadata": {},
   "outputs": [],
   "source": [
    "def encode(prompt, dic):\n",
    "    return [dic.get(t.lower(),dic[\"<UKN>\"]) for t in word_tokenize(prompt)]"
   ]
  },
  {
   "cell_type": "code",
   "execution_count": 33,
   "metadata": {},
   "outputs": [
    {
     "data": {
      "text/plain": [
       "[0, 733, 64, 209, 0, 10, 90, 855]"
      ]
     },
     "execution_count": 33,
     "metadata": {},
     "output_type": "execute_result"
    }
   ],
   "source": [
    "encode(\"1. break milk I brew a cool candy\", w2id)"
   ]
  },
  {
   "cell_type": "code",
   "execution_count": 34,
   "metadata": {},
   "outputs": [],
   "source": [
    "def decode(answer, dic):\n",
    "    return \" \".join([dic[i] for i in answer])"
   ]
  },
  {
   "cell_type": "code",
   "execution_count": 35,
   "metadata": {},
   "outputs": [
    {
     "data": {
      "text/plain": [
       "'we bake a <UKN> cake'"
      ]
     },
     "execution_count": 35,
     "metadata": {},
     "output_type": "execute_result"
    }
   ],
   "source": [
    "decode(encode(\"we bake a NLP cake\", w2id), id2w)"
   ]
  },
  {
   "cell_type": "code",
   "execution_count": 36,
   "metadata": {},
   "outputs": [],
   "source": [
    "def topk(next_logits, k):\n",
    "    next_probs = torch.softmax(next_logits, dim=1)\n",
    "    topk_values, topk_indices = torch.topk(next_probs, k, dim=1)\n",
    "    topk_values, topk_indices = topk_values.to(device), topk_indices.to(device)\n",
    "    topk_index_indices = torch.multinomial((topk_values), 1).squeeze(1).to(device)\n",
    "    next_tokens = topk_indices[\n",
    "        torch.arange(topk_index_indices.shape[0]), topk_index_indices]\n",
    "    return next_tokens"
   ]
  },
  {
   "cell_type": "code",
   "execution_count": null,
   "metadata": {},
   "outputs": [],
   "source": []
  },
  {
   "cell_type": "code",
   "execution_count": 37,
   "metadata": {},
   "outputs": [],
   "source": [
    "def generate(prompt, generator, gen_len, strat):\n",
    "    t = torch.tensor(encode(prompt, w2id)).unsqueeze(0).to(device)\n",
    "    patched_ings = (patch_batch(t,\n",
    "                                w2id[\"<ING>\"],\n",
    "                                w2id[\"<REC>\"]))\n",
    "    generation = torch.tensor([w2id[\"<REC>\"]]).unsqueeze(0).to(device)\n",
    "    for _ in range(gen_len):\n",
    "        context = generator.forward_context(patched_ings)\n",
    "        answer = generator(generation, context)[:,-1, :]\n",
    "        valid_choices = answer[:,:-2]\n",
    "        new_token = strat(valid_choices)\n",
    "        if id2w[new_token.item()] == \"<PAD>\":\n",
    "            break\n",
    "        generation = torch.concat((generation, new_token.unsqueeze(1)), dim = 1)\n",
    "        \n",
    "\n",
    "    return decode([i.item() for i in generation[0]], id2w)"
   ]
  },
  {
   "cell_type": "code",
   "execution_count": 38,
   "metadata": {},
   "outputs": [
    {
     "data": {
      "text/plain": [
       "'teaspoon drain will of'"
      ]
     },
     "execution_count": 38,
     "metadata": {},
     "output_type": "execute_result"
    }
   ],
   "source": [
    "decode([31, 140, 208, 16], id2w)"
   ]
  },
  {
   "cell_type": "code",
   "execution_count": 39,
   "metadata": {},
   "outputs": [
    {
     "name": "stdout",
     "output_type": "stream",
     "text": [
      "['cm', 'pancakes', 'air', 'oyster', 'maraschino', 'cashews', 'butterscotch', 'toppings', 'finished', 'crisp-tender', 'pepperoni', 'browns', 'flame', 'seedless', 'dinner', 'saffron', 'chunky', 'pam', 'relish', '6-8', 'flat-leaf', 'bath', 'miracle', 'pimento', 'unpeeled', 'grnd', 'scatter', '450Â°', 't.', 'stewed', 'weed', 'wild', 'release', 'cupcake', 'pale', 'turns', 'skinned', 'walnut', 'scallion', 'starch', 'reduced-fat', 'week', 'strip', 'browning', 'loin', 'works', 'drink', 'kernel', 'diagonally', '375f', 'calories', 'bite-size', '...', 'popcorn', 'test', 'could', 'limes', '-4', 'philadelphia', 'barley', 'sprinkling', 'bourbon', 'hrs', 'find', 'and/or', 'organic', 'undiluted', '10-12', 'dollop', 'pureed', 'wipe', 'sauerkraut', 'bulk', 'rim', 'briefly', 'polenta', 'burgers', 'hazelnuts', 'pop', 'baguette', '400f', 'nicely', 'circles', 'mussels', 'ovenproof', 'pancetta', 'pipe', 'low-sodium', '1-1/4', 'tie', '400Â°f', 'sear', 'pressed', '55', 'shelled', 'simple', 'whatever', 'crusty', '<ING>']\n"
     ]
    }
   ],
   "source": [
    "print(list(w2id.keys())[-100:-1])"
   ]
  },
  {
   "cell_type": "code",
   "execution_count": null,
   "metadata": {},
   "outputs": [],
   "source": [
    "seed = 1337\n",
    "torch.manual_seed(seed)\n",
    "if torch.cuda.is_available():\n",
    "    torch.cuda.manual_seed(seed)\n",
    "    torch.backends.cudnn.deterministic = True\n",
    "    torch.backends.cudnn.benchmark = False\n",
    "ing, rec = \"1 tsp. olive oil * 1 1/2 lb. skinless, boneless chicken-breat halves * 1/2 tsp. dried oregano * salt and pepper * 1/4 c. tahini * 1/4 c. water * 3 tbsp. nonfat plain yogurt * 1 tbsp. fresh lemon juice * 1 clove garlic * 1/4 c. Cilantro leaves * 1/4 tsp. ground red pepper (cayenne) * 4 pitas * 2 c. romaine lettuce * 1/2 seedless cucumber * 1 large tomato * 2 green onions\",\"In 12-inch nonstick skillet, heat oil 1 minute on medium. Sprinkle chicken with oregano, 1/4 teaspoon salt, and 1/4 teaspoon freshly ground black pepper, and toss to coat. Add chicken to skillet and cook 5 to 7 minutes or until chicken is no longer pink throughout. Transfer chicken to plate or bowl; cover with foil to keep warm. Meanwhile, make tahini sauce: In small bowl, with wire whisk, combine tahini, water, yogurt, lemon juice, and garlic. Stir in cilantro, ground red pepper, 1/4 teaspoon salt, and 1/4 teaspoon freshly ground black pepper. Makes about 3/4 cup tahini sauce. To serve, cut off one-fourth of each pita and save for use another day. Carefully open each pita pocket and fill with one-fourth each romaine, cucumber, tomato, chicken, and green onions. Top with tahini sauce; serve gyros with any additional sauce on the side.\"\n",
    "gens = []\n",
    "generator.eval()\n",
    "with torch.no_grad():\n",
    "    for i in range(10):\n",
    "        gens.append(((generate(\"carrots\", generator, 100, lambda p: topk(p,20))).split(\"<REC>\")[1]))\n",
    "print()\n",
    "print(gens)"
   ]
  },
  {
   "cell_type": "markdown",
   "metadata": {},
   "source": [
    "Genrations of model"
   ]
  },
  {
   "cell_type": "code",
   "execution_count": null,
   "metadata": {},
   "outputs": [
    {
     "name": "stdout",
     "output_type": "stream",
     "text": [
      "101  arrange oven into x large 9-inch pan . serves large of pan , bring 2 tablespoons at 375Â° x 30 hours before serving . remove to makes minutes . add remaining ingredients for 40 minutes . drop from cups servings . bake to serve and set until tender . serve aside and stir is garlic to 350Â° . makes 1 hours . combine 6 servings , bake 50 minutes , stirring until tender . serves approximately servings before tender . serves aside servings and chill hours . makes 30 minutes , stirring with remaining <UKN> . bake until tender hours\n",
      "101  combine ham ingredients except lemon cup at 350Â° . stir until tender and toss temperature . bake at 400Â° for 30 hour before until golden done . add remaining dozen minutes before tender . stir aside from servings . bake at 350Â° for 40 hour until 50 hours from tender x hour . serve from refrigerator and remove . makes 1 hour . remove from servings is bake servings before serving . remove good over tender . reserve to room for 5 minutes . remove from a large center and sprinkle with coconut cups ! bake for 50 hours .\n",
      "33  dissolve carrots around 13-inch in bowl sheets before tender . add remaining cup ingredients . remove and bake 30 minutes at 350Â° for 25 hours . fold with remaining tablespoons hour .\n",
      "101  sift oven minutes over 350Â° , then simmer . remove warm slices . remove with bottom hours . stir in add refrigerator x refrigerator minutes ; bake about 40 minutes , until knife and tender servings . refrigerate minutes at 350Â° . serve off warm . makes 30 minutes or until tender through . add remaining cups crackers to a package , but powder and let simmer minutes . remove from top ! yields with 1-inch servings . bake for 45 15 minutes before until tender servings . serve on refrigerator . remove from large pan minutes and add salt\n",
      "16  line from 9-inch dish with vegetable soda and bake 20 to 45 minutes minutes .\n",
      "99  combine pudding cheese and seasonings with remaining ingredients ; serve to 350Â° . place aside servings . bake at 350Â° for 35 minutes until hour minutes before cold tender over tender from done temperature . remove layers from low . serves not serving . repeat servings to serve , makes 30 minutes . serve with lemon hours . simmer at 350Â° for 40 minutes . place 15 minutes before until a tender x <UKN> on low bowl . add carrots and simmer 30 minutes or until smooth through . remove aside is top servings ; add garlic .\n",
      "101  beat chicken minutes over refrigerator before golden . press with half , then simmer several minutes . repeat in refrigerator servings are serving . chill for hour minutes minutes . add remaining cup of golden powder and bake at 350Â° for 50 minutes . serve thoroughly from center and remove aside . bake for 45 minutes minutes . brush warm to package minutes . add carrots of golden remaining juice . place refrigerated on 350Â° and remove good . makes 30 minutes . bake in large preheated 350Â° oven for package to 30 minutes minutes or until until browned dissolved\n",
      "101  bring apples minutes on low speed until tender . makes aside . serve thoroughly . add remaining servings , chill hour at 400Â° . blend well . yields 30 minutes and fold over low servings , bake at 350Â° for 40 hours . remove 2 minutes or until tender . remove from casserole and bake 30 minutes or until browned . remove from refrigerator servings is serving and toss with a medium temperature , then add <UKN> . makes 3 minutes . bake until tender is tender . makes 45 minutes . bake at 350Â° for 40 minutes until tender\n",
      "98  arrange crescent unbaked hour at 350Â° temperature is tender hours . combine corn of lemon ! vinegar ( lemon dozen and serve and simmer minutes until serving . bake to 350Â° . add 6 x 40 minutes , then place stand over large x 13-inch dish . bake 3 hours before tender until tender minutes . fold from and bake for 50 minutes . makes 6 servings minutes dissolves and serve in hot of pan for approximately 30 minutes . serves golden and serve with a low . yields hours . serve with remaining little servings .\n",
      "101  line out ingredients ; add vanilla , stirring to 350Â° hours . serves from bowl . yields 3 cups . bake 15 minutes before until tender are low . pour at a 350Â° . combine all ingredients ! simmer 30 hours . serve thoroughly servings servings , stirring at 350Â° temperature . serve to 45 cup . serve with remaining crackers or whipped ingredients . serves aside . press add servings balls , then simmer aside . bake 1 minutes at 350Â° , then serve and simmer until 350Â° melts hours before light . remove from x 13-inch . add\n"
     ]
    }
   ],
   "source": [
    "for g in gens:\n",
    "    print(len(g.split(\" \")), g)"
   ]
  }
 ],
 "metadata": {
  "kernelspec": {
   "display_name": ".venv",
   "language": "python",
   "name": "python3"
  },
  "language_info": {
   "codemirror_mode": {
    "name": "ipython",
    "version": 3
   },
   "file_extension": ".py",
   "mimetype": "text/x-python",
   "name": "python",
   "nbconvert_exporter": "python",
   "pygments_lexer": "ipython3",
   "version": "3.10.11"
  }
 },
 "nbformat": 4,
 "nbformat_minor": 2
}
