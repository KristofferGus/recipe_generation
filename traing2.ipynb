{
 "cells": [
  {
   "cell_type": "code",
   "execution_count": 230,
   "metadata": {},
   "outputs": [
    {
     "data": {
      "text/plain": [
       "'import torch\\nimport torch.nn as nn\\nimport torch.optim as optim\\n\\nclass Seq2SeqModel(nn.Module):\\n    def __init__(self, input_size, hidden_size, output_size):\\n        super(Seq2SeqModel, self).__init__()\\n\\n        self.encoder = nn.LSTM(input_size, hidden_size)\\n        self.decoder = nn.LSTM(hidden_size, hidden_size)\\n        self.fc = nn.Linear(hidden_size, output_size)\\n       \\n\\n    def forward(self, input_seq, gen_len):\\n        # Encoder\\n        _, (encoder_hidden, encoder_cell) = self.encoder(input_seq)\\n\\n        # Decoder initialization\\n        decoder_input = torch.zeros(1, input_seq.size(1), self.decoder.input_size)\\n        decoder_hidden, decoder_cell = encoder_hidden, encoder_cell\\n\\n        output_seq = []\\n\\n        for _ in range(gen_len):\\n            output, (decoder_hidden, decoder_cell) = self.decoder(decoder_input, (decoder_hidden, decoder_cell))\\n            \\n            output_seq.append(output)\\n\\n            # Use the predicted output as the input for the next time step\\n            decoder_input = output\\n\\n        output_seq = torch.cat(output_seq, dim=1)\\n        output_seq = self.fc(output_seq)\\n        return output_seq\\n\\n# Example usage\\ninput_size = 10  # Size of input vectors\\nhidden_size = 20  # Size of hidden state\\noutput_size = 10  # Size of output vectors\\ngen_len = 10\\n\\nmodel = Seq2SeqModel(input_size, hidden_size, output_size)\\ncriterion = nn.MSELoss()\\noptimizer = optim.Adam(model.parameters(), lr=0.001)\\n\\n# Example input sequence (batch_size, sequence_length, input_size)\\ninput_sequence = torch.rand((32, 5, input_size))\\n\\n# Forward pass\\noutput_sequence = model(input_sequence, gen_len)\\n\\n# Dummy target for illustration purposes\\ntarget_sequence = torch.rand((32, gen_len, output_size))\\n\\n# Compute loss\\nloss = criterion(output_sequence, target_sequence)\\n\\n# Backward pass and optimization\\noptimizer.zero_grad()\\nloss.backward()\\noptimizer.step()\\n'"
      ]
     },
     "execution_count": 230,
     "metadata": {},
     "output_type": "execute_result"
    }
   ],
   "source": [
    "\"\"\"import torch\n",
    "import torch.nn as nn\n",
    "import torch.optim as optim\n",
    "\n",
    "class Seq2SeqModel(nn.Module):\n",
    "    def __init__(self, input_size, hidden_size, output_size):\n",
    "        super(Seq2SeqModel, self).__init__()\n",
    "\n",
    "        self.encoder = nn.LSTM(input_size, hidden_size)\n",
    "        self.decoder = nn.LSTM(hidden_size, hidden_size)\n",
    "        self.fc = nn.Linear(hidden_size, output_size)\n",
    "       \n",
    "\n",
    "    def forward(self, input_seq, gen_len):\n",
    "        # Encoder\n",
    "        _, (encoder_hidden, encoder_cell) = self.encoder(input_seq)\n",
    "\n",
    "        # Decoder initialization\n",
    "        decoder_input = torch.zeros(1, input_seq.size(1), self.decoder.input_size)\n",
    "        decoder_hidden, decoder_cell = encoder_hidden, encoder_cell\n",
    "\n",
    "        output_seq = []\n",
    "\n",
    "        for _ in range(gen_len):\n",
    "            output, (decoder_hidden, decoder_cell) = self.decoder(decoder_input, (decoder_hidden, decoder_cell))\n",
    "            \n",
    "            output_seq.append(output)\n",
    "\n",
    "            # Use the predicted output as the input for the next time step\n",
    "            decoder_input = output\n",
    "\n",
    "        output_seq = torch.cat(output_seq, dim=1)\n",
    "        output_seq = self.fc(output_seq)\n",
    "        return output_seq\n",
    "\n",
    "# Example usage\n",
    "input_size = 10  # Size of input vectors\n",
    "hidden_size = 20  # Size of hidden state\n",
    "output_size = 10  # Size of output vectors\n",
    "gen_len = 10\n",
    "\n",
    "model = Seq2SeqModel(input_size, hidden_size, output_size)\n",
    "criterion = nn.MSELoss()\n",
    "optimizer = optim.Adam(model.parameters(), lr=0.001)\n",
    "\n",
    "# Example input sequence (batch_size, sequence_length, input_size)\n",
    "input_sequence = torch.rand((32, 5, input_size))\n",
    "\n",
    "# Forward pass\n",
    "output_sequence = model(input_sequence, gen_len)\n",
    "\n",
    "# Dummy target for illustration purposes\n",
    "target_sequence = torch.rand((32, gen_len, output_size))\n",
    "\n",
    "# Compute loss\n",
    "loss = criterion(output_sequence, target_sequence)\n",
    "\n",
    "# Backward pass and optimization\n",
    "optimizer.zero_grad()\n",
    "loss.backward()\n",
    "optimizer.step()\n",
    "\"\"\""
   ]
  },
  {
   "cell_type": "code",
   "execution_count": null,
   "metadata": {},
   "outputs": [],
   "source": []
  },
  {
   "cell_type": "code",
   "execution_count": 231,
   "metadata": {},
   "outputs": [],
   "source": [
    "import torch\n",
    "import torch.nn as nn\n",
    "import torch.optim as optim\n",
    "from torch.nn.utils.rnn import pad_sequence\n",
    "import csv\n",
    "from tqdm import tqdm\n",
    "import torch.nn.functional as F"
   ]
  },
  {
   "cell_type": "code",
   "execution_count": 232,
   "metadata": {},
   "outputs": [],
   "source": [
    "device = \"cuda\" if torch.cuda.is_available() else \"cpu\"\n",
    "device = \"cpu\"\n"
   ]
  },
  {
   "cell_type": "code",
   "execution_count": 233,
   "metadata": {},
   "outputs": [],
   "source": [
    "base_path = r'C:\\Users\\mrmrk\\OneDrive\\Documents\\GitHub\\recipe_generation\\\\'\n",
    "\n",
    "ids_path = 'prepeard_data2.csv'\n",
    "vocab_path = \"vocab.csv\"\n",
    "\n",
    "data_len = 2231142"
   ]
  },
  {
   "cell_type": "code",
   "execution_count": 234,
   "metadata": {},
   "outputs": [
    {
     "name": "stdout",
     "output_type": "stream",
     "text": [
      "['<UKN>', '<PAD>', '.', '*', ',', 'and', 'the', '1', 'to', 'in', 'a', '2', 'with', '1/2', ')', '(', 'of', 'cup', 'until', 'add', 'for', 'or', 'c.', 'minutes', 'salt', 'sugar', 'into', 'on', 'pepper', 'heat', '3', 'teaspoon', 'butter', '1/4', 'chopped', 'oil', 'over', 'mix', 'cheese', 'water', ';', 'tsp', 'flour', 'large', 'cups', '4', 'cream', 'tablespoons', 'cook', 'pan', 'bowl', 'mixture', 'stir', 'about', 'onion', 'sauce', 'at', 'bake', 'baking', 'chicken', 'can', 'place', 'garlic', 'is', 'milk', 'tbsp', 'oven', 'it', 'medium', 'cut', 'top', 'eggs', 'brown', 'juice', 'ingredients', 'from', 'combine', 'pour', 'tablespoon', 'well', 'small', 'fresh', 'egg', 'remove', '5', 'serve', '8', 'then', 'vanilla', 'ground', 'cool', 'oz', 'powder', 'cover', '6', '12', 'you', 'each', 'all', '10', 'together', 'if', 'lemon', 'sliced', 'olive', '3/4', 'remaining', 'teaspoons', 'let', 'boil', 'set', 'lb', 'sprinkle', 'green', 'onions', ':', 'taste', 'are', 'hot', 'dough', 'as', 'red', 'ounces', 'tomatoes', 'stirring', 'chocolate', 'dry', 'beat', 'white', 'bread', 'potatoes', 'skillet', 'rice', 'dish', 'simmer', 'cooked', 'half', 'minced', 'preheat', '15', 'drain', 'put', 'up', 'bring', 'out', 'ounce', 'slices', 'soup', '30', 'grated', 'black', 'melted', 'vinegar', 'pieces', 'cake', 'beef', 'your', 'cinnamon', '1/3', 'use', 'spread', 'be', 'more', 'lightly', 'finely', 'hours', 'diced', 'not', 'meat', 'make', 'aside', 'saucepan', 'when', 'beans', 'parsley', 'whole', 'tomato', 'cloves', 'degrees', 'margarine', 'them', 'an', 'pkg', 'cooking', 'soda', 'smooth', '350Â°', 'tender', 'sheet', '20', 'serving', 'before', 'this', 'spoon', 'celery', 'one', 'low', 'just', 'warm', 'hour', 'broth', 'side', 'golden', 'shredded', 'sour', 'leaves', 'roll', 'corn', 'will', 'i', 'pot', 'x', 'using', 'dried', 'drained', 'whisk', 'pie', 'season', 'bacon', '14', 'crushed', 'nuts', 'peeled', 'optional', 'wine', 'bottom', 'paper', 'saute', 'frozen', 'vegetable', 'mushrooms', 'do', 'orange', 'blend', 'turn', 'transfer', 'mustard', 'inch', 'high', 'through', 'time', 'by', 'chips', 'layer', 'slice', 'refrigerate', 'toss', '!', 'crumbs', \"'s\", 'melt', 'extract', 'sides', 'parmesan', 'thick', 'off', 'desired', 'reduce', 'pasta', 'pork', 'but', 'batter', 'ginger', 'cold', 'syrup', 'coconut', 'pineapple', 'boiling', 'peppers', 'liquid', 'garnish', 'package', 'temperature', 'greased', 'onto', 'softened', 'spray', 'beaten', 'dressing', 'minute', 'crust', 'ice', 'filling', 'carrots', 'vegetables', 'slightly', 'chill', '9', 'light', 'chili', 'all-purpose', 'coat', 'browned', 'food', 'basil', 'down', '350', 'pound', 'cheddar', 'seeds', 'soft', 'fold', 'that', 'lime', 'grill', 'mayonnaise', 'stock', 'evenly', 'seasoning', 'heavy', 'stick', 'cookie', 'pecans', 'gently', 'room', 'rack', 'so', 'soy', 'salad', '&', 'freshly', 'center', 'very', 'thinly', 'have', 'while', 'once', 'done', 'occasionally', 'foil', 'whip', 'completely', 'they', 'honey', 'sweet', 'other', 'noodles', 'stand', 'little', 'min', 'another', 'bell', 'pinch', 'plate', 'shrimp', 'cans', 'thyme', 'any', 'fat', 'prepared', '1/8', 'paste', '2/3', '-', 'casserole', 'thin', 'like', 'cilantro', 'after', 'keep', 'wrap', '7', \"''\", 'mixing', '16', 'bag', 'powdered', 'sausage', 'some', 'nutmeg', 'peel', 'enough', 'mixer', 'first', '45', 'two', 'oregano', 'covered', 'fish', 'blender', 'apples', 'medium-high', 'cubes', 'shortening', 'press', 'cornstarch', 'spinach', 'peanut', 'form', 'least', 'blended', 'allow', 'topping', 'till', 'flakes', 'cocoa', 'whites', 'has', 'fry', 'paprika', 'cumin', 'apple', 'broccoli', 'makes', 'processor', 'grease', 'zest', '13', 'size', 'g', 'plastic', 'strips', 'divided', 'refrigerator', \"n't\", 'should', 'clove', 'few', '25', 'clean', 'pudding', 'drizzle', 'continue', 'rest', 'whipped', 'brush', 'immediately', 'plus', 'container', 'yellow', 'pastry', 'unsalted', 'arrange', 'fruit', 'jar', 'potato', 'mushroom', 'thoroughly', 'raisins', 'roast', 'extra', 'overnight', 'speed', 'bay', 'chop', 'walnuts', 'constantly', 'surface', 'return', 'box', 'fork', 'microwave', 'recipe', 'almonds', 'peas', 'toasted', 'around', 'buttermilk', 'worcestershire', 'yolks', 'kosher', 'may', 'yeast', 'yogurt', 'cookies', 'italian', 'take', 'loaf', 'turkey', 'prepare', 'dash', 'pounds', 'breasts', 'lettuce', 'mixed', 'ham', 'combined', 'longer', 'zucchini', 'firm', 'ready', 'packed', 'ml', 'meanwhile', 'edges', 'gradually', 'cabbage', 'pans', 'balls', 'both', 'fill', 'knife', 'sesame', '40', 'line', 'floured', 'back', 'crackers', 'glass', 'needed', 'fine', 'coarsely', 'seconds', 'mozzarella', 'comes', 'cayenne', 'wire', 'olives', 'no', 'repeat', 'puree', 'uncovered', 'leaf', 'divide', 'shape', 'granulated', 'squash', 'slowly', 'too', 'frying', 'c', 'strawberries', 'dip', 'inches', 'drop', 'shell', 'enjoy', 'skin', 'turning', 'according', 'boneless', 'piece', 'sheets', 'instant', 'lbs', 'cubed', 'store', 'process', 'sift', '9-inch', 'f', 'marinade', 'thawed', 'additional', 'pumpkin', 'grams', 'f.', 'rolls', 'bananas', 'breast', 'separate', 'steak', 'carrot', 'possibly', 'muffin', 'used', 'except', 'parchment', 'mins', 'thickened', 'dark', 'directions', 'discard', 'mint', 'chunks', 'chilled', 'tortillas', 'wedges', 'canned', 'round', 'sure', 'next', 'crumbled', 'plain', 'seed', 'sticks', 'adding', 'reserved', 'per', 'halved', 'oats', 'ball', 'crisp', 'cooled', 'freeze', 'again', 'good', 'carefully', 'almond', '1-1/2', 'cracker', 'heated', 'rosemary', '1/2-inch', 'shallow', 'long', 'wheat', 'electric', 'halves', 'salmon', 'cherry', 'chops', 'also', 'dill', 'between', 'seeded', '1-inch', 'note', 'none', 'salsa', 'nonstick', 'spaghetti', 'deep', 'confectioners', 'graham', 'gelatin', 'servings', 'lid', 'mashed', '18', '35', 'fluffy', 'preheated', 'creamy', 'rinse', 'leave', 'approximately', 'lengthwise', 'sea', 'reserve', 'get', 'inserted', 'salted', 'sharp', '375Â°', 'tortilla', '50', 'spices', 'frosting', 'excess', 'cherries', 'bit', 'still', 'coated', 'jalapeno', 'roasted', 'seal', 'curry', 'want', 'evaporated', 'removed', 'uncooked', 'platter', 'condensed', 'chives', 'squares', 'juices', '24', 'amount', 'flavor', 'spatula', 'coffee', '400', 'marshmallows', 'rinsed', 'necessary', '375', 'shallots', 'beating', 'pizza', 'virgin', 'rise', 'whipping', 'scallions', 'wash', 'only', 'glaze', 'oleo', \"'\", 'skinless', 'dissolved', 'layers', 'cider', 'coriander', 'pat', 'serves', 'unsweetened', 'head', 'ripe', 'several', 'work', 'dissolve', 'double', 'sifted', 'shake', 'asparagus', 'canola', 'qt', 'towels', 'hand', 'knead', 'consistency', 'need', 'hamburger', 'ribs', 'bean', 'freezer', 'sprigs', 'ketchup', 'towel', 'strain', 'same', 'sit', 'toast', 'fillets', 'under', 'cucumber', 'spice', 'hands', '``', 'macaroni', 'stiff', 'shells', 'rub', '13-inch', 'bunch', 'frequently', 'toothpick', 'coarse', '34', 'mash', 'such', 'pink', 'break', 'apart', '400Â°', 'see', 'square', 'wooden', '--', 'day', 'start', 'times', 'jello', 'tops', 'baby', 'dutch', 'maple', 'cranberries', 'breadcrumbs', 'last', 'buttered', 'dijon', 'raw', 'chilies', 'almost', 'stuffing', 'bouillon', 'avocado', 'ungreased', '325Â°', 'baked', 'lamb', 'scoop', 'seasoned', 'middle', 'full', 'banana', 'tightly', 'greens', 'peaches', 'bowls', 'end', 'stems', 'eggplant', 'seasonings', 'along', 'soak', 'icing', 'french', 'much', '%', 'trimmed', '2-3', 'made', 'making', 'flat', 'roasting', 'cutting', 'dice', 'bubbly', 'rind', 'cornmeal', 'cauliflower', 'broiler', 'balsamic', 'peanuts', 'blueberries', 'often', 'color', 'slow', 'extra-virgin', 'quartered', 'quart', 'medium-low', 'days', 'edge', 'than', 'cooker', 'bits', 'taco', 'adjust', 'sage', 'even', 'best', 'reduced', 'jars', 'lay', 'berries', 'sherry', 'steaks', 'biscuits', 'broil', 'plates', 'yolk', 'strawberry', 'ricotta', 'sweetened', 'marinate', 'been', 'oranges', 'squeeze', 'tuna', 'substitute', '350f', 'leaving', 'bottle', 'fridge', 'chile', 'pulse', 'smoked', 'scrape', 'rum', 'without', 'now', 'batches', 'molasses', 'herbs', 'lower', 'stalks', 'inside', 'cottage', 'allspice', 'quickly', 'roughly', 'candy', '2-inch', 'my', 'way', 'fennel', 'patties', 'second', 'meal', 'board', 'firmly', 'caramel', 'refrigerated', 'peaks', 'soften', 'airtight', 'three', 'chiles', 'jack', 'its', 'wet', 'pitted', 'ahead', 'rolling', 'everything', 'lean', 'four', 'gravy', 'favorite', 'begin', '60', 'feta', 'lined', 'away', 'choice', 'steam', 'packages', 'jam', 'less', 'open', 'begins', 'tofu', '1/4-inch', 'kraft', 'every', 'tea', 'wax', 'weight', 'meatballs', 'these', 'which', 'ends', 'thermometer', 'cereal', 'jell-o', 'aluminum', 'split', 'crumble', 'tart', 'depending', '350Â°f', 'step', 'tin', 'jelly', 'swiss', 'part', 'tray', 'single', 'addition', 'thickens', 'directed', 'lowfat', 'there', 'cucumbers', 'skim', 'barbecue', 'run', 'trim', '100', 'thicken', 'tbs', 'bars', 'drippings', '1-2', 'coloring', 'dates', 'stove', 'crisco', 'thickness', 'their', 'wok', 'flip', 'melts', 'shallot', 'fried', 'creamed', 'turmeric', 'regular', 'r', 'low-fat', 'beer', 'hard', 'raspberries', 'whisking', 'cored', 'racks', 'flatten', 'slotted', 'rings', '11', '8-inch', 'equal', 'reserving', 'great', 'buns', 'pt', 'sprouts', 'boiled', 'free', 'semi-sweet', '3-4', 'crispy', 'kidney', 'crab', 'incorporated', 'custard', 'brand', 'veggies', 'does', 'forms', 'added', 'rounds', 'absorbed', 'sandwich', 'bite', 'prevent', 'dust', 't', 'tube', 'cube', 'applesauce', 'creme', 'tabasco', 'waxed', 'preferably', 'right', 'tartar', 'cocktail', 'base', 'fully', 'oatmeal', 'alternately', 'tip', 'grain', '200', 'pears', 'fragrant', 'couple', 'moderate', 'wide', 'check', 'tarragon', 'cakes', 'translucent', 'easily', 'simmering', 'among', 'lentils', \"'re\", 'point', 'stir-fry', 'peppercorns', 'cranberry', 'velveeta', 'possible', 'sized', 'come', 'rolled', 'undrained', 'parts', 'quarts', 'lemons', 'hold', 'measure', 'nice', 'clear', 'boiler', 'crosswise', 'separated', '325', 'removing', 'eat', 'mini', 'mold', 'flavoring', 'starts', 'drops', 'total', 'grate', 'big', 'circle', 'blue', 'chestnuts', '10-inch', 'monterey', 'flavors', 'liqueur', 'pure', 'beets', 'pine', 'above', 'capers', 'finish', 'washed', 'punch', 'raspberry', 'fat-free', 'kitchen', 'mango', 'careful', 'increase', 'vinaigrette', 'spring', 'halfway', 'pint', '$', 'ladle', 'sugars', 'broken', 'quick', 'fingers', 'generously', 'horseradish', 'we', 'leeks', 'cutter', 'sieve', 'scraping', 'during', 'yield', 'self-rising', 'degree', 'give', 'muffins', 'most', 'better', 'left', 'instructions', 'scallops', 'wings', 'unbaked', 'loosely', 'coating', 'save', 'half-and-half', 'prefer', 'thru', 'brandy', 'non-stick', '2-quart', 'ranch', 'uncover', 'biscuit', 'bones', 'dozen', 'doubled', 'working', 'flaked', 'rectangle', 'mild', 'served', 'mayo', 'individual', 'yields', '28', 'stew', 'starting', 'burn', 'skewers', 'goat', '12-inch', 'bone', 'pesto', 'torn', 'close', 'iron', 'cooling', 'five', 'crumb', 'sodium', 'apricot', 'either', 'artichoke', 'al', 'quarters', 'clams', 'crusts', 'crush', 'metal', 'portion', 'touch', 'pull', 'peach', '175', 'thighs', '15-20', 'dente', 'florets', 'preserves', 'cheeses', 'kale', 'moistened', '23', 'carton', 'arugula', 'would', 'pecan', 'moist', 'glasses', 'catsup', 'chickpeas', 'pressing', 'delicious', 'warmed', 'sticky', 'heaping', 'skins', 'bags', 'bubbles', 'colander', 'handle', '300', 'go', 'hearts', 'how', 'portions', 'order', 'chipotle', '425', 'style', 'plum', '250', 'meringue', 'reaches', 'cardamom', 'quinoa', 'slivered', 'old', '-2', 'measuring', 'grind', 'chuck', 'crescent', 'frost', 'squeezed', 'third', 'fit', 'packet', 'shred', 'grapes', 'strainer', 'crumbly', 'marshmallow', 'miniature', 'stuff', 'vodka', 'apricots', '10-15', 'loaves', 'dipping', 'partially', 'concentrate', 'leftover', 'cracked', 'purpose', 'etc', 'running', '8-10', 'pack', 'de', 'herb', 'across', 'greek', 'create', '300Â°', 'grape', 'veal', 'really', 'look', 'outside', 'deveined', 'puff', 'mandarin', 'become', 'loosen', 'rhubarb', 'spicy', 'med', 'try', 'couscous', 'beginning', 'pulp', 'invert', 'sprayed', 'lift', '-3', 'crabmeat', '450', '9x13', 'wafers', '425Â°', 'semisweet', 'machine', 'easy', 'later', 'fitted', 'lasagna', 'kernels', 'because', 'texture', 'flavored', 'handful', 'jalapenos', 'crock', 'bisquick', 'doneness', 'envelope', 'cleaned', 'english', '4-5', 'dishes', 'larger', 'oiled', 'bundt', 'root', 'soaked', 'griddle', 'fluid', 'usually', 'becomes', 'was', 'tins', 'lukewarm', 'stem', 'sandwiches', 'level', 'ale', 'stalk', 'mexican', 'sprig', 'dissolves', 'original', 'dredge', 'assemble', 'rimmed', 'fillet', 'twice', 'dot', 'pancake', 'tenderloin', 'setting', 'decorate', '20-25', 'cornbread', 'smaller', 'panko', 'leek', 'flesh', \"'ll\", 'table', 'duck', 'help', 'real', 'thaw', 'candied', 'grilled', 'croutons', 'hash', 'instead', 'dessert', 'sticking', 'moderately', 'pin', 'swirl', 'nonfat', 'lumps', 'tossing', 'juiced', 'core', 'angel', '02/09', 'entire', 'cupcakes', 'poppy', 'avocados', 'holes', 'new', 'weeks', 'pita', 'romaine', 'skewer', 'quarter', 'being', 'bubbling', 'cheesecake', 'eagle', 'smoke', 'artichokes', 'attachment', 'rubber', 'chinese', 'pwdr', 'wilted', 'follows', '500', 'pickle', 'resembles', 'active', 'sunflower', 'pear', 'prosciutto', 'ritz', 'sausages', 'diameter', 'homemade', 'pick', 'lemonade', 'short', 'american', 'basting', 'springform', 'slicing', 'topped', 'generous', 'pressure', 'below', 'filled', 'own', '150', 'pickles', '32', 'reheat', 'phyllo', 'six', 'rounded', 'ramekins', 'marjoram', 'position', 'cm', 'pancakes', 'air', 'oyster', 'maraschino', 'cashews', 'butterscotch', 'toppings', 'finished', 'crisp-tender', 'pepperoni', 'browns', 'flame', 'seedless', 'dinner', 'saffron', 'chunky', 'pam', 'relish', '6-8', 'flat-leaf', 'bath', 'miracle', 'pimento', 'unpeeled', 'grnd', 'scatter', '450Â°', 't.', 'stewed', 'weed', 'wild', 'release', 'cupcake', 'pale', 'turns', 'skinned', 'walnut', 'scallion', 'starch', 'reduced-fat', 'week', 'strip', 'browning', 'loin', 'works', 'drink', 'kernel', 'diagonally', '375f', 'calories', 'bite-size', '...', 'popcorn', 'test', 'could', 'limes', '-4', 'philadelphia', 'barley', 'sprinkling', 'bourbon', 'hrs', 'find', 'and/or', 'organic', 'undiluted', '10-12', 'dollop', 'pureed', 'wipe', 'sauerkraut', 'bulk', 'rim', 'briefly', 'polenta', 'burgers', 'hazelnuts', 'pop', 'baguette', '400f', 'nicely', 'circles', 'mussels', 'ovenproof', 'pancetta', 'pipe', 'low-sodium', '1-1/4', 'tie', '400Â°f', 'sear', 'pressed', '55', 'shelled', 'simple', 'whatever', 'crusty', 'vigorously', 'legs', 'mince', 'caramelized', 'kind', 'romano', 'boxes', 'steamed', 'hard-boiled', 'granules', 'log', 'spoonfuls', 'chorizo', 'foamy', '125', 'insert', 'spreading', '2-1/2', 'easier', 'barely', 'fudge', 'cloth', 'fraiche', 'baste', 'butternut', 'brushing', 'microwave-safe', 'fire', 'push', 'dusting', 'protein', '25-30', 'chilli', 'radishes', 'tips', '3-inch', 'directly', 'secure', 'seam', 'sun-dried', 'containers', 'what', 'tongs', 'ending', 'bran', 'cooks', 'moisture', 'okra', 'ring', 'sauteed', 'm', 'julienned', '5-10', 'stop', 'quite', 'brownie', '?', 'gas', 'moisten', 'lobster', 'kettle', 'morsels', 'pretzels', 'slide', 'masala', '1.5', 'including', 'blanched', 'sirloin', 'bubble', 'tear', 'here', 'grapefruit', '3-5', 'rye', 'approx', 'brisket', 'bottoms', 'figs', 'many', 'thai', 'bbq', 'gallon', 'espresso', 'notes', 'brownies', 'dumplings', 'karo', 'remainder', 'rib', '1-', 'bar', 'wedge', 'refried', 'batch', 'shapes', 'available', 'puffed', 'liners', 'shaker', 'anise', 'incorporate', 'looks', 'splenda', 'coals', 'heads', 'nut', 'distribute', 'pinto', 'poultry', 'throw', 'move', 'bun', 'crunchy', 'stage', 'months', 'pomegranate', 'mascarpone', 'granny', 'damp', 'crack', 'pistachios', 'smith', '3/4-inch', 'unbleached', 'penne', '1/2-quart', 'strong', 'caraway', 'registers', 'shaking', 'oysters', 'tight', 'adobo', 'star', 'breaking', 'boils', 'pickled', 'within', 'stemmed', 'watch', 'charred', 'nectar', 'following', 'paddle', 'recipes', 'tiny', 'avoid', 'lg', 'bittersweet', '180c', 'further', 'pitcher', 'blade', 'fryer', 'gal', 'gets', 'soups', 'healthy', 'placing', 'krispies', 'stream', 'splash', 'separately', 'gold', 'lard', 'colored', 'sprinkled', 'outer', 'fruits', 'marmalade', 'spanish', 'ears', '..', 'enchilada', 'stuffed', 'pods', 'sections', 'pcs', 'flake', 'seafood', 'sake', 'hole', 'brine', 'tapioca', '375Â°f', 'natural', 'boned', 'twist', 'page', 'snow', 'heatproof', 'string', 'curd', 'foam', 'dashes', 'mine', 'thirds', 'steamer', 'temp', 'toothpicks', '3-quart', 'elbow', 'smoking', 'halve', 'caps', 'prick', 'cast', 'stack', 'counter', 'cheesecloth', '+', 'dont', 'mound', 'oat', 'tough', 'power', 'leftovers', 'maker', 'blackberries', 'chutney', 'crock-pot', 'teaspoonfuls', 'chard', 'sprinkles', \"'ve\", '[', 'cutlets', 'candies', 'ones', 'thread', ']', 'spoonful', 'spears', 'bite-sized', 'always', 'covering', 'feel', 'hershey', 'roux', 'linguine', 'assorted', 'wish', 'caramels', 'finger', 'agave', 'brussels', 'fluff', 'watercress', 'solid', 'grilling', 'watermelon', 'serrano', 'parmigiano-reggiano', 'follow', 'allowing', '#', 'bunches', 'snipped', '17', 'elastic', 'wo', 'til', 'stockpot', 'oreo', 's', 'solids', 'asian', 'cajun', 'essence', 'well-greased', 'opaque', 'champagne', 'liking', 'peppermint', 'might', 'triangles', '180', 'anchovy', 'shaved', 'gruyere', 'shiitake', '5-6', 'type', 'wait', 'cod', 'crockpot', 'blueberry', 'takes', 'mirin', 'different', 'frothy', 'currants', 'resealable', 'grits', 'blending', 'smashed', 'garam', 'night', 'wrappers', 'finally', 'whiz', 'marinated', 'charcoal', 'simply', 'forming', 'caster', 'burger', 'marinara', 'unflavored', 'contents', 'recommended', 'amounts', 'empty', 'patty', 'orzo', 'king', 'alternating', 'kg', 'quality', 'sm', 'clam', 'miso', 'medium-sized', 'shoulder', 'manufacturer', 'molds', 'discarding', 'bottled', 'reach', 'soon', 'lot', 'near', 'poke', 'overcook', 'flours', '90', 'provolone', 'cavity', 'japanese', 'preferred', 'corner', 'reduced-sodium', 'safe', 'listed', 'bulb', 'stored', 'heating', 'burning', 'eight', 'ensure', 'wrapped', '8-ounce', 'sweetener', 'melon', 'button', 'packets', 'tahini', 'diagonal', 'space', 'keeping', 'centre', 'must', 'disk', 'pints', 'tequila', '4-6', '/', 'waffle', 'people', 'pimentos', 'method', 'did', 'plums', 'sriracha', '70', 'internal', '5-7', 'advance', 'safeway', '225', 'hoisin', 'stone', 'flax', 'lids', 'eggplants', 'block', 'overlapping', 'horizontally', '20-30', 'against', 'nearly', 'me', 'section', 'formed', 'remain', 'gentle', 'going', 'pretty', 'replace', 'deli', 'garbanzo', 'tester', '30-35', 'sherbet', 'baker', 'pea', 'tub', 'cream-style', 'scant', 'roma', 'cast-iron', 'garnished', 'slaw', 'alternate', 'ro-tel', 'ganache', 'club', '48', 'picante', 'thicker', 'meats', 'choy', 'think', 'slits', 'wrapper', 'palm', 'dump', 'dogs', 'rich', 'pickling', 'prawns', 'germ', 'anchovies', 'medium-size', 'tails', '-6', 'whiskey', 'bamboo', 'russet', 'wafer', 'blanch', 'raise', 'omit', 'followed', 'keeps', 'masher', 'drip', 'fiber', 'where', 'combination', 'border', 'julienne', 'lite', 'tall', 'eye', '80', 'lima', 'lengths', 'pies', 'crepe', 'those', 'chunk', 'loose', 'cheez', 'mortar', 'throughout', 'lemongrass', 'final', 'deglaze', 'gingerroot', 'fettuccine', 'absorb', 'teriyaki', '12-15', '1/8-inch', 'corned', 'pinches', 'beet', 'prunes', 'tastes', 'sealed', 'tap', 'family', 'basket', 'guacamole', 'important', 'pyrex', 'ten', 'grinder', 'burner', 'snap', 'reads', 'vermouth', 'drizzling', 'pierce', 'berry', 'preparing', 'bok', 'pecorino', 'flank', '36', 'quick-cooking', 'parsnips', 'pattern', 'thickest', 'kalamata', 'pass', 'heavy-duty', 'rare', 'perfect', 'bottles', 'noodle', 'poblano', 'cools', 'fairly', 'o', 'farm', 'tested', 'found', 'foods', 'scrubbed', 'piping', 'creole', 'mousse', 'ravioli', 'bone-in', '6-ounce', 'steep', 'pistachio', 'tablespoonfuls', 'popped', 'love', 'instant-read', 'plenty', 'proof', 'saute/fry', 'summer', 'unroll', 'kept', 'thigh', 'leg', 'rectangles', 'alternatively', 'tasty', 'soaking', 'pile', 'harden', 'bird', '75', 'results', 'pierced', 'fries', 'fall', '21', 'dream', 'beaters', 'glossy', 'runny', 'sourdough', 'ghee', 'vegan', 'pillsbury', 'pre-heat', 'granola', '160', 'continuously', 'radish', 'frzn', 'raisin', 'letting', 'liberally', 'special', 'dipped', 'bed', 'transparent', 'since', 'steel', '1-quart', 'centers', '165', 'slit', '35-40', 'score', '250Â°', 'pearl', '30-40', 'crepes', 'yukon', 'nutritional', 'brie', 'chip', 'tortellini', 'taking', 'volume', 'substituted', 'segments', 'paper-lined', 'sterilized', 'preference', 'oblong', 'prep', '6-inch', 'reached', 'lots', 'had', 'sec', 'rough', 'intact', 'links', 'tamari', 'folding', 'heavy-bottomed', 'seems', 'holds', 'placed', 'care', 'sugar-free', 'were', 'appear', '13x9', 'house', 'unmold', 'strained', 'intervals', 'salami', 'already', '7-up', '-5', 'beater', 'length', 'called', 'tomatillos', '190', '4-inch', 'breakfast', 'rotating', 'liver', 'coleslaw', 'non', 'gluten', '325f', 'cannellini', 'lipton', 'hollow', 'gone', 'rose', 'morning', 'wonton', 'month', 'zested', 'rising', 'sometimes', 'logs', 'looking', 'port', 'starter', 'pepperidge', 'crumbles', 'pretzel', 'cuts', 'thickly', 'given', 'scalded', 'toffee', 'purple', 'cornflakes', 'corners', 'fahrenheit', 'variety', 'ancho', 'read', 'pestle', 'recommend', 'vary', 'german', 'lowest', 'heart', 'goes', 'gnocchi', 'mushy', 'bright', '1/2-inch-thick', 'grains', 'trays', 'liter', '1/4-inch-thick', 'immersion', 'gather', 'preparation', 'part-skim', 'wood', 'please', 'pimiento', 'peeler', 'eating', 'sooper', 'cholesterol', 'bulgur', 'similar', 'buttercream', 'rectangular', '22', 'jumbo', 'neck', 'closed', 'know', 'atop', 'course', 'foil-lined', 'mark', 'picked', 'tail', 'kielbasa', 'citrus', 'basmati', 'medium-rare', 'squid', 'pouring', 'chickens', 'turnips', 'steady', 'tuck', 'yet', 'halibut', '3/8', 'ca', 'choose', 'basic', 'putting', 'sparkling', 'scoops', 'fast', 'hard-cooked', 'kiwi', 'door', 'liquids', 'ingredient', 'kneading', 'risotto', 'gin', 'worry', '325Â°f', 'needs', 'risen', 'lrg', 'ramen', 'store-bought', 'caramelize', 'veggie', 'sq', 'dog', 'yoghurt', 'venison', 'person', 'springs', 'oscar', 'variation', 'valley', 'buy', 'consomme', 'brewed', 'yams', 'amaretto', 'though', 'pectin', 'required', 'wesson', 'triangle', 'hulled', 'equally', 'long-grain', 'chow', 'complete', 'tenderloins', 'country', 'healthier', 'tots', 'mayer', 'triple', 'our', 'land', '4-quart', 'nori', 'gelatine', 'straight', '-8', 'evaporates', \"'d\", '9-in', 'layering', 'doritos', 'cognac', '15-ounce', 'upside', 'shiny', 'forks', '19', '13x9-inch', 'paring', 'additions', 'hook', 'vidalia', 'creating', 'grapeseed', 'drumsticks', 'evoo', 'float', 'procedure', 'mein', 'otherwise', 'chillies', 'hens', 'lakes', 'pit', 'sponge', 'getting', 'dairy', 'mccormick', 'mesh', 'mill', 'streusel', 'grand', 'prior', 'crimp', 'souffle', 'jiffy', 'lump', '7/8', 'mg', 'meatloaf', 'adapted', 'serrated', 'gluten-free', 'sufficient', 'however', 'sink', '120', 'helps', 'remember', 'hair', 'lumpy', 'cob', 'colour', 'shaped', 'fingertips', 'spots', 'hidden', 'pod', 'truffle', 'savory', '425Â°f', 'traditional', 'meantime', 'porcini', 'ziploc', 'probably', 'accent', 'syrupy', 'version', 'rotel', 'sautee', 'rotate', 'flowers', 'freezes', 'tamarind', 'macadamia', 'coats', '1-3/4', 'product', 'cane', 'bought', 'canning', '14.5', 'toward', 'wing', 'turned', 'opening', 'overmix', 'upper', 'unwrap', 'marnier', 'thinner', '40-45', 'clumps', 'gorgonzola', 'confectioner', 'standing', 'trout', 'vermicelli', 'rather', 'wilt', 'campbell', 'shanks', 'underneath', 'shimmering', 'marsala', 'remains', 'stretch', 'touched', 'holding', 'cacao', 'pocket', 'omelet', 'discarded', 'cashew', 'med-high', 'tater', '5-inch', 'oval', 'flipping', 'superfine', 'nestle', 'iceberg', 'melting', 'hines', 'salty', 'alongside', 'depends', 'irish', 'duncan', 'flaky', 'thing', 'never', 'wasabi', 'scones', 'chex', 'mace', 'maintain', 'grater', 'husks', 'kahlua', 'hellmann', 'alfredo', 'area', 'livers', 'bitters', 'northern', 'date', 'parchment-lined', 'kool-aid', 'casings', 'stay', 'party', 'filets', 'opposite', 'radicchio', 'change', '0.5', 'mallet', 'bouquet', 'greasing', 'tidbits', 'able', 'mostly', '8x8', 'cornflour', 'steaming', 'touching', 'case', 'overbake', 'anything', 'somewhat', 'attached', 'bitter', 'cantaloupe', 'eyes', '0.99', 'else', 'tent', '46', 'dashi', 'whole-wheat', 'stores', 'daikon', 'fashioned', 'body', 'sweat', 'carving', 'one-third', 'mug', 'martini', '425f', 'spreadable', 'mangoes', 'mounds', 'gm', 'shavings', 'saturated', 'endive', 'deseeded', 'something', 'escape', 'distributed', 'rapidly', 'continuing', 'patted', 'smell', 'unsifted', 'liquor', 'giblets', 'extracts', 'envelopes', 'ragu', 'fontina', 'standard', 'scraps', 'rotini', 'depth', 'spiced', 'shoots', 'scrub', 'gum', 'saltine', 'arborio', 'seaweed', 'flavour', 'black-eyed', 'combining', 'cremini', 'hazelnut', '3-1/2', 'select', 'tbls', 'zesty', 'bark', '02/06', 'semolina', 'balance', 'edamame', 'microwaveable', 'home', 'breads', 'waffles', 'sushi', 'sauces', 'gratin', 'stainless', 'ok', 'jelly-roll', '2-1/4', 'checking', 'threads', 'film', 'tenders', 'processed', 'wonderful', 'glazed', 'frypan', 'stovetop', 'asiago', 'steps', 'paraffin', 'crystals', 'flower', 'desire', 'weights', 'papaya', '12-ounce', 'cycle', 'drying', 'ribbons', 'vegetarian', 'mixtures', 'celsius', 'pet', 'nutella', 'defrosted', '9x13-inch', 'fl', 'sorbet', 'storage', 'attach', 'oils', 'handfuls', 'key', 'snack', 'fine-mesh', '16-ounce', 'facing', 'scraped', 'okay', 'tilapia', '10-ounce', 'cutters', 'hominy', '12-cup', '750', 'garnishes', 'spoons', '200c', '2-4', 'uniform', 'scramble', 'ladyfingers', 'hummus', 'slivers', 'belly', 'habanero', 'curls', 'milliliters', 'breadcrumb', 'masa', 'deboned', 'blackberry', 'lavender', 'insides', 'amp', '5/8', 'katakuriko', 'scald', 'turnip', 'smash', 'sizzle', 'maybe', 'swirling', '11/2', 'enclose', 'stopping', 'rendered', 'pimientos', 'chefs', 'thumb', 'oreos', 'moving', 'pith', 'crunch', '26', 'source', 'scissors', 'silicone', 'crawfish', '30-45', 'tests', 'flute', '450f', 'blackened', 'main', 'cling', 'two-thirds', 'blood', 'queso', 'puffs', '170', 'enchiladas', 'juicy', '2-inches', 'chia', 'ramekin', 'unbeaten', 'roaster', 'clarified', 'information', 'decorating', 'ceramic', '8-oz', 'colby', 'tbl', 'overhang', 'self', 'sets', 'distilled', 'zip-top', 'omitting', 'filet', 'tb', 'defrost', 'quiche', 'minimum', 'equipment', 'fig', 'variations', '2-', 'veg', 'seven', 'fan', 'chewy', 'alcohol', '14-1/2', 'decorative', 'portobello', 'options', 'freezing', 'itself', 'twine', 'aioli', 'pockets', 'smoker', 'resemble', 'count', 'poached', 'decoration', '110', '@', 'cap', 'fritos', 'teaspoonful', 'soymilk', '14-ounce', '29', 'include', 'proceed', 'grocery', '2.5', 'assembly', 'knorr', '4-1/2', 'classic', 'scrambled', 'rows', 'toaster', 'crystallized', '7-inch', 'flowerets', 'label', '5-8', 'eaten', 'angle', 'old-fashioned', 'fluted', 'jasmine', 'sun', 'pliable', 'aromatic', 'grey', 'bulbs', '7-8', 'jicama', 'shortbread', 'mixes', 'especially', 'sealing', 'rabbit', 'slight', 'who', 'imitation', 'gives', 'apply', '4-ounce', 'feed', 'pared', 'fashion', 'poach', 'hickory', '6-quart', 'sweetness', 'chef', 'matchsticks', 'gouda', 'dusted', 'debone', 'based', 'butt', 'provided', 'lasagne', 'catch', 'decrease', 'spiral', 'overlap', 'navy', 'min.', 'carbohydrate', 'upright', 'char', 'doz', '475', 'face', 'proportionately', 'mat', 'capsicum', 'peels', 'indirect', 'direct', 'slip', 'fork-tender', 'tilt', 'falling', 'planters', 'membranes', '11-inch', 'stiffly', 'snapper', 'nonreactive', 'individually', '45-50', 'heinz', 'nacho', 'ciabatta', 'rope', '1-1/3', 'fronds', 'seperate', 'folded', 'deg', 'drizzled', \"'n\", '3.5', 'rigatoni', 'finishing', 'narrow', 'pounded', 'doughnuts', 'diet', 'matzo', 'catfish', 'rises', 'excellent', 'grm', 'visible', 'bechamel', 'puffy', 'photo', 'hamburg', 'casing', 'yummy', 'chervil', 'aged', '14-inch', 'towards', 'yourself', 'stevia', 'marks', 'heath', 'n', 'adhere', 'shelf', \"'m\", 'creamer', 'indentation', 'inner', 'limp', 'doing', 'super', 'things', 'bow', 'motor', 'achieve', 'salads', '600', 'disc', 'carve', '5.00', 'towel-lined', 'kids', 'emulsified', 'compote', 'colors', 'transferring', 'turbinado', 'develop', 'plantains', 'lawry', 'worth', 'softens', 'pkt', 'rotisserie', 'accumulated', 'dress', 'skip', 'sizzling', 'build', 'xanthan', 'zip', 'provence', 'buffalo', 'knives', 'shot', 'w/', 'vertically', 'spacing', 'gel', '6-7', 'napa', 'lock', '1/2-ounce', 'arrowroot', 'cointreau', 'saving', 'barrel', 'bundle', 'crabs', 'spareribs', 'rubbed', 'parmigiano', 'draining', 'offset', '275Â°', 'slurry', 'motion', 'membrane', 'closely', 'stirred', 'stale', 'lemon-lime', 'points', 'items', 'hen', 'markets', '450Â°f', 'cut-up', 'option', 'ziti', 'flavorings', 'sambal', 'switch', 'bass', 'escarole', 'grainy', 'plunge', 'fun', 'rock', 'bias', 'stuck', 'ziplock', 'strands', 'crowd', '_____', 'percent', 'whirl', 'pulls', 'wraps', 'tight-fitting', 'farro', 'reduces', 'rims', '-10', 'appetizer', 'equivalent', 'link', 'reheated', 'pulled', 'chopping', 'front', 'removable', 'gloves', 'fitting', 'grenadine', '1/2-', 'got', 'visit', 'cobs', 'microwavable', 'pre', 'places', 'california', 'tacos', 'outdoor', 'grass', 'tender-crisp', 'youre', 'number', 'plan', 'dal', 'disks', 'bagel', 'soggy', 'veg-all', '65', '220', 'target', 'amber', 'evaporate', 'actually', 'pushing', '0', 'photograph', 'securely', '50-60', 'lobsters', 'acorn', 'deep-fry', 'schnapps', 'brioche', 'circular', 'fourths', 'covers', 'sub', 'guests', 'anyone', 'accompaniment', 'appears', 'perfectly', 'wheel', 'malt', 'boston', 'squeezing', 'non-fat', 'meld', 'eggnog', 'singles', 'seem', 'fondue', 'no-salt-added', 'fritters', 'young', 'pouch', 'tossed', 'jarred', 'quail', 'meaty', 'aid', 'crystal', 'saucepot', 'diamond', 'snip', 'lines', 'dropped', 'cross', 'adds', 'oven-proof', 'plump', 'sand', 'buckwheat', '28-ounce', 'smear', 'rabe', '190c', 'undisturbed', 'weigh', 'carnation', 'jug', 'totally', 'bagels', 'access', 'http', 'submerge', 'suit', 'verde', 'buttery', '=', 'neufchatel', 'frittata', 'chilis', 'brick', 'dumpling', 'harissa', 'underside', 'scotch', 'shreds', 'flattened', 'kisses', 'sort', 'butcher', 'five-spice', 'island', 'manner', 'currant', 'preserved', 'seams', 'heavily', 'nectarines', 'aroma', 'spot', 'analysis', 'toasts', 'soya', 'chestnut', 'dividing', 'draw', 'chickpea', 'medium-hot', 'truffles', 'properly', 'marinating', 'ear', 'effect', 'suggested', 'opened', '140', 'winter', '5-quart', 'buds', 'canadian', 'sauteing', 'correct', 'herbes', 'andouille', 'spring-form', 'dab', 'parsnip', 'palms', 'tangerine', 'garni', 'calorie', 'collard', 'peeling', 'hock', 'navel', 'am', 'bottomed', 'manicotti', 'scorching', 'tang', 'lattice', 'network', 'retain', 'carbohydrates', '3.99', 'precooked', 'screw', '-1', 'therefore', 'meatball', 'pizzas', 'kabocha', 'devil', 'garden', 'grab', 'vitamin', 'skimming', '160Â°', 'beverage', 'swordfish', 'seasons', 'tarts', 'flan', '300f', 'yum', '10.75', 'filo', 'tied', 'ever', 'america', 'cola', 'lastly', 'pitas', 'b', 'upon', 'chiffonade', 'chilling', '18-20', 'dollops', 'infuse', 'barbeque', 'pre-heated', 'straw', '9-', 'submerged', 'silver', 'devein', 'timer', 'quantity', 'briskly', 'supreme', 'franks', 'burrito', 'lose', 'fava', '10x', '275', 'stewing', 'mouth', 'started', 'mashing', 'petals', 'bigger', 'tines', 'paint', 'peppercorn', 'hang', 'settle', 'iced', '3-', 'l', '10-', 'exactly', 'lifting', 'usda', 'fresco', 'braising', '2nd', '15-inch', 'naan', 'blot', 'regularly', 'lunch', 'sprite', '1-pound', 'ribbon', 'normal', '9x9', 'texas', '145', 'feels', 'hocks', '85', 'sizes', 'granular', 'portabella', 'exposed', 'result', 'soupy', 'skin-side', 'limeade', 'chipped', 'rocks', '2-qt', 'roots', 'chive', 'whisked', 'saran', 'italian-style', 'faster', 'supermarkets', 'garnishing', 'knox', 'cone', 'artificial', 'vent', 'dv', 'u', 'fancy', 'eighths', 'brittle', 'edible', 'direction', 'medallions', 'mm', 'measured', 'simmers', 'others', 'forget', 'changes', 'pulling', 'rapid', 'cause', 'professional', 'partnership', '180Â°c', '.5', 'trove', 'myplate', 'myrecipes', 'seared', 'flavorful', 'spooning', 'fenugreek', 'mandoline', 'cylinder', 'unless', 'uncle', 'ct', 'slab', 'say', 'untill', 'gram', 'frank', 'semi', 'contains', 'meyer', '1-in', 'shucked', 'kitchenaid', 'meringues', 'packaged', 'bringing', 'trying', '13-', 'french-style', '~', 'purchased', '7-10', 'mrs', 'saltines', '10-3/4', 'strings', 'blanc', 'el', 'ea', 'although', 'aubergine', 'processing', 'released', 'wieners', 'mugs', 'braise', 'personal', 'pits', 'breakstone', '300Â°f', 'pico', 'silken', 'produce', 'lovely', 'non-reactive', 'catalina', 'year', 'wash.', '-ounce', 'canner', 'grinds', '5-', 'hardened', 'juniper', 'poaching', 'smoothing', 'christmas', 'liner', 'darker', '115', 'whole-grain', 'tempeh', 'caesar', 'resting', 'alum', '....', 'broiling', 'nutty', 'husk', 'cut-side', 'tblsp', 'lentil', 'pate', '1/16', 'unfold', 'seltzer', 'flaxseed', 'marble', 'liters', 'safflower', 'included', 'suggest', 'lighter', 'shaping', 'tubes', 'caviar', 'ice-cream', 'knudsen', 'gallo', 'day-old', 'dredging', 'a.1', 'good-quality', 'parboil', 'specialty', '8oz', 'runs', 'curl', 'ben', 'tapped', 'uses', 'parfait', 'gallons', 'burgundy', 'usual', '4-', 'blossom', 'convection', 'muddle', 'solution', 'one-half', 'fourth', 'crema', 'unseasoned', 'kimchi', 'waiting', 'flounder', 'breading', 'gooey', 'poured', 'heirloom', 'shave', 'duty', 'layered', 'commercial', 'passion', 'surfaces', 'reduction', 'hope', 'kaffir', 'favourite', 'omelette', 'kitchens', 'carbonated', 'temper', 'took', 'indian', 'strokes', 'falls', '13x9-in', 'massage', 'tried', 'restaurant', 'depend', 'pats', 'directs', 'birds', 'passing', 'bonito', 'pinching', 'tint', 'loses', 'hawaiian', 'doughnut', 'soba', 'gumbo', 'fillings', 'trifle', 'biscotti', 'chowder', '130', 'scallop', 'chick', 'beautiful', 'silpat', '15x10x1-in', 'spam', 'hungarian', 'feet', '110Â°', 'poupon', '15-18', 'hearty', '3.4', 'twists', 'trial', 'dilute', '1/2-pound', '40-50', 'sweeter', 'haddock', 'mass', 'sounds', 'thousand', 'shakes', 'diluted', 'popsicle', 'peak', 'wilts', 'low-salt', 'headspace', 'higher', 'tamales', 'bakes', 'madeira', 'v-8', 'millet', 'chunked', '12-14', '8-', '-12', 'burnt', 'honeydew', 'center-cut', 'tasting', 'pair', 'calamari', 'hr', 'sundried', 'surround', 'rewarm', 'burst', 'coke', 'design', 'containing', 'storing', 'marked', 'raising', 'cinnamon-sugar', 'matcha', 'watching', 'testing', 'rid', 'kombu', 'representation', 'increments', '13-in', 'shiso', 'allows', 'match', 'non-dairy', '200Â°', 'scum', 'skin-on', 'periodically', 'sound', '45-60', 'rump', 'achieved', 'far', 'spelt', 'flavours', 'mason', 'dulce', 'scraper', 'quesadillas', 'fusilli', 'korean', 'idea', 'watery', 'infused', 'joe', 'wisk', 'handheld', 'pastries', 'leche', 'pumpernickel', 'wontons', 'ways', 'octopus', 'doesnt', 'frosted', 'tomatillo', 'pepitas', 'chocolates', 'alone', 'adjusting', 'tablespoonful', 'treat', 'reducing', 'deep-frying', 'di', 'farfalle', 'cracks', 'well-blended', 'coming', 'betty', 'crostini', 'curly', 'crocker', 'butterfly', 'cooler', 'panini', 'sweeten', 'indicated', '35-45', 'gourmet', 'neutral', 'believe', 'crisps', 'rubbing', 'condiments', '1st', 'blossoms', 'less-sodium', 'hint', 'ease', 'croissants', 'shown', 'jellyroll', 'mind', 'grates', 'burners', 'acid', 'fondant', 'stout', 'petite', 'lengthways', 'premium', 'wrapping', 'oven-safe', 'easiest', 'kabobs', 'discs', 'says', 'linguini', 'bare', 'presentation', '1-inch-thick', 'whey', 'emeril', 'spooned', 'focaccia', 'kraut', 'mess', 'curdle', 'flatbread', 'polish', 'hollandaise', 'filter', 'matter', 'pops', 'scaled', 'early', 'funnel', 'bibb', 'bites', 'calls', 'sole', 'oriental', 'licorice', 'kirsch', 'au', 'curds', 'herbed', 'decoratively', 'render', '12-1', 'nuggets', 'golf', 'sel', 'sturdy', 'oelek', 'difficult', 'picture', 'drinking', 'moment', 'low-medium', 'tucking', '1-ounce', 'behind', 'scorch', '115Â°', 'skirt', 'separating', 'giving', 'yes', 'philly', 'partly', 'accordingly', 'extra-large', 'sardines', 'unwrapped', 'having', 'breaded', 'thickening', 'churn', 'anaheim', 'mincemeat', 'content', 'dirt', 'forth', 'alternative', 'deep-dish', 'papers', 'tenderness', '6-', 'donuts', 'mush', 'rustic', 'gingerbread', 'gray', 'chipotles', 'butterflied', 'torte', 'sits', 'harina', 'subsides', 'pulsing', 'shut', 'spear', 'jerk', 'heats', '1t', 'dressed', '8-in', 'deflate', 'la', 'butter-flavored', 'sultanas', 'plantain', 'cutlet', 'menthe', 'handling', 'sumac', 'hunt', 'book', 'foaming', 'everyone', 'entirely', 'no-stick', 'goose', '3-qt', 'well-floured', 'prune', 'cones', 'tenderizer', 'jus', 'means', 'twelve', 'perforations', 'pkgs', 'extending', 'fleur', 'softer', 'idaho', 'doubles', 'she', 'tony', 'breadsticks', 'braid', 'wanted', 'durkee', 'sectioned', 'approximate', 'throughly', 'sealable', 'magic', '160c', 'tupperware', 'held', 'sizzles', 'shears', 'belgian', 'frisee', 'mung', 'row', 'he', 'fruity', '2-cup', 'vents', 'stays', 'desiccated', '4.5', '}', '1/2-in', 'rinds', '230', 'quesadilla', 'freshly-grnd', 'concentrated', 'highest', 'width', 'margarita', 'classico', 'reynolds', 'goya', 'disposable', 'southern', 'types', 'golden-brown', 'marzipan', 'overbeat', 'smoky', 'calcium', 'grade', 'piecrust', '13x9x2', 'cartons', 'heaped', 'hardens', 'reggiano', 'pulses', 'craisins', 'countertop', 'handles', 'tend', 'springy', 'cavities', 'cured', 'tapenade', '9x5', 'sauvignon', 'dehydrated', 'cornflake', 'kaiser', '1-cup', 'burned', 'heat-proof', 'popping', 'pepperoncini', 'skillets', '4-serving', 'chopper', 'normally', 'refresh', '14-12', 'extremely', 'kebabs', 'sprout', 'fajita', 'praline', 'all-bran', 'youll', 'nothing', 'glue', 'bonnet', 'ropes', 'spaced', 'proportions', 'pare', 'nine', 'call', 'one-fourth', 'slushy', 'blocks', 'tell', 'dijon-style', 'live', 'self-raising', 'draft-free', 'sugared', 'ricer', '{', 'smoothly', 'joint', 'shank', '240', '27', 'nutrition', '-inch', 'highball', 'burritos', 'show', 'tinfoil', 'lining', 'rutabaga', 'bon', 'bicarbonate', 'bands', 'game', '700', 'w', 'hormel', 'simmered', 'swanson', 'assembling', 'qts', 'naturally', 'shrimps', 'med-low', 'gummy', 'nondairy', 'arbol', 'ensuring', 'giant', 'kick', 'p', '1/3-inch', 'persimmon', 'stops', 'lady', 'meet', 'cotija', 'streaks', 'twenty', 'trimmings', 'seam-side', 'won', 'three-quarters', '9/16', 'tree', '8-12', 'russian', 'baller', 'flexible', 'share', '>', 'gingersnaps', 'congeal', 'absorbent', 'broccolini', 'why', 'capacity', 'deeply', 'smoothie', 'pinot', 'pourable', 'picks', 'market', 'suggestions', 'particles', 'blistered', '1/2-inches', 'force', 'trimming', 'knob', 'lighten', 'kiss', 'essential', 'muenster', 'children', 'thick-cut', 'claws', 'cheerios', 'arranging', 'oil-packed', 'gr', 'baguettes', 'husked', '360', 'san', 'opt', 'delicate', 'crisscross', 'reese', 'taken', 'brew', 'local', 'tbsps', 'broiled', 'baggie', 'quaker', 'hotter', '2t', 'dig', 'theyre', 'kinds', 'manchego', 'gingersnap', 'hoagie', 'tilting', 'puddings', 'life', 'bundles', 'crisped', 'drape', 'louisiana', '2g', 'country-style', 'assembled', 'suggestion', 'bleu', 'guinness', 'roe', 'crescents', 'proper', 'continually', 'sorghum', 'cornish', 'completed', 'list', 'mahi', '500Â°', 'cases', 'darken', 'demerara', 'range', 'angostura', '12-', 'dean', 'gala', 'carcass', 'udon', 'saut', 'secret', 'yam', 'guide', 'rocket', 'canes', 'chardonnay', 'refridgerate', 'pilaf', 'decorations', 'minus', 'drafts', '170c', 'handy', 'pre-cooked', '100g', 'slicer', 'pasteurized', 'jimmy', '10.5', 'celeriac', 'roquefort', 'rainbow', 'air-tight', 'cupfuls', 'largest', 'neat', '7-9', 'appetizers', 'broad', 'toasting', '6-cup', 'ton', 'stars', 'custards', 'eyeball', 'cores', 'eliminate', 'thats', '1/4-in', 'pan-fry', 'chopsticks', 'terrine', '8-quart', 'bologna', 'longhorn', 'begun', 'reduced-calorie', 'caution', 'leafy', 'pig', 'beetroot', 'saved', 'hit', 'wont', '1g', 'future', '64', 'expand', 'immerse', 'curacao', 'happy', 'farms', 'citron', 'worked', 'squirt', 'donut', 'pots', 'challah', 'dollar', 'whole-milk', 'dense', 'pointed', 'deviled', 'tzatziki', 'require', 'sat', '1cm', 'packs', 'sitting', '18.25', 'macaroons', 'savoy', 'blitz', 'boat', 'cheesy', '800', 'torch', 'silk', 'nose', 'file', 'croquettes', '10-in', 'shaken', 'her', 'md', 'due', '16-oz', 'mangos', 'extra-sharp', 'patting', 'filtered', 'grating', 'dripping', 'mac', 'manufacturers', 'various', 'frankfurters', 'tomatoe', 'thirty', 'toasty', 'known', '1/2-cup', 'suitable', 'ideal', '13x9x2-inch', 'carb', 'likely', 'nam', 'froth', 'saucer', 'grinding', 'lemon-pepper', 'york', 'well-combined', 'interior', 'mould', 'flow', '30-60', 'smoother', 'mist', 'tooth', 'purposes', 'fresh-ground', 'maldon', 'fifteen', 'plank', 'paneer', 'imported', 'ideally', 'typically', 'malted', '15-oz', 'shrink', 'preheating', 'scooped', 'trader', '9-by-13-inch', 'grit', 'poblanos', 'absorbs', 'contact', 'deluxe', 'royal', 'hungry', '6-qt', '3g', 'ask', 'ruby', 'mexico', 'ash', '38', 'hass', 'shoe', 'calvados', 'haricots', 'woody', 'tumeric', 'inverted', 'cobbler', 'coca-cola', 'suet', 'dampened', 'us', 'jet-puffed', 'holiday', 'appearance', 'ajar', '3-ounce', 'ice-filled', 'fingerling', 'previous', 'spritz', '6-oz', 'dropping', 'reg', '14.5-ounce', 'montreal', 'preserve', 'ponzu', 'guava', 'veins', 'verts', 'unused', 'ratio', 'difference', 'rite', 'bruised', 'stacks', 'hots', 'came', 'crowding', 'gift', 'flameproof', 'fettucine', 'crisply', 'silky', 'snugly', 'substituting', 'bullion', 'realemon', 'salt/pepper', 'daily', 'smells', 'tangy', 'chevre', '12-oz', '50-55', 'wish-bone', 'cartilage', 'dribble', 'bind', 'said', 'earlier', 'shimmers', 'messy', 'con', 'salt-free', 'clusters', 'trace', '8-9', 'glace', 'shows', 'earth', 'crushing', 'deep-fryer', 'tentacles', 'friends', 'broiler-fryer', 'bratwurst', 'prosecco', 'handled', 'obtain', 'mackerel', 'tomatos', 'short-grain', 'whether', 'moons', 'bosc', 'prevents', '.25', 'fire-roasted', 'maximum', 'mean', 'spider', '5-ounce', 'chocolate-covered', 'clump', 'overwork', 'coins', 'mandolin', 'warming', 'sloppy', 'whichever', 'washing', 'tuscan', 'arils', 'milnot', 'fermented', 'sold', 'peg', 'stands', 'crimini', 'mayonaise', 'vine', 'neatly', 'morels', 'jellied', 'flames', '10-20', 'v8', 'over-mix', '160f', 'fix', 'slash', 'galangal', '145Â°', 'fits', 'disappears', 'exact', 'mints', 'inserting', 'deep-fat', 'emulsify', 'dietary', 'post', 'tropical', 'height', 'hand-held', 'stronger', 'enameled', 'colouring', 'appetit', 'pace', 'glazing', 'altogether', 'deer', 'coarsley', 'rotary', 'awhile', '200Â°c', 'gumdrops', 'fuji', '1/8-inch-thick', 'control', 'ignite', 'aluminium', 'hollowed', 'env', 'firmer', 'alfalfa', 'jell', 'period', 'mazola', 'brushed', 'shorter', 'foams', 'brussel', 'hear', 'example', 'slather', 'incorporating', 'shaoxing', 'appropriate', 'bad', '15-', 'cardamon', 'previously', 'tongue', 'croissant', 'whilst', 'shoyu', 'dippers', 'bob', 'crouton', '200g', 'on/off', 'orange-flavored', 'paso', 'backbone', 'rice-a-roni', 'tempered', 'marzano', 'comments', 'sofrito', 'tempura', 'collards', 'congealed', 'reroll', 'snacks', 'cole', '1.25', 'chai', '20cm', 'i.e', 'parallel', '4g', 'milky', 'uniformly', 'three-fourths', 'red-wine', 'confit', 'etc.', 'chafing', 'pasty', 'residual', 'health', 'wear', 'cardboard', 'years', 'pch', 'relatively', 'notice', 'chimichurri', 'yuzu', '-7', 'allowed', 'separates', 'his', '1-1', 'kumquats', 'acidity', 'stones', 'tapping', 'spicier', 'clinging', '1/4-ounce', 'mesclun', 'powders', 'compact', 'dampen', 'shellfish', 'carbs', 'huge', 'msg', 'combo', 'timing', '7-ounce', '3/4-inch-thick', 'wells', '3-inches', 'nutmeats', 'gochujang', 'fasten', 'sazon', 'anywhere', 'extend', 'stone-ground', 'ovens', '105', 'full-fat', 'refrigeration', 'reheating', 'prebaked', 'shimeji', 'vessel', 'burns', 'tends', '5g', 'paella', 'sleeve', '13.5', 'cukes', 'contain', 'london', 'bench', 'hull', 'fatty', 'floret', 'band', 'choc', 'highly', 'cookbook', 'spraying', 'kellogg', 'quince', 'butter/margarine', 'strength', 'french-fried', 'nachos', 'trick', 'age', 'strudel', 'mesquite', 'beefsteak', '250g', 'cellophane', 'tacky', 'generally', 'decide', 'crispix', 'medjool', 'orleans', '2cm', '1-3', '5-qt', '165Â°', 'mochi', '1/2-1', '45-55', 'lidded', 'toweling', 'closest', '10-oz', 'slashes', 'colby-monterey', '4-cup', '15-30', 'softly', 'amazing', '2-layer', 'returns', 'prego', 'horizontal', 'hemp', 'cotton', 'packing', 'agar', 'mounding', 'peek', 'converted', 'proceeding', 'becoming', 'coulis', 'slc', 'roasts', '2-in', 'hamburgers', 'nest', 'unopened', 'specified', 'trust', 'havarti', 'substitutes', 'coloured', 'quantities', 'potatos', 'themselves', 'pla', 'mexican-style', 'bartlett', 'lower-sodium', '72', 'paper-thin', 'likes', 'curdled', 'turkish', 'worms', 'casseroles', 'cous', '57', 'published', 'ortega', 'creaming', 'ducks', 'resistance', 'parboiled', '42', 'gills', 'skimmed', 'mocha', 'areas', '25-35', 'litre', 'world', '1/4-1/2', 'medium-large', 'worchestershire', 'definitely', 'x13', 'pasilla', 'guajillo', 'equals', '170Â°', 'chambord', 'drips', 'spin', 'ms', 'ad', 'lifted', 'riesling', 'aisle', 'one-quarter', 'achiote', 'sack', '15.5', '3-pound', 'heavy-based', 'wise', '50g', 'aleppo', 'chili-garlic', 'seitan', '3/4-ounce', 'richer', 'scored', 'dry-roasted', '55-60', 'crown', 'nibs', '3.50', 'accompany', 'tangerines', 'stretching', 'clay', 'chance', 'refrigerating', 'slabs', 'grahams', 'sterile', 'brought', 'one-inch', 'melba', 'sichuan', 'cabernet', 'spaetzle', 'shots', 'personally', 'porridge', 'pineapples', 'splatter', 'limoncello', 'rinsing', 'parmesean', '4-pound', 'greaseproof', 'play', 'requires', 'bases', 'lager', 'panna', '02/07', 'beautifully', '475Â°', 'thins', 'mom', 'boullion', 'element', 'bodies', 'goodness', 'dunk', 'laying', 'attractive', 'microplane', 'desserts', 'overcrowd', 'del', 'smart', 'soap', 'cornichons', 'sterilize', 'tsps', 'floating', 'treats', 'happens', 'thinned', 'stripped', 'shade', 'micro', 'well-drained', 'emulsion', 'created', 'creamier', 'carob', '303', 'wiped', 'snickers', '1c', 'enoki', 'red-pepper', 'nectarine', 'saucy', '`', '2-ounce', 'milder', 'william', 'refer', 'ghirardelli', 'increasing', 'lotus', 'endives', 'gremolata', 'squish', 'braised', 'zip-lock', 'jalepeno', 'whisky', 'varieties', 'hurry', 'lea', 'shops', 'littleneck', 'decorator', 'gras', 'measurements', 'foie', '3.00', 'cotta', '2.99', '1lb', 'omitted', 'pheasant', 'pumpkins', '1/4-cup', 'microwaving', 'happen', 'zucchinis', 'moon', '85Â°', 'flattening', '113', 'corriander', 'courgettes', 'dots', 'lettuces', 'perhaps', 'oxtails', 'frangelico', '1/2-inch-wide', 'moulds', 'breaks', '180Â°', 'stripes', 'beyond', 'trans', 'tagliatelle', 'k', 'pernod', 'galette', '1-2/3', '140Â°', '74', '0g', 'sifter', 'tepid', 'crumbling', 'consistancy', 'gloss', 'favorites', 'includes', '4oz', 'mellow', 'smucker', 'poor', 'lip', 'fettucini', 'ready-to-use', 'sanding', 'lagasse', 'lollipop', 'grouper', 'amaretti', 'voila', '18-22', 'e.g', '135', 'floury', 'campari', 'dries', 'marrow', 'orecchiette', 'raised', 'supermarket', '340', 'inverting', 'persimmons', 'accompanied', 'merlot', 'poked', '2-pound', 'g.', 'scooping', 'extra-lean', '2-3/4', 'parm', 'mexicorn', 'certo', 'tartlet', '7.00', 'jiggly', 'tenderize', '1/2c', 'gyoza', 'passionfruit', 'condiment', '1tsp', 'gaps', 'vinegars', '30-second', 'past', 'absolutely', 'vertical', 'bucket', 'joy', 'e', 'lit', 'disappear', 'ladleful', 'burdock', 'unsliced', 'blacken', 'cassis', 'granita', 'outsides', 'bruschetta', 'monde', '4-oz', 'ingrediants', 'sorrel', 'coco', 'fresno', 'remoulade', 'soybeans', 'multigrain', 'wiener', 'bacardi', 'matchstick', 'quik', 'wheels', 'switching', 'mole', 'ditalini', '33', '1.29', 'skor', 'floats', 'shortly', 'shoepeg', '1-qt', 'spare', 'ready-made', 'twinkies', 'meatless', 'shortcake', '220c', 'straws', 'name', 'overhanging', 'beau', 'monte', 'stacked', 'varies', 'indentations', 'accommodate', 'grape-nuts', 'awesome', 'gizzards', 'reconstituted', 'measures', 'greek-style', 'firm-ripe', '6g', 're-roll', 'dull', 'ideas', 'baileys', '165f', 'husband', 'fragrance', 'vietnamese', '250f', 'swirls', 'perrins', 'residue', 'basically', '500g', 'twisting', 'parsely', 'hanging', 'pimenton', 'cure', 'experiment', 'technique', 'certain', '1993', 'cereals', 'jiggle', 'slush', 'blog', 'tostitos', 'stilton', '7g', 'basin', 'knot', 'shiitakes', 'mountain', 'camembert', 'x9', 'morrow', 'canister', 'salata', 'dsh', 'toll', 'heap', 'aminos', 'medium/high', 'aubergines', 'water-packed', 'overcooked', 'manual', 'concentric', 'grapefruits', 'herring', 'spun', '9x5-inch', 'latkes', 'zests', 'crispness', '155', 'joints', 'macerate', 'starchy', 'recommendation', 'comfort', 'juicer', 'rested', '11x7-in', 'drinks', 'caper', 'paper-towel-lined', '225Â°', 'creative', 'indefinitely', '15x10x1-inch', '-15', 'resulting', 'feeling', 'long-handled', 'mini-muffin', 'scale', 'butterfinger', 'prime', '-16', 'rip', 'szechuan', 'exterior', 'marbled', 'jessie', 'service', 'decorated', 'bailey', 'monkfish', '1/4-', 'prawn', 'colorful', 'heat-resistant', 'tripled', 'risk', '1/2-2', 'textured', 'helpful', 'french-cut', 'stringy', 'devour', 'friend', 'seasonal', 'pre-made', 'ramps', 'cheap', 'shitake', 'd', 'online', 'progresso', '8x8-inch', 'tirsch', 'collect', 'empanadas', 'passata', 'dandelion', 'stacking', 'asafoetida', 'cheesecakes', 'coupe', 'pete', 'mentsuyu', 'refreshing', 'instructed', '150g', 'overly', 'heel', 'description', '900', 'lardons', 'kiwis', 'halloumi', 'ap', 'bush', '0mg', 'depression', 'spaces', 'group', 'bakers', 'quicker', 'taro', 'ferment', 'maxwell', '2-2/3', 'half-inch', 'morton', 'segment', 'bend', '12-in', 'provide', 'pastrami', 'tinned', 'field', 'papery', 'kohlrabi', 'striped', 'master', 'shortcakes', 'described', 'youve', 'job', 'bella', 'securing', 'purchase', 'stainless-steel', 'upside-down', 'sifting', '13-15', 'walla', 'shaggy', 'half-moons', 'ts', '16-inch', 'passed', 'souffles', 'sachet', 'optionally', '185', 'expose', 'tearing', 'searing', 'positions', 'related', 'collins', '18-inch', 'whenever', 'picnic', 'pouches', 'persian', '56', 'reason', 'shredding', 'comfortably', 'present', 'mostaccioli', 'bing', 'albacore', 'mozarella', 'straining', 'nicoise', 'flavoured', 'curve', 'marry', 'grid', 'replacer', 'sure-jell', 'chachere', 'state', 'vein', 'cracking', 'ovals', 'marie', 'perimeter', 'nuoc', 'preferable', 'pea-sized', 'corkscrew', 'wakame', 'jigger', 'red-skinned', 'mitts', 'dairy-free', 'darkened', 'milligrams', 'conventional', 'arranged', 'shock', '250Â°f', 'traditionally', 'high-quality', 'cleaning', 'protect', 'removal', '9-11', 'clementine', 'delicately', 'mcintosh', 'fills', 'gherkins', 'sufficiently', 'castor', 'mother', 'turnovers', '224', 'flap', 'index', 'well-browned', 'stir-frying', 'widthwise', '14-oz', 'abt', 'madras', 'changing', '98', 'cannelloni', 'pad', 'wider', 'multi-grain', 'flatbreads', 'tostada', 'register', '6oz', 'de-seeded', 'aka', 'bloom', 'crazy', 'rehydrated', 'falafel', 'doughy', 'calorie-wise', 'sided', 'bertolli', '280', 'company', '9-10', 'kikkoman', 'spill', 'releases', 'chopstick', 'claw', 'polyunsaturated', '11/16', 'sieved', 'shoestring', 'oily', 'boursin', '2.8', 'zinfandel', 'branches', 'program', 'pappardelle', 'cleaver', 'microwaved', 'mineral', 'muslin', 'martha', 'lost', 'oh', 'make-ahead', 'courgette', 'particularly', '400g', 'enriched', 'smokies', 'success', '365', 'farmer', 'repeating', '3/8-inch', 'jamaican', 'brazil', 'annatto', 'accompaniments', 'parkay', 'double-acting', 'pimiento-stuffed', 'carmelized', 'scone', 'snaps', 'pearls', 'skimmer', 'blind', 'dome', 're-cover', '1-1/2-inch', 'dole', 'mussel', 'baklava', 'segmented', 'aburaage', 'buttering', 'clementines', '30g', 'pre-baked', 'waxy', 'mop', 'fingertip', 'well-beaten', 'pea-size', 'folds', 'sundae', 'sparingly', 'soybean', 'wholemeal', '1.4', 'amaranth', 'grana', 'luncheon', 'entree', 'anyway', 'zipper', 'chanterelles', 'kefir', 'gelato', 'clings', 'splashes', 'shoot', 'truss', 'mozzerella', '200f', 'bitterness', 'problem', 'hammer', 'distributing', 'chicory', 'white-wine', 'monounsaturated', 'altitude', 'drumstick', 'parma', 'cutouts', '1/6', 'brats', 'padano', 'brickle', 'parties', 'avacado', '3rd', 'citric', 'potassium', '60-70', 'hardboiled', 'flush', 'cute', 'homogeneous', 'unrefined', '9-inch-diameter', 'clover', '4-qt', 'double-crust', 'wring', 'tonic', 'consistent', 'cohesive', 'nature', 'well-buttered', 'rehydrate', 'plumped', 'milled', '0.0g', 'well-seasoned', 'chanterelle', '120Â°', 'beurre', 'relax', 'ginger-garlic', 'season-all', 'triangular', 'chikuwa', 'hibiscus', 'harder', 'wondra', 'seen', 'average', 'brands', 'plating', 'pastry-lined', 'draft', 'child', 'changed', 'verbena', 'oxtail', 'sweetcorn', 'closer', 'freezer-safe', 'maggi', 'pool', 'lily', 'islands', 'athenos', 'scalding', '21/2', '1-1/2-qt', 'refrigeratetill', 'determine', '1.', 'crispier', 'okara', 'backs', 'saltiness', 'foot', 'medium-well', '95', 'muscovado', 'roll-ups', 'raita', 'walls', 'stiring', 'debearded', 'hat', 'epazote', '14-16', 'beneath', '125g', '12-2', 'undercooked', '9x12', 'yours', 'mignon', '31', 'mintues', 'blister', 'cow', 'adjusted', 'crackle', 'heart-shaped', '200Â°f', 'aromatics', 'eventually', 'keebler', 'homestyle', 'vacuum', 'mary', 'vital', 'seals', 'cleanly', '0.25', 'authentic', 'blades', 'beforehand', 'aniseed', 'exchange', 'mediterranean', 'thinning', 'potatoe', 'whl', 'faces', '6.5', 'liked', 'rests', 'roughy', 'mature', 'rashers', 'sauted', 'umeboshi', 'evening', 'excessive', 'jiggles', 'dutch-processed', 'limas', 'tighten', 'kneaded', 'ahi', 'himalayan', 'barbecued', 'packaging', 'ripened', 'tandoori', 'stoned', 'cl', 'noir', '500f', 'roller', 'substitutions', 'baskets', 'tape', 'tostadas', 'mrs.', 'buttons', 'spout', 'caramelizes', '1tbsp', 'steadily', 'extra-firm', '-20', 'rosewater', 'solidify', 'medal', 'salts', 'matzoh', 'nilla', '3-3/4', 'powered', \"bull's-eye\", 'smallest', 'dirty', 'die', 'skewered', 'demi-glace', 'anglaise', 'room-temperature', 'refridgerator', '5cm', 'airy', 'ore-ida', 'maid', 'kiwifruit', 'drumettes', 'pantry', 'piles', 'danish', '3.9', 'trail', '3.5oz', 'southwest', 'youd', 'jelled', 'meals', 'thought', '15-17', '160Â°f', '1000', '16oz', 'drawn', 'mission', 'choke', 'leak', 'nests', 'glutamate', 'floor', 'afraid', 'boysenberries', '165Â°f', 'cloudy', 'satiny', 'monosodium', 'bakery', 'knock', 'fiesta', '20-22', 'eastern', 'collected', 'niblets', '210', 'midway', '<', 'creates', 'bento', 'stiffen', 'proscuitto', 'straight-sided', 'town', 'sandy', 'manis', 'vegies', 'workable', 'guess', 'bulgar', 'teas', '2.', 'seperated', 'pina', 'cardamoms', 'bocconcini', 'slider', 'weather', 'showing', 'ocean', 'streaky', 'applewood', 'sliver', 'cedar', 'jackets', 'wreath', 'goal', \"za'atar\", 'patience', '78', 'choosing', 'somewhere', 'consider', 'free-range', 'deeper', 'konnyaku', 'myself', 'warning', 'indoor', '1-gallon', 'thank', 'seep', '12-16', 'exchanges', 'mats', 'breadstick', 'unavailable', 'patient', 'shy', 'puncture', 'shuck', 'avoiding', 'chimney', 'intense', 'blanco', 'urad', '150c', 'uneven', 'brulee', '350-degree', 'tan', 'plant', 'tool', 'recover', 'necks', 'tartlets', 'criss-cross', 'offer', 'extravirgin', 'sunny', 'colada', 'scalloped', 'powdery', '1/5', '3-1/4', 'touches', 'anjou', 'fantastic', 'slow-cooker', 'inspired', 'bison', 'fifth', 'roses', 'half-moon', 'arthur', 'scrap', 'tripe', '9-ounce', 'enamel', 'pinwheels', 'bloody', 'proofing', 'grigio', '12-34', 'hashbrowns', 'wire-mesh', 'silicon', 'stamp', 'israeli', 'mizuna', 'st.', 'products', 'well-coated', 'pulverized', 'promise', 'mustards', 'overflow', 'vine-ripened', 'isnt', 'nabisco', 'dehydrator', 'icy', 'rhodes', 'lasts', 'diamonds', 'resist', '130Â°', 'dips', 'fettuccini', 'crimping', 'oil-cured', 'fibers', 'function', 'hi', 'bolognese', 'spirals', 'chayote', '12-count', 'forest', 'bursts', '8g', 'moroccan', 'homogenous', 'peices', 'mingle', 'enhance', 'dr.', 'chosen', 'experience', 'pencil', 'shimmer', 'macarons', '-1/2', '135Â°', 'attention', 'widest', 'mortadella', 'supposed', '1.00', 'bold', 'gazpacho', '15/16', 'roti', 'https', 'blends', 'kill', 'wearing', 'info', 'increased', 'improves', 'south', 'undersides', 'dutch-process', '5-1/2', 'brunch', 'figure', 'kasha', 'shortcrust', 'ice-cold', 'asafetida', 'planks', 'jaggery', '7-', 'hatch', 'strand', 'barilla', 'overripe', 'soured', '11-', 'balm', 'ras', 'posted', 'slender', 'fudgy', 'batters', 'viewer', 'herbal', 'item', 'ripen', '6-10', 'harvest', '115~', 'lavash', 'occassionally', 'fn', 'wall', 'fermentation', 'jif', 'low-moisture', 'twin', 'moments', 'replacement', 'milks', 'refill', 'lemony', 'spatulas', 'hanout', 'bother', 'ragout', 'cant', 'corns', 'valve', 'lower-middle', '4-inches', 'rib-eye', 'develops', 'churning', 'burrata', 'warmer', 'load', 'subside', 'rabbits', 'kelp', '2-5', 'releasing', 'capellini', 'ur', '500Â°f', '112', 'pricked', 'well-oiled', 'm.s.g', 'delight', 'pulverize', 'pom', 'snapped', 'pairs', 'premade', 'foil-covered', 'well-chilled', 'garbanzos', 'glutinous', 'kinako', 'chablis', 'elephant', 'velvet', 'tagine', 'true', '10-1/2', 'balloon', 'inch-thick', 'cheeks', 'hors', 'overcooking', 'holidays', 'thanksgiving', 'parcel', 'earl', '12oz', 'coil', 'greasy', '7.5', 'rutabagas', 'utensil', 'tobasco', 'tspn', 'tamale', 'dillweed', 'teflon', 'overbrowning', '15oz', '-less-sodium', 'hillshire', '8-cup', 'aji', 'piquillo', 'fritter', 'ridged', '3.', '63', '15.25', 'building', 'mode', 'calumet', 'high-sided', 'wholegrain', '10.00', 'lol', 'returning', 'earthenware', '1/4c', 'well-mixed', 'peppered', 'spearmint', 'general', 'muscle', 'liberal', 'cactus', '1/3-inch-thick', 'tvp', 'gizzard', 'half-pint', '8.5', 'medley', 'stove-top', 'craft', 'hits', 'collapse', 'adzuki', 'rosettes', 'ladyfinger', 'cal', 'farenheit', 'grandma', 'bn', 'lemon-colored', 'randomly', 'carry', 'manageable', '420', 'lettuce-lined', 'dressings', 'amongst', 'newspaper', 'samuel', 'unpopped', 'celtic', 'canchopped', 'walnut-sized', 'bisque', 'solid-pack', '5-pound', 'mojo', 'mentioned', '15ml', 'secrets', 'finer', 'common', \"'em\", 'tad', 'length-wise', 'genoa', 'no-boil', 'helping', 'quinces', 'triscuits', 'join', 'melty', 'fact', 'swell', 'blackening', 'enclosing', 'someone', 'spit', 'soft-ball', 'elderflower', 'gifts', 'pierogies', 'measurement', 'easter', 'spaghettini', '17-inch', 'napkin', 'redistribute', 'twisted', 'sliding', 'culinary', 'loves', 'festive', 'spreads', 'vanilla-flavored', 'whitefish', 'pimento-stuffed', 'object', 'spongy', 'medium/low', '1-inch-wide', 'precook', 'bear', 'outward', 'spinner', 'kneed', '9x5x3', '30ml', 'lopez', '6-1/2', 'portuguese', 'fibrous', 'refined', 'scratch', 'boats', 'lazy', 'chute', 'doubanjiang', 'tinted', 'velvety', '260', 'boboli', 'satay', 'value', 'bucatini', 'celcius', 'boca', 'tasted', 'lie', 'drag', 'clingfilm', 'solidified', 'cannoli', 'wiping', '0.5g', 'clumping', 'sucanat', 'plop', 'cigar', '320', 'pain', 'acidic', '350.', 'complement', 'bow-tie', 'unmolding', 'gf', 'bermuda', 'penetrate', 'spiciness', 'muesli', 'capsicums', '170f', 'preserving', '10g', 'centres', '300g', '96', 'liquidy', 'halloween', 'courtesy', 'enjoyed', 'serranos', '14-', 'im', 'flat-bottomed', 'calzones', 'half-way', 'mutton', 'napkins', 'lesueur', 'shine', 'holder', 'guest', 'fromage', 'papayas', 'eyed', 'uncut', 'pinched', 'macaroon', 'constant', 'rush', 'oak', 'underdone', 'ours', 'oiling', 'light-brown', '150Â°', 'improve', 'loins', '60g', 'surrounded', 'fructose', 'digestive', '15g', 'parcels', 'photos', 'atleast', 'fist', 'hotel', 'batons', 'candy-coated', 'longest', 'best-quality', 'tiger', 'lucky', 'stoneware', 'piercing', 'loosened', 'went', 'chedder', 'sweetbreads', 'joes', 'action', 'deseed', 'vitamix', 'arm', 'afterwards', 'farina', 'letter', 'scales', 'chilly', 'stk', '11x7', 'crusted', 'expect', 'blow', 'coffee-flavored', 'smallish', '1/3-less-fat', 'tears', 'planning', 'sultana', 'nearby', 'judges', 'indent', 'liquefy', 'grounded', 'originally', 'flouring', 'hellman', 'empanada', 'boxed', '1/2-3/4', 'dissolving', 'kirby', 'tubs', 'george', 'maria', 'aunt', 'overheat', 'glucose', 'curried', 'ooze', 'margerine', '9g', 'elbows', 'maui', 'nearest', 'richly', 'jarlsberg', 'unmelted', 'anymore', 'butter/sugar', 'crisper', 'hints', 'grands', 'bruise', 'sip', 'strongly', 'th', 'curdling', 'blackstrap', 'popover', 're-heat', 'yuca', 'coffee-mate', '225g', 'hog', 'incisions', 'jerky', 'beside', 'serving-size', '4-8', 'forced', '11/4', 'crank', 'popovers', '13/16', 'caramelised', 'gristle', 'retaining', 'fillo', 'tri-tip', 'clip', 'resistant', 'cinnamon/sugar', 'strata', 'rigate', 'chick-peas', 'dew', 'jeremiah', 'latin', '2oz', '1-lb', 'weave', 'ok.', 'today', '25g', 'nigella', 'shards', 'margin', 'support', 'andes', 'crudites', 'frig', '7-1/2', 'ie', 'a.', 'choux', '-thick', 'dices', 'bricks', 'pureeing', 'skinny', 'dye', 'kings', 'beefy', 'icebox', 'curved', 'luck', 'soaks', 'major', 'sangria', '16-20', 'malibu', '190Â°c', 'reverse', 'grounds', 'sheep', '3cm', 'sauterne', 'turner', 'curled', 'lee', 'blanching', 'sprouted', 'roulade', 'supper', 'extras', 'actual', 'braggs', 'mono', 'unthawed', 'oj', 'all-vegetable', 'pro', 'cheesecloth-lined', '3-in', 'whizz', 'weighing', 'pierogi', 'slim', 'morel', 'overfill', 'tasso', 'caribbean', 'walk', 'parchment-covered', 'rome', '58', 'julienne-cut', 'knuckles', 'palmful', 'smother', 'loved', 'uncovering', 'ozs', 'richness', 'non-hydrogenated', 'de-veined', 'lets', 'glad', 'swish', '2tbsp', 'mache', 'braeburn', '100Â°', 'international', 'ice-water', 'holders', 'defatted', 'cabbages', 'tarter', 'quark', 'click', 'lb./450', 'collar', 'initial', 'cylinders', 'nonpareils', 'stated', '-add', 'cuisine', 'yucca', '234Â°', 'popular', 'nozzle', 'libby', 'act', 'fajitas', 'cleanup', 'choices', 'european', 'brine-cured', 'living', 'temperatures', 'firmness', 'ontop', 'roof', 'moves', 'particular', 'wilton', '205', 'pebbles', 'fats', 'melons', 'stages', '4.', 'incision', 'forward', 'tm', 'miss', 'brining', 'humidity', 'compress', 'methi', '1/4-inch-wide', '43', 'untoasted', 'bagged', 'medium-', 'cauliflowerets', 'carne', 'shop', 'treacle', 'artisan', 'spins', 'perforated', 'debris', 'squashes', 'processer', 'quick-release', '450g', '9x5-in', '1.88', 'antonis', 'school', 'combinations', 'centimeter', 'labeled', 'groats', '8x4', '170Â°f', '230c', 'santa', '16-18', 'written', 'eg', 'cavatappi', 'pairing', 'prepped', 'glowing', 'magazine', 'sakura', 'feeding', 'unbuttered', 'darkens', 'multiple', 'softening', 'excluding', 'pinwheel', '20g', '1.99', 'hunts', 'provides', 'wobbly', 'slides', '1cup', 'aprox', 'sashimi', 'trouble', 'chose', 'station', '1.8oz', '54', 'expensive', 'liquefied', 'doughs', 'sediment', 'ended', '370', 'gutted', 'sliders', '60ml', '15-1/2', 'sweet-and-sour', 'speck', 'fleischmann', 'inward', 'monterrey', 'nor', 'non-metallic', 'stickers', 'frenched', 'preferences', 'consuming', 'louis', 'grow', '5.25', 'cordial', 'dislodge', 'pepperjack', 'patch', 'freshness', 'tissue', 'ribeye', 'p.', 'achilleos', 'compressed', 'unblanched', 'hottest', 'breast-side', 'template', '5mm', '950', 'smokey', '14oz', 'tons', 'tablespoon-sized', 'daniels', 'irregular', 'beards', 'insure', 'lychee', '//', 'equal-sized', '7.1oz', 'disturb', 'cost', 'cafe', '99', 'glitter', 'developed', 'briquettes', 'pomegranates', 'flaxseeds', 'breyers', 'w.', 'lychees', 'net', 'brined', '1/4-pound', '44', 'campfire', 'v', 'borden', 'elegant', 'famous', 'poking', 'football', 'fatback', 'shower', 'konbu', 'lightened', 'disolved', '175c', 'unheated', 'nougat', 'whole-berry', 'stir-fried', 'oz.', 'openings', 'goats', 'outline', '.....', 'interesting', 'bliss', '8-1/2', 'ro', 'knuckle', 'bland', '93', 'lively', 'sixths', 'sauteeing', 'pigeon', '5.5', 'na', 'deal', 'well-salted', 'peper', 'older', 'jerusalem', 'high-heat', 'palette', 'apprx', 'goji', 'occasion', 'grown', 'sorted', 'meets', '550', 'subtle', 'curing', 'double-boiler', 'certainly', 'herb-seasoned', '1/2-3', 'finishes', 'obviously', 'blondies', 'fat-skimmed', 'besan', 'single-crust', 'pry', 'concord', 'window', 'rubbery', 'icecream', 'ladles', 'tom', 'pictured', '250ml', 'firms', 'luke', 'produces', 'medium-grain', 'cassava', 'pandan', '4x', 'pounding', 'request', 'pepe', 'kit', 'walmart', '10-13', 'guanciale', 'unpared', 'continues', 'chills', 'supple', 'drier', 'judge', 'reconstitute', 'considerably', 'crayfish', 'tiramisu', 'mediums', 'knots', 'compound', 'ties', '240Â°', 'syrups', 'fryers', 'tureen', 'dungeness', '3oz', 'thinnest', 'preheats', 'adults', 'shichimi', 'frito', 'honeycrisp', 'vigorous', 'truvia', '2.25', 'gap', 'cracklings', 'hothouse', 'linguica', 'paste-like', '540', 'chocolate-hazelnut', '23cm', 'turtle', 'snails', '1.75', 'chianti', 'ina', 'armagnac', 'brunoise', 'copper', 'rotelle', 'smile', 'godiva', 'tricky', 'freeze-dried', 'petal', 'tenderized', 'trivet', 'midori', '105Â°', 'sample', 'maintaining', 'closing', '28-oz', 'centimeters', 'ive', 'pounder', 'tri-color', 'waste', 'presliced', 'imagination', 'de-seed', 'ouzo', 'le', 'portabello', 'scapes', 'perch', 'innards', 'avocadoes', 'poly', '15-25', 'tempering', 'blintzes', '105~', 'bain', 'versatile', 'percolator', 'stud', 'bunny', 'natural-style', '275f', '1-1/2-in', 'chicken-flavored', 'creaminess', 'piped', 'central', 'natto', 'homogenized', 'aerate', 'pushed', '3-6', 'bowtie', 'discoloration', 'chile-garlic', 'tartness', '175Â°c', 'crowns', 'truly', 'calzone', 'heavy-bottom', '11-ounce', '37', 'doubling', 'stews', 'effort', 'matchstick-size', 'sorry', 'scooper', 'cappuccino', 'paper-covered', 'integrated', 'jalepenos', 'lo', 'thin-sliced', 'paul', 'convenient', 'fabulous', 'knocking', 'perpendicular', 'word', 'assortment', 'overdo', 'adheres', 'refrigeratefor', 'ammonia', 'ruin', 'dent', 'flutes', 'snake', 'stirfry', 'tel', 'ware', 'giblet', 'swirled', \"o'brien\", 'reshape', 'lumpia', '270', 'designs', 'pacific', '2-1/2-in', 'ink', 'minestrone', 'fair', 'vegemite', 'fragile', 'pinenuts', 'brings', 'fond', 'scattered', 'animal', '1-pint', 'cuisinart', 'discolored', 'dishtowel', 'habaneros', 'hijiki', '15-1/4', '1/8-in', 'hotdogs', 'drummettes', 'surrounding', 'pointing', 'acini', 'crease', 'omelets', 'meant', 'flaps', 'needle', 'fine-quality', 'renders', 'crackling', 'glove', 'framboise', 'hush', 'thawing', 'instruction', 'garlicky', 'menu', 'peck', '6-inches', 'bud', 'ready-to-serve', 'max', 'clumpy', 'ridges', 'arms', 'reaching', 'affect', 'anytime', 'practice', 'coal', 'os', 'inexpensive', 'gave', 'trees', 'broiler/fryer', 'add-ins', 'Â°', '32-ounce', 'chol', 'fresca', 'lebanese', 'crosshatch', 'components', 'shift', 'domestic', 'screen', 'well-done', 'ensures', 'half-sheet', '3t', '9x9-inch', 'reddish', 'expansion', 'adult', 'un-greased', 'site', 'sugar-cinnamon', 'wonderfully', '3/16', '180f', 'peperoncino', 'lace', 'selection', 'downward', 'crustless', 'thick-sliced', 'silks', 'shriveled', 'kidneys', 'replacing', 'zester', 'consume', 'east', 'wines', 'hurt', 'douse', 'tempted', '2c', 'decent', 'puppies', 'girl', 'screw-top', '1/16-inch', 'attractively', 'wrung', '238Â°', 'unit', 'light-colored', 'teapot', 'x8', '160Â°c', 'gms', 'leafs', 'stir/saute', 'giardiniera', 'thanks', '1\\\\2', 'sign', 'lindt', 'farmers', 'shirataki', 'overtop', 'pepsi', 'unti', 'caramelizing', '-9', 'sabayon', 'litres', 'facilitate', 'hood', 'curling', 'razor', 'thouroughly', 'unsulphured', 'par', 'bain-marie', 'sunchokes', 'vented', 'whole-kernel', 'no-fat', 'en', 'filing', 'vin', 'tumbler', '5-oz', 'low-heat', 'pavlova', '275Â°f', 'methods', 'glug', 'man', 'parfaits', 'pay', 'prop', 'upwards', 'as-is', 'translucent/soft', 'corning', 'goods', 'trapped', 'sixteen', 'aim', 'dinners', 'newman', 'mealy', '8x8x2', 'nuke', '3/4-cup', 'thinly-sliced', '3/4-in', 'coursely', 'sleeves', 'notch', 'ceviche', '2-inch-long', 'cupful', '11-13', 'alot', 'dabs', 'thickener', 'redhot', 'stroganoff', 'wedged', 'gherkin', 'backfin', 'skippy', 'spine', 'boysenberry', 'flag', '9-12', 'enjoying', '40g', 'cultured', 'him', 'don', 'riced', 'patterns', 'regular-size', 'chamomile', 'guar', 'shield', 'flash', 'western', 'imagine', 'lacinato', 'walnut-size', 'peelings', 'loosening', 'hing', '1.2', 'rollers', 'maitake', 'contadina', 'creams', 'applying', 'sicilian', 'x2', 'clv', '15x10', 'jimmies', '10oz', 'secs', 'north', 'liquer', 'star-shaped', 'series', 'impurities', 'piecrusts', 'Â°f', 'anko', 'undissolved', 'gooseberries', 'profile', 'buffet', 'somen', 'teabags', '750-ml', '34-1', 'splitting', 'blisters', '10x15', 'unlit', 'i.e.', 'activate', 'assure', 'unique', 'settings', 'concerned', '100ml', 'non-aluminum', 'repeatedly', 'togarashi', 'estimated', 'mochiko', 'breeze', 'pre-shredded', 'chana', 'okonomiyaki', 'prepping', 'bouillion', 'crumbed', 'branch', 'turnover', 're', 'camp', 'platters', 'thus', 'grindings', '310', '1/8th', 'manila', 'ranch-style', 'brownish', 'ample', 'garlic-flavored', '330', 'carbo', 'romesco', '|', '8x4-in', 'liquify', 'late', 'upward', 'wrong', '12g', 'pralines', 'flowerpot', 'brisk', 'open-faced', 'ruler', 'circumference', 'gritty', 'firmed', '7/16', 'plug', 'butter-sugar', 'gauge', 'neither', 'ate', 'sputter', 'cansliced', 'typical', 'nog', 'dredged', 'goblets', 'infusion', 'elk', 'ratatouille', 'kecap', 'sheen', 'beauty', 'crocks', 'nonaluminum', 'muddler', 'backing', 'fresh-squeezed', 'absolut', '8-inch-square', 'crookneck', 'replaced', 'stomach', 'carolina', 'krazy', 'flipped', 'a-1', 'liquified', 'holly', 'needles', 'crispiness', 'rule', 'samosas', '0.79', 'bac', 'folks', 'contrast', 'soft-set', 'leaks', 'splutter', '6-in', 'obtained', '5-cup', 'teeth', 'endless', 'gumdrop', 'italy', 'proofed', 'ordinary', 'sir', 'pastas', 'suggests', '84', 'biscuit/baking', 'foreman', '168', 'lenghtwise', 'bleached', 'muscat', '12.5', 'comstock', '4th', 'sinew', 'laid', '2-2', 'pulpy', 'mam', 'frangipane', 'maple-flavored', 'lowering', 'substitution', 'boiling-water', 'cara', 'stickiness', 'conch', 'captain', 'cuban', 'cream-filled', '650', 'picking', 'soapy', 'jambalaya', 'masterpiece', 'alaskan', 'mex', 'promptly', 'exception', '370Â°', 'recommends', 'watchers', 'flecks', 'spills', 'absinthe', 'ghost', '15-second', '3-oz', 'pigs', '-14', 'storebought', 'lil', 'pictures', 'grappa', '145Â°f', 'afternoon', 'words', 'johnsonville', 'gemelli', 'chinois', 'tying', 'medium-heat', '235', 'macadamias', 'monitor', 'raviolis', 'cluster', 'wide-mouth', 'mounded', 'transferred', 'immersed', 'salting', 'rosette', 'inn', 'italian-seasoned', 'safety', 'rouille', 'molded', 'combines', 'dehydrate', 'kanten', 'settled', 'instantly', 'scattering', '55-65', 'bullet', '5.99', 'sooner', 'retains', 'boy', '15x10x1', 'replenish', 'cupboard', 'traces', 'exotic', 'a1', 'cachaca', 'well-shaken', 'shio-koji', 'egg/milk', '20-ounce', 'applejack', \"'til\", 'corer', 'cress', 'comfortable', 'finest', 'madeleine', 'chartreuse', 'portobellos', 'latte', 'peeking', '360Â°', 'unwhipped', 'rearrange', 'fowl', 'low-calorie', 'random', 'japanese-style', 'overall', 'capon', 'cubanelle', 'rawspicebar', 'numbers', 'china', 'filberts', 'warms', 'unfiltered', 'sum', 'borax', 'concentrates', 'dispersed', 'boar', '13-by-9-inch', 'nutrasweet', 'encourage', 'rap', 'balanced', 'deglazing', 'kinda', 'terrific', 'refreeze', 'no-sugar-added', 'told', 'spatter', 'sprg', 'florida', 'shrinks', 'jonathan', 'thin-bladed', 'panettone', 'candiced', 'southwestern', 'pierces', 'circulation', 'significantly', 'kcal', 'gill', 'topper', 'unsulfured', 'buying', 'milliliter', 'potstickers', 'junior', 'colby-jack', 'galliano', 'server', 'tastier', 'carmel', 'web', 'flavouring', 'spiralizer', 'beignets', 'braided', 'kim', '3/4-pound', 'minutes-', 'multi-colored', 'friendly', 'battered', 'groups', 'freely', 'learned', 'roll-up', '20-', 'semifreddo', 'biscoff', 'crowded', 'sunday', '1/3-cup', 'moistening', 'bratwursts', 'xylitol', 'oz/540', 'milkshake', 'favas', 'peppery', 'interval', 'macerated', 'f/45', 'inject', 'fines', 'cleans', 'zatarain', 'med-hi', 'chapati', 'shaving', 'med/high', 'swap', '18-14', 'sugar/cinnamon', '2-crust', 'removes', 'gathering', 'stretched', 'latter', 'gallon-size', '5.', 'domed', 'disturbing', 'butchers', 'home-made', 'cholula', 'imperial', 'filleted', 'tipping', 'passover', 'siu', 'tented', 'didnt', 'eclairs', 'smoosh', 'valrhona', 'everyday', 'stocks', 'pattie', 'popsicles', 'pollen', 'grills', '10-14', '2-1/2-qt', 'chaat', '475Â°f', 'smashing', 'briquets', 'details', 'hersheys', 'clamato', 'morningstar', 'pb', '30cm', 'tex', 'write', 'steeped', 'thumbs', 'dragees', '80/20', 'komatsuna', 'peasant', '52', 'slap', 'hydrated', 'decided', 'estimate', 'cinammon', 'toblerone', 'blowtorch', 'codfish', 'pak', 'cocktails', 'pleating', 'flora', 'cockles', 'arent', 'marinates', 'birthday', 'crumpled', 'preceding', 'wrinkled', 'floss', 'tawny', 'flambe', 'gem', 'bragg', 'ago', 'polly-o', '3/4-', 'delicata', '7.99', 'consistently', 'sprays', 'vermont', 'tools', 'rapini', 'hob', 'france', 'grandmother', 'drizzles', 'theres', 'iodized', '3-cup', 'lye', 'frosty', 'russets', 'fluffier', 'robust', 'choi', '500ml', 'studded', 'washington', 'dunking', 'claussen', 'bluefish', 'cloud', 'brocolli', 'smokes', 'int', '284', 'stripe', 'ray', 'marcona', 'finely-minced', 'a1/2', 'over-bake', 'enclosed', '.75', 'taquitos', 'freshly-ground', 'peal', 'bloomed', 'perk', 'john', 'posole', 'coca', 'mates', 'kumquat', 'cutout', 'specific', 'fewer', 'cavatelli', 'west', 'energy', '22-25', 'all-natural', 'seriously', 'crockery', 'everywhere', 'disappeared', '234', '116', 'gorgeous', 'suger', 'furikake', 'pistou', 'collection', 'pen', 'blobs', 'fixings', '1/', 'dicing', 'supply', 'eel', 'passes', '750ml', '60-65', 'italiano', 'unto', 'fiddleheads', 'hake', 'remembering', 'full-bodied', '1/2-qt', 'usukuchi', 'heaven', 'seashell', 'enhancer', '49', 'nicer', 'chillis', '1-tablespoon', '8.75', 'zipper-lock', 'paratha', '8.99', 'spike', 'vienna', 'patches', 'brim', 'side-by-side', 'maine', 'honey-roasted', 'pleat', '28oz', 'ot', 'scrambling', 'express', 'cut-sides', 'dukkah', 'tubular', 'mandarins', 'petit', '220Â°c', 'grasp', 'fleshy', 'bushel', 'creamettes', 'surprise', 'evans', 'levels', 'jams', 'tucked', 'biggest', 'opinion', 'forefinger', 'exposing', 'mirepoix', 'taleggio', '4-in', '8-inches', 'prebake', '.9', '.2', 'steeping', 'beetroots', '115g', 'judgement', 'ridge', 'stab', 'utensils', 'tendency', 'carmelize', 'chantilly', 'globe', '1inch', 'high-speed', 'well-stocked', 'moved', 'em', 'brandied', 'breastbone', 'hardwood', 'carnaroli', 'lumping', '1.3', '11.5', 'greatly', 'suits', 'granule', '750-milliliter', 'schmaltz', 'vibrant', '3-5/8', 'diabetic', 'baggies', 'fins', 'softness', 'left-over', 'intensify', 'accumulates', 'flowerettes', 'leveled', '125ml', '9x13x2', 'tia', 'detergent', 'cut-out', 'splatters', '227', '2-1/3', 'tartare', 'cava', 'teh', 'poundcake', 'bayleaf', 'coarsly', '236Â°', 'suspended', 'lightly-floured', '19-ounce', 'medium-dry', '1oz', 'manwich', 'margarine/butter', 'candle', 'faith', '10-cup', 'whoopie', 'heat-safe', 'versions', 'woven', 'rating', 'aperol', 'virginia', 'snug', 'hangs', '410', 'settles', 'krispie', 'mama', 'fed', 'salmonella', 'berbere', '75g', 'mg.', 't-bone', 'tougher', '40-60', 'disperse', '130Â°f', 'jeera', 'stopped', 'hulls', 'johnny', 'pisco', '17-20', 'zap', 'prettier', 'haloumi', '6:20', 'coconuts', '8x12', 'nutrients', 'sale', 'fallen', 'hanger', 'ya', 'minutes.', 'video', '11g', '15.5-ounce', 'preshredded', 'non-metal', 'daiquiri', 'flakey', 'separator', 'zabaglione', 'skate', '66', 'sense', 'cavender', 'bearnaise', '440', '180Â°f', 'gallon-sized', 'emulsifies', 'writing', '1-oz', 'agar-agar', 'structure', 'hide', 'williams', 'unshelled', '1/2-oz', 'chiffon', 'scent', 'overcrowding', 'similarly', 'choped', 'kumara', '53', 'sargento', 'low/medium', 'caramelization', 'bacteria', 'piloncillo', 'rods', 'butters', 'majority', 'sambuca', 'boost', 'umami', '115f', 'ra-yu', 'unprocessed', 'es', 'perfection', 'splattering', 'shark', 'powerful', 'prickly', 'poppyseed', 'digital', 'blini', 'haricot', 'imprint', 'unfilled', 'department', 'ingred', 'guts', 'mitt', '170g', 'millilitres', 'rapidrise', 'kamaboko', 'dove', 'submarine', 'resembling', 'nutter', 'dial', 'reveal', '12-24', 'minis', 'mezcal', 'worcestershire-style', 'cholesterol-free', 'devils', 'supplement', 'pungent', '1in', 'possibilities', 'anisette', '110~', '80Â°', 'pole', 'motions', 'diners', 'probe', '360Â°f', '390', 'view', 'literally', 'saturate', 'jiggers', 'appetite', '1-7/8', 'feeds', 'river', 'van', 'formula', 'y', 'brut', 'frog', 'du', 'channa', 'pointy', 'unlock', 'bistro', 'porterhouse', 'escapes', 'nonalcoholic', 'bang', '1-4', 'stain', '151', 'via', 'churros', 'sause', '0.75', 'stable', '3mm', 'bash', '475f', '1/2-pint', 'comino', '6-pound', 'moister', 'dixie', 'cat', 'brewer', 'bee', 'low-carb', 'rimless', 'copyright', 'anejo', '5.3oz', 'useful', 'linen', 'supermoist', 'pignoli', 'location', 'upper-middle', 'send', '145f', 'beads', 'crossways', 'causes', 'frankfurter', 'alter', 'cork', 'distinct', 'preferrably', '1/2t', '68', 'pads', 'no-salt', 'matzos', 'pioneer', 'beach', 'paper-towel', 'dowel', '-30', 'lillet', '80g', 'lovers', 'morsel', 'pre-cut', 'leather', 'braids', 'squab', 'blast', 'plated', 'teasp', '448', 'helper', 'compartment', 'huckleberries', 'steams', 'warmth', 'reheats', 'pearled', 'wind', '5-spice', '8x8x2-inch', 'kid', 'dessicated', 'multicolored', 'initially', 'teff', 'bicarb', 'steel-cut', 'canela', 'cheaper', 'piling', 'watkins', \"d'oeuvres\", 'crunchier', 'speckled', 'triscuit', 'clean-up', 'forgot', 'laughing', 'uncured', 'melded', 'borlotti', 'mitsuba', 'men', '238', 'attempt', '00', 'zigzag', 'sweets', 'variable', 'culture', 'frame', 'oil-flavored', 'certified', 'sidestm', 'gochugaru', 're-sealable', 'poulos', 'continuous', 'sugary', 'permit', 'snacking', 'b.', 'twenty-four', 'rancher', 'desert', '380', 'fuzzy', 'meatloaves', 'theyll', 'forever', 'damaged', 'szechwan', 'cortland', 'impression', '290', 'moistness', 're-season', 'sideways', 'tyson', 'alouette', 'chunkier', '.13', 'adjustments', '55g', 'microwave-proof', 'crispies', 'duckling', 'hotdog', 'flows', '155Â°', 'minimal', 'toughen', 'crevices', 'torta', 'condensation', '150ml', 'good-sized', 'slower', 'hydrate', 'dimple', 'lovage', '1-1.5', 'headnote', 'packagefrozen', 'england', 'nugget', 'unitl', 'styrofoam', 'lox', 'saves', 'liqueurs', 'delish', 'prove', 'blunt', 'chat', '1-second', 'moong', 'cultivated', '22cm', 'college', 'agent', 'heavier', 'fixed', 'drawing', 'rue', 'lemon-flavored', 'lecithin', 'extends', 'egg-white', 'comte', '1.5g', '1hr', 'lo-cal', 'weak', 'wiggle', 'lingonberry', 'deep-sided', '50ml', 'delightful', '30:12', 'ultimate', 'goodies', '7-oz', 'distribution', 'bream', 'butter/oil', 'correctly', '5-1/3', 'blanket', 'occasional', 'chimichangas', 'path', '31/2', 'reseason', 'rerolling', 'rosti', 'suey', 'taters', 'mock', 'minuets', 'cloth-covered', 'wants', 'material', 'honeycomb', 'overprocess', 'carved', 'moscato', 'sensitive', 'freshly-grated', '9x11', 'detach', 'returned', 'rocky', 'subs', '60-90', 'pleats', 'worried', 'cp', 'seperately', '140Â°f', 'tightfitting', 'pyramid', 'egg-milk', 'readily', 'bulghur', 'ans', 'satisfied', 'satisfying', 'meduim', 'pc', 'kamut', 'semi-skimmed', '300ml', '8.8oz', 'taffy', 'hunks', '6.', 'daniel', 'vera', 'decadent', 'small-medium', 'spilling', 'applewood-smoked', '140f', 'wholewheat', 'heavenly', '7x11', '150Â°f', 'jackfruit', 'beak', '1-1/8', '675', 'noted', 'desires', 'montrachet', 'roulades', 'maytag', 'kernals', '4cm', 'atsuage', 'rights', 'acceptable', 'overflowing', 'reuse', 'zing', '39', 'mildly', 'burrito-size', '1.0g', 'swans', 'pizzelle', 'haas', 'smelling', 'piled', 'pk', 'saw', 'tapatio', 'minimize', 'tweezers', 'onigiri', 'puy', 'website', 'weird', 'print', 'tabbouleh', 'simultaneously', '8x4-inch', 'cassoulet', 'grass-fed', '1kg', 'impossible', 'broths', 'braunschweiger', 'crisp-cooked', 'pheasants', 'safely', 'ready-to-spread', 'hate', 'besides', 'completly', 'cipollini', '200ml', 'explode', 'shortest', '5:25', 'household', 'fizz', 'spatzle', 'blob', 'bounce', 'brisee', 'son', 'hue', 'ketjap', 'aonori', 'madeleines', 'com', 'humid', 'foil-wrapped', 'gotten', 'zero', '1.8', 'states', 'flying', 'savoury', 'issue', 'card', 'sop', 'ener-g', 'search', '25cm', 'nbsp', 'glycerin', 'coin', 'violet', 'sew', 'thorough', '10-11', 'p.s', 'pips', 'erythritol', '13-12', 'kabob', 'goddess', 'leviticus', 'rearranging', '20-inch', 'pattypan', 'loop', 'non-alcoholic', 'thin-skinned', 'scrapings', 'facts', 'flat-leafed', 'pulsed', 'kilogram', 'wishbone', 'submerging', 'degrease', 'whack', 'accuracy', '.7', 'intend', 'salsify', 'tower', 'now-empty', 'macaron', 'salt-packed', 'resift', 'buddig', 'delights', 'blanche', 'fans', 'reading', 'stabilize', 'mini-marshmallows', 'varied', 'longways', 'de-stemmed', '1tbs', '12-3', 'church', 'goulash', '5-inches', 'doubt', '11x7-inch', '12-13', 'tonkatsu', 'business', 'swede', 'mild-flavored', 'capicola', 'eggwash', 'caponata', 'stray', 'sterilised', 'supercenter', 'wife', 'skipped', 'worcester', '41', 'propane', 'loaded', 'regulator', 'crust-lined', '120Â°-130Â°', 'caught', '9x5x3-inch', 'urge', '2.5cm', 'colours', '110f', 'siracha', '02/14', '4:22', '12-18', 'unwaxed', 'hunk', 'seven-up', 'extracted', 'prefers', 'reseal', 'coarse-grained', '4-1/4', 'costco', 'muir', 'glen', 'blond', 'rapeseed', '1.preheat', 'alaska', 'centered', 'calamata', 'shrinking', 'rolo', 'prechopped', 'lava', 'tikka', 'cham', '~1', '13g', 'thumbprint', 'aspic', 'latke', 'h', '6-9', 'fine-meshed', 'calf', 'unevenly', 'wyler', 'farfel', 'darkening', '3/4-1', 'drains', '1015', 'windows', 'reference', 'schnitzel', 'coleman', 'malleable', '400-degree', '2tsp', 'caramelise', 'manie', 'discoloring', 'teddy', 'molding', 'oil/butter', '0z', 'kugel', 'alligator', 'rimming', 'crostata', 'deliciously', 'dead', 'campbells', 'liverwurst', 'absorbing', 'spuds', 'lies', 'fungus', 'originals', 'scaloppine', 'signature', 'fregola', 'smoothness', 'spirit', 'accurate', 'ripple', 'groundnut', 'amd', 'dock', 'breadmaker', '30min', 'aa', 'piment', 'weighted', 'alphabet', 'cruet', 'pealed', 'dose', 'rate', 'unripe', 'tblsps', '120ml', 'shiratamako', 'judgment', 'sinking', 'crunched', 'grained', 'babies', 'encase', 'precise', '350-degrees', 'aromas', 'maida', 'tri-colored', 'ii', '5/16', 'selected', 'bead', 'overs', 'rolled-out', 'earthy', 'remaing', 'psyllium', 'indention', 'shin', 'eats', 'oxo', 'skilled', '1/8-1/4', 'sucralose', 'differ', '1.49', 'produced', '10cm', 'ripped', 'kroger', 'portable', '150Â°c', 'dryness', 'scampi', 'elements', 'pronounced', 'recently', 'fro', 'user', '355', 'soft-serve', '12-inches', 'acting', 'chocolate-flavored', 'bet', 'baster', 'cross-wise', 'skimp', 'bounces', 'kilo', 'quails', 'puffing', 'ladling', 'bury', 'ready-to-eat', 'kentucky', 'valencia', 'pre-bake', 'abalone', 'soft-shell', 'tiles', 'santo', 'naked', '10mins', 'reddi-wip', 'microproof', 'tendons', 'solo', 'fo', 'sell', 'coarse-ground', 'edam', 'dhal', 'cadbury', 'flans', 'smalls', 'confectionary', 'gathered', 'overdone', 'nylon', 'david', 'mornay', 'ups', 'dotted', 'pluck', 'deep-fried', 'over-browning', '245', 'seize', 'nutritious', 'butterfingers', 'confetti', 'snowman', 'nonmetal', 'pastel', 'leaking', '30-', 'divine', '600w', 'antipasto', 'collander', 'disintegrate', 'glistening', 'acidulated', 'kashmiri', 'peperoncini', 'soppressata', 'poppyseeds', 'amarula', '175Â°', 'circulate', 'persons', 'wagon', 'chewier', 'eyeballs', 'looked', '47', 'appx', 'sawing', '-1/4', 'medallion', 'mix-ins', 'feathery', '398', 'piri', 'swedish', 'eggroll', 'escaping', 'calling', 'savoiardi', 'stretchy', 'papper', 'charring', 'half-filled', 'mood', 'avacados', '1/8-', 'tamagoyaki', '120g', 'middles', 'four-cheese', 'faced', 'dental', 'occasionaly', 'author', 'baba', 'ramp', 'small-diced', 'marzetti', '62', 'succotash', 'greater', 'noticeably', 'micro-cook', '1/3-1/2', 'tot', 'narrower', 'sunlight', 'unlike', 'illness', 'tuiles', 'armour', 'undercook', 'loafs', 'paintbrush', 'overnite', 'morgan', 'catching', '17.3', 'brewing', 'wave', 'respectively', '14.5-oz', 'orgeat', 'opposed', 'gon', '250-g', 'bavarian', 'india', 'thick-bottomed', 'luscious', 'hops', '/2', 'tapered', '12x8', 'zuchinni', 'cajeta', 'fan/gas', 'alpine', '260Â°', 'bunt', 'milk/cream', 'pan-fried', 'pout', '1/2-lb', 'sweetner', 'spinkle', '130f', 'jim', 'thicknesses', 'dad', 'substance', 'yorkshire', 'court', 'sardine', 'napoli', '1.5-2', 'intro', 'creuset', 'god', '365Â°', 'sam', 'porcelain', 'kc', 'exceed', 'finely-chopped', 'tier', 'cresent', 'borders', 'hanpen', '18cm', '-pound', 'flatter', 'throwing', 'chokes', 'pleasant', 'emmenthaler', 'guessing', 'fat-side', 'muscles', 'aware', 'incredibly', 'concoction', 'reasonably', 'bursting', 'bowel', 'clotted', 'threw', 'criss', 'supremes', 'chees', 'marmite', 'chesse', '1/2-in.-thick', 'two-inch', 'domino', 'red-hot', 'coverage', 'bonus', '480', 'city', 'diner', 'convenience', 'mixers', '85g', 'juicing', 'high-powered', 'multi-functional', 'pintos', 'friendship', 'enter', 'lightens', 'insulated', 'shortcut', 'pages', 'comal', 'pieplate', '3-inch-long', 'machines', '97', 'expected', 'decaf', 'stiffer', 'conserve', 'smoothies', 'pre-sliced', 'yokes', 'marshmellows', '9x9x2', 'massaging', 'selects', 'frais', 'bot', 'kool', 'occur', 'road', 'snail', '4.5-ounce', 'rewrap', 'agitate', 'nasturtium', 'smirnoff', 'flare-ups', 'nd', 'fage', 'firstly', 'splashing', 'marbles', 'chest', 'goldfish', 'wit', 'compliments', 'trickle', 'expel', 'specks', 'e.g.', 'losing', 'sources', '1/2cup', 'daughter', 'sara', 'colder', 'national', 'medium-fine', 'stirs', 'porcinis', 'sauta', 'brook', 'squirrel', 'mistake', 'tradition', 'oozing', 'palate', 'connective', 'queen', 'ex', 'half-cooked', 'ingedients', 'labneh', '9-by-5-inch', '14g', '150f', 'oz/398', 'towellined', 'rennet', 'proportion', 'lb.', 'rake', 'forty', 'macintosh', 'locatelli', 'dl', 'task', 'tomato-basil', '11-12', 'rod', 'saucepans', 'viva', 'eights', 'fake', 'nail', 'miller', '20-24', 'sockeye', 'stewart', 'tamago', 'twirl', '2:13', 'utility', 'lake', 'kluski', 'wetting', 'cheese-filled', 'porter', 'manage', 'cheers', 'panic', 'overpower', '1/4-oz', 'lollipops', 'cannelini', 'acetate', 'wonder', 'desirable', 'pail', 'even-sized', 'poppers', 'modified', 'cheat', 'steamy', 'solidifies', 'lighly', 'sunbutter', 'arepas', '2tbs', 'wisconsin', 'matching', 'slat', 'cake-like', 'dishwasher', 'chayotes', 'valentine', 'venting', 'sauceboat', 'dosa', '10min', 'ichimi', 'puritan', 'flattens', 'cleaner', 'crucial', 'dryer', 'tab', 'meaning', 'wrinkle', 'nopales', 'veges', 'saucier', 'picnics', 'pre-cook', 'ultra', 'charlotte', 'chipolte', 'tag', 'x5', 'jammy', 'happening', 'fishmonger', 'torani', 'daal', 'mojito', 'degress', 'deliciousness', 'taylor68too', 'honey-mustard', 'scrod', 'fully-cooked', 'cord', 'tomorrow', 'tri', 'partway', 'values', 'integrate', 'chronicles', 'beware', 'unfrosted', 'lover', 'ping', 'app', 'embers', '12x8-inch', 'accompanying', 'weighed', '5oz', 'matchstick-cut', 'shiraz', 'nb', '118', '82', 'hopefully', 'wreaths', 'mahogany', 'boning', '20-second', 'fulls', 'whir', 'cylindrical', 'successfully', 'intensity', '170Â°c', '13.8', '120Â°f', 'shallow-fry', '40c', 'surprised', 'indicates', 'stencil', 'ragged', 'region', 'gourd', 'peppadew', 'rotis', 'upto', '180c/350f', 'unprepared', 'cantaloupes', 'dishpan', 'zwieback', 'foiled', 'strew', 'shrivel', 'fluffing', 'punnet', 'pilsner', 'reposado', 'spiralized', '360f', '5min', 'two-quart', 'bows', 'flaming', '.3', 'cage', 'onion/garlic', 'chihuahua', 'woman', 'problems', 'carnitas', 'oc=linkback', 'croquette', 'fibre', 'spry', 'loops', 'shao', '7up', 'critical', 'sharply', 'pref', 'de-vein', '7-1/4', 'tennis', '3/4c', 'toes', 'cheez-its', 'ornaments', 'indonesian', 'chinese-style', '3-minute', '1/2-4', 'hollowed-out', 'ready-cut', 'centigrade', 'phase', 'orange-flower', '225Â°f', 'molten', '-in', 'de-glaze', '15min', 'picholine', 'tolerance', 'tricolor', 'angles', 'cranberry-orange', 'shopping', 'holland', 'listen', 'clockwise', 'kebab', 'fuyu', '45ml', '30mins', 'spagetti', 'coffee/spice', 'crinkle', 'chili-o', 'sandwiched', 'half-cup', 'busy', 'multi', 'monkey', 'carcasses', 'adn', 'lacy', '10-quart', 'faucet', 'wrinkles', '2-1/2-inch', 'mr.', 'extended', 'thinking', 'choppped', 'mention', 'mexicana', 'differently', 'marinades', 'essentially', 'marscapone', 'aiming', 'rotisserie-cooked', 'kindness', 'growing', 'dipper', 'purslane', 'thermos', 'damage', 'shredder', 'mins.', '4-7', 'beansprouts', 'zaar', '5ml', 'f-convection', 'waverly', 'alarmed', 'sunshine', 'injector', 'car', 'lick', 'fruit-flavored', '1.1', 'swizzle', 'boule', '-25', 'crisping', 'pampered', 'transport', '12-hole', 'emmental', 'positioned', 'profiteroles', 'tinged', '9in', 'frosts', 'crystallize', '550Â°', 'bugs', 'j', 'arrive', 'ti', '1/2inch', 'fabric', 'pastes', 'gai', 'perogies', 'lump-free', 'biga', 'microgreens', '1.in', '1520', '9-inches', 'carp', 'moose', '60-75', 'difficulty', 'self-sealing', 'mmm', '1.28', 'boiling-hot', 'peri', '510', '-cup', 'buzz', 'dance', '290Â°', 'gels', 'nonmetallic', 'curdles', 'sometime', '7oz', 'rarely', 'detailed', '3x', 'connected', 'practically', 'pinkish', '67', 'droplets', 'varying', 'hefty', 'galettes', '17.6oz', 'everclear', 'pollock', 'sinks', '2lb', 'zealand', 'smuckers', 'cram', 'presoaked', 'lawrys', 'carafe', '1-minute', 'heck', 'coast', 'temptation', '454', 'food-safe', 'koftas', '8-by-8-inch', 'medium-mesh', 'nine-inch', 'trash', 'canapes', 'tablespoon-size', 'dispose', 'abut', 'unrolled', 'sago', 'slows', 'ripeness', '110Â°f', 'widely', '14-18', 'oaxaca', 'gnudi', 'understanding', \"d'oeuvre\", 'horse', 'overmixing', 'discolor', 'blonde', 'quarter-inch', '88', 'hence', 'alternatives', 'vegtables', 'grip', 'angus', 'culantro', '2.in', '7-in', 'oz/284', 'pur', 'clears', 'chocolate-coated', 'creations', 'giorno', 'bout', 'welcome', 'jellies', 'sister', 'grooves', 'oven-roasted', 'adhering', 'suppose', 'television', 'guidelines', 'workbowl', 'pasta-cooking', 'kum', 'kee', 'unpricked', 'popper', '70Â°', 'hollows', '24-inch', 'signs', '1/4-1/3', 'wrist', 'oregon', 'aquavit', 'mullet', 'feathers', 'victoria', 'boards', 'wheaties', 'resume', 'benedictine', '16-', 'chew', 'marg', '285', 'collapsed', 'amarillo', 'arabic', 'louisiana-style', 'freshly-squeezed', '375-degree', 'refrigerateat', 'bugles', 'alive', 'fours', 'odor', '1/2oz', 'swimming', 'lying', '336', 'kofta', 'step-by-step', 'pho', '175g', 'Â°c', '125Â°f', '14-in', '2.5g', 'camping', 'retained', 'formation', 'seas', 'substantial', 'mount', 'adequate', 'collects', 'australian', '24-ounce', '105-115', 'pre-soaked', 'farmhouse', '5-in', 'second-lowest', 'food-borne', '28g', 'contributors', 'increases', 'boil-in-bag', 'drambuie', 'pastina', 'outdoors', 'complex', 'groceries', 'heard', 'saigon', 'un', 'amaro', '2-inch-wide', '4t', '350g', 'handfull', 'quiches', 'occurs', 'device', 'squirts', 'dijonnaise', 'family-size', 'permits', 'flavorless', 'ladled', 'pinapple', '8-qt', 'scallopini', 'hill', 'spoil', 'adobe', '2/3rds', '17.5', '680', 'tbspn', 'terry', 'hare', 'fail', 'cut-outs', 'cabinet', 'attempting', 'sacs', 'romanesco', 'speculoos', 'durum', '14-13', \"cap'n\", 'violets', 'tex-mex', 'paula', 'puddle', 'retrieve', 'scented', 'consumed', 'looser', 'learn', 'odd', 'ww', 'chrysanthemum', 'ft', '140g', '210c', '500w', 'potluck', 'term', 'fin', 'compliment', '5.3', 'walker', 'african', 'forgiving', 'in.', 'all-butter', 'outwards', 'id', 'baharat', 'shishito', '15mins', 'shouldnt', '16g', '250c', 'tablets', 'smithfield', '4/5', 'shingle', 'cranberry-raspberry', 'drive', 'eaters', 'cassia', 'ignore', 'lt', '-18', '-24', 'equal-size', 'panela', 'ajwain', 'fan-forced', 'mozza', 'natvia', 'nero', 'advice', 'margaritas', 'fruitcake', 'manually', 'fresher', '61', 'canada', 'yakisoba', 'medium/large', 'flowing', 'cal.', 'scrapping', 'cu', 'tofutti', 'basics', 'nestling', 'mentaiko', 'anchos', 'bread-crumb', 'cuttlefish', 'attest', 'canof', 'enhances', 'spoke', 'genesis', 'eggbeater', 'pineapple-orange', 'coils', 'art', 'sodium-free', 'raspberry-flavored', 'low-sugar', 'grids', 'rocking', 'necessarily', 'coatings', '1:1', 'ethnic', 'purse', 'flare', 'tomalley', 'bombe', 'benefits', '810', 'roka', 'velvetta', 'trap', 'unusual', 'price', 'faint', '1/2tsp', 'applied', '15x10-inch', 'sauced', 'scape', 'hot-pepper', 'milkfat', 'barberries', 'chermoula', 'tarte', '15-in', '1/2in', 'offcuts', '2001', 'laughter', 'dannon', 'crater', 'butter-flour', 'align', 'beers', '1hour', 'distance', 'medium-thick', 'stromboli', '142', 'parmigiana', 'mud', 'incredible', 'standard-size', 'teardrop', '1/2-inch-long', 'prefered', '2lbs', '10.6oz', 'tastykitchen', '2.1', 'doves', 'underbake', 'hooks', 'spent', 'completing', 'flour-dusted', '10-inches', '123', 'creation', '51', 'smush', 'impart', 'knobs', 'immediatly', 'garlic-herb', 'guinea', 'lightly-cooked', 'presweetened', 'boys', 'acts', 'winesap', 'event', 'recoat', 'dare', 'softball', 'nudge', 'system', 'crumple', 'strudels', 'freshest', 'schnitzels', '14-3/4', 'tenting', '9inch', 'blackens', 'germain', '135Â°f', 'ume', 'properly-refrigerated', 'vinager', '4.00', 'robin', 'causing', 'mahatma', 'surimi', 'pan-frying', 'elongated', 'roni', 'movement', 'shorten', 'stress', 'ove', 'semi-soft', 'half-fill', 'sweeteners', 'slippery', 'squabs', 'spinning', 'vegenaise', 'lan', '255', 'colorings', '2-gallon', 'whiskers', 'bears', 'untouched', '50/50', 'expanded', 'surprisingly', '11-1/2', 'dinosaur', 'sac', 'squishy', 'parmesian', 'peruvian', 'untl', 'et', '2012', 'hard-crack', 'barbecuing', 'chucks', 'teacup', 'cherrystone', 'tact', 'glugs', 'de-bone', '110-115', 'unsmoked', 'buttered-side', 'shiro', '225f', 'ready-crust', 'ajinomoto', 'vitamins', 'staple', 'turntable', 'hotness', 'goblet', 'cancel', 'goo', '1-1/2-quart', 'scorched', 'cheeseburgers', '3-1/3', 'tumble', 'kudzu', 'minted', 'well-trimmed', 'guys', 'manzanilla', 'beep', 'zaatar', 'light-green', 'tendrils', 'pitta', 'cavolo', 'sun-dry', 'glycerine', 'pickapeppa', 'creases', 'hard-boil', 'nappa', 'mainly', 'treated', 'browner', 'beaujolais', 'estimates', 'gathers', 'excessively', 'yakiniku', 'corona', 'suspend', 'ateco', '9:9', 'discretion', 'chilean', 'dragon', 'turkeys', 'crimped', 'gulf', '195', 'automatic', 'ox', 'appetito', 'appropriately', 'preparations', 'ziptop', 'scrunch', 'tootsie', 'subsided', 'osso', 'nagaimo', '0.9oz', '230Â°', 'hardening', 'laurel', 'quick-rise', '2-liter', '215', 'garbage', 'spend', 'mccormicks', 'half-hour', 'chapatis', '3/4-oz', 'sling', 'soft-boiled', 'demi', 'fav', 'sauce-', '90g', 'on-the-go', '17.3-ounce', 'amos', 'shovel', 'seemed', 'lefse', 'polska', 'tablet', 'park', 'contained', 'matzah', 'display', 'soil', 'gross', 'ran', 'mars', 'cookers', 'spoonfulls', 'happened', 'deepen', 'sweating', 'inactive', 'refrigeratein', 'onion-mushroom', 'bull', 'mills', 'abundant', 'stiffens', 'ghiradelli', 'twigs', 'beige', 'hairy', 'fool', 'pause', 'furiously', 'generic', 'froze', 'amt', 'chourico', 'gut', 'gaeta', 'white-fleshed', 'wobble', 'rays', '18g', 'gelee', 'garlic-infused', 'techniques', '17-', '3.5fl', 'character', 'redness', 'laundry', 'fanning', 'pleasing', 'redfish', 'demitasse', 'arrangement', 'asadero', '1/4th', 'tast', 'hazelnut-flavored', '155f', 'silpats', 'sherbert', 'entertaining', 'marination', 'tbsp.', 'pippin', 'pike', 'zuchini', '177', 'slant', 'chilie', 'burrito-style', 'biryani', 'mopping', 'trunk', 'instance', 'mixure', 'amish', 'broiler-safe', '18-ounce', 'opens', '70g', 'limit', 'refridgerated', '8in', 'reduced-sugar', 'reactive', 'gris', 'pimm', 'trumpet', '1/2-inch-diameter', '20min', 'verjus', '175f', 'corn-on-the-cob', '1-8', 'gelatins', 'turned-off', 'one-crust', 'egg/sugar', 'confection', 'snackwell', 'makers', 'rockfish', 'tator', 'deli-sliced', 'factor', 'distinctive', 'eclair', 'metallic', 'transluscent', 'cup/', '6cm', 'khoya', \"d'or\", 'pressure-release', 'nahum', 'squirrels', 'molly', 'wedding', 'ronzoni', 'overstir', 'liquors', '9x12-inch', 'lesser', 'lead', 'al-dente', 'done-ness', 'fave', 'occasions', '18.5', '4:19', 'unfloured', 'soy-free', 'beard', '2x', 'drench', 'warn', 'shrunk', 'route', 'korma', 'visual', 'rices', 'walleye', 'dough-like', 'floral', 'mouths', '1.6', 'watts', 'panfry', '9-oz', 'commercially', 'wavy', 'track', 'scoring', 'rindless', \"s'mores\", 'lunches', 'suace', 'omelettes', 'vegetarians', 'vert', 'pic', '175Â°f', '5mins', 'calc', '340g', '105f', 'cook/stir', 'mayonaisse', \"d'espelette\", 'weipa', 'dime', 'forgiveness', 'splits', '12-pound', 'clarify', 'jacket', 'rasins', 'stuffer', 'cool-whip', 'buttercup', '32-oz', 'slipping', 'ghosts', 'current', 'sauce-like', 'grocer', 'rice-shaped', 'shifting', 'worries', 'acai', 'sauternes', 'spead', 'shiro-dashi', 'shades', 'money', 'dishcloth', 'heartier', 'peychaud', 'spoonable', '350-375', 'permeate', 'commonly', 'choco', 'buitoni', 'almond-flavored', 'restaurants', 'cooktop', 'pale-green', '2-inch-thick', 'lighty', 'chpd', '8ths', 'pinkness', '13/4', '12-quart', 'checked', 'ol', 'defrosting', '14-15', 'serious', 'seam-sides', 'emmentaler', 'ing', 'wort', 'paleo', '15cm', '~2', '35g', 'two-piece', 'smothered', 'clothes', 'oven-ready', 'definite', 'chi', 'zip-loc', 'sixth', 'colman', 'tube-shaped', 'shopped', 'whitish', 'buon', 'saltier', 'nesquik', 'yeah', 'gammon', '45-degree', '24cm', '2009', '3:12', 'zippered', '125Â°', 'pie-shaped', 'tubed', 'ken', 'turbot', 'considered', 'purees', 'regarding', 'angled', 'features', 'recombine', 'prewashed', 'x3', 'caul', 'poolish', 'cakepans', '24g', 'accumulate', 'counting', 'icings', 'eighth', 'spokes', 'topside', 'chargrill', 'seeing', 'compensate', 'incorporates', 'choclate', 'doll', 'began', 'mid', '7.', 'unsaturated', '4-inch-long', 'well-incorporated', 'asian-style', 'pomelo', '10-second', 'freekeh', 'note-', 'oamc', 'moist-looking', '600g', 'www', '2.6oz', 'loosens', 'reassemble', 'marbleize', 'environment', 'de-boned', 'indoors', 'leaner', 'suck', 'dies', 'trough', 'geranium', 'co', 'regular-sized', '385', 'rapid-rise', 'med/low', '71', 'emerges', 'nettles', 'wildflower', 'lactose', 'treviso', 'andrew', 'cookware', 'wow', 'aldente', 'british', 'thrown', '7-quart', 'yellowfin', 'agitating', 'unnecessary', 'ripples', '3.3', 'alder', 'tortelloni', 'gewurztraminer', 'tbps', 'unsure', 'wineglasses', 'x12', 'quorn', 'lack', 'capful', 'prepackaged', 'top-side', 'unattended', 'yellowtail', 'blotted', 'chix', 'proteins', 'daisy', 'tillamook', 'tilted', '8x11', 'yielding', 'fly', 'v-shaped', 'hubby', 'butter/flour', 'campanelle', 'equator', 'clafoutis', 'latino', '3tbsp', 'amchur', '155Â°f', 'dry-roast', 'lemon/lime', 'secured', 'subbed', '3-3', 'gingerale', 'pools', 'vacuum-packed', 'anna', '236', 'med.', 'whistles', 'tblspn', 'angelica', 'reset', 'microwaves', 'lessen', 'ladlefuls', 'beeps', 'bayou', 'adventurous', 'separation', 'backbones', 'trip', 'christopher', '213', 'evaporating', 'hurricane', 'textures', 'sunny-side', 'side-down', 'masoor', 'matchlike', 'cornichon', 'daiya', 'aggressively', 'update', '400ml', '2-lb', 'coconut-pecan', 'orange-pineapple', 'parker', 'reeses', 'intermittently', 'cinnamon-raisin', 'finding', 'sugar-sweetened', 'shad', 'churned', '9.5', 'sourcream', 'ivory', 'edged', 'remaning', 'marker', 'pullman', 'hats', 'gran', 'coolwhip', 'hellmans', 'parmasean', 'optimal', 'loose-bottomed', '13.5-ounce', 'easy-to-eat', '17:8', 'acids', 'budweiser', 'milk/egg', 'untrimmed', 'holy', 'bank', 'nights', 'starters', 'kirschwasser', 'introduce', 'ball-sized', 'foccacia', 'pressure-cook', '.add', 'misture', 'f/gas', '45g', '14:25', '1.55', 'decaffeinated', 'xxx', 'hugs', 'rigid', 'half-pints', 'all-fruit', 'baseball', 'overlaps', 'yoplait', 'checkerboard', 'disolve', 'tailed', 'rendering', 'contrasting', 'oval-shaped', 'slighly', 'sushi-grade', '2-tablespoon', 'substitue', 'tonight', 'letters', 'limited', 'feeder', 'feast', 'coarse-grain', 'pam-sprayed', '0.7', 'tennessee', 'ladel', 'crystalized', 'broke', '8-serving', 'width-wise', 'alright', 'honestly', 'err', 'gelatinous', 'low-med', 'over-beat', 'slighty', '200c/400f/gas', '350f/180c', 'g.p', '14.1oz', 'monster', 'cremora', \"o'clock\", 'wad', '/or', 'depressions', 'ole', 'ornament', 'crossing', '0.3', 'heels', 'mouse', 'asked', 'immediate', 'coral', \"shake'n\", 'cheese-flavored', '1/3c', 'seive', '10ml', 'penzey', '10-inch-diameter', 'silpat-lined', 'sansho', 'triples', 'saver', 'ho', 'mcbutter', 'kashi', '2-oz', 'altered', 'labels', 'fumes', 'shampoo', 'thumb-sized', 'tumblers', 'succulent', 'pts', 'pasties', 'cos', 'fermenting', 'superior', 'picky', 'calabaza', 'starches', 'competition', 'dolce', '3/4-inch-wide', 'hight', 'tranfer', 'sml', '1/4cup', 'anchor', 'cupped', 'continued', 'yellows', 'plants', 'siphon', 'thinness', 'bubbled', 'guavas', 'overpowering', 'toppers', 'signal', 'charles', 'crumpets', 'bunnies', 'missing', 'peeps', 'rasp', 'cassarole', '2-inch-high', 'spinich', 'havent', 'poussins', 'recesses', 'mahi-mahi', 'stella', 'fleshed', 'assist', 'lips', '14.75', '2+', 's.', 'regardless', 'extreme', 'prudhomme', 'alcoholic', 'eggbeaters', 'pato', 'veloute', 'ins', '25-28', 'mincing', 'teaspoonsful', 'st', '796', '1/3rd', 'quot', 'w/the', 'soboro', 'rounding', 'dills', 'copped', 'penny', 'magarine', '280Â°', 'connect', '20-oz', 'glazes', 'fanned', 'funfetti', 'spines', 'mulled', 'vanila', '2,000', 'mask', 'brat', 'drown', 'over-cook', 'impatient', '8.8', 'toor', '1/8-in.-thick', '375.', '20mins', 'deviened', '1425', '+/-', 'forcing', '5th', 'appeal', 'joshinko', '77', 'freezer-proof', 'hero', 'shielding', 'half-n-half', 'pre-washed', 'braciole', 'potent', 'brighten', 'ps', 'dramatically', 'gourmettm', 'sprinke', 'stirr', '3.5-ounce', 'firegrate', '2.3', 'pride', 'pareve', 'met', 'free-form', 'accidentally', '355Â°f', 'vit', 'flick', 'denser', 'essentials', 'decant', 'arctic', 'waters', 'snakes', 'knockwurst', 'binding', '128', 'fideo', 'brave', 'bat', 'pleated', 'parathas', 'mirlitons', 'vineger', 'crosses', 'gratings', 'ny', 'cinamon', 'hinge', 'grinded', 'intended', 'starbucks', 'swerve', 'shrub', 'syrah', '9-inch-square', 'zuccini', '140c', 'direct-heat', 'mediumhigh', '73', 'isaiah', '4:5', '24-cup', 'dale', 'tostados', '220Â°', '8x10', 'slick', 'pillow', 'ready-to-bake', 'spain', 'borage', 'prettiest', 'designed', '16.5', 'savor', 'jump', 'seeding', 'no-calorie', 'jam-like', 'espelette', 'assuming', 'x10', 'redcurrant', 'e-mail', 'slot', 'glassy', 'dishwashing', 'pricking', 'rosa', 'spirits', 'likewise', 'nasty', 'rag', 'advise', 'pices', 'bleed', 'concave', 'buter', 'shoulders', 'calimyrna', 'cabot', 'wheatberries', 'concasse', '625', 'paired', 'dark-brown', '115Â°f', 'ages', 'subtract', 'fell', 'indicate', 'pre-packaged', '12-muffin', 'booze', 'wattage', 'tv', 'comment', 'slips', 'yoke', 'amino', 'inclined', 'brains', 'reinvert', 'mined', 'portioned', 'congee', 'genoise', '1-inch-long', 'bitesize', '7fl', '13-inches', 'xxxx', 'cheeseburger', 'became', 'anne', 'roman', 'squeezes', '1+', 'piquant', '144', 'cranberry-apple', 'smokie', 'satisfaction', 'model', 'spiders', '2-6', 'mulberries', 'slimy', 'weber', 'sinews', 'cuervo', 'partial', '-40', 'editor', 'optional-', 'gound', 'comice', 'w/a', '17g', 'pastis', 'owens', 'strawberry-flavored', 'brothers', 'home-style', 'filler', 'threading', 'precut', 're-warm', 'paddles', 'guideline', 'eighteen', 'timbale', 'wake', 'referred', 'suddenly', 'appealing', 'filters', 'flat-side', 'inwards', 'slosh', 'portabellas', 'quart-sized', 'ingredents', '1tablespoon', 'zone', 'demiglace', '180c/350f/gas', 'neelys', 'episode', 'involved', 'pilot', 'lime-flavored', 'daddy', 'dorito', 'supplies', 'seeps', '3-lb', '154', 'wherever', 'ovaltine', 'saying', 'flanken', 'foster', 'pudding-like', 'absolute', '......', 'halt', '28-30', 'regulate', 'mozz', '395', 'masters', 'sous', 'updated', '3-58', 'hostess', 'confectionery', 'books', '1900', 'capped', 'destemmed', 'double-strength', 'drum', 'laces', 'noses', 'brief', 'expands', 'died', 'compared', 'fiery', 'cook-and-serve', 'pan-', 'borscht', 'noddles', 'vita-mix', 'rouge', 'beluga', '392', '18-', '-to', '1/4inch', 'sky', '235Â°', 'accents', 'jane', 'butter-side', 'bacon-wrapped', 'thumped', 'mozerella', 'mahimahi', '70-80', 'adequately', 'ta', 'wilting', '1-13', 'eggy', 'nonhydrogenated', 'flautas', 'wan', 'offers', 'castelvetrano', 'lactose-free', '26-ounce', 'latex', '2cups', 'alittle', 'oilve', '900g', '3.add', '340f/170c', 'ovensafe', 'beds', 'tendon', 'additionally', 'miniatures', 'epsom', '90Â°', 'canton', 'elevated', 'half-full', 'askew', 'lighting', 'x1', 'de-stem', 'carte', 'chicken-breast', 'finley', 'currents', 'unflavoured', '1.5cm', 'packageshredded', 'over-ripe', 'horn', 'crunchiness', 'pekoe', 'hitting', 'scrumptious', 'cilantro-lime', 'dive', 'firm-tender', 'review', 'sturgeon', 'weekend', '16.3', 'napoleon', '-place', 'buco', 'schmear', 'ff', 'schilling', 'uncoated', 'reviews', '2.6', 'teacups', 'argo', 'seville', 'underbeat', 'hubbard']\n"
     ]
    }
   ],
   "source": [
    "with open(base_path + vocab_path, 'r') as file:\n",
    "    vocab = [t[0] for t in list(csv.reader(file))[1:]]\n",
    "\n",
    "print(vocab)"
   ]
  },
  {
   "cell_type": "code",
   "execution_count": 235,
   "metadata": {},
   "outputs": [
    {
     "data": {
      "text/plain": [
       "10001"
      ]
     },
     "execution_count": 235,
     "metadata": {},
     "output_type": "execute_result"
    }
   ],
   "source": [
    "\n",
    "vocab =  vocab + [\"<ING>\", \"<REC>\"]\n",
    "\n",
    "\n",
    "\n",
    "w2id =  {w:i for i,w in  enumerate(vocab)}\n",
    "id2w =  {i:w for i,w in  enumerate(vocab)}\n",
    "\n",
    "(w2id)[\"<REC>\"]"
   ]
  },
  {
   "cell_type": "code",
   "execution_count": 236,
   "metadata": {},
   "outputs": [
    {
     "name": "stdout",
     "output_type": "stream",
     "text": [
      "torch.Size([2, 4])\n",
      "Parameter containing:\n",
      "tensor([[-0.2628,  1.0092, -0.5424,  2.4710],\n",
      "        [ 2.0639, -0.9244, -0.3971, -0.5743],\n",
      "        [-1.2006, -1.3030, -0.4570,  0.5063]], requires_grad=True)\n",
      "Parameter containing:\n",
      "tensor([[-0.2628,  1.0092, -0.5424,  2.4710],\n",
      "        [ 2.0639, -0.9244, -0.3971, -0.5743],\n",
      "        [-1.2206, -1.3230, -0.4770,  0.4863]], requires_grad=True)\n"
     ]
    }
   ],
   "source": [
    "import torch\n",
    "import torch.nn as nn\n",
    "import torch.optim as optim\n",
    "\n",
    "class EmbeddingFromMaxIndexFunction(torch.autograd.Function):\n",
    "    @staticmethod\n",
    "    def forward(ctx, prob_vectors, embedding_matrix):\n",
    "        # Save inputs for backward pass\n",
    "        ctx.save_for_backward(prob_vectors, embedding_matrix)\n",
    "\n",
    "        # Find the index of the largest value in each probability vector\n",
    "        max_indices = torch.argmax(prob_vectors, dim=1).long()\n",
    "\n",
    "        # Extract the corresponding rows from the embedding matrix\n",
    "        embeddings = embedding_matrix[max_indices]\n",
    "\n",
    "        return embeddings\n",
    "\n",
    "    @staticmethod\n",
    "    def backward(ctx, grad_output):\n",
    "        prob_vectors, embedding_matrix = ctx.saved_tensors\n",
    "\n",
    "        # Find the indices of the largest values in each probability vector\n",
    "        max_indices = torch.argmax(prob_vectors, dim=1).long()\n",
    "\n",
    "        # Initialize the gradient for the probability vectors\n",
    "        grad_prob_vectors = torch.zeros_like(prob_vectors)\n",
    "        grad_prob_vectors.scatter_(1, max_indices.unsqueeze(1), grad_output)\n",
    "\n",
    "        # Initialize the gradient for the embedding matrix\n",
    "        grad_embedding_matrix = torch.zeros_like(embedding_matrix)\n",
    "        grad_embedding_matrix.index_add_(0, max_indices, grad_output)\n",
    "\n",
    "        return grad_prob_vectors, grad_embedding_matrix\n",
    "\n",
    "class EmbeddingFromMaxIndex(nn.Module):\n",
    "    def __init__(self, embedding):\n",
    "        embedding_matrix = embedding.weight\n",
    "        super(EmbeddingFromMaxIndex, self).__init__()\n",
    "        self.embedding_matrix = embedding_matrix\n",
    "\n",
    "    def forward(self, prob_vector):\n",
    "        # Apply the custom function\n",
    "        embedding = EmbeddingFromMaxIndexFunction.apply(prob_vector, self.embedding_matrix)\n",
    "\n",
    "        return embedding\n",
    "\n",
    "# Usage\n",
    "num_embeddings = 3\n",
    "embedding_dim = 4\n",
    "\n",
    "embeding = nn.Embedding(num_embeddings, embedding_dim)\n",
    "embedding_model = EmbeddingFromMaxIndex(embeding)\n",
    "probabilities = torch.tensor([[0.1, 0.3, 0.6], [0.1, 0.3, 0.6]], requires_grad=True)\n",
    "\n",
    "# Define an optimizer\n",
    "optimizer = optim.SGD([embeding.weight], lr=0.01)\n",
    "\n",
    "# Forward pass\n",
    "embedding = embedding_model(probabilities)\n",
    "print(embedding.shape)\n",
    "# Loss (you can replace this with your actual loss)\n",
    "loss = torch.sum(embedding)\n",
    "\n",
    "print(embeding.weight)\n",
    "# Backward pass\n",
    "loss.backward()\n",
    "\n",
    "# Update the embedding matrix using the optimizer\n",
    "optimizer.step()\n",
    "print(embeding.weight)\n",
    "# Now 'embedding_matrix' has been updated based on the gradients\n"
   ]
  },
  {
   "cell_type": "code",
   "execution_count": 237,
   "metadata": {},
   "outputs": [],
   "source": [
    "\n",
    "\n",
    "# Define the Generator\n",
    "class Generator(nn.Module):\n",
    "    def __init__(self, vocab_len,hidden_size, depth,max_len):\n",
    "        EmbeddingFromMaxIndex\n",
    "        super(Generator, self).__init__()\n",
    "        \n",
    "        self.embedding = nn.Linear(vocab_len, hidden_size)\n",
    "        self.rnn = nn.LSTM(hidden_size, hidden_size, num_layers=depth, batch_first=True)\n",
    "        self.hidden2vocab = nn.Linear(hidden_size, vocab_len)\n",
    "        self.hidden_l = nn.Linear(hidden_size * depth, hidden_size)\n",
    "        self.max_len = max_len\n",
    "        \n",
    "\n",
    "        \n",
    "        \n",
    "\n",
    "    def forward(self, input_seq):\n",
    "        original_input = input_seq.clone()\n",
    "        sequences = self.embedding(input_seq.float())\n",
    "        outputs = []\n",
    "        for _ in range(self.max_len):\n",
    "            next_input, hidden_states = self.singel_pass(sequences)\n",
    "            outputs.append(next_input)\n",
    "            sequences = torch.concat((sequences, next_input.unsqueeze(1)), dim = 1)\n",
    "        outputs = torch.stack(outputs, dim = 1)\n",
    "        vocab_vectors = self.hidden2vocab(outputs)\n",
    "        vocab_probs = torch.softmax(vocab_vectors, dim=2)\n",
    "        out = torch.concat((original_input,vocab_probs), dim=1)\n",
    "        return out, hidden_states\n",
    "            \n",
    "        \n",
    "\n",
    "    def singel_pass(self, input_seq):\n",
    "        rand_source = torch.rand((input_seq.shape[0], 1, input_seq.shape[2])).to(device)\n",
    "        #embedded = torch.concat((rand_source, embedded), dim = 1)\n",
    "        hidden_states, (last_hidden, _) = self.rnn(input_seq)\n",
    "        last_hidden = last_hidden.view(1, -1)\n",
    "        output = self.hidden_l(last_hidden)\n",
    "        return output, hidden_states\n",
    "\n",
    "\n",
    "# Define the Discriminator\n",
    "class Discriminator(nn.Module):\n",
    "    def __init__(self, vocab_len, hidden_size):\n",
    "        super(Discriminator, self).__init__()\n",
    "        self.embedding = nn.Linear(vocab_len, hidden_size)\n",
    "        self.rnn = nn.LSTM(hidden_size, hidden_size, batch_first=True)\n",
    "        self.fc = nn.Linear(hidden_size, 1)\n",
    "\n",
    "    def forward(self, input):\n",
    "        embedded = self.embedding(input)\n",
    "        hidden_states, (last_hidden, _) = self.rnn(embedded)\n",
    "        output = self.fc(last_hidden)\n",
    "        prob = F.sigmoid(output)\n",
    "        return prob, hidden_states"
   ]
  },
  {
   "cell_type": "code",
   "execution_count": 238,
   "metadata": {},
   "outputs": [],
   "source": [
    "class EncoderRNN(nn.Module):\n",
    "    def __init__(self, input_size, hidden_size, dropout_p=0.1):\n",
    "        super(EncoderRNN, self).__init__()\n",
    "        self.hidden_size = hidden_size\n",
    "\n",
    "        self.embedding = nn.Embedding(input_size, hidden_size)\n",
    "        self.gru = nn.GRU(hidden_size, hidden_size, batch_first=True)\n",
    "        self.dropout = nn.Dropout(dropout_p)\n",
    "\n",
    "    def forward(self, input):\n",
    "        embedded = self.dropout(self.embedding(input))\n",
    "        output, hidden = self.gru(embedded)\n",
    "        return output, hidden"
   ]
  },
  {
   "cell_type": "code",
   "execution_count": 239,
   "metadata": {},
   "outputs": [],
   "source": [
    "class CSVDataLoader:\n",
    "    def __init__(self, csv_file_path, batch_size, num_rows):\n",
    "        self.csv_file_path = csv_file_path\n",
    "        self.batch_size = batch_size\n",
    "        self.num_rows = num_rows\n",
    "        self.current_index = 0\n",
    "        self.file_handle = None\n",
    "        self.csv_writer = None\n",
    "        self.headers = None\n",
    "\n",
    "    def open_csv_file(self):\n",
    "        self.file_handle = open(self.csv_file_path, 'r', newline='')\n",
    "        self.csv_writer = csv.reader(self.file_handle)\n",
    "        # Assuming the first row contains headers\n",
    "        self.headers = next(self.csv_writer)\n",
    "\n",
    "    def close_csv_file(self):\n",
    "        if self.file_handle is not None and not self.file_handle.closed:\n",
    "            self.file_handle.close()\n",
    "\n",
    "    def reset(self):\n",
    "        self.close_csv_file()\n",
    "        self.open_csv_file()\n",
    "        self.current_index = 0\n",
    "\n",
    "    def has_next_batch(self):\n",
    "        return self.current_index < self.num_rows\n",
    "\n",
    "    def get_next_batch(self, pad):\n",
    "        ing_batch = [] \n",
    "        rec_batch = []\n",
    "        for _ in range(self.batch_size):\n",
    "            if not self.has_next_batch():\n",
    "                break\n",
    "            ing, rec = next(self.csv_writer)\n",
    "            ing_batch.append(torch.tensor(eval(ing)).to(device))\n",
    "            rec_batch.append(torch.tensor(eval(rec)).to(device))\n",
    "            self.current_index += 1\n",
    "       \n",
    "        \n",
    "\n",
    "        ing_padded = pad_sequence(ing_batch, batch_first=True, padding_value=pad)\n",
    "        rec_padded = pad_sequence(rec_batch, batch_first=True, padding_value=pad)\n",
    "        return ing_padded, rec_padded\n",
    "    \n",
    "    def batches_left(self):\n",
    "        return (self.num_rows - self.current_index) // self.batch_size\n",
    "    \n",
    "    def __del__(self):\n",
    "        self.close_csv_file()"
   ]
  },
  {
   "cell_type": "code",
   "execution_count": 240,
   "metadata": {},
   "outputs": [
    {
     "name": "stdout",
     "output_type": "stream",
     "text": [
      "tensor([[0.1826, 0.3651, 0.9129]])\n",
      "tensor([[0.1826, 0.3651, 0.9129]])\n",
      "tensor([[0.1826, 0.3651, 0.9129]])\n",
      "tensor([[0.1826, 0.3651, 0.9129]])\n",
      "tensor([[0.1826, 0.3651, 0.9129]])\n",
      "tensor([[0.1826, 0.3651, 0.9129]])\n",
      "tensor([[0.1826, 0.3651, 0.9129]])\n",
      "tensor([[0.1826, 0.3651, 0.9129]])\n",
      "tensor([[0.1826, 0.3651, 0.9129]])\n",
      "tensor([[0.1826, 0.3651, 0.9129]])\n"
     ]
    }
   ],
   "source": [
    "for i in range(1,100,10):\n",
    "    print(F.normalize(torch.tensor([[0.1,0.2,0.5]], dtype=torch.float32) * i, dim = 1))"
   ]
  },
  {
   "cell_type": "code",
   "execution_count": 241,
   "metadata": {},
   "outputs": [
    {
     "name": "stdout",
     "output_type": "stream",
     "text": [
      "Avreg one hot value: 0.9447336792945862\n",
      "Avg first and second eq: 0.0\n",
      "tensor([[[9.9991e-01, 4.6474e-06, 1.9118e-03, 1.3382e-02],\n",
      "         [2.5879e-04, 1.0000e+00, 9.0006e-04, 3.4937e-09],\n",
      "         [1.9134e-03, 3.5762e-05, 9.9984e-01, 1.7615e-02],\n",
      "         [6.2680e-01, 3.6576e-08, 1.2405e-08, 7.7918e-01]]])\n"
     ]
    }
   ],
   "source": [
    "def one_hot_noisify_tokens(batch, vocab_len, temperature, diffrance):\n",
    "    one_hots = torch.nn.functional.one_hot(batch, vocab_len)\n",
    "    rands = (torch.rand(one_hots.shape))\n",
    "    rands[one_hots == 1] = 1 + diffrance\n",
    "    rands = torch.pow(rands + 0.5, temperature)\n",
    "    noisified = F.normalize(rands, dim = 2)\n",
    "    return noisified\n",
    "def one_hot_stats(batch, hot_batch):\n",
    "    print(\"Avreg one hot value:\",torch.mean(torch.gather(hot_batch, 2, batch.unsqueeze(-1))).item())\n",
    "    a = torch.topk(hot_batch, 2, )[0]\n",
    "    print(\"Avg first and second eq:\", (a[:,:,0]==a[:,:,1]).float().mean().item())\n",
    "    zero_mask = ~(torch.nn.functional.one_hot(batch, hot_batch.shape[-1])== 1)\n",
    "    #print(\"Varaiance\", torch.mean(torch.var(hot_batch[zero_mask].view(hot_batch.shape[-1],-1), dim = 1)).item())\n",
    "    \n",
    "a = torch.tensor([[0,1,2,3]])\n",
    "b = one_hot_noisify_tokens(a, 4, 20, 0.001)\n",
    "one_hot_stats(a,b)\n",
    "print(b)\n",
    "\n"
   ]
  },
  {
   "cell_type": "code",
   "execution_count": 242,
   "metadata": {},
   "outputs": [
    {
     "data": {
      "text/plain": [
       "'args = torch.randint(1,100, (1000, 3))\\nr = torch.arange(2500).view(50, -1)\\nfor b,c,d in tqdm(args):\\n    h = one_hot_noisify_tokens(r, 2500, b,c,30).argmax(dim=2)\\n    assert(torch.equal(r, h))'"
      ]
     },
     "execution_count": 242,
     "metadata": {},
     "output_type": "execute_result"
    }
   ],
   "source": [
    "\"\"\"args = torch.randint(1,100, (1000, 3))\n",
    "r = torch.arange(2500).view(50, -1)\n",
    "for b,c,d in tqdm(args):\n",
    "    h = one_hot_noisify_tokens(r, 2500, b,c,30).argmax(dim=2)\n",
    "    assert(torch.equal(r, h))\"\"\""
   ]
  },
  {
   "cell_type": "code",
   "execution_count": 243,
   "metadata": {},
   "outputs": [],
   "source": [
    "def patch_batch(ings, start, midel):\n",
    "    start_tokens = torch.full((ings.shape[0],), start).unsqueeze(1).to(device)\n",
    "    midel_tokens = torch.full((ings.shape[0],), midel).unsqueeze(1).to(device)\n",
    "    return torch.cat((start_tokens, ings, midel_tokens), dim=1).to(device)\n"
   ]
  },
  {
   "cell_type": "code",
   "execution_count": 244,
   "metadata": {},
   "outputs": [
    {
     "data": {
      "text/plain": [
       "tensor([10000,     3,    67,   206,  1827,    96,     4,    59,   345,     2,\n",
       "           23,   742,    55,   227,     2,     3,    28,    34,    48,   196,\n",
       "          103,     2,     3,   483,   117,    34,     1,     1,     1,     1,\n",
       "            1,     1,     1,     1,     1,     1,     1,     1,     1,     1,\n",
       "            1,     1,     1,     1,     1,     1,     1,     1,     1,     1,\n",
       "            1,     1,     1,     1,     1,     1,     1,     1,     1,     1,\n",
       "            1,     1,     1,     1,     1,     1,     1,     1,     1,     1,\n",
       "            1,     1,     1,     1,     1,     1,     1,     1,     1, 10001])"
      ]
     },
     "execution_count": 244,
     "metadata": {},
     "output_type": "execute_result"
    }
   ],
   "source": [
    "data_path = r\"C:\\Users\\mrmrk\\OneDrive\\Documents\\GitHub\\recipe_generation\\prepeard_data.csv\"\n",
    "data_loader = CSVDataLoader(data_path, 32, 2231142)\n",
    "data_loader.open_csv_file()\n",
    "d = data_loader.get_next_batch(w2id[\"<PAD>\"])\n",
    "data_loader.close_csv_file()\n",
    "\n",
    "patch_batch(d[0], w2id[\"<ING>\"], w2id[\"<REC>\"])[0]"
   ]
  },
  {
   "cell_type": "code",
   "execution_count": 245,
   "metadata": {},
   "outputs": [
    {
     "name": "stdout",
     "output_type": "stream",
     "text": [
      "Avreg one hot value: 0.9003086090087891\n",
      "Avg first and second eq: 0.0\n",
      "tensor([3.2566e-21, 2.3942e-13, 1.3376e-18, 3.4589e-22, 3.9672e-08, 8.9957e-01,\n",
      "        9.7240e-10, 1.7580e-14, 1.6269e-09, 4.0687e-18, 3.0038e-03, 3.5194e-05,\n",
      "        1.1435e-02, 5.3579e-25, 9.3166e-03, 1.1910e-09, 2.2712e-03, 4.3496e-03,\n",
      "        1.5821e-03, 1.0147e-06, 3.5149e-06, 3.2991e-17, 3.1620e-24, 6.7699e-04,\n",
      "        3.6471e-16, 1.2249e-11, 3.2343e-11, 2.4129e-05, 1.2014e-04, 2.9103e-02,\n",
      "        4.9571e-23, 2.8511e-20, 2.2264e-11, 2.0196e-17, 4.6040e-11, 6.7638e-19,\n",
      "        7.6208e-07, 1.2764e-04, 2.9360e-16, 7.4756e-13, 1.1598e-22, 1.4908e-02,\n",
      "        3.8013e-08, 3.1584e-15, 1.1109e-15, 7.1424e-07, 5.3520e-23, 1.2059e-02,\n",
      "        9.7432e-07, 5.5823e-16, 1.9714e-24, 6.7814e-08, 8.9137e-17, 1.5273e-02,\n",
      "        2.1741e-20, 1.6792e-22, 4.0832e-22, 2.7516e-19, 3.4317e-03, 1.5958e-21,\n",
      "        2.9603e-17, 5.1711e-04, 3.8476e-12, 4.2699e-20, 7.8262e-05, 1.2041e-10,\n",
      "        1.0771e-23, 2.6237e-06, 1.9588e-24, 5.7698e-18, 4.4425e-08, 1.0779e-13,\n",
      "        1.3493e-02, 2.5482e-04, 5.8501e-11, 1.9481e-05, 1.7617e-18, 2.9631e-02,\n",
      "        6.7185e-09, 5.1437e-08, 4.9386e-08, 3.1103e-05, 4.1781e-11, 1.5253e-17,\n",
      "        5.3393e-16, 1.2414e-10, 2.3697e-02, 2.4253e-02, 1.8808e-25, 1.5289e-15,\n",
      "        9.9760e-25, 5.5102e-04, 1.9869e-11, 3.8351e-18, 2.6895e-07, 9.5503e-09,\n",
      "        2.6553e-23, 2.8105e-15, 3.3531e-22, 2.0453e-15])\n"
     ]
    }
   ],
   "source": [
    "b = patch_batch(d[0], w2id[\"<ING>\"], w2id[\"<REC>\"])\n",
    "h = one_hot_noisify_tokens(b,len(vocab),\n",
    "                       50,0.1)\n",
    "one_hot_stats(b,h)\n",
    "print(h[1][1][:100])"
   ]
  },
  {
   "cell_type": "code",
   "execution_count": 246,
   "metadata": {},
   "outputs": [],
   "source": [
    "def topk(next_probs, k):\n",
    "    topk_values, topk_indices = torch.topk(next_probs, k, dim=1)\n",
    "    topk_values, topk_indices = topk_values.to(device), topk_indices.to(device)\n",
    "    topk_index_indices = torch.multinomial(torch.exp(topk_values), 1).squeeze(1).to(device)\n",
    "    next_tokens = topk_indices[\n",
    "        torch.arange(topk_index_indices.shape[0]), topk_index_indices]\n",
    "    return next_tokens"
   ]
  },
  {
   "cell_type": "code",
   "execution_count": 247,
   "metadata": {},
   "outputs": [
    {
     "data": {
      "text/plain": [
       "True"
      ]
     },
     "execution_count": 247,
     "metadata": {},
     "output_type": "execute_result"
    }
   ],
   "source": [
    "import torch\n",
    "\n",
    "class CustomArgmaxFunction(torch.autograd.Function):\n",
    "    @staticmethod\n",
    "    def forward(ctx, input):\n",
    "        ctx.save_for_backward(input)\n",
    "        argmax_indices = torch.argmax(input, dim=-1).to(dtype=torch.float16)\n",
    "        argmax_indices.requires_grad = True\n",
    "        return argmax_indices\n",
    "\n",
    "    @staticmethod\n",
    "    def backward(ctx, grad_output):\n",
    "        input, = ctx.saved_tensors\n",
    "        grad_input = torch.zeros_like(input)\n",
    "        grad_input.scatter_(-1, input.unsqueeze(-1), 1)\n",
    "        grad_input = grad_input * grad_output.unsqueeze(-1)\n",
    "        return grad_input\n",
    "\n",
    "# Usage\n",
    "x = torch.randn(3, 4, requires_grad=True)\n",
    "argmax_op = CustomArgmaxFunction.apply\n",
    "output = argmax_op(x)\n",
    "\n",
    "# Now, you can use 'output' in your subsequent computations, and it will have gradients\n",
    "output.requires_grad\n"
   ]
  },
  {
   "cell_type": "code",
   "execution_count": 248,
   "metadata": {},
   "outputs": [],
   "source": [
    "def topk_generator(generator, sampler, initial_sequence, max_len, stop_token, pad):\n",
    "    current_sequence = initial_sequence.clone().to(device)\n",
    "    rec_start = current_sequence.shape[1] - 1\n",
    "    i = 0\n",
    "    not_done_indices = torch.arange(current_sequence.shape[0]).to(device)\n",
    "\n",
    "    while i < max_len and not_done_indices.numel() > 0:\n",
    "        next_probs, hidden_states = generator(current_sequence[not_done_indices])\n",
    "        \n",
    "        next_tokens = sampler(next_probs)\n",
    "\n",
    "        done_indices = torch.nonzero(torch.eq(next_tokens, stop_token), as_tuple=False).squeeze().to(device)\n",
    "        not_done_indices = not_done_indices[~torch.isin(not_done_indices, done_indices)]\n",
    "\n",
    "        next_tokens_column = torch.full((current_sequence.shape[0],), pad).to(device)\n",
    "        next_tokens_column[not_done_indices] = next_tokens\n",
    "        next_tokens_column = next_tokens_column.unsqueeze(1)\n",
    "\n",
    "        current_sequence = torch.cat((current_sequence[:, :-1], next_tokens_column, current_sequence[:, -1:]), dim=1).to(device)\n",
    "\n",
    "        i += 1\n",
    "\n",
    "    output_end_tokens = torch.full((current_sequence.shape[0],), pad).to(device)\n",
    "    output_end_tokens[not_done_indices] = stop_token\n",
    "    output_end_tokens = output_end_tokens.unsqueeze(1)\n",
    "    current_sequence = torch.cat((current_sequence[:, :-1], output_end_tokens), dim=1).to(device)\n",
    "\n",
    "    \n",
    "\n",
    "    return current_sequence,  hidden_states\n",
    "\n"
   ]
  },
  {
   "cell_type": "code",
   "execution_count": 249,
   "metadata": {},
   "outputs": [],
   "source": [
    "class Dummy_loader:\n",
    "    def __init__(self, d) -> None:\n",
    "        self.d = d\n",
    "\n",
    "    def reset(self):\n",
    "        pass\n",
    "    def open_csv_file(self):\n",
    "        pass\n",
    "    def batches_left(self):\n",
    "        return 1\n",
    "\n",
    "    def get_next_batch(self, a):\n",
    "        return self.d\n",
    "    "
   ]
  },
  {
   "cell_type": "code",
   "execution_count": 250,
   "metadata": {},
   "outputs": [],
   "source": [
    "# Hyperparameters\n",
    "generator_hidden_size = 500\n",
    "discriminator_hidden_size = 4\n",
    "#seq_length = 20  # Adjust based on your prompt length\n",
    "gen_lr  = 1\n",
    "disc_lr = gen_lr/100\n",
    "batch_size = 1\n",
    "\n",
    "k = 1\n",
    "max_gen_len = 4\n",
    "epochs = 300\n",
    "\n"
   ]
  },
  {
   "cell_type": "code",
   "execution_count": 252,
   "metadata": {},
   "outputs": [
    {
     "name": "stderr",
     "output_type": "stream",
     "text": [
      "100%|██████████| 300/300 [00:54<00:00,  5.55it/s]\n"
     ]
    }
   ],
   "source": [
    "torch.autograd.set_grad_enabled(True)\n",
    "a = CSVDataLoader(r\"C:\\Users\\mrmrk\\OneDrive\\Documents\\GitHub\\recipe_generation\\dummy_data.csv\", 1, 1)\n",
    "a.open_csv_file()\n",
    "pad1 = w2id[\"<PAD>\"]\n",
    "\n",
    "dummy_loader = Dummy_loader(a.get_next_batch(pad1))\n",
    "#data_loader = CSVDataLoader(data_path, batch_size, 2231142)\n",
    "\n",
    "\n",
    "data_loader = dummy_loader\n",
    "\n",
    "\n",
    "data_loader.open_csv_file()\n",
    "# Instantiate Generator and Discriminator\n",
    "generator = Generator(len(vocab), generator_hidden_size, 2, max_gen_len).to(device)\n",
    "discriminator = Discriminator(len(vocab), discriminator_hidden_size).to(device)\n",
    "\n",
    "\n",
    "# Loss and Optimizer\n",
    "criterion = nn.BCEWithLogitsLoss()\n",
    "gen_optimizer = optim.Adam(generator.parameters(), lr=gen_lr)\n",
    "disc_optimizer = optim.Adam(discriminator.parameters(), lr=disc_lr)\n",
    "\n",
    "gen_losses = []\n",
    "real_losses = []\n",
    "fake_losses = []\n",
    "avg_real = []\n",
    "avg_fake = []\n",
    "\n",
    "\n",
    "for epoch in tqdm(range(epochs)):\n",
    "    if epoch == 40:\n",
    "        pass\n",
    "    data_loader.reset()\n",
    "    batch_nr = 0\n",
    "    total_nr_batches = data_loader.batches_left()\n",
    "    #total_nr_batches =  100\n",
    "    itr =(range(total_nr_batches))\n",
    "    for batch_nr in itr:\n",
    "        # Training the Discriminator\n",
    "        pad1 = w2id[\"<PAD>\"]\n",
    "       \n",
    "   \n",
    "        real_ingredients, real_recipies = data_loader.get_next_batch(pad1)\n",
    "        patched_x = patch_batch(real_ingredients, \n",
    "                                        w2id[\"<ING>\"],\n",
    "                                        w2id[\"<REC>\"])\n",
    "        real_batch_x = torch.nn.functional.one_hot(patched_x, len(vocab))\n",
    "        patched_y =  real_recipies\n",
    "        real_batch_y = torch.concat(\n",
    "            (real_batch_x, one_hot_noisify_tokens(patched_y, len(vocab), 50, 0.1)),dim=1)\n",
    "        a = real_batch_y.argmax(dim=2)\n",
    "        #print(real_batch_y)\n",
    "        generated_recepies, _ = generator(real_batch_x)\n",
    "        ab = generated_recepies.argmax(dim=2)\n",
    "        #print(generated_recepies)\n",
    "        real_output, _ = discriminator(real_batch_y)\n",
    "        real_output = real_output.squeeze(-1).squeeze(0)\n",
    "        fake_output, _ = discriminator(generated_recepies.detach())\n",
    "        fake_output = fake_output.squeeze(-1).squeeze(0)\n",
    "\n",
    "        real_labels = torch.ones((batch_size, )).to(device)\n",
    "        fake_labels = torch.zeros((batch_size, )).to(device)\n",
    "        real_loss = criterion(real_output, real_labels)\n",
    "        fake_loss = criterion(fake_output, fake_labels)\n",
    "        disc_loss = real_loss + fake_loss\n",
    "\n",
    "        avg_real.append(torch.mean(real_output).item())\n",
    "        avg_fake.append(torch.mean(fake_output).item())\n",
    "\n",
    "        \n",
    "        #print(\"Disc grad\")\n",
    "        disc_optimizer.zero_grad()\n",
    "        disc_loss.backward()\n",
    "        disc_optimizer.step()\n",
    "            \n",
    "        \n",
    "\n",
    "        # Training the Generator\n",
    "\n",
    "        \n",
    "        \n",
    "       \n",
    "        #print(\"Gen grad\")\n",
    "        fake_output, _ = discriminator(generated_recepies)\n",
    "        fake_output = fake_output.squeeze(-1).squeeze(0)\n",
    "        real_labels = torch.ones((batch_size, )).to(device)\n",
    "        gen_loss = criterion(fake_output, real_labels)\n",
    "        gen_optimizer.zero_grad()\n",
    "        gen_loss.backward()\n",
    "        for name, param in generator.named_parameters():\n",
    "            if param.grad is None:\n",
    "                print(\"AAAAAAAAAAAA\")\n",
    "        gen_optimizer.step()\n",
    "\n",
    "        gen_losses.append(gen_loss.item())\n",
    "        real_losses.append(real_loss.item())\n",
    "        fake_losses.append(fake_loss.item())\n",
    "\n",
    "    \n",
    "            "
   ]
  },
  {
   "cell_type": "code",
   "execution_count": 253,
   "metadata": {},
   "outputs": [
    {
     "data": {
      "image/png": "[encoded data removed]",
      "text/plain": [
       "<Figure size 640x480 with 1 Axes>"
      ]
     },
     "metadata": {},
     "output_type": "display_data"
    },
    {
     "data": {
      "text/plain": [
       "0.002911311574280262"
      ]
     },
     "execution_count": 253,
     "metadata": {},
     "output_type": "execute_result"
    }
   ],
   "source": [
    "import matplotlib.pyplot as plt\n",
    "plt.plot(avg_real, color = \"red\")\n",
    "plt.plot(avg_fake, color = \"blue\")\n",
    "plt.show()\n",
    "avg_fake[-1]"
   ]
  },
  {
   "cell_type": "code",
   "execution_count": null,
   "metadata": {},
   "outputs": [
    {
     "name": "stdout",
     "output_type": "stream",
     "text": [
      "0.6916722059249878 0.31458649039268494 0.6946316361427307\n"
     ]
    }
   ],
   "source": [
    "print(gen_losses[-1], real_losses[-1], fake_losses[-1])"
   ]
  },
  {
   "cell_type": "code",
   "execution_count": null,
   "metadata": {},
   "outputs": [],
   "source": [
    "from nltk.tokenize import word_tokenize"
   ]
  },
  {
   "cell_type": "code",
   "execution_count": null,
   "metadata": {},
   "outputs": [],
   "source": [
    "def encode(prompt, dic):\n",
    "    return [dic.get(t.lower(),dic[\"<UKN>\"]) for t in word_tokenize(prompt)]"
   ]
  },
  {
   "cell_type": "code",
   "execution_count": null,
   "metadata": {},
   "outputs": [
    {
     "data": {
      "text/plain": [
       "[5182, 733, 64, 209, 3877, 10, 90, 855]"
      ]
     },
     "execution_count": 221,
     "metadata": {},
     "output_type": "execute_result"
    }
   ],
   "source": [
    "encode(\"1. break milk I brew a cool candy\", w2id)"
   ]
  },
  {
   "cell_type": "code",
   "execution_count": null,
   "metadata": {},
   "outputs": [],
   "source": [
    "def decode(answer, dic):\n",
    "    return \" \".join([dic[i] for i in answer])"
   ]
  },
  {
   "cell_type": "code",
   "execution_count": null,
   "metadata": {},
   "outputs": [
    {
     "data": {
      "text/plain": [
       "'we bake a <UKN> cake'"
      ]
     },
     "execution_count": 223,
     "metadata": {},
     "output_type": "execute_result"
    }
   ],
   "source": [
    "decode(encode(\"we bake a NLP cake\", w2id), id2w)"
   ]
  },
  {
   "cell_type": "code",
   "execution_count": null,
   "metadata": {},
   "outputs": [],
   "source": [
    "def generate(prompt, generator):\n",
    "    t = torch.tensor(encode(prompt, w2id)).unsqueeze(0).to(device)\n",
    "    batch = torch.nn.functional.one_hot(patch_batch(t,\n",
    "                              w2id[\"<ING>\"],\n",
    "                              w2id[\"<REC>\"]))\n",
    "    answer, _ = generator(batch)\n",
    "    ids = answer[0].argmax(dim=1)\n",
    "    return decode([int(i) for i in ids], id2w)"
   ]
  },
  {
   "cell_type": "code",
   "execution_count": null,
   "metadata": {},
   "outputs": [],
   "source": []
  },
  {
   "cell_type": "code",
   "execution_count": null,
   "metadata": {},
   "outputs": [
    {
     "name": "stdout",
     "output_type": "stream",
     "text": [
      "<ING> 1 c. firmly packed brown <REC> smokies smokies smokies smokies\n",
      "\n",
      "In a heavy 2-quart\n"
     ]
    }
   ],
   "source": [
    "seed = 1337\n",
    "torch.manual_seed(seed)\n",
    "if torch.cuda.is_available():\n",
    "    torch.cuda.manual_seed(seed)\n",
    "    torch.backends.cudnn.deterministic = True\n",
    "    torch.backends.cudnn.benchmark = False\n",
    "ing, rec =\"1 c. firmly packed brown\",\"In a heavy 2-quart\"\n",
    "\n",
    "generator.eval()\n",
    "with torch.no_grad():\n",
    "    print((generate(ing, generator)))\n",
    "print()\n",
    "print(rec)"
   ]
  }
 ],
 "metadata": {
  "kernelspec": {
   "display_name": ".venv",
   "language": "python",
   "name": "python3"
  },
  "language_info": {
   "codemirror_mode": {
    "name": "ipython",
    "version": 3
   },
   "file_extension": ".py",
   "mimetype": "text/x-python",
   "name": "python",
   "nbconvert_exporter": "python",
   "pygments_lexer": "ipython3",
   "version": "3.10.11"
  }
 },
 "nbformat": 4,
 "nbformat_minor": 2
}
