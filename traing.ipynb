{
 "cells": [
  {
   "cell_type": "code",
   "execution_count": 1,
   "metadata": {},
   "outputs": [],
   "source": [
    "import torch\n",
    "import torch.nn as nn\n",
    "import torch.optim as optim\n",
    "from torch.nn.utils.rnn import pad_sequence\n",
    "import csv\n",
    "from tqdm import tqdm\n",
    "import torch.nn.functional as F\n",
    "import os"
   ]
  },
  {
   "cell_type": "code",
   "execution_count": 2,
   "metadata": {},
   "outputs": [
    {
     "data": {
      "text/plain": [
       "'cuda'"
      ]
     },
     "execution_count": 2,
     "metadata": {},
     "output_type": "execute_result"
    }
   ],
   "source": [
    "device = \"cuda\" if torch.cuda.is_available() else \"cpu\"\n",
    "device\n"
   ]
  },
  {
   "cell_type": "code",
   "execution_count": 3,
   "metadata": {},
   "outputs": [],
   "source": [
    "base_path = r''\n",
    "\n",
    "ids_path = 'prepeard_data2.csv'\n",
    "vocab_path = \"vocab.csv\"\n",
    "\n",
    "data_len = 2231142"
   ]
  },
  {
   "cell_type": "code",
   "execution_count": 4,
   "metadata": {},
   "outputs": [
    {
     "name": "stdout",
     "output_type": "stream",
     "text": [
      "['<UKN>', '<PAD>', '.', '*', ',', 'and', 'the', '1', 'to', 'in', 'a', '2', 'with', '1/2', ')', '(', 'of', 'cup', 'until', 'add']\n"
     ]
    }
   ],
   "source": [
    "with open(base_path + vocab_path, 'r') as file:\n",
    "    vocab = [t[0] for t in list(csv.reader(file))[1:]]\n",
    "\n",
    "print(vocab[:20])"
   ]
  },
  {
   "cell_type": "code",
   "execution_count": 5,
   "metadata": {},
   "outputs": [
    {
     "data": {
      "text/plain": [
       "1501"
      ]
     },
     "execution_count": 5,
     "metadata": {},
     "output_type": "execute_result"
    }
   ],
   "source": [
    "\n",
    "vocab =  vocab + [\"<ING>\", \"<REC>\"]\n",
    "\n",
    "\n",
    "\n",
    "w2id =  {w:i for i,w in  enumerate(vocab)}\n",
    "id2w =  {i:w for i,w in  enumerate(vocab)}\n",
    "\n",
    "(w2id)[\"<REC>\"]"
   ]
  },
  {
   "cell_type": "code",
   "execution_count": 6,
   "metadata": {},
   "outputs": [
    {
     "name": "stdout",
     "output_type": "stream",
     "text": [
      "Input sequence shape: torch.Size([32, 10])\n",
      "Output vector shape: torch.Size([32, 5])\n"
     ]
    }
   ],
   "source": [
    "\n",
    "    \n",
    "class Generator_next_token(nn.Module):\n",
    "    def __init__(self, vocab_len, hidden_size, num_layers=1):\n",
    "        super(Generator_next_token, self).__init__()\n",
    "        self.embedding = nn.Embedding(num_embeddings=vocab_len, embedding_dim=hidden_size)\n",
    "        self.rnn = nn.LSTM(input_size, hidden_size, num_layers=num_layers, batch_first=True)\n",
    "        self.fc = nn.Linear(num_layers * hidden_size, vocab_len)\n",
    "\n",
    "    def forward(self, input_sequence):\n",
    "        embedded = self.embedding(input_sequence)\n",
    "        # input_sequence shape: (batch_size, sequence_length, input_size)\n",
    "        hidden_states, (h_n, _) = self.rnn(embedded)\n",
    "        # h_n shape: (num_layers, batch_size, hidden_size)\n",
    "\n",
    "        # Concatenate or stack hidden states from all layers\n",
    "        h_n_flat = h_n.permute(1, 0, 2).contiguous().view(input_sequence.size(0), -1)\n",
    "        \n",
    "        # Pass through the linear layer\n",
    "\n",
    "        output = self.fc(h_n_flat)\n",
    "        # output shape: (batch_size, output_size)\n",
    "       \n",
    "        return output, hidden_states\n",
    "\n",
    "# Example usage\n",
    "batch_size = 32\n",
    "sequence_length = 10\n",
    "input_size = 5\n",
    "hidden_size = 64\n",
    "output_size = input_size\n",
    "\n",
    "# Create an instance of the Generator\n",
    "generator = Generator_next_token(input_size, hidden_size, 2)\n",
    "\n",
    "# Generate a random batch of input sequences\n",
    "input_sequence = torch.randint(0,input_size,(batch_size, sequence_length))\n",
    "\n",
    "# Forward pass through the generator\n",
    "output_vector, _ = generator(input_sequence)\n",
    "\n",
    "print(\"Input sequence shape:\", input_sequence.shape)\n",
    "print(\"Output vector shape:\", output_vector.shape)\n"
   ]
  },
  {
   "cell_type": "code",
   "execution_count": 7,
   "metadata": {},
   "outputs": [],
   "source": [
    "\n",
    "\n",
    "# Define the Generator\n",
    "class Generator(nn.Module):\n",
    "    def __init__(self, vocab_len,hidden_size, depth,max_len):\n",
    "        super(Generator, self).__init__()\n",
    "        \n",
    "        self.embedding = nn.Linear(vocab_len, hidden_size)\n",
    "        self.rnn = nn.LSTM(hidden_size, hidden_size, num_layers=depth, batch_first=True)\n",
    "        self.hidden2vocab = nn.Linear(hidden_size, vocab_len)\n",
    "        self.hidden_l = nn.Linear(hidden_size * depth, hidden_size)\n",
    "        self.max_len = max_len\n",
    "        \n",
    "\n",
    "        \n",
    "        \n",
    "\n",
    "    def forward(self, input_seq):\n",
    "        original_input = input_seq.clone()\n",
    "        sequences = self.embedding(input_seq.float())\n",
    "        outputs = []\n",
    "    \n",
    "        for _ in range(self.max_len):\n",
    "            last_hidden, hidden_states = self.singel_pass(sequences)\n",
    "            outputs.append(last_hidden)\n",
    "            sequences = torch.cat((sequences, last_hidden.unsqueeze(1)), dim = 1)\n",
    "       \n",
    "        outputs = torch.stack(outputs, dim = 1)\n",
    "        vocab_vectors = self.hidden2vocab(outputs)\n",
    "        vocab_probs = torch.softmax(vocab_vectors, dim=2)\n",
    "        \n",
    "        out = torch.concat((original_input,vocab_probs), dim=1)\n",
    "        return out, hidden_states\n",
    "            \n",
    "        \n",
    "\n",
    "    def singel_pass(self, input_seq):\n",
    "        rand_source = torch.rand((input_seq.shape[0], 1, input_seq.shape[2])).to(device)\n",
    "        #embedded = torch.concat((rand_source, embedded), dim = 1)\n",
    "        hidden_states, (last_hidden, _) = self.rnn(input_seq)\n",
    "        last_hidden = last_hidden.view(1, -1)\n",
    "        output = self.hidden_l(last_hidden)\n",
    "        \n",
    "        return output, hidden_states\n",
    "\n",
    "\n",
    "# Define the Discriminator\n",
    "class Discriminator(nn.Module):\n",
    "    def __init__(self, vocab_len, hidden_size):\n",
    "        super(Discriminator, self).__init__()\n",
    "        self.embedding = nn.Embedding(num_embeddings=vocab_len, embedding_dim=hidden_size)\n",
    "        self.rnn = nn.LSTM(hidden_size, hidden_size, batch_first=True)\n",
    "        self.fc = nn.Linear(hidden_size, 1)\n",
    "\n",
    "    def forward(self, input):\n",
    "        embedded = self.embedding(input)\n",
    "        hidden_states, (last_hidden, _) = self.rnn(embedded)\n",
    "        output = self.fc(last_hidden)\n",
    "        prob = F.sigmoid(output)\n",
    "        return prob, hidden_states"
   ]
  },
  {
   "cell_type": "code",
   "execution_count": 8,
   "metadata": {},
   "outputs": [],
   "source": [
    "class CSVDataLoader:\n",
    "    def __init__(self, csv_file_path, batch_size, num_rows, start = 0):\n",
    "        self.csv_file_path = csv_file_path\n",
    "        self.batch_size = batch_size\n",
    "        self.num_rows = num_rows\n",
    "        self.current_index = 0\n",
    "        self.file_handle = None\n",
    "        self.csv_writer = None\n",
    "        self.headers = None\n",
    "\n",
    "    def open_csv_file(self):\n",
    "        self.file_handle = open(self.csv_file_path, 'r', newline='')\n",
    "        self.csv_writer = csv.reader(self.file_handle)\n",
    "        # Assuming the first row contains headers\n",
    "        self.headers = next(self.csv_writer)\n",
    "\n",
    "    def close_csv_file(self):\n",
    "        if self.file_handle is not None and not self.file_handle.closed:\n",
    "            self.file_handle.close()\n",
    "\n",
    "    def reset(self):\n",
    "        self.close_csv_file()\n",
    "        self.open_csv_file()\n",
    "        self.current_index = 0\n",
    "\n",
    "    def has_next_batch(self):\n",
    "        return self.current_index < self.num_rows\n",
    "\n",
    "    def get_next_batch(self, pad):\n",
    "        ing_batch = [] \n",
    "        rec_batch = []\n",
    "        for _ in range(self.batch_size):\n",
    "            if not self.has_next_batch():\n",
    "                break\n",
    "            ing, rec = next(self.csv_writer)\n",
    "            ing_batch.append(torch.tensor(eval(ing)).to(device))\n",
    "            rec_batch.append(torch.tensor(eval(rec)).to(device))\n",
    "            self.current_index += 1\n",
    "       \n",
    "        \n",
    "\n",
    "        ing_padded = pad_sequence(ing_batch, batch_first=True, padding_value=pad)\n",
    "        rec_padded = pad_sequence(rec_batch, batch_first=True, padding_value=pad)\n",
    "        return ing_padded, rec_padded\n",
    "    \n",
    "    def batches_left(self):\n",
    "        return (self.num_rows - self.current_index) // self.batch_size\n",
    "    \n",
    "    def __del__(self):\n",
    "        self.close_csv_file()"
   ]
  },
  {
   "cell_type": "code",
   "execution_count": 9,
   "metadata": {},
   "outputs": [
    {
     "name": "stdout",
     "output_type": "stream",
     "text": [
      "tensor([[0.1826, 0.3651, 0.9129]])\n",
      "tensor([[0.1826, 0.3651, 0.9129]])\n",
      "tensor([[0.1826, 0.3651, 0.9129]])\n",
      "tensor([[0.1826, 0.3651, 0.9129]])\n",
      "tensor([[0.1826, 0.3651, 0.9129]])\n",
      "tensor([[0.1826, 0.3651, 0.9129]])\n",
      "tensor([[0.1826, 0.3651, 0.9129]])\n",
      "tensor([[0.1826, 0.3651, 0.9129]])\n",
      "tensor([[0.1826, 0.3651, 0.9129]])\n",
      "tensor([[0.1826, 0.3651, 0.9129]])\n"
     ]
    }
   ],
   "source": [
    "for i in range(1,100,10):\n",
    "    print(F.normalize(torch.tensor([[0.1,0.2,0.5]], dtype=torch.float32) * i, dim = 1))"
   ]
  },
  {
   "cell_type": "code",
   "execution_count": null,
   "metadata": {},
   "outputs": [],
   "source": []
  },
  {
   "cell_type": "code",
   "execution_count": 10,
   "metadata": {},
   "outputs": [
    {
     "data": {
      "text/plain": [
       "'args = torch.randint(1,100, (1000, 3))\\nr = torch.arange(2500).view(50, -1)\\nfor b,c,d in tqdm(args):\\n    h = one_hot_noisify_tokens(r, 2500, b,c,30).argmax(dim=2)\\n    assert(torch.equal(r, h))'"
      ]
     },
     "execution_count": 10,
     "metadata": {},
     "output_type": "execute_result"
    }
   ],
   "source": [
    "\"\"\"args = torch.randint(1,100, (1000, 3))\n",
    "r = torch.arange(2500).view(50, -1)\n",
    "for b,c,d in tqdm(args):\n",
    "    h = one_hot_noisify_tokens(r, 2500, b,c,30).argmax(dim=2)\n",
    "    assert(torch.equal(r, h))\"\"\""
   ]
  },
  {
   "cell_type": "code",
   "execution_count": 11,
   "metadata": {},
   "outputs": [],
   "source": [
    "def patch_batch(ings, start, midel):\n",
    "    start_tokens = torch.full((ings.shape[0],), start).unsqueeze(1).to(device)\n",
    "    midel_tokens = torch.full((ings.shape[0],), midel).unsqueeze(1).to(device)\n",
    "    return torch.cat((start_tokens, ings, midel_tokens), dim=1).to(device)\n"
   ]
  },
  {
   "cell_type": "code",
   "execution_count": 12,
   "metadata": {},
   "outputs": [
    {
     "data": {
      "text/plain": [
       "tensor([1500,    7,   80,  434,    0,  155,    4,   69,  142,    3,   45,    0,\n",
       "          59,  472,    3,    7,   60,   46,   16,  436,  147,    3,    7, 1167,\n",
       "         204,   46,    1,    1,    1,    1,    1,    1,    1,    1,    1,    1,\n",
       "           1,    1,    1,    1,    1,    1,    1,    1,    1,    1,    1,    1,\n",
       "           1,    1,    1,    1,    1,    1,    1,    1,    1,    1,    1,    1,\n",
       "           1,    1,    1,    1,    1,    1,    1,    1,    1,    1,    1,    1,\n",
       "           1,    1,    1,    1,    1,    1,    1, 1501], device='cuda:0')"
      ]
     },
     "execution_count": 12,
     "metadata": {},
     "output_type": "execute_result"
    }
   ],
   "source": [
    "data_path = r\"prepeard_data2.csv\"\n",
    "data_loader = CSVDataLoader(data_path, 32, 2231142)\n",
    "data_loader.open_csv_file()\n",
    "d = data_loader.get_next_batch(w2id[\"<PAD>\"])\n",
    "data_loader.close_csv_file()\n",
    "\n",
    "patch_batch(d[0], w2id[\"<ING>\"], w2id[\"<REC>\"])[0]"
   ]
  },
  {
   "cell_type": "code",
   "execution_count": 13,
   "metadata": {},
   "outputs": [],
   "source": [
    "class Dummy_loader:\n",
    "    def __init__(self, d) -> None:\n",
    "        self.d = d\n",
    "\n",
    "    def reset(self):\n",
    "        pass\n",
    "    def open_csv_file(self):\n",
    "        pass\n",
    "    def batches_left(self):\n",
    "        return 1\n",
    "\n",
    "    def get_next_batch(self, a):\n",
    "        return self.d\n",
    "    "
   ]
  },
  {
   "cell_type": "code",
   "execution_count": 14,
   "metadata": {},
   "outputs": [],
   "source": [
    "class NextTokenPredictor(nn.Module):\n",
    "    def __init__(self, vocab_size, embedding_dim, hidden_dim,num_layers, dropout_rate):\n",
    "        super(NextTokenPredictor, self).__init__()\n",
    "        self.num_layers = num_layers\n",
    "        self.hidden_dim = hidden_dim\n",
    "        self.embedding_dim = embedding_dim\n",
    "\n",
    "        self.embedding = nn.Embedding(vocab_size, embedding_dim)\n",
    "        self.lstm = nn.LSTM(embedding_dim, hidden_dim, num_layers=num_layers, \n",
    "                    dropout=dropout_rate, batch_first=True)\n",
    "        self.dropout = nn.Dropout(dropout_rate)\n",
    "        self.fc = nn.Linear(hidden_dim, vocab_size)\n",
    "\n",
    "        self.init_hidden = nn.Parameter(torch.zeros(1, 1, hidden_dim), requires_grad=True)\n",
    "      \n",
    "\n",
    "    def forward(self, x):\n",
    "       \n",
    "        embedding = self.dropout(self.embedding(x))\n",
    "        output, hidden = self.lstm(embedding)          \n",
    "        output = self.dropout(output) \n",
    "        prediction = self.fc(output)\n",
    "        return prediction\n",
    "class NextTokenPredictor2(nn.Module):\n",
    "    def __init__(self, vocab_size, embedding_dim, hidden_dim,num_layers, dropout_rate):\n",
    "        super(NextTokenPredictor2, self).__init__()\n",
    "        self.num_layers = num_layers\n",
    "        self.hidden_dim = hidden_dim\n",
    "        self.embedding_dim = embedding_dim\n",
    "\n",
    "        self.embedding = nn.Embedding(vocab_size, embedding_dim)\n",
    "        self.lstm = nn.LSTM(embedding_dim, hidden_dim, num_layers=num_layers, \n",
    "                    dropout=dropout_rate, batch_first=True)\n",
    "        self.dropout = nn.Dropout(dropout_rate)\n",
    "        self.fc = nn.Linear(hidden_dim, vocab_size)\n",
    "\n",
    "        self.init_hidden = nn.Parameter(torch.zeros(1, 1, hidden_dim), requires_grad=True)\n",
    "      \n",
    "\n",
    "    def forward(self, x):\n",
    "       \n",
    "        embedding = (self.embedding(x))\n",
    "        output, hidden = self.lstm(embedding)          \n",
    "        output = self.dropout(output) \n",
    "        prediction = self.fc(output)\n",
    "        return prediction"
   ]
  },
  {
   "cell_type": "code",
   "execution_count": 15,
   "metadata": {},
   "outputs": [],
   "source": [
    "# Hyperparameters\n",
    "generator_hidden_size = 3048\n",
    "embed_size = 1500\n",
    "generator_depth = 4\n",
    "drop_rate = 0.11\n",
    "\n",
    "gen_lr  = 0.001\n",
    "batch_size = 8\n",
    "epochs = 1\n",
    "\n",
    "seq_len = 20\n",
    "\n",
    "nr_batches = 200\n",
    "\n",
    "test_size = 1000"
   ]
  },
  {
   "cell_type": "code",
   "execution_count": 16,
   "metadata": {},
   "outputs": [],
   "source": [
    "model_name = \"simpel_model2.pth\"\n",
    "torch.cuda.empty_cache()\n",
    "#a = CSVDataLoader(r\"C:\\Users\\mrmrk\\OneDrive\\Documents\\GitHub\\recipe_generation\\dummy_data.csv\", 1, 1)\n",
    "#a.open_csv_file()\n",
    "#pad1 = w2id[\"<PAD>\"]\n",
    "\n",
    "#dummy_loader = Dummy_loader(a.get_next_batch(pad1))\n",
    "data_loader = CSVDataLoader(data_path, batch_size, data_len - test_size)\n",
    "\n",
    "\n",
    "#data_loader = dummy_loader\n",
    "\n",
    "\n",
    "data_loader.open_csv_file()\n",
    "# Instantiate Generator and Discriminator\n",
    "generator = NextTokenPredictor(len(vocab),embed_size, generator_hidden_size, generator_depth, drop_rate).to(device)\n",
    "\n",
    "\n",
    "\n",
    "# Loss and Optimizer\n",
    "criterion = nn.CrossEntropyLoss()\n",
    "\n",
    "gen_optimizer = optim.Adam(generator.parameters(), lr=gen_lr)\n",
    "lr_scheduler = optim.lr_scheduler.ReduceLROnPlateau(gen_optimizer,mode='min',factor=0.8, patience=10000000, threshold=0.00005)\n",
    "max_grad_norm = 1.0\n",
    "#torch.nn.utils.clip_grad_norm_(discriminator.parameters(), max_grad_norm)\n",
    "#torch.nn.utils.clip_grad_norm_(generator.parameters(), max_grad_norm)\n",
    "\n",
    "\n",
    "avg_gen_losses = []\n",
    "\n",
    "\n",
    "if not os.path.exists(model_name):\n",
    "    for epoch in (range(epochs)):\n",
    "        \n",
    "        data_loader.reset()\n",
    "        batch_nr = 0\n",
    "        total_nr_batches = data_loader.batches_left()\n",
    "        #total_nr_batches =  100\n",
    "        itr =(range(total_nr_batches))\n",
    "        progress_bar = tqdm(total=nr_batches)\n",
    "        for batch_nr in itr:\n",
    "            if batch_nr == nr_batches:\n",
    "                break\n",
    "            \n",
    "            # Training the Discriminator\n",
    "            pad1 = w2id[\"<PAD>\"]\n",
    "        \n",
    "    \n",
    "            real_ingredients, real_recipies = data_loader.get_next_batch(pad1)\n",
    "            real_patched_ings = patch_batch(real_ingredients, \n",
    "                                                w2id[\"<ING>\"],\n",
    "                                                w2id[\"<REC>\"])\n",
    "            \n",
    "            #Generator input does not need to be smoothend\n",
    "            real_batch = torch.concat((real_patched_ings,\n",
    "                                        real_recipies), dim = 1)\n",
    "\n",
    "            if (seq_len >  real_batch.shape[1]):\n",
    "                pass\n",
    "            current_seq_len = min(seq_len,real_batch.shape[1]-1)\n",
    "            gen_losses = []\n",
    "            for index in range(0,real_batch.shape[1]- current_seq_len, current_seq_len):\n",
    "                if current_seq_len < real_batch.shape[1]-index:\n",
    "                    pass\n",
    "                current_seq_len = min(current_seq_len, real_batch.shape[1]-index)\n",
    "                #current_seq_len = seq_len\n",
    "                gen_optimizer.zero_grad()\n",
    "                sequence_x = real_batch[:, index:index+current_seq_len]   \n",
    "                tokens_y = torch.nn.functional.one_hot(real_batch[:, index+1:index+current_seq_len+1]  , len(vocab))\n",
    "                \n",
    "                generated_logits = generator(sequence_x)\n",
    "                \n",
    "                gen_loss = criterion(generated_logits, tokens_y.float()) / current_seq_len\n",
    "                gen_loss.backward()\n",
    "                gen_optimizer.step()\n",
    "                gen_losses.append(gen_loss.item())\n",
    "            batch_avg_loss = sum(gen_losses) / len(gen_losses)\n",
    "            lr_scheduler.step(batch_avg_loss)\n",
    "            avg_gen_losses.append(batch_avg_loss)\n",
    "            progress_bar.update(1)\n",
    "    torch.save({\"drop_rate\": drop_rate, \n",
    "                \"gen_lr\":gen_lr, \n",
    "                \"batch_size\":batch_size, \n",
    "                \"seq_len\":seq_len, \n",
    "                \"nr_batches\":nr_batches, \n",
    "                \"avg_gen_losses\": avg_gen_losses,\n",
    "                \"generator_hidden_size\": generator_hidden_size,\n",
    "                \"embed_size\": embed_size, \n",
    "                \"generator_depth\": generator_depth,\n",
    "                \"model\": generator.state_dict()},\n",
    "                model_name)\n",
    "        \n",
    "\n",
    "        \n",
    "            "
   ]
  },
  {
   "cell_type": "code",
   "execution_count": 17,
   "metadata": {},
   "outputs": [],
   "source": [
    "torch.cuda.empty_cache()\n",
    "generator = NextTokenPredictor(len(vocab),embed_size, generator_hidden_size, generator_depth, drop_rate).to(device)\n",
    "train_data = torch.load(model_name)\n",
    "generator.load_state_dict(train_data[\"model\"])\n",
    "avg_gen_losses = train_data[\"avg_gen_losses\"]"
   ]
  },
  {
   "cell_type": "code",
   "execution_count": null,
   "metadata": {},
   "outputs": [],
   "source": []
  },
  {
   "cell_type": "code",
   "execution_count": 18,
   "metadata": {},
   "outputs": [
    {
     "data": {
      "image/png": "[encoded data removed]",
      "text/plain": [
       "<Figure size 640x480 with 1 Axes>"
      ]
     },
     "metadata": {},
     "output_type": "display_data"
    },
    {
     "data": {
      "text/plain": [
       "0.0013690450505237095"
      ]
     },
     "execution_count": 18,
     "metadata": {},
     "output_type": "execute_result"
    }
   ],
   "source": [
    "import matplotlib.pyplot as plt\n",
    "plt.plot(avg_gen_losses, color = \"red\")\n",
    "plt.show()\n",
    "avg_gen_losses[-1]"
   ]
  },
  {
   "cell_type": "code",
   "execution_count": 19,
   "metadata": {},
   "outputs": [],
   "source": [
    "p_name = model_name[:-4] + \"_perplexities.pth\"\n",
    "\n",
    "if not os.path.exists(p_name):\n",
    "    from torcheval.metrics.text import Perplexity\n",
    "    test_batch_size = 1\n",
    "    data_loader = CSVDataLoader(data_path, test_batch_size, data_len - test_size)\n",
    "    data_loader.open_csv_file()\n",
    "    perplexities = []\n",
    "    with  tqdm(range(int(test_size / test_batch_size))) as itr:\n",
    "        with torch.no_grad():\n",
    "            metric=Perplexity().to(device)\n",
    "            perplexities = []\n",
    "            for i in itr:  # Use your validation data loader\n",
    "                real_ingredients, real_recipies = data_loader.get_next_batch(w2id[\"<PAD>\"])\n",
    "                real_ingredients, real_recipies = real_ingredients.to(device), real_recipies.to(device)\n",
    "                real_patched_ings = patch_batch(real_ingredients, \n",
    "                                                    w2id[\"<ING>\"],\n",
    "                                                    w2id[\"<REC>\"])\n",
    "                real = torch.concat((real_patched_ings,\n",
    "                                            real_recipies), dim = 1).to(device)\n",
    "                real_x = real[:,:-1]\n",
    "                real_y = real[:,1:].to(device)\n",
    "                outputs = generator(real_x).to(device)\n",
    "                #print(outputs.shape, real_y.shape)\n",
    "                metric.update(outputs, real_y)\n",
    "                perplexity = metric.compute()\n",
    "                perplexities.append(perplexity.item())\n",
    "                # calculating perplexity    \n",
    "            torch.save(perplexities, p_name)\n",
    "    perplexities = torch.load(p_name)\n",
    "    sum(perplexities) / len(perplexities)"
   ]
  },
  {
   "cell_type": "code",
   "execution_count": 20,
   "metadata": {},
   "outputs": [
    {
     "data": {
      "text/plain": [
       "205.33668778908276"
      ]
     },
     "execution_count": 20,
     "metadata": {},
     "output_type": "execute_result"
    }
   ],
   "source": [
    "p_name = model_name[:-4] + \"_perplexities_rec.pth\"\n",
    "\n",
    "if not os.path.exists(p_name):\n",
    "    from torcheval.metrics.text import Perplexity\n",
    "    test_batch_size = 1\n",
    "    data_loader = CSVDataLoader(data_path, test_batch_size, data_len - test_size)\n",
    "    data_loader.open_csv_file()\n",
    "    perplexities = []\n",
    "    with  tqdm(range(int(test_size / test_batch_size))) as itr:\n",
    "        with torch.no_grad():\n",
    "            metric=Perplexity().to(device)\n",
    "            perplexities = []\n",
    "            for i in itr:  # Use your validation data loader\n",
    "                real_ingredients, real_recipies = data_loader.get_next_batch(w2id[\"<PAD>\"])\n",
    "                real_ingredients, real_recipies = real_ingredients.to(device), real_recipies.to(device)\n",
    "                ing_len = real_ingredients.shape[1]\n",
    "                real_patched_ings = patch_batch(real_ingredients, \n",
    "                                                    w2id[\"<ING>\"],\n",
    "                                                    w2id[\"<REC>\"])\n",
    "                real = torch.concat((real_patched_ings,\n",
    "                                            real_recipies), dim = 1).to(device)\n",
    "                real_x = real[:,:-1]\n",
    "                real_y = real[:,1:].to(device)\n",
    "                outputs = generator(real_x).to(device)\n",
    "                #print(outputs.shape, real_y.shape)\n",
    "                outputs = outputs[:,ing_len+1:]\n",
    "                real_y = real_y[:,ing_len+1:]\n",
    "                metric.update(outputs, real_y)\n",
    "                perplexity = metric.compute()\n",
    "                perplexities.append(perplexity.item())\n",
    "                # calculating perplexity    \n",
    "            torch.save(perplexities, p_name)\n",
    "perplexities = torch.load(p_name)\n",
    "sum(perplexities) / len(perplexities)"
   ]
  },
  {
   "cell_type": "code",
   "execution_count": 21,
   "metadata": {},
   "outputs": [
    {
     "data": {
      "text/plain": [
       "218.24330149257494"
      ]
     },
     "execution_count": 21,
     "metadata": {},
     "output_type": "execute_result"
    }
   ],
   "source": [
    "perplexities[100]"
   ]
  },
  {
   "cell_type": "code",
   "execution_count": 22,
   "metadata": {},
   "outputs": [
    {
     "data": {
      "text/plain": [
       "285349694"
      ]
     },
     "execution_count": 22,
     "metadata": {},
     "output_type": "execute_result"
    }
   ],
   "source": [
    "sum(p.numel() for p in generator.parameters()) "
   ]
  },
  {
   "cell_type": "code",
   "execution_count": 23,
   "metadata": {},
   "outputs": [
    {
     "data": {
      "text/plain": [
       "613.2825921306227"
      ]
     },
     "execution_count": 23,
     "metadata": {},
     "output_type": "execute_result"
    }
   ],
   "source": [
    "175000000000 / sum(p.numel() for p in generator.parameters()) "
   ]
  },
  {
   "cell_type": "code",
   "execution_count": 24,
   "metadata": {},
   "outputs": [],
   "source": [
    "from nltk.tokenize import word_tokenize"
   ]
  },
  {
   "cell_type": "code",
   "execution_count": 25,
   "metadata": {},
   "outputs": [],
   "source": [
    "def encode(prompt, dic):\n",
    "    return [dic.get(t.lower(),dic[\"<UKN>\"]) for t in word_tokenize(prompt)]"
   ]
  },
  {
   "cell_type": "code",
   "execution_count": 26,
   "metadata": {},
   "outputs": [
    {
     "data": {
      "text/plain": [
       "[0, 733, 64, 209, 0, 10, 90, 855]"
      ]
     },
     "execution_count": 26,
     "metadata": {},
     "output_type": "execute_result"
    }
   ],
   "source": [
    "encode(\"1. break milk I brew a cool candy\", w2id)"
   ]
  },
  {
   "cell_type": "code",
   "execution_count": 27,
   "metadata": {},
   "outputs": [],
   "source": [
    "def decode(answer, dic):\n",
    "    return \" \".join([dic[i] for i in answer])"
   ]
  },
  {
   "cell_type": "code",
   "execution_count": 28,
   "metadata": {},
   "outputs": [
    {
     "data": {
      "text/plain": [
       "'we bake a <UKN> cake'"
      ]
     },
     "execution_count": 28,
     "metadata": {},
     "output_type": "execute_result"
    }
   ],
   "source": [
    "decode(encode(\"we bake a NLP cake\", w2id), id2w)"
   ]
  },
  {
   "cell_type": "code",
   "execution_count": 29,
   "metadata": {},
   "outputs": [],
   "source": [
    "def topk(next_logits, k):\n",
    "    next_probs = torch.softmax(next_logits, dim=1)\n",
    "    topk_values, topk_indices = torch.topk(next_probs, k, dim=1)\n",
    "    topk_values, topk_indices = topk_values.to(device), topk_indices.to(device)\n",
    "    topk_index_indices = torch.multinomial((topk_values), 1).squeeze(1).to(device)\n",
    "    next_tokens = topk_indices[\n",
    "        torch.arange(topk_index_indices.shape[0]), topk_index_indices]\n",
    "    return next_tokens"
   ]
  },
  {
   "cell_type": "code",
   "execution_count": null,
   "metadata": {},
   "outputs": [],
   "source": []
  },
  {
   "cell_type": "code",
   "execution_count": 30,
   "metadata": {},
   "outputs": [],
   "source": [
    "def generate(prompt, generator, min_len, max_len, strat):\n",
    "    t = torch.tensor(encode(prompt, w2id)).unsqueeze(0).to(device)\n",
    "    batch = (patch_batch(t,\n",
    "                                w2id[\"<ING>\"],\n",
    "                                w2id[\"<REC>\"]))\n",
    "    for i in range(max_len):\n",
    "        answer = generator(batch)[:,-1, :]\n",
    "        valid_choices = answer[:,:-2]\n",
    "        if i < min_len:\n",
    "            valid_choices[:,1] = 0\n",
    "        new_token = strat(valid_choices)\n",
    "        if id2w[new_token.item()] == \"<PAD>\":\n",
    "            break\n",
    "        batch = torch.concat((batch, new_token.unsqueeze(1)), dim = 1)\n",
    "        \n",
    "\n",
    "    return decode([i.item() for i in batch[0]], id2w)"
   ]
  },
  {
   "cell_type": "code",
   "execution_count": 31,
   "metadata": {},
   "outputs": [
    {
     "data": {
      "text/plain": [
       "'teaspoon drain will of'"
      ]
     },
     "execution_count": 31,
     "metadata": {},
     "output_type": "execute_result"
    }
   ],
   "source": [
    "decode([31, 140, 208, 16], id2w)"
   ]
  },
  {
   "cell_type": "code",
   "execution_count": 32,
   "metadata": {},
   "outputs": [
    {
     "name": "stdout",
     "output_type": "stream",
     "text": [
      "['cm', 'pancakes', 'air', 'oyster', 'maraschino', 'cashews', 'butterscotch', 'toppings', 'finished', 'crisp-tender', 'pepperoni', 'browns', 'flame', 'seedless', 'dinner', 'saffron', 'chunky', 'pam', 'relish', '6-8', 'flat-leaf', 'bath', 'miracle', 'pimento', 'unpeeled', 'grnd', 'scatter', '450Â°', 't.', 'stewed', 'weed', 'wild', 'release', 'cupcake', 'pale', 'turns', 'skinned', 'walnut', 'scallion', 'starch', 'reduced-fat', 'week', 'strip', 'browning', 'loin', 'works', 'drink', 'kernel', 'diagonally', '375f', 'calories', 'bite-size', '...', 'popcorn', 'test', 'could', 'limes', '-4', 'philadelphia', 'barley', 'sprinkling', 'bourbon', 'hrs', 'find', 'and/or', 'organic', 'undiluted', '10-12', 'dollop', 'pureed', 'wipe', 'sauerkraut', 'bulk', 'rim', 'briefly', 'polenta', 'burgers', 'hazelnuts', 'pop', 'baguette', '400f', 'nicely', 'circles', 'mussels', 'ovenproof', 'pancetta', 'pipe', 'low-sodium', '1-1/4', 'tie', '400Â°f', 'sear', 'pressed', '55', 'shelled', 'simple', 'whatever', 'crusty', '<ING>']\n"
     ]
    }
   ],
   "source": [
    "print(list(w2id.keys())[-100:-1])"
   ]
  },
  {
   "cell_type": "code",
   "execution_count": null,
   "metadata": {},
   "outputs": [],
   "source": [
    "seed = 1337\n",
    "torch.manual_seed(seed)\n",
    "if torch.cuda.is_available():\n",
    "    torch.cuda.manual_seed(seed)\n",
    "    torch.backends.cudnn.deterministic = True\n",
    "    torch.backends.cudnn.benchmark = False\n",
    "ing, rec = \"1 tsp. olive oil * 1 1/2 lb. skinless, boneless chicken-breat halves * 1/2 tsp. dried oregano * salt and pepper * 1/4 c. tahini * 1/4 c. water * 3 tbsp. nonfat plain yogurt * 1 tbsp. fresh lemon juice * 1 clove garlic * 1/4 c. Cilantro leaves * 1/4 tsp. ground red pepper (cayenne) * 4 pitas * 2 c. romaine lettuce * 1/2 seedless cucumber * 1 large tomato * 2 green onions\",\"In 12-inch nonstick skillet, heat oil 1 minute on medium. Sprinkle chicken with oregano, 1/4 teaspoon salt, and 1/4 teaspoon freshly ground black pepper, and toss to coat. Add chicken to skillet and cook 5 to 7 minutes or until chicken is no longer pink throughout. Transfer chicken to plate or bowl; cover with foil to keep warm. Meanwhile, make tahini sauce: In small bowl, with wire whisk, combine tahini, water, yogurt, lemon juice, and garlic. Stir in cilantro, ground red pepper, 1/4 teaspoon salt, and 1/4 teaspoon freshly ground black pepper. Makes about 3/4 cup tahini sauce. To serve, cut off one-fourth of each pita and save for use another day. Carefully open each pita pocket and fill with one-fourth each romaine, cucumber, tomato, chicken, and green onions. Top with tahini sauce; serve gyros with any additional sauce on the side.\"\n",
    "gens = []\n",
    "generator.eval()\n",
    "with torch.no_grad():\n",
    "    for i in range(10):\n",
    "        gens.append(((generate(ing, generator,0, 100, lambda p: topk(p,50))).split(\"<REC>\")[1]))\n",
    "print()\n",
    "print(gens)"
   ]
  },
  {
   "cell_type": "markdown",
   "metadata": {},
   "source": [
    "Genrations of model"
   ]
  },
  {
   "cell_type": "code",
   "execution_count": null,
   "metadata": {},
   "outputs": [
    {
     "name": "stdout",
     "output_type": "stream",
     "text": [
      "73  ( until desired to brown on 12-inch batter , then serve until thick of bubbly from crisp-tender for needed ( 10 inch apart , or not brown spray on crumbs , salt ale or nuts or a desired addition of pot into 12-inch ( margarine or a wooden better ) thermometer cheese ; remove from freezer with whipped spray , salt , salt in pepper , onion in 325Â° crumbs until needed\n",
      "21  bake until done ( not be blended on serving pot until done until needed , then in serving saucepan !\n",
      "68  place until or 13-inch ( skillet on serving of paper comes until 13-inch brown comes to coat , then brown water for garnish into margarine ( 10 inches amount on a addition comes after needed to coat in serving butter or desired a bubbly comes with milk , spread salt ( no 30 oz servings oz easily after fold in serving ) servings over serving f .\n",
      "21  ( until desired or necessary dash from paper , etc into ( less from knife ) until set through desired\n",
      "101  dash ( no 4 or two inches or less until set when needed : on oven , serve until thickened is crumbly form apart into serving balls ( until thick comes with whipped be margarine on waxed tender , then pour in refrigerator : turning until bubbly comes into addition , salt , pepper and cool peel makes 10 servings , then drain from servings to prevent serving crust ; makes into greased pot servings servings to directions for taste or into pan on pot for taste from tender comes with water . place on ungreased pan ) in refrigerator\n",
      "23  refrigerate until set ( until desired , spread or on oven until used on tablespoons , then fold into for garnish run\n",
      "42  pour until needed until done ( optional or get or blue chicken favorite if desired , not desired on serving addition ( optional have with on lemons ( needed to brown , then use needed inches pie pot easily ) servings\n",
      "1 \n",
      "69  brush until knife ( use desired pie or powdered or walnuts on serving cheese , pour into desired tins ( if desired pan on tablespoons pot ( needed not refrigerate until done in oven for clean directions , stirring not ) of blue cheese over serving onion , salt and lemon pepper for 50 to 15 minutes ( no directions a 1/4-inch in necessary serving crust easily )\n",
      "88  broil ( rise desired or less or until brown dash to serve until thick is tender , drain , until desired dissolves with salt until desired brown , taste ( until needed of batter ) until thick form been form on dash pot on medium-high comes for into water , until wooden brown comes is tender ball to serving size tins on baking dish on waxed boiler ( brown into consistency servings ) . serve from amount ; yields cool to creamed prevent pie from sticking .\n"
     ]
    }
   ],
   "source": [
    "for g in gens:\n",
    "    print(len(g.split(\" \")), g)"
   ]
  }
 ],
 "metadata": {
  "kernelspec": {
   "display_name": ".venv",
   "language": "python",
   "name": "python3"
  },
  "language_info": {
   "codemirror_mode": {
    "name": "ipython",
    "version": 3
   },
   "file_extension": ".py",
   "mimetype": "text/x-python",
   "name": "python",
   "nbconvert_exporter": "python",
   "pygments_lexer": "ipython3",
   "version": "3.10.11"
  }
 },
 "nbformat": 4,
 "nbformat_minor": 2
}
