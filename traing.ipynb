{
 "cells": [
  {
   "cell_type": "code",
   "execution_count": 78,
   "metadata": {},
   "outputs": [],
   "source": [
    "import torch\n",
    "import torch.nn as nn\n",
    "import torch.optim as optim\n",
    "from torch.nn.utils.rnn import pad_sequence\n",
    "import csv\n",
    "from tqdm import tqdm\n",
    "import torch.nn.functional as F"
   ]
  },
  {
   "cell_type": "code",
   "execution_count": 79,
   "metadata": {},
   "outputs": [],
   "source": [
    "device = \"cuda\" if torch.cuda.is_available() else \"cpu\"\n"
   ]
  },
  {
   "cell_type": "code",
   "execution_count": 80,
   "metadata": {},
   "outputs": [],
   "source": [
    "base_path = r'C:\\Users\\mrmrk\\OneDrive\\Documents\\GitHub\\recipe_generation\\\\'\n",
    "\n",
    "ids_path = 'prepeard_data.csv'\n",
    "ing_vocab_path = \"ingredient_vocab.csv\"\n",
    "rec_vocab_path = \"recipie_vocab.csv\"\n",
    "\n",
    "data_len = 2231142"
   ]
  },
  {
   "cell_type": "code",
   "execution_count": 81,
   "metadata": {},
   "outputs": [
    {
     "name": "stdout",
     "output_type": "stream",
     "text": [
      "['<UKN>', '<PAD>', '.', ',', 'and', 'the', 'in', 'to', 'a', 'with', 'until', 'add', 'of', 'minutes', 'for', 'or', 'on', 'into', 'heat', 'over', ';', 'mix', 'cook', 'bowl', 'pan', 'stir', 'mixture', '1', 'salt', 'bake', 'at', 'place', 'about', 'water', 'sugar', ')', 'is', '(', 'oven', 'it', 'butter', '2', 'oil', 'large', 'top', 'ingredients', 'combine', 'pour', 'pepper', 'cheese', 'from', 'remove', 'well', 'baking', 'serve', 'then', 'flour', 'cream', 'cover', 'sauce', 'chicken', 'cool', 'together', 'medium', 'all', 'you', 'brown', 'remaining', 'if', 'each', 'cut', 'let', 'boil', 'set', 'sprinkle', 'cup', '5', '3', 'onion', 'are', '1/2', 'milk', 'garlic', '10', 'dough', 'stirring', 'beat', 'small', 'skillet', 'egg', 'simmer', 'dish', ':', 'preheat', 'bring', 'drain', 'put', 'eggs', '4', 'out', 'as', 'juice', '30', 'hot', 'up', 'hours', 'half', 'spread', 'be', 'aside', 'saucepan', 'your', 'when', 'make', 'degrees', '15', '350Â°', 'lightly', 'them', 'smooth', 'an', 'sheet', 'tender', 'meat', 'before', 'spoon', 'not', 'this', 'onions', 'cake', 'hour', 'vanilla', 'just', 'side', 'can', 'serving', 'potatoes', 'use', 'bread', 'low', 'dry', 'more', 'one', 'lemon', 'roll', 'pot', '20', 'golden', 'will', 'using', 'whisk', 'season', 'rice', 'warm', 'chocolate', 'powder', 'cooking', 'saute', 'bottom', '8', 'paper', 'turn', 'transfer', 'olive', 'high', 'through', 'time', 'pieces', 'refrigerate', 'layer', 'toss', 'taste', 'do', 'by', 'blend', '6', 'melted', 'melt', 'tomatoes', 'x', 'cups', 'sides', 'reduce', 'cooked', 'slices', 'soup', 'off', '1/4', 'batter', '!', 'slice', 'greased', 'onto', 'i', 'chill', 'but', 'minute', 'desired', 'coat', 'pie', 'down', 'fold', 'tablespoons', '350', 'browned', 'vegetables', 'grill', 'evenly', 'beef', 'that', 'liquid', 'gently', 'rack', 'beans', 'slightly', 'so', 'center', 'cookie', 'spray', 'inch', 'occasionally', 'once', 'while', 'done', 'broth', 'thick', 'foil', 'completely', 'chopped', 'bacon', 'crust', 'they', 'green', 'pasta', 'have', 'boiling', 'stand', 'min', 'filling', 'tomato', 'plate', 'another', '9', 'vinegar', 'food', 'soft', 'nuts', 'temperature', 'casserole', 'little', 'wrap', 'keep', 'after', 'teaspoon', 'cinnamon', 'mixing', 'tablespoon', 'very', 'ice', 'cold', 'mixer', 'parsley', 'first', 'covered', '45', 'crumbs', 'blender', 'medium-high', 'some', 'mushrooms', 'press', '12', 'form', 'enough', 'two', 'allow', 'blended', \"'s\", 'garnish', 'least', 'dressing', 'till', 'other', 'sour', 'has', \"''\", 'fry', 'chips', 'makes', 'processor', 'grease', 'corn', 'pork', 'plastic', 'soda', 'refrigerator', 'any', 'like', 'should', 'continue', 'immediately', 'rest', 'brush', 'clean', 'drizzle', 'arrange', 'syrup', 'peel', 'celery', 'thoroughly', 'margarine', 'speed', \"n't\", 'salad', 'few', 'room', 'fat', 'prepared', '25', 'red', 'peppers', 'constantly', 'return', 'white', 'overnight', 'fish', 'surface', 'fork', 'microwave', 'chop', 'around', 'ground', 'noodles', 'leaves', '&', 'stock', 'take', 'shrimp', 'prepare', 'bag', 'longer', 'wine', 'meanwhile', 'combined', 'gradually', 'heavy', 'edges', 'pans', 'carrots', 'seeds', 'coconut', 'orange', 'ready', 'line', 'fill', 'floured', 'knife', 'balls', 'both', 'may', 'light', 'seconds', 'comes', 'back', 'glass', 'wire', 'repeat', 'pastry', 'uncovered', 'divide', 'roast', 'shape', 'slowly', 'pineapple', '-', 'mustard', 'whip', '40', 'seasoning', 'ginger', 'parmesan', 'container', 'cookies', 'paste', 'loaf', 'firm', 'drop', 'fresh', 'fruit', 'enjoy', 'turning', 'package', 'thin', 'whites', 'dip', 'sausage', 'too', '7', 'sift', 'potato', 'black', 'lime', 'topping', 'apples', 'f.', 'process', 'f', 'according', 'separate', '*', 'except', 'store', 'mins', 'thickened', 'parchment', 'size', 'discard', 'basil', 'spinach', 'marinade', 'next', 'puree', 'sheets', 'recipe', 'sure', 'adding', 'muffin', 'no', 'inches', 'chili', 'directions', 'freeze', 'again', 'carefully', 'ball', 'whipped', 'pecans', 'tbsp', 'skin', 'shallow', 'electric', 'honey', 'soy', 'additional', 'heated', 'pudding', 'broccoli', 'mayonnaise', 'vegetable', 'between', 'cilantro', '3/4', 'needed', '9-inch', 'sliced', 'yolks', 'lid', 'piece', 'preheated', 'per', 'frying', 'fluffy', 'cubes', 'strips', 'servings', 'rinse', 'crisp', 'cornstarch', 'shortening', 'inserted', 'reserved', '375Â°', '35', '13', 'thyme', 'zest', 'nonstick', 'leave', 'also', 'peanut', 'powdered', 'get', 'coated', 'shell', 'seal', 'platter', 'crackers', 'still', 'mixed', 'deep', 'apple', 'excess', 'softened', '1/3', 'bit', 'cooled', 'turkey', 'squash', 'spatula', 'rolls', 'cabbage', 'juices', 'spices', 'beating', 'reserve', 'rise', 'approximately', 'cocoa', 'grated', 'ham', 'yeast', 'round', '375', 'want', 'serves', 'pat', 'necessary', 'layers', 'dissolve', 'c', 'note', 'peas', 'wash', 'zucchini', 'knead', 'towels', 'shake', 'good', 'several', 'strain', 'consistency', 'freezer', 'bay', 'lettuce', 'used', 'sit', 'chilled', 'amount', 'towel', 'almonds', 'hand', 'frozen', 'frequently', 'hands', 'under', '13-inch', 'extract', 'steak', 'yogurt', 'toothpick', 'raisins', 'same', 'mash', 'flakes', 'possibly', 'crushed', 'break', 'nutmeg', 'creamy', '400Â°', 'paprika', 'long', 'dissolved', 'need', 'stiff', 'stick', 'sweet', 'apart', 'whole', 'squares', 'work', 'tortilla', '400', 'bell', 'toast', 'rub', 'frosting', 'chops', 'start', 'times', 'double', 'ungreased', '325Â°', 'last', 'almost', 'wooden', 'cumin', 'buttermilk', 'glaze', 'day', 'dutch', 'oregano', 'square', 'finely', 'middle', 'salted', 'bowls', 'scoop', 'along', 'pinch', 'tightly', 'salmon', 'wedges', '``', 'soak', 'bubbly', 'end', 'cutting', 'pink', '50', 'making', 'buttered', 'broiler', 'medium-low', 'full', 'seasonings', 'often', 'tsp', 'tortillas', 'strawberries', 'slow', 'edge', 'days', 'cooker', 'teaspoons', '--', 'lay', 'roasting', 'plates', 'walnuts', 'leaf', 'sesame', 'jar', 'broil', 'gelatin', 'beaten', 'marinate', 'even', '350f', 'adjust', 'much', 'shredded', 'been', 'cloves', 'leaving', 'pulse', 'fridge', 'olives', 'extra', 'pizza', 'scrape', 'tops', 'only', 'now', 'batches', 'pumpkin', 'than', 'made', 'squeeze', 'salsa', 'fine', 'color', 'lower', 'quickly', 'inside', 'bananas', 'second', 'airtight', 'peaks', 'board', '2-3', 'lengthwise', 'way', 'soften', 'mint', 'ahead', 'everything', 'toasted', 'patties', 'wet', 'asparagus', 'begin', 'shells', 'its', 'lined', 'mozzarella', 'breasts', 'mushroom', 'steam', 'begins', 'jars', 'away', 'three', '1/2-inch', 'every', 'flat', 'chunks', 'eggplant', 'open', 'without', 'dried', 'breast', 'halves', '24', 'rolling', 'carrot', 'spaghetti', '350Â°f', 'my', 'thermometer', 'crumble', 'diced', 'reduced', 'cheddar', 'these', 'flavor', 'cayenne', 'stuffing', 'icing', 'which', 'tray', 'aluminum', 'step', 'thickens', 'addition', 'berries', '1-inch', 'oats', 'four', 'coffee', 'there', 'run', 'tin', 'ribs', 'shallots', 'trim', 'lamb', 'meatballs', 'flip', 'worcestershire', 'wok', 'wax', 'thicken', 'single', 'bits', 'c.', 'directed', 'best', 'bean', 'whisking', 'melts', 'baked', 'slotted', 'rosemary', 'flatten', 'thickness', \"'\", 'biscuits', 'cracker', 'herbs', 'spice', 'racks', 'ends', 'greens', 'incorporated', 'caramel', 'reserving', 'almond', 'their', 'gravy', 'forms', 'cherries', 'absorbed', 'curry', 'drained', 'macaroni', 'marshmallows', 'prevent', 'does', 'stove', '2-inch', 'waxed', 'drippings', 'minced', 'avocado', 'alternately', 'veggies', 'depending', 'right', 'moderate', 'steaks', 'fragrant', 'quart', 'custard', 'dust', '8-inch', 'translucent', 'scallions', 'among', 'check', 'yolk', 'confectioners', 'easily', 'simmering', 'point', 'dice', 'candy', 'graham', 'crispy', 'jello', 'come', 'peaches', 'boiler', 'cucumber', 'chives', 'thinly', 'couple', 'removing', 'tip', 'starts', '325', 'hold', \"'re\", 'seed', 'circle', 'sharp', 'mold', 'cauliflower', 'hamburger', 'eat', 'tube', 'stir-fry', 'banana', 'dill', 'equal', 'grate', '60', 'cakes', 'flavors', 'measure', 'evaporated', 'nice', '1-2', 'jelly', 'part', 'see', 'careful', 'halfway', '3-4', 'mashed', '2/3', 'ladle', 'added', 'finish', 'coarse', 'increase', 'meal', 'sugars', 'tart', 'scraping', 'great', 'generously', 'bars', 'tofu', 'during', 'clear', 'degree', 'sieve', 'pound', 'base', 'punch', 'creamed', 'cranberries', 'cutter', 'cherry', 'possible', 'fingers', 'stems', 'give', 'fillets', 'tuna', 'uncover', 'hard', '2-quart', '10-inch', 'non-stick', 'yield', 'doubled', 'working', 'fully', 'refrigerated', 'most', 'rectangle', 'tea', 'above', 'served', 'favorite', 'yields', 'jam', 'starting', 'burn', 'kitchen', 'coriander', 'instructions', 'close', 'cooling', 'sandwich', 'dark', 'cornmeal', 'ricotta', 'optional', 'pull', 'roasted', 'breadcrumbs', 'iron', 'oleo', '15-20', '18', 'wide', 'moistened', 'individual', 'crush', 'pressing', 'metal', 'italian', '12-inch', 'portion', 'glasses', 'bubbles', 'less', 'fennel', 'colander', 'rounds', 'handle', 'maple', 'touch', 'sticky', 'cheeses', 'order', 'peanuts', 'reaches', 'jalapeno', 'al', 'rind', 'dente', 'moist', 'muffins', 'frost', 'five', 'go', 'better', 'big', 'bite', 'chiles', 'third', 'blueberries', '425', 'either', 'ketchup', 'granulated', 'box', 'we', 'crumbly', 'coarsely', 'strainer', 'dozen', 'shred', 'total', 'sticks', '10-15', 'fit', 'skewers', 'portions', 'measuring', 'taco', 'would', 'running', 'bouillon', 'buns', 'grind', '300Â°', 'left', '175', 'g', 'cereal', 'create', 'become', 'meringue', 'crumb', 'stuff', 'loosen', 'outside', 'coating', 'beginning', 'crab', '16', 'save', 'invert', 'lift', 'cucumbers', 'sprayed', 'barbecue', '425Â°', 'chile', 'bones', 'sized', '9x13', 'chilies', 'look', '1/4-inch', 'seasoned', 'biscuit', 'fitted', 'skins', 'lentils', 'how', 'doneness', '8-10', 'across', 'pears', 'vinaigrette', 'substitute', 'sage', 'oiled', 'later', 'fried', 'crock', 'becomes', 'beets', 'texture', 'bundt', 'rum', 'sprouts', 'dishes', '1/8', 'yellow', 'machine', 'delicious', 'griddle', 'because', 'wings', 'dissolves', 'tins', 'loosely', 'rimmed', 'cocktail', 'easy', 'assemble', 'really', 'dredge', 'dot', 'firmly', 'try', 'setting', 'partially', 'sandwiches', '20-25', 'loaves', 'twice', 'rings', 'was', 'oranges', 'molasses', 'help', 'scallops', 'bone', 'moderately', 'sticking', 'larger', '11', 'beer', 'tossing', 'cottage', 'lumps', 'weeks', 'quarters', 'swirl', 'choice', 'entire', 'bubbling', 'sherry', 'cube', 'being', 'condensed', 'wheat', 'pin', 'attachment', 'feta', 'resembles', 'freshly', 'wilted', 'skewer', 'usually', \"'ll\", 'holes', 'dipping', 'rubber', 'flesh', 'leeks', 'decorate', 'skim', 'crosswise', 'thaw', 'split', 'pressure', 'raw', 'reheat', 'smaller', 'springform', 'whipping', 'lowfat', 'slicing', 'prefer', 'core', '4-5', 'pulp', 'sea', 'coloring', 'pesto', 'topped', '450', 'position', 'basting', 'quarter', 'pick', 'air', 'crisp-tender', 'level', 'instead', 'strawberry', 'scatter', '450Â°', 'filled', 'finished', 'french', 'sprigs', 'dates', 'pack', 'bath', 'ramekins', 'flame', 'mayo', 'stew', 'warmed', 'crumbled', 'cupcakes', 'parts', 'release', 'cheesecake', '%', 'creme', 'week', 'raspberries', 'dessert', 'clams', 'shallot', '375f', 'pancakes', 'six', 'cupcake', 'quinoa', 'test', 'turns', 'pancake', 'hrs', 'wipe', 'calories', 'roughly', 'dollop', 'canned', 'diameter', 'leftover', 'kale', 'briefly', 'balsamic', 'stem', 'quarts', '400f', 'browning', 'pam', 'rim', 'cans', 'jell-o', '400Â°f', 'pipe', 'mini', 'ovenproof', 'nicely', 'applesauce', 'sear', '14', 'vigorously', 'plain', 'couscous', 'spring', '10-12', 'bags', 'insert', 'rounded', 'cider', 'oatmeal', 'spoonfuls', 'mango', 'foamy', 'pine', 'pop', '6-8', 'circles', 'microwave-safe', 'burgers', 'push', 'duck', 'baste', 'pale', 'cranberry', 'barely', 'oz', '25-30', 'spreading', 'ounces', 'cloth', 'easier', 'seam', 'secure', 'directly', 'ending', 'tongs', 'artichokes', 'could', '55', 'caramelized', 'tartar', 'log', 'stop', '5-10', 'slide', 'gas', 'bubble', 'cooks', 'tear', 'kettle', 'strip', 'quite', 'unbaked', 'mince', 'generous', 'moisture', 'capers', 'sifted', 'incorporate', 'turmeric', 'coals', 'distribute', '3-5', 'chickpeas', 'fire', 'marshmallow', 'phyllo', 'tbs', 'moisten', 'peppercorns', 'rhubarb', 'grilled', 'crusts', '...', '300', 'move', 'looks', 'tie', 'liners', 'boiled', 'ring', 'free', 'toppings', 'puff', 'shaker', 'remainder', 'months', 'stage', 'cm', 'own', 'bottoms', 'find', 'throw', 'crack', 'shapes', 'registers', '1/2-quart', 'arugula', 'shaking', 'boils', 'breaking', 'damp', 'tight', 'within', 'allspice', '180c', 'watch', 'brownies', 'dash', 'further', 'regular', 'paddle', 'croutons', 'puffed', 'dumplings', 'pitcher', 'goat', 'placing', 'here', '200', 'crisco', 'gets', '1-1/2', 'heaping', 'apricots', 'stream', 'batch', 'canola', 'veal', 'preserves', 'lukewarm', 'charred', 'what', 'soups', 'peach', 'avoid', 'short', 'ml', 'etc', 'pita', 'grain', 'chestnuts', 'artichoke', 'tarragon', '375Â°f', 'hole', 'instant', 'brandy', 'blue', 'polenta', 'heatproof', 'sausages', 'following', 'foam', 'bun', 'flavoring', 'such', '3-quart', 'bottle', 'prick', 'recipes', 'mound', 'steamer', 'separately', 'many', 'cast', 'table', 'packet', 'rolled', 'sprinkled', 'smoking', 't', 'kosher', 'crescent', 'halve', 'jalapenos', 'fillet', 'teaspoonfuls', 'crock-pot', 'blade', 'head', 'counter', 'protein', 'mussels', 'dont', 'below', '..', 'r', 'covering', 'drink', 'liqueur', 'cornbread', 'power', 'lasagna', 'maker', 'tips', 'allowing', 'elastic', 'popcorn', 'stockpot', 'works', 'containers', 'well-greased', 'spoonful', 'opaque', 'clove', 'leftovers', 'til', 'outer', 'feel', 'horseradish', 'wait', 'drops', 'crockpot', 'whatever', 'stack', 'uncooked', 'pear', 'mine', 'finger', 'and/or', 'takes', 'solids', 'toothpicks', 'sweetened', 'roux', 'resealable', 'dinner', 'quick', 'blending', 'cheesecloth', 'browns', 'wo', 'forming', \"'ve\", 'contents', 'finally', 'frothy', 'smoke', 'wafers', 'alternating', 'always', 'notes', 'night', 'grapes', 'follow', 'manufacturer', 'might', 'fluff', 'charcoal', 'raspberry', 'thread', 'soon', 'discarding', '?', 'simple', 'grilling', 'poke', 'crusty', 'legs', 'overcook', 'leek', 'removed', 'flours', 'empty', 'pickles', 'triangles', 'corner', 'pureed', 'wish', 'cavity', 'reach', 'starch', 'safe', 'stored', 'heating', 'plus', 'burning', 'lobster', 'brine', 'sauteed', '3-inch', 'amounts', 'ensure', 'brownie', 'space', 'twist', 'prosciutto', 'swiss', 'cubed', 'herb', 'liking', 'near', 'molds', 'centre', 'listed', 'keeping', 'patty', 'kernels', 'healthy', 'internal', 'bbq', 'vodka', 'overlapping', 'disk', 'cardamom', 'root', 'thawed', 'pancetta', 'peeled', 'fruits', 'advance', 'gentle', '20-30', 'remain', 'de', 'tabasco', '5-7', 'nearly', 'panko', 'thirds', 'pecan', 'lot', 'tester', 'different', 'method', 'brisket', '30-35', 'formed', 'going', 'garnished', 'preferably', 'smoked', 'against', 'barley', 'alternate', 'sections', 'diagonally', 'wrapped', 'hearts', 'lids', 'cast-iron', 'chipotle', 'slits', 'spicy', 'dump', 'pretty', 'replace', 'people', 'half-and-half', 'waffle', 'raise', 'including', 'fudge', 'followed', 'ale', '5-6', 'lemons', 'wrapper', 'gallon', 'saffron', 'did', 'eight', 'colored', 'blanch', 'drip', 'masher', 'keeps', '180', 'border', 'tough', 'med', 'approx', 'soaked', 'nut', 'burger', 'me', 'ounce', 'sodium', 'chorizo', 'thighs', 'chilli', 'string', 'where', 'throughout', 'tenderloin', 'thicker', 'sprinkling', 'deglaze', 'absorb', 'must', 'crepe', 'brushing', 'steamed', 'sealed', 'reads', 'burner', 'pyrex', 'relish', 'pierce', '12-15', 'wedge', 'final', 'crabmeat', 'bulk', 'seafood', 'oysters', 'pies', 'virgin', 'think', 'apricot', 'pattern', 'new', 'thickest', 'those', 'qt', 'fiber', 'cools', 'ten', 'sauerkraut', 'simply', 'baby', 'pretzels', 'okra', 'cashews', 'heavy-duty', 'preparing', 'velveeta', 'pass', 'stone', 'important', 'rare', 'tablespoonfuls', 'steep', 'bite-size', 'piping', 'unroll', 'saute/fry', 'ganache', 'harden', 'ranch', 'pepperoni', 'basket', 'pile', 'tiny', 'tastes', 'walnut', 'glossy', 'broken', 'mortar', 'pre-heat', 'instant-read', 'alternatively', 'fryer', 'figs', 'continuously', 'fall', 'fairly', 'avocados', 'caps', 'horizontally', 'sprig', 'letting', 'pierced', 'poppy', 'stuffed', '#', 'liberally', 'transparent', 'splash', 'real', 'tested', 'baguette', '250Â°', 'bed', 'jack', 'fraiche', 'star', '1-quart', '35-40', 'hazelnuts', 'dijon', 'grinder', 'score', 'rectangles', 'taking', 'paper-lined', 'plenty', 'centers', '4-6', '30-40', 'reached', 'style', 'pcs', 'folding', 'tall', 'proof', 'perfect', 'appear', 'unmold', 'mascarpone', 'oyster', 'sterilized', 'oblong', 'results', '13x9', 'pint', 'holds', 'care', 'tap', 'since', '165', 'runny', 'dipped', 'grits', 'rotating', 'meats', 'seems', 'intervals', 'chutney', 'temp', 's', 'beater', '325f', 'solid', 'soaking', 'medium-sized', 'heavy-bottomed', 'scallion', 'cutlets', 'chard', 'loose', 'placed', 'gone', 'month', 'ones', 'bourbon', 'bite-sized', 'kept', 'prep', 'hash', 'hollow', 'corners', 'looking', 'given', 'florets', 'fahrenheit', 'volume', 'slit', 'grapefruit', 'morning', 'were', 'mousse', 'crunchy', 'logs', 'stalks', 'tasty', '190', 'concentrate', 'steel', 'handful', '100', 'morsels', 'gather', 'immersion', 'lowest', 'atop', 'foil-lined', 'goes', 'slaw', 'chunky', 'mushy', 'closed', 'bright', 'had', 'medium-rare', 'steady', 'brand', 'pickle', 'catsup', 'grams', 'tuck', 'melon', 'section', 'trays', 'espresso', 'vary', 'rich', 'mark', 'brussels', 'preparation', 'radishes', 'door', 'pistachios', '325Â°f', 'putting', 'cholesterol', 'yet', 'pouring', 'rectangular', 'old', 'ravioli', '250', 'omit', 'worry', 'love', 'liquids', 'know', 'fries', 'crepes', 'caramelize', 'eating', 'enchilada', 'read', 'cracked', 'risen', 'oat', 'available', '160', 'pestle', 'flake', 'orzo', 'marmalade', 'kidney', 'bird', 'diagonal', 'curd', '3/4-inch', 'anchovies', 'masala', 'length', 'bar', 'pwdr', 'butterscotch', 'needs', 'evaporates', 'angel', 'triangle', 'grape', '4-quart', 'pomegranate', 'equally', 'upside', 'forks', 'layering', '9-in', '90', 'pounds', 'shiny', 'creating', '1/8-inch', 'already', '13x9-inch', 'hook', 'healthier', 'sprinkles', 'paring', 'pressed', '[', 'clam', 'caramels', 'crimp', 'getting', 'procedure', ']', 'float', 'please', 'original', 'mesh', 'variation', 'springs', 'lemonade', 'lots', 'prawns', 'gnocchi', 'sink', 'additions', 'watermelon', 'straight', 'palm', 'all-purpose', 'though', 'serrated', 'complete', 'fingertips', '425Â°f', 'meantime', 'mg', 'prior', 'bisquick', 'lumpy', 'adapted', 'rotate', 'otherwise', 'syrupy', 'non', 'freezes', 'our', 'spots', 'coats', 'remember', 'sometimes', 'sautee', 'noodle', 'kneading', 'helps', 'overmix', 'toward', 'candied', 'unwrap', '40-45', 'cuts', 'kind', 'opening', 'clumps', 'turned', 'upper', 'souffle', 'watercress', 'wilt', 'm', 'underneath', 'shimmering', 'ziploc', 'touched', 'grains', 'candies', 'remains', 'lard', 'found', 'stretch', 'med-high', 'holding', 'flipping', 'sufficient', 'thigh', 'recommend', 'colour', 'ingredient', \"'d\", 'marinara', 'type', 'alongside', 'anise', 'risotto', 'course', 'guacamole', '17', 'however', 'omelet', 'ritz', 'fast', 'wrappers', '4-inch', 'maintain', 'snow', 'marjoram', 'dogs', 'granola', 'miso', 'bamboo', 'sunflower', '70', 'eye', 'peeler', 'choose', 'parchment-lined', 'rather', 'rye', 'probably', 'nutritional', 'plums', 'standing', 'buttercream', 'blueberry', 'marinated', 'oval', 'beet', 'beaters', 'touching', 'overbake', 'thinner', 'poultry', 'flavored', 'opposite', 'meatloaf', 'intact', 'stay', 'wood', '8x8', 'area', 'tent', 'bran', 'able', 'pit', '425f', 'somewhat', 'sweat', 'romaine', 'caraway', 'one-third', 'mallet', 'escape', 'starter', 'mounds', 'pocket', 'distributed', 'champagne', 'change', 'saturated', '/', 'thing', 'continuing', 'never', 'rapidly', 'steaming', 'packets', 'segments', 'choy', 'martini', 'mug', 'smell', 'mostly', 'tail', 'pea', 'neck', 'essence', 'cod', 'scones', 'family', 'body', 'extracts', 'combining', 'tapioca', 'scrub', '22', '5-inch', 'rough', 'refried', 'depth', 'else', 'citrus', 'pimento', 'sherbet', 'eyes', 'crumbles', 'streusel', 'liver', 'preference', 'checking', 'jelly-roll', 't.', 'microwaveable', '500', 'lb', 'stainless', 'film', 'frypan', 'greek', 'pickled', 'case', 'homemade', 'scraps', 'bok', 'steps', 'cycle', 'substituted', 'celsius', 'snap', '9x13-inch', 'attach', 'linguine', 'heart', 'drying', 'salty', 'mixtures', 'krispies', 'stovetop', 'sponge', 'facing', 'squid', 'similar', 'required', 'storage', '200c', 'halved', 'wild', 'weights', 'fine-mesh', 'preferred', 'hens', 'carving', 'sauces', 'date', 'chuck', 'select', 'scramble', 'spears', 'anything', 'loin', 'undrained', 'currants', 'miracle', 'shaped', 'chinese', '12-cup', 'mill', 'berry', 'sizzle', 'version', 'enclose', 'something', 'stopping', 'swirling', 'ca', 'eggplants', 'cutters', 'moving', 'scald', 'tests', '30-45', 'blackberries', '450f', 'granules', 'wafer', 'rising', 'bulgur', 'sun-dried', 'smash', 'flute', 'weight', 'uniform', 'two-thirds', 'silicone', 'parsnips', '1.5', 'cajun', 'insides', 'tortellini', 'source', 'melting', 'tahini', 'overhang', 'tomatillos', 'pods', 'information', 'gratin', 'zip-top', 'ramekin', 'medium-size', '48', 'sets', 'prunes', 'sec', 'ceramic', 'omitting', 'nectar', 'standard', 'depends', 'garam', 'enchiladas', 'itself', 'wonderful', 'waffles', 'toffee', 'roaster', 'page', 'brie', 'main', 'ghee', 'proceed', 'freezing', 'resemble', 'strong', 'oils', 'sake', 'smoker', 'extra-virgin', '36', 'grater', 'teaspoonful', 'agave', 'scissors', 'veggie', 'quiche', 'peppermint', 'cling', 'fan', 'english', 'variations', 'desire', 'wonton', 'rows', 'defrost', 'sweetener', 'blackened', 'minimum', 'chefs', 'canning', 'glazed', 'hoisin', '2-inches', 'toaster', 'lemongrass', 'person', 'thumb', 'shanks', 'tails', 'basic', 'eaten', 'teriyaki', '5-8', 'wing', 'breakfast', 'tequila', 'plum', 'apply', 'buy', 'splenda', 'puffs', 'options', 'pretzel', 'strained', 'sriracha', 'special', 'poach', 'whiz', 'overlap', '6-quart', 'mandarin', 'called', 'lengths', 'nori', 'pliable', 'butternut', 'min.', 'upright', 'chillies', 'carbohydrate', 'pints', 'seven', 'dog', 'proportionately', 'catch', 'sealing', 'radish', 'feed', 'debone', 'indirect', 'tilt', 'slight', 'slip', 'falling', 'fork-tender', 'direct', 'gelatine', 'club', '45-50', 'face', 'mat', 'mexican', 'monterey', 'dusted', 'attached', 'picante', 'nonreactive', 'corned', 'fluted', 'decorative', '@', 'flavour', 'combination', 'eagle', 'who', 'cornflakes', '6-inch', 'confectioner', '150', 'yoghurt', 'seperate', 'rendered', 'pockets', 'decrease', 'coleslaw', 'mixes', '11-inch', 'rises', 'romano', 'packages', 'especially', 'rope', 'fashion', 'puffy', 'maybe', 'livers', 'deg', 'towards', 'cap', 'indentation', 'marks', 'adhere', 'julienne', 'anchovy', 'drizzled', 'twine', 'limp', 'motor', 'aromatic', '7-8', 'juicy', 'bitter', 'party', 'chewy', 'towel-lined', 'carve', 'doing', 'gives', 'turnips', 'folded', 'truffle', 'provided', 'transferring', 'emulsified', 'snack', 'shelf', 'chip', 'develop', 'photo', 'alcohol', 'softens', 'label', 'yummy', 'achieve', 'scant', 'tots', '7-inch', 'accumulated', 'char', 'flowers', 'spreadable', 'mirin', 'build', 'disc', 'salads', 'okay', 'knives', 'individually', 'husks', 'flax', 'scoops', 'spacing', 'sizzling', 'rib', 'evoo', 'giblets', 'whiskey', 'shaved', 'sorbet', '275Â°', 'motion', 'doughnuts', 'home', 'dress', 'lock', '450Â°f', 'dream', '2-4', 'flower', 'closely', 'switch', 'plunge', 'zip', 'yourself', 'excellent', 'things', 'spoons', 'kids', 'pulls', '14-inch', 'tenderloins', 'pith', 'fettuccine', 'saving', 'reduces', 'whirl', 'draining', 'rose', 'crowd', 'leg', 'filets', 'offset', 'limes', 'include', 'tight-fitting', 'visit', 'fitting', 'reheated', 'front', 'summer', 'outdoor', 'ziplock', 'vermouth', 'heads', 'items', 'assembly', 'pushing', 'recommended', 'crunch', 'narrow', 'evaporate', 'aioli', 'membranes', 'penne', 'appetizer', 'rims', 'pod', 'youre', 'microwavable', 'securely', 'places', 'crystals', 'unsalted', 'soggy', 'tender-crisp', 'photograph', '50-60', 'yams', 'skip', 'sweetness', 'hummus', 'flavorings', 'covers', 'appears', 'anyone', 'unsweetened', 'angle', 'meld', 'chef', 'trout', 'salami', \"'m\", 'pectin', 'circular', 'balance', 'based', 'cob', 'guests', 'oreo', 'peels', 'saucepot', 'stores', 'sushi', 'ears', 'visible', 'scrambled', 'pickling', '190c', 'seem', 'oven-proof', 'undisturbed', 'port', 'points', 'dropped', 'germ', 'snip', 'smear', 'follows', '1/2-inch-thick', 'removable', 'stuck', 'adobo', 'popped', 'lines', 'w/', 'cleaned', 'doritos', 'house', 'submerge', 'traditional', 'underside', 'manner', 'access', 'analysis', 'seams', 'fondue', 'frittata', 'weed', 'dividing', 'chopping', 'plan', 'drumsticks', 'product', 'miniature', 'perfectly', 'squeezing', 'bechamel', '23', 'got', 'weigh', 'draw', 'provolone', 'foods', 'shavings', 'jug', 'breads', 'tamarind', 'porcini', '7-up', 'deep-fry', 'ladyfingers', 'aroma', 'ribbons', '5-quart', 'spot', 'properly', 'fun', 'maraschino', 'heavily', 'totally', 'spring-form', 'fritters', 'ripe', 'gruyere', 'compote', 'effect', 'stewed', 'creole', 'sand', 'ok', 'tater', 'scorching', 'sort', 'correct', 'slurry', 'membrane', 'assorted', 'carbohydrates', 'skimming', '160Â°', 'oreos', 'palms', 'liquor', '300f', 'bottomed', 'daikon', 'karo', 'stalk', 'quartered', 'marinating', 'bouquet', '1/4-inch-thick', 'rabbit', 'lastly', 'tacos', 'poblano', 'grab', '75', 'screw', '170', 'actually', 'cross', 'venison', '+', '32', 'lattice', 'curls', 'america', 'packed', 'pre-heated', 'number', 'briskly', 'infuse', 'belly', 'chilling', 'halibut', 'radicchio', 'pre', 'rinsed', 'opened', 'timer', 'submerged', 'bulb', 'dab', 'slivered', 'lose', 'medium-hot', 'finishing', 'washed', 'pizzas', 'disks', 'stirred', 'tines', '6-7', 'settle', 'retain', '0', 'hang', 'strands', 'tarts', 'started', 'lifting', 'inner', 'endive', 'toasts', 'wasabi', 'natural', 'devein', 'spiced', 'masa', 'usda', 'flan', 'blot', 'yum', '18-20', 'pimentos', 'regularly', 'torn', 'meatball', 'therefore', 'feels', '15-inch', 'raisin', 'alfredo', 'option', 'exactly', 'skin-side', 'asian', '9x9', 'mouth', 'exposed', 'block', 'n', 'dusting', 'mashing', 'breadcrumb', 'fig', 'dollops', 'bark', 'kielbasa', 'poached', '2-qt', 'dv', 'vent', 'cognac', 'saran', 'cheez', 'edamame', 'am', 'grocery', 'pulling', 'upon', 'variety', 'pecorino', 'partnership', 'simmers', '180Â°c', 'american', 'result', 'paint', 'soupy', 'trove', 'myplate', 'myrecipes', 'faster', '9-', 'triple', '2nd', '145', 'truffles', 'flaked', 'spooning', 'adds', 'untill', 'ramen', 'shortbread', 'sparkling', 'http', 'forget', 'dumpling', 'bundle', 'bringing', 'cause', 'chickens', 'kitchenaid', 'cylinder', 'thai', 'mild', 'rocks', 'cobs', 'trying', '300Â°f', 'released', 'vitamin', 'unpeeled', 'seaweed', 'bagel', 'network', 'bigger', 'squeezed', 'wash.', 'non-reactive', 'processing', 'mugs', 'kiwi', 'amber', 'smoothing', 'canner', 'ever', 'braise', 'amaretto', 'nutella', 'cone', '7-10', 'ro-tel', 'gluten', 'braising', 'hardened', 'tossed', '220', 'grnd', 'cut-side', 'super', '80', 'flattened', 'direction', 'resting', 'plantains', 'seared', 'unfold', 'changes', 'semolina', 'flaky', '28', 'slivers', '65', 'professional', '13-', 'crawfish', 'straw', 'liner', 'hazelnut', 'peeling', '2-1/2', 'say', 'lovely', '275', 'flank', 'tapped', 'gin', 'broiling', 'convection', 'shot', 'fourths', 'meringues', 'muddle', 'parboil', 'vermicelli', 'lunch', 'waiting', 'bunch', 'veg', 'normal', 'shreds', 'mm', 'farro', 'brittle', 'papaya', 'contains', 'strokes', 'year', '10-', '13x9-in', 'bagels', 'runs', 'unless', 'massage', 'pinching', 'curl', 'crabs', 'loses', 'parfait', 'gold', 'serrano', 'falls', 'thickly', 'gooey', 'temper', 'garbanzo', 'sizes', '15x10x1-in', 'fourth', 'layered', 'darker', 'consomme', 'shoots', 'dashi', 'took', 'plump', 'decorating', 'nutty', 'fritos', 'tbls', 'trial', 'vegan', 'solution', 'shave', 'ribbon', 'worth', 'although', 'usual', 'quail', 'filet', 'headspace', 'marsala', 'mass', 'quantity', 'wilts', 'gloves', 'tint', 'rapid', 'hope', 'cashew', 'others', 'surfaces', 'undiluted', '40-50', '15-18', 'chow', 'bakes', 'suggested', 'silpat', 'omelette', 'christmas', 'hershey', 'shiitake', 'poaching', 'directs', 'poured', 'diamond', 'lavender', 'shaping', 'surround', 'depend', 'rewarm', 'ice-cream', 'one-half', 'cornflour', 'trifle', 'beautiful', 'design', 'pimiento', 'separated', 'semi-sweet', 'u', 'savory', 'sounds', 'peak', 'doughnut', 'colors', 'burst', '13-in', 'key', '200Â°', 'scum', 'periodically', 'storing', 'increments', 'burrito', 'hr', '45-60', 'garnishes', 'testing', 'pulled', 'achieved', 'sound', 'allows', 'watching', 'marked', 'kitchens', 'flavorful', 'drizzling', 'paraffin', '....', 'rid', 'gorgonzola', 'stiffly', 'pair', 'wisk', 'suit', 'lima', 'lasagne', 'passing', 'rabe', 'tried', 'cantaloupe', 'tamari', 'shoulder', 'boneless', 'burnt', 'suggest', 'handheld', 'lighter', 'hair', 'flavours', 'well-blended', 'wheel', 'reducing', 'vertically', '35-45', 'doesnt', 'duty', 'wraps', 'quesadillas', 'sauteing', 'scraper', 'lean', 'far', 'tablespoonful', 'adjusting', '1-in', 'alone', 'idea', 'grand', 'chunk', 'matzo', 'bottles', 'pkg', 'coming', 'burners', 'jellyroll', 'cracks', 'higher', 'containing', 'watery', 'oven-safe', 'shown', '125', 'representation', 'husk', 'mason', 'pastries', 'tenders', 'treat', 'ease', 'gel', 'scalded', 'filo', 'curdle', 'bare', 'fillings', 'cooler', 'purpose', 'petals', 'butcher', 'breading', 'decoratively', 'mess', 'panini', 'tucking', 'low-medium', 'render', 'mind', '12-14', 'marble', 'scorch', 'katakuriko', 'wontons', 'moment', 'funnel', 'mein', 'decoration', 'behind', 'frzn', 'iced', 'nestle', 'hen', 'blanched', 'pitas', 'kahlua', '225', 'easiest', 'chia', 'difficult', '1st', 'fronds', '1/2-', 'separating', 'kabobs', 'filter', 'giving', 'picture', 'biscotti', 'hint', 'sourdough', 'ways', 'dilute', 'naan', 'gum', 'restaurant', 'forth', 'pinto', 'lobsters', 'fancy', 'subsides', 'marnier', 'ragu', 'wrapping', 'tasting', 'shut', 'churn', 'reduction', 'having', 'sits', 'produce', 'deflate', 'pulsing', 'pistachio', 'uses', 'heats', 'presentation', 'chowder', 'indicated', 'bitters', 'personal', 'pouch', 'blood', 'well-floured', 'parmigiano-reggiano', 'pits', 'escarole', 'golf', 'foaming', 'mangoes', 'medallions', '3-qt', 'hominy', 'extending', '8-in', 'jicama', 'perforations', 'torte', 'barbeque', 'ancho', 'pops', 'turnip', 'measured', 'accordingly', 'butterfly', '1-1/4', 'everyone', '=', '5-', '160c', 'grass', 'grates', 'tenderness', 'aubergine', 'entirely', 'doubles', 'braid', 'sizzles', 'mush', 'clarified', 'japanese', 'mandoline', 'grainy', '8-', 'tupperware', 'scallop', 'vents', 'papers', 'throughly', 'tb', 'dirt', 'dal', 'sun', 'golden-brown', 'sealable', 'stays', '2-cup', '11/2', 'tilapia', 'overbeat', 'handling', 'book', 'chocolates', '~', 'hardens', '13x9x2', 'popsicle', 'garni', 'springy', 'links', 'highest', 'held', 'means', 'chickpea', 'cavities', 'countertop', 'matter', 'frosted', 'pulses', 'low-fat', 'refresh', '9x5', 'match', 'handles', 'spiral', 'heat-proof', 'bought', 'casings', 'markets', 'row', 'burned', 'feet', 'sweeten', 'quality', 'spaced', 'says', '120', 'hard-boiled', 'softer', 'tamales', 'ropes', 'draft-free', 'shears', 'one-fourth', 'slushy', 'youll', 'sirloin', '475', 'threads', 'early', 'pare', 'eggnog', 'highball', 'cinnamon-sugar', 'smoothly', 'crostini', 'manicotti', 'casing', 'condiments', 'skillets', 'he', 'strings', 'basmati', '140', 'rotel', 'discs', 'chilis', 'kabocha', 'pinches', 'grinds', 'med-low', 'ensuring', 'parmigiano', 'partly', 'tell', 'tinfoil', 'show', 'vegetarian', 'tempeh', 'pate', 'macadamia', 'curds', 'stops', 'seam-side', 'tend', 'streaks', 'sturdy', 'kebabs', 'verde', 'hamburg', 'fondant', 'rubbing', '$', 'quesadilla', '2-', 'chopper', 'donuts', 'bands', 'congeal', 'nine', 'ricer', 'absorbent', 'meaty', 'fontina', 'nothing', 'meet', 'particles', 'bites', 'capsicum', 'three-quarters', 'extremely', 'blackberry', 'pure', 'force', 'arranging', 'share', 'blistered', 'deeply', 'nutrition', 'calcium', 'percent', 'flexible', 'normally', 'rock', 'twenty', 'catfish', 'burritos', 'she', '1-cup', 'cane', 'width', 'pats', 'crisscross', 'crisps', 'popping', 'semisweet', 'harissa', 'equipment', 'dig', 'tilting', 'disposable', 'drape', 'proportions', 'spooned', 'octopus', 'baker', 'lining', 'theyre', 'continually', '500Â°', 'hock', 'assembling', 'pourable', 'lighten', 'pearl', 'assembled', 'cutlet', 'content', 'completed', 'bon', 'why', 'darken', 'call', 'baller', 'baggie', 'trimmed', 'lentil', 'drafts', 'refridgerate', '170c', 'supermarkets', 'roots', 'saut', 'trimming', 'air-tight', 'bittersweet', 'cupfuls', 'brioche', 'guide', 'birds', 'cacao', 'chestnut', 'swordfish', 'calamari', 'queso', 'kiss', 'wanted', 'proper', 'begun', 'neat', 'custards', 'ear', 'pan-fry', '2.5', 'twelve', 'delicate', 'unbeaten', 'appetizers', 'expand', 'piecrust', 'mace', '7-9', 'thickening', 'immerse', 'caution', 'spear', 'future', 'hit', 'cases', 'children', 'picks', 'pimientos', '6-cup', 'puddings', 'chopsticks', 'types', 'capacity', 'smoothie', 'wont', 'simmered', 'smashed', '3-', '4-', 'blitz', 'fava', 'lump', 'thats', 'sitting', 'infused', 'terrine', 'handy', '8-quart', 'handfuls', 'patting', 'glue', '1-', 'purple', 'sweeter', 'kimchi', 'spanish', 'favourite', 'hocks', 'eliminate', 'flatbread', 'sugared', 'manufacturers', 'naturally', '10-in', 'donut', 'silver', 'grapeseed', 'tbl', 'yes', 'arrowroot', 'torch', 'well-combined', 'pointed', '13x9x2-inch', 'toasty', 'processed', 'sat', 'gingerbread', 'aid', 'pico', 'thirty', 'require', 'gumbo', 'nacho', 'happy', 'w', '30-60', 'mould', '2g', 'kool-aid', 'preheating', 'joint', 'saucer', 'pots', 'breaded', '8-12', 'calls', 'flow', '9-by-13-inch', 'brew', 'nose', 'croquettes', 'envelope', 'list', 'tree', 'absorbs', 'her', 'contact', 'habanero', 'plantain', 'buttery', 'interior', 'kraut', 'froth', 'fifteen', 'crescents', 'shrink', 'hollandaise', 'purposes', '6-qt', 'largest', 'cola', 'philly', 'gray', 'smoother', 'due', '230', 'winter', 'rinds', 'claws', 'likely', 'taken', 'ajar', 'ice-filled', 'ash', 'caster', 'trimmings', '1g', 'inverted', 'dropping', 'franks', 'buffalo', 'boat', 'appearance', 'jus', 'bundles', 'ziti', '1/4-in', 'singles', 'bow', 'tangerine', 'crowding', 'nectarines', '1/2-in', 'nuggets', '1/2-inches', 'toasting', 'unused', 'praline', 'worked', 'snugly', '50-55', 'dampened', 'croissants', 'kraft', '1/2-cup', 'shimmers', 'bias', 'smells', 'dribble', 'gift', 'gallons', 'drinking', 'messy', 'cores', 'blossom', 'breadsticks', 'kick', 'tooth', 'heath', 'crema', 'parsnip', 'alternative', 'deep-fryer', 'dressed', 'suggestions', 'silky', 'gallo', 'focaccia', 'overwork', 'mist', 'shows', 'daily', 'asiago', 'wieners', 'handled', 'jasmine', 'edible', 'spritz', 'previous', 'earlier', 'classic', 'irish', 'over-mix', 'chick', 'buds', '19', 'came', 'prevents', '145Â°', 'stars', 'no-stick', 'stands', 'obtain', 'trace', 'inserting', 'ciabatta', 'disappears', 'grit', 'slash', 'clump', 'shrimps', 'hotter', 'flames', 'substituting', '3g', 'leche', 'xanthan', 'secret', 'ideal', 'caviar', 'warming', 'maximum', 'spider', 'emulsify', 'margarita', 'sambal', '130', '200Â°c', '160f', 'diet', 'slicer', 'ignite', 'hand-held', 'poblanos', 'cones', 'flameproof', 'provence', 'black-eyed', 'cobbler', 'awhile', 'neatly', 'height', 'friends', 'foams', 'whey', 'rotary', 'grinding', 'deep-dish', 'whether', 'preserved', 'stevia', 'period', 'spareribs', 'fix', 'flowerets', 'goose', 'incorporating', 'hear', 'link', 'on/off', 'fits', 'acid', 'chervil', 'suggestion', 'slather', 'whilst', 'kinds', '10-20', 'button', 'slab', 'marzipan', '6-', 'mean', '}', 'reroll', 'collard', 'crushing', 'dense', 'dietary', 'dulce', 'rigatoni', 'enameled', '{', 'congealed', '12-', 'altogether', 'scaled', 'shorter', 'three-fourths', 'seeded', 'chafing', 'washing', 'thru', 'emeril', 'plank', '360', 'parallel', 'suitable', 'preserve', 'residual', 'tapenade', 'control', 'aluminium', 'bulbs', 'shiso', 'beverage', 'dripping', 'snipped', 'tapping', 'garnishing', 'approximate', 'said', 'l', 'dashes', 'notice', 'blossoms', 'hearty', 'chipotles', 'dampen', 'separates', 'fasten', 'extend', 'blanc', 'tomatillo', 'crystallized', 'sardines', 'millet', 'wells', 'timing', 'won', 'compact', 'ovens', 'au', 'uniformly', 'clinging', 'five-spice', 'tub', 'o', 'firmer', 'exact', 'matcha', '8-ounce', 'pilaf', 'refrigeration', 'included', 'spam', 'his', 'comments', 'bad', 'carton', 'accent', 'fluid', 'life', 'burns', 'pasty', 'canadian', '8-9', 'vessel', 'kombu', 'anywhere', '20cm', 'divided', '165Â°', 'relatively', 'tends', '45-55', 'tacky', '5-qt', 'garden', 'lg', 'mac', 'flaxseed', 'country', 'appetit', 'p', 'grenadine', 'ratio', 'lidded', 'returns', 'crisped', 'b', 'saved', 'reheating', 'bind', 'pitted', '15-30', 'chive', 'slashes', 'mounding', 'powders', 'squirt', 'difference', 'toweling', 'proceeding', 'hickory', '6-ounce', 'trick', 'closest', 'ideally', 'cut-up', 'saltines', 'becoming', 'diluted', 'defrosted', 'broiled', 'stacks', 'years', 'age', 'shaken', 'rotini', 'curdled', 'carb', '4-cup', 'themselves', 'packing', 'us', 'horizontal', 'believe', 'soya', 'resistance', 'peek', '21', 'unopened', 'hull', 'bonito', 'carbs', 'qts', '25-35', 'reynolds', 'cookbook', 'creaming', 'holiday', '170Â°', 'contain', 'casseroles', 'areas', 'turbinado', 'appropriate', '>', 'x13', 'heavy-based', 'coke', 'allowed', 'lifted', 'jell', 'cardboard', 'bench', 'seltzer', 'nest', '55-60', 'drips', 'band', 'stretching', 'published', 'indian', 'tblsp', 'kisses', 'organic', 'splatter', 'sterile', 'refrigerating', 'generally', 'chance', '475Â°', 'spin', 'cheesy', 'cornflake', 'overcrowd', 'element', 'jumbo', 'strudel', 'hamburgers', 'dunk', 'quantities', 'macaroons', 'decide', 'self-rising', 'sundried', 'dippers', '1cm', 'sterilize', 'laying', 'ad', 'boxes', 'greaseproof', 'amazing', \"'n\", 'croissant', 'snapper', 'hollowed', 'accompaniment', 'lengthways', 'beautifully', 'broccolini', '4g', 'specialty', 'veins', 'one-quarter', 'huge', 'paella', 'happens', 'floating', 'attractive', 'fat-free', 'julienned', 'gummy', 'dairy', 'created', '3-inches', 'carcass', 'skinned', 'neufchatel', 'juniper', 'beetroot', 'valley', 'spraying', 'clay', 'zip-lock', '110', 'accompany', 'squish', 'ton', 'play', 'licorice', 'increasing', 'gouda', 'etc.', 'elbow', 'shade', 'malt', 'rinsing', 'essential', 'shellfish', '26', 'linguini', 'softly', 'stronger', '85Â°', 'herbes', 'microwaving', 'ask', 'various', 'soba', 'tzatziki', 'clusters', 'nachos', 'mandolin', '180Â°', 'nonfat', 'gluten-free', 'paneer', 'definitely', 'previously', '5g', 'requires', '140Â°', 'magic', 'breaks', 'flattening', 'trust', 'typically', 'tempered', '0g', 'tenderizer', 'bottled', 'tongue', 'hurry', 'twists', 'pig', 'emulsion', 'creamer', 'bases', 'jerk', 'beyond', 'skinless', 'range', 'gloss', 'voila', 'orleans', 'moulds', 'cotton', 'inverting', 'whisked', 'rustic', 'accompanied', 'smoky', 'chimichurri', 'mincemeat', 'jiggly', 'likes', 'coloured', 'happen', 'decorations', 'desserts', 'poor', '30-second', 'lip', 'backbone', 'crumbling', '1/4-cup', 'panna', 'gaps', 'disappear', 'measurements', 'store-bought', 'goodness', 'count', 'butt', 'herbed', 'outsides', '15-', 'scooping', 'example', 'fenugreek', 'dries', 'saucy', 'poked', 'treats', 'buckwheat', 'switching', 'cointreau', 'schnapps', 'shortly', 'personally', 'ladleful', 'chex', '3/8', '1-inch-thick', '220c', 'vinegars', 'overhanging', 'ingrediants', 'indentations', 'sifter', 'perhaps', 're-roll', 'highly', 'consistancy', '165f', 'tenderize', 'eighths', 'spaetzle', '250f', 'gingerroot', 'passion', 'alum', 'sprite', 'limeade', 'cannellini', 'dull', 'twisting', 'young', 'william', 'accommodate', 'jiggle', 'residue', '74', 'blacken', 'cotta', '2-in', 'lagasse', '1-qt', 'bass', 'whole-wheat', 'absolutely', 'medium/high', 'x9', 'slush', 'dots', '1993', 'galette', 'basin', 'past', '9x5-inch', 'collards', 'gram', 'concentric', '18-22', 'hanging', '11x7-in', 'creamier', 'paper-towel-lined', '225Â°', 'roasts', 'tangy', 'floats', 'macerate', 'includes', 'granita', 'indefinitely', 'bucket', 'brushed', '15x10x1-inch', 'tartlet', 'manual', 'madeira', 'recommendation', 'rested', 'arils', 'cous', 'lit', 'resulting', 'long-handled', 'morrow', 'swirls', 'devour', 'vertical', 'technique', 'heat-resistant', 'certain', 'lbs', 'game', 'crispness', 'stones', 'overcooked', 'fresco', 'coulis', 'zests', 'heap', 'silk', 'sprout', 'stacking', 'tripled', 'scotch', 'jessie', 'texas', 'sumac', 'coupe', 'local', 'basically', 'risk', 'pepitas', 'mom', '0mg', 'decorated', '8x8-inch', 'mochi', 'depression', 'kirsch', 'tirsch', 'refreshing', 'quince', 'spaces', 'roe', 'latkes', 'exterior', 'knot', 'veg-all', 'husband', 'mini-muffin', 'ferment', 'youve', 'bend', '3-1/2', 'cheesecakes', 'juicer', 'grating', 'wear', 'knorr', 'chipped', 'german', 'collect', 'shaggy', 'ideas', 'richer', '27', '12-in', 'morels', 'gremolata', 'upside-down', 'matchsticks', 'spicier', 'yam', 'mellow', 'post', 'baguettes', 'tomatoe', 'raised', 'acidity', 'positions', 'heel', 'securing', 'blog', 'experiment', 'measures', 'stainless-steel', 'awesome', '13-15', 'rip', 'hidden', 'stemmed', 'wise', 'superfine', 'fragrance', 'tearing', 'tubes', 'sack', 'service', 'curve', 'instructed', 'scale', 'glazing', 'provide', 'empanadas', 'marry', 'stripes', 'cukes', 'drinks', 'market', 'whenever', 'stringy', 'pet', 'friend', 'gingersnaps', 'perimeter', 'grid', 'comfortably', 'darkened', 'refer', 'souffles', 'tentacles', 'colouring', 'creative', 'cracking', '250Â°f', 'persimmon', 'cereals', 'quicker', 'one-inch', 'whichever', 'porridge', 'fatty', 'mitts', '6g', 'present', 'milligrams', 'stacked', 'california', 'tbsps', 'brought', 'hellmann', '9-11', 'lady', 'reason', 'well-browned', 'shortcake', 'salt/pepper', 'shock', 'job', 'collins', 'sultanas', 'delicately', 'sufficiently', 'shakes', 'arranged', 'straining', 'fills', 'helpful', 'prune', 'register', 'shank', 'scooped', 'ducks', 'tempura', 'sided', 'removal', 'protect', 'turnovers', 'feeling', 'kernel', 'spill', 'doughy', 'sloppy', '16-inch', 'shredding', 'expose', 'changing', 'bloom', 'chopstick', 'potatos', 'repeating', 'described', 'releases', 'bullion', 'conventional', 'equals', 'straws', '1-3', 'frisee', 'varies', 'program', 'brick', '135', 'rotisserie', 'farm', 're-cover', 'minus', 'lost', 'fl', 'thinned', 'woody', 'skimmer', '240', 'brussel', 'pea-sized', 'bologna', '155', 'soymilk', 'condiment', 'fingertip', 'dome', '`', 'rutabaga', 'optionally', 'sub', 'folds', 'make-ahead', 'overly', '4-ounce', 'index', 'cleaning', 'traditionally', 'crystal', 'known', 'gm', 'active', 'greasing', 'andouille', 'distributing', 'unflavored', 'ovals', '1-1', 'deli', '200f', '10x', 'clings', 'canes', 'liter', 'group', 'harina', 'lemon-lime', 'vein', 'snacks', 'heaped', 'moon', 'zipper', 'marbled', 'homogeneous', 'monounsaturated', 'pumpkins', 'island', 'truss', 'none', 'cure', 'trans', 'parties', 'choc', '0.0g', 'well-buttered', 'wider', 'related', 'sel', 'sold', 'segment', 'mints', 'wring', 'cohesive', '4-qt', 'precooked', 'oh', '600', 'braised', 'relax', 'confit', 'passed', 'scone', 'consistent', 'entree', 'cutouts', 'shortcakes', 'celeriac', 'southern', 'freezer-safe', 'seitan', 'pastry-lined', '18-inch', 'baklava', 'con', '1-1/2-qt', 'refrigeratetill', 'cole', 'colorful', 'live', 'muslin', 'bitterness', 'anyway', 'pool', 'medium-well', 'pumpernickel', 'name', 'cored', 'broad', 'bruschetta', 'stiring', 'lite', 'problem', 'equivalent', 'portobello', 'rocket', 'acorn', 'pea-size', 'walls', 'particularly', 'blind', 'bleu', '34', 'mussel', 'blister', 'cute', 'mintues', 'beneath', 'tomatos', '200Â°f', 'udon', 'harder', '9-inch-diameter', 'eventually', 'mrs', 'sofrito', 'flush', 'remoulade', 'foie', 'fleur', 'draft', '9x12', 'oily', 'bratwurst', 'seals', 'fajita', 'floury', 'saltine', 'cleanly', 'crispier', 'gras', 'corriander', 'tied', 'flap', 'rests', '60-70', 'pheasant', 'seen', 'jiggles', 'prawn', 'calorie', 'crackle', 'carmelized', 'tighten', 'caesar', 'starchy', 'potassium', 'parm', 'hat', 'lipton', 'excessive', '500f', 'melba', 'papery', 'steadily', 'determine', 'semi', 'evening', 'peppercorn', 'mole', 'oxtails', 'caramelizes', 'mop', 'old-fashioned', 'faces', 'changed', 'solidify', 'rehydrate', 'exchange', 'joy', 'milky', 'spout', 'company', 'state', 'bodies', '2cm', '9-10', 'kumquats', 'polyunsaturated', 'menthe', 'file', '160Â°f', 'agar', '1/3-inch', '3rd', 'cleaver', 'la', 'purchased', 'kneaded', '15-17', 'e', 'refridgerator', 'roller', '165Â°f', 'piles', 'king', 'sparingly', 'falafel', 'thins', 'triangular', 'altitude', 'shelled', 'crown', 'closer', 'satiny', 'parmesean', 'packaging', 'v-8', 'airy', 'beforehand', 'die', 'online', 'pineapples', 'mocha', 'brewed', 'midway', 'royal', 'knock', 'youd', 'wesson', 'undercooked', '20-22', '7g', 'strength', 'sifting', 'slabs', 'plating', 'hammer', 'micro', 'roll-ups', 'gills', 'health', 'showing', '365', 'leafy', 'ponzu', 'canister', 'i.e', 'afraid', 'scalding', 'seep', 'heart-shaped', 'collected', 'widthwise', 'creates', 'leak', 'goal', 'stout', 'patient', 'sandy', 'hard-cooked', 'currant', 'yours', '150c', 'meals', 'chiffonade', 'bento', 'workable', '1.', '3/4-inch-thick', 'aromatics', 'recover', 'floor', 'shiitakes', 'puncture', 'indoor', '2.', 'lotus', '1-gallon', 'exchanges', 'warning', 'straight-sided', 'fettucine', 'uneven', 'criss-cross', 'wreath', '350-degree', 'choke', 'stir-frying', 'mats', 'purchase', 'kaffir', 'mother', 'fruity', 'drawn', 'shuck', 'half-inch', 'crazy', 'searing', 'soap', 'tape', 'lollipop', 'specified', 'somewhere', 'concentrated', 'wire-mesh', 'thought', 'weather', 'well-coated', 'offer', 'tumeric', 'deep-fat', 'enamel', 'tartlets', 'crimping', 'g.', 'overflow', 'stamp', 'jelled', 'cloudy', 'avoiding', 'lasts', 'slow-cooker', 'tool', 'resist', 'function', 'silicon', 'child', 'flounder', 'bursts', 'mackerel', 'homogenous', 'boned', 'adjusted', 'chimney', 'guava', '135Â°', 'scrap', 'mingle', 'saltiness', 'brats', 'gyoza', '33', 'inspired', 'dehydrator', 'shimmer', 'pinwheels', 'deeper', 'blocks', 'undersides', 'stiffen', 'isnt', 'fashioned', 'attention', 'litre', 'powdery', 'wearing', 'gizzards', 'cellophane', 'frankfurters', '12-count', 'tan', 'raita', 'supposed', 'roma', 'proofing', 'joe', 'occassionally', 'vegies', 'batters', 'diamonds', 'experience', 'widest', '1/8-inch-thick', 'touches', 'improves', 'dirty', 'boullion', 'worms', 'valve', 'lower-middle', 'prosecco', 'consider', 'develops', 'endives', 'churning', 'spatulas', '500Â°f', 'wall', 'moments', 'supermarket', 'chosen', 'burdock', 'rubbed', 'subside', 'releasing', 'yuzu', 'well-oiled', 'brunch', 'marrow', 'fantastic', 'tang', 'tidbits', 'foil-covered', 'fermentation', 'liked', 'world', 'overcooking', 'gourmet', 'mayonaise', 'fn', 'refill', 'verts', 'overbrowning', 'napa', 'pepperidge', 'enhance', 'mustards', 'parcel', 'pinot', 'picked', 'utensil', 'packaged', 'milks', 'sliver', 'tepid', 'milder', 'fibers', 'hots', 'returning', 'pulverize', 'icy', 'hungry', 'joints', 'pounded', 'd', 'hors', 'microwaved', 'teflon', '14-16', 'brulee', 'potatoe', 'lettuces', 'macarons', 'twinkies', 'haddock', 'well-mixed', 'picnic', 'kill', 'guess', 'mode', 'nectarine', 'hits', '115', 'balloon', 'collapse', 'haricots', 'scraped', '38', 'building', 'lemon-colored', 'lettuce-lined', 'coil', 'pad', 'skirt', 'vacuum', 'amongst', 'viewer', 'farenheit', 'nests', 'cartilage', '3.', 'gelato', 'increased', 'suet', 'randomly', 'figure', 'roti', 'ripen', 'load', 'well-seasoned', 'earthenware', '3.5', 'high-sided', 'varieties', 'warmer', 'stale', 'mangos', 'intense', 'enclosing', 'join', 'chai', 'soft-ball', '1/16', 'carbonated', '8-cup', 'greasy', 'swell', 'flatbreads', 'calvados', 'redistribute', '11-', 'fudgy', 'cannelloni', 'malted', 'honeydew', 'knob', '2-5', '85', 'myself', 'sliding', 'tagine', 'gifts', 'medium/low', 'pre-cooked', 'passionfruit', 'sole', 'crouton', 'fritter', '9x5x3', '120Â°', 'outward', 'kneed', 'beurre', 'fact', 'holidays', 'tostada', 'drumstick', 'chute', 'gazpacho', 'celcius', 'object', 'napkin', 'stove-top', '-inch', 'drag', '1t', 'rosettes', 'craisins', '1/2-inch-wide', 'clingfilm', 'cotija', 'shimeji', 'salts', 'manageable', 'master', 'spit', 'shy', '350.', 'deviled', 'gumdrops', 'someone', 'products', 'description', 'wiener', 'clumping', 'plop', 'sauted', 'penetrate', '170f', 'newspaper', 'item', 'commercial', 'spongy', 'unmolding', 'carry', 'wiping', '17-inch', 'frank', 'imitation', 'ragout', 'helping', 'centres', 'mung', 'chardonnay', 'velvety', 'lie', 'skewered', 'walnut-sized', 'butter/margarine', 'enjoyed', 'pepperoncini', 'grahams', 'half-way', 'pairs', 'boats', 'mentioned', 'underdone', 'herring', 'challah', 'smallest', '150Â°', 'holder', 'lol', '6-10', 'surrounded', 'calzones', \"'em\", 'festive', 'gingersnap', 'sauvignon', 'complement', 'seasons', '3/8-inch', 'solidified', 'trail', 'courgettes', '0.5g', 'liquidy', 'improve', 'ms', 'piercing', 'longest', 'parcels', 'colby', 'authentic', '8g', 'deep-frying', 'hi', 'thanksgiving', 'napkins', 'precook', 'cigar', 'anglaise', 'dressings', '11x7', 'lemony', 'marie', 'foot', 'taro', 'guinness', '2t', 'blades', 'omitted', '4-inches', 'smith', 'atleast', 'indent', 'rush', 'bother', 'grey', 'overheat', 'im', 'cant', 'butter/sugar', 'ooze', 'letter', 'half-moon', 'granny', 'nearby', 'shine', 'constant', 're-heat', 'aubergines', 'iceberg', 'stoneware', 'planning', 'nearest', 'blow', 'pantry', 'hotel', '1-3/4', 'richly', 'fibrous', 'expect', 'supreme', 'incisions', 'caper', 'powered', 'strand', 'avacado', 'patience', 'parsely', 'beside', 'finer', 'mozarella', 'acidic', 'crank', 'blends', 'spreads', 'unwrapped', 'curdling', 'kohlrabi', 'afterwards', '63', 'sunny', 'tamale', 'hawaiian', 'el', 'loves', 'sip', 'paper-thin', 'photos', 'jiffy', 'combo', 'mahi', 'weave', 'pencil', 'liquefy', 'nibs', 'clip', 'spare', 'ur', 'coins', 'melty', 'preserving', 'thousand', 'tears', 'resistant', 'snaps', 'vitamix', '190Â°c', 'margin', 'bruise', 'spinner', 'oelek', 'anymore', 'crisper', 'ramps', '9g', 'aburaage', 'scored', 'half-pint', 'guest', 'oxtail', 'sorrel', 'jalepeno', 'dredging', 'kalamata', 'loosened', '130Â°', 'jackets', 'popovers', 'soaks', 'reverse', 'strata', 'hoagie', 'worchestershire', 'popover', 'parchment-covered', 'frig', 'overfill', 'room-temperature', 'turner', 'limoncello', 'curved', 'dissolving', 'bicarbonate', 'sachet', 'uncovering', 'pinched', 'walk', 'smother', 'pureeing', 'ok.', 'whizz', 'went', 'ice-water', '5cm', 'supper', 'lets', 'giant', 'lemon-pepper', 'tad', 'bolognese', 'icebox', '234Â°', 'tasted', 'chikuwa', '<', 'mono', 'support', 'cardamon', 'glad', 'bunches', 'retaining', 'cleanup', 'true', 'swish', 'moves', 'spelt', 'lazy', 'tony', '1/4-', 'cheesecloth-lined', 'loved', 'seasonal', 'galangal', 'textured', '-add', 'persimmons', 'wheels', 'mesquite', 'incision', 'compress', 'ours', 'ontop', 'forward', 'korean', 'quick-release', '9x5-in', 'spins', 'stages', 'flat-bottomed', 'red-pepper', 'sorghum', 'info', 'https', '170Â°f', '230c', 'dips', 'initial', 'artificial', 'nozzle', 'roof', 'pouches', 'roulade', 'fist', 'act', 'tripe', 'pro', 'temperatures', 'firmness', 'darkens', 'whisky', '8x4', 'wobbly', 'reggiano', 'posted', 'packs', 'deseed', 'claw', 'glowing', 'reese', '4.', 'caramelised', 'rice-a-roni', 'inward', 'unmelted', '72', 'thinning', 'wakame', '1/2-2', 'cylinders', 'tostitos', 'breast-side', 'sanding', 'station', 'holders', 'non-metallic', 'antonis', 'collar', 'scales', 'perforated', 'dislodge', 'planks', 'buttering', 'sundae', 'plant', 'decorator', 'originally', 'slides', '205', 'cheeks', 'pinwheel', 'tropical', 'replacer', 'hashbrowns', 'today', 'particular', 'disturb', 'matzoh', 'insure', 'pearls', '3-in', '175c', 'action', 'trouble', 'poking', 'ridged', 'sediment', 'actual', 'consuming', 'popular', 'processer', 'developed', 'pairing', 'curled', 'general', 'openings', 'fettucini', 'template', 'softening', 'centimeter', 'lightened', 'achilleos', 'outline', 'gochujang', '42', 'freshness', 'magazine', 'mozzerella', 'fats', 'cal', 'achiote', 'seedless', 'stated', 'accompaniments', 'well-salted', 'halloumi', 'success', 'tostadas', 'humidity', 'meets', 'finishes', 'cannoli', 'palette', '//', 'favorites', 'fermented', 'forced', 'hints', 'written', 'unheated', 'pry', 'liberal', 'nor', 'elegant', 'double-boiler', 'rubbery', 'length-wise', 'proscuitto', 'firms', 'patch', 'liquefied', 'richness', 'shower', 'continues', 'football', 'feeding', 'grow', '10-ounce', 'filtered', 'russian', 'living', 'kasha', '240Â°', 'unbuttered', '1/6', 'window', 'preheats', 'multiple', 'knuckles', 'doughs', 'ended', 'sangria', 'breadstick', 'northern', 'tureen', 'supple', 'pierogies', 'school', 'considerably', 'zucchinis', 'cinnamon/sugar', 'vigorous', 'brining', 'eyeball', 'provides', 'konnyaku', 'triscuits', 'pastrami', 'lawry', 'pounding', 'roses', 'blanching', 'gap', 'equal-sized', 'shards', 'zesty', 'brands', 'campfire', 'paste-like', 'produces', 'na', 'tsps', 'closing', 'cured', 'sweetbreads', '10-13', 'courtesy', 'trivet', 'roquefort', 'maintaining', 'briquettes', 'occasion', 'grade', 'bloody', 'comfort', 'tricky', 'combinations', 'amaretti', 'certainly', '275f', 'average', 'choosing', 'tablespoon-sized', 'sample', 'crusted', 'chills', 'measurement', 'fusilli', 'w.', 'cornichons', 'tinted', '15-25', 'muscle', '16-18', 'tvp', 'gristle', 'percolator', 'ladles', '175Â°c', 'di', 'mary', 'pierogi', 'clementine', 'luncheon', 'monkfish', 'bain', 'stud', 'integrated', 'prebaked', 'uncut', 'discarded', '12-16', 'bisque', 'paper-covered', 'stickers', 'medium-', 'heavy-bottom', 'jerky', 'pricked', 'adheres', 'knocking', 'ive', 'refrigeratefor', 'deboned', '57', 'microplane', '1-1/2-in', 'luck', 'perpendicular', 'cost', 'reduced-fat', 'aerate', 'piped', 'culinary', 'reshape', 'burgundy', 'sazon', 'sliders', 'excluding', 'unbleached', 'milnot', 'snickers', 'hottest', 'coca-cola', 'promise', 'extras', 'debris', 'cabbages', 'dent', 'poly', 'manchego', '2-1/2-in', 'interesting', 'plumped', 'tons', 'south', 'drier', 'fragile', 'th', 'subtle', 'designs', 'obviously', 'pointing', 'rosewater', 'choux', 'self', 'pounder', 'ina', 'lardons', 'smile', 'surrounding', 'mojo', 'irregular', 'effort', 'backs', 'spiciness', 'scattered', 'value', 'cedar', '8-oz', 'renders', 'prepped', 'demerara', 'scalloped', 'ware', 'dishtowel', 'blondies', 'ruin', 'overdo', 'scooper', 'flutes', 'cassis', 'preferences', 'opt', 'okara', 'shoyu', 'convenient', 'crease', 'knox', 'reaching', 'versatile', 'adults', 'waste', 'curacao', 'peices', 'clumpy', 'reconstitute', 'deal', 'sichuan', '1/8-in', 'mountain', 'deer', 'stews', 'chol', 'expansion', 'curried', 'disolved', 'philadelphia', 'older', 'de-seed', 'common', 'un-greased', 'tiramisu', 'shift', '4-1/2', 'judge', 'stir-fried', 'well-done', 'calzone', 'doubling', 'bear', 'rehydrated', 'practice', 'grounds', '180f', '9x9-inch', 'copper', 'baskets', 'knots', 'downward', 'chose', '12-ounce', 'chevre', 'ensures', 'enoki', '5mm', 'Â°', '238Â°', 'tissue', 'omelets', 'imagination', 'screen', '160Â°c', 'stir/saute', 'discoloration', 'attractively', 'catalina', '110Â°', 'screw-top', 'flaps', 'high-heat', 'overtop', 'mesclun', 'bland', 'tangerines', 'truly', 'glace', 'fabulous', '185', 'tempted', 'icecream', 'pre-baked', 'pictured', '.....', 'aleppo', 'arms', '29', 'unti', 'douse', 'empanada', '23cm', 'vented', 'thinnest', 'low-heat', 'meant', 'oj', 'non-dairy', 'prop', 'centimeters', '275Â°f', 'half-sheet', 'scratch', 'trapped', 'brings', 'prime', 'flouring', 'lively', 'amaranth', 'translucent/soft', 'syrups', 'shriveled', 'corning', 'discolored', 'cuisinart', 'thouroughly', 'dehydrated', 'cheap', 'thawing', 'shops', 'satay', '6-oz', 'bruised', 'affect', 'preferable', 'teapot', 'as-is', 'cream-style', 'easter', 'pain', 'x8', 'stirfry', 'citron', 'wish-bone', 'sign', 'crackling', 'methods', 'anytime', 'gave', 'bakers', '11-13', 'nuke', 'replacing', 'upwards', 'components', 'sugar-cinnamon', 'reddish', 'needle', '8x8x2', 'pay', 'aisle', 'crosshatch', 'enjoying', 'coal', 'facilitate', 'spirals', 'puppies', 'loosening', 'trees', 'creaminess', '95', 'crudites', 'patterns', 'riesling', 'rollers', 'flavoured', 'buttons', 'fond', 'arbol', 'george', 'chayote', 'bain-marie', 'shield', 'branches', '15x10', 'carnation', 'tumbler', 'wonderfully', 'courgette', 'meyer', 'Â°f', 'dye', 'dinners', 'applying', 'fajitas', 'flag', 'bonnet', 'pulverized', 'wines', '210', 'curling', 'innards', 'unlit', 'hemp', 'butterflied', 'macaroon', 'blisters', 'settings', 'bunny', 'aim', 'apprx', '64', 'navy', 'undissolved', 'hush', 'repeatedly', 'him', 'sorry', 'parfaits', '10x15', 'ice-cold', 'moons', '1/4-1/2', 'secs', 'nutmeats', '260', 'splitting', 'aged', 'pernod', 'assure', 'snake', 'farfalle', '21/2', '8x4-in', 'goods', 'chambord', '7-', 'carbo', 'sabayon', 'sugar-free', 'miss', 'ladyfinger', 'series', 'tarter', '10g', 'walnut-size', 'butter-sugar', 'upward', 'consume', 'central', 'sputter', 'bricks', 'lavash', 'thanks', 'kefir', 'platters', 'firmed', 'cupful', 'brisk', 'flipped', '3/4-cup', 'thank', 'arborio', 'aprox', 'sheen', 'brownish', 'plug', 'open-faced', 'splutter', 'camembert', 'carob', 'thus', 'notch', 'impurities', 'yuca', '0.5', 'liquify', 'activate', 'goblets', 'word', 'butter-flavored', 'ceviche', 'menu', 'blintzes', 'max', 'kaiser', 'nonaluminum', 'buffet', 'hurt', 'unit', 'ate', 'umeboshi', 'gizzard', 'gauge', 'circumference', 'crispiness', 'cactus', 'muddler', 'tonic', 'crocks', 'ridges', 'pavlova', '1-inch-wide', 'serving-size', 'ruler', 'adult', 'promptly', 'twisted', 'kinako', 'soft-set', 'splashes', '370Â°', 'grandma', 'mealy', 'belgian', 'spills', 'boiling-water', '15-second', '5-cup', 'lowering', 'tempering', '145Â°f', 'oriental', 'soapy', 'foreman', 'turnover', '4-8', 'exception', 'fair', 'soybeans', 'pulpy', 'lucky', 'bulgar', 'compound', 'flash', 'halloween', 'fillo', 'boston', 'wrong', 'gritty', 'demi-glace', 'asafoetida', 'chinois', 'stickiness', 'creams', 'transferred', 'caramelizing', 'bailey', 'rule', 'monitor', 'spine', 'verbena', 'afternoon', 'ample', 'dabs', '15x10x1', 'fettuccini', 'instruction', 'v8', 'x2', 'quinces', 'sooner', 'flowerpot', 'dehydrate', 'choices', '9-12', 'bone-in', 'concerned', '8-inch-square', 'expensive', 'instantly', 'peeking', 'pillsbury', '360Â°', 'rearrange', '105', 'pictures', 'corns', 'well-drained', 'combines', 'egg/milk', 'warms', 'replenish', 'unique', 'leaks', '1-ounce', '55-65', 'samosas', 'flecks', 'delight', 'picking', 'endless', 'hibiscus', '13-by-9-inch', 'pushed', 'certo', 'deveined', 'molded', 'immersed', 'obtained', 'melons', 'pebbles', '4.5', 'msg', 'spatter', 'barbecued', 'sir', 'encourage', 'settled', 'rap', 'thin-bladed', 'refreeze', 'pierces', 'laid', 'shoot', 'rosette', 'konbu', 'epazote', 'medium-heat', 'concentrates', 'dandelion', 'retains', 'shrinks', 'stewing', 'pace', 'medium-large', 'chanterelles', 'cremini', 'campari', 'garbanzos', 'non-aluminum', 'jarred', 'loins', 'circulation', 'tagliatelle', 'pimenton', 'prepping', 'corer', 'folks', 'dispersed', 'traces', 'bullet', 'crowded', 'well-beaten', \"'til\", 'bison', 'all-bran', 'field', 'man', 'interval', 'star-shaped', 'minutes-', 'typical', 'server', 'neither', 'comfortable', 'chilly', 'med-hi', 'med/high', 'earth', 'cleans', 'shots', 'rainbow', 'overall', 'disturbing', 'significantly', 'backing', 'smart', 'raviolis', '1tbsp', 'chicory', 'annatto', 'tented', 'kinda', '4th', 'gathering', 'mounded', 'tipping', 'petal', 'inject', 'teeth', 'grills', 'wrung', 'site', '2-1/2-qt', 'freely', '320', 'town', 'domed', 'smoosh', '3-6', '3/4-in', '475Â°f', 'smashing', 'mccormick', 'citric', 'eastern', 'kiwis', 'sweetcorn', 'groups', 'tandoori', 'random', 'balanced', 'pleating', 'arm', '5.', 'alot', 'infusion', '20-', 'wide-mouth', 'craft', 'contrast', 'learned', 'kcal', 'yucca', 'burrata', 'marinates', 'told', '370', 'cuisine', 'salata', 'tying', 'terrific', 'safety', '1/2-1', 'consistently', 'cornish', 'beignets', 'web', 'inch-thick', 'hob', 'mentsuyu', 'sieved', 'polish', 'words', 'estimated', 'muesli', 'juiced', 'jaggery', 'eclairs', 'madeleine', 'gill', 'over-bake', '6-inches', 'stomach', 'briquets', 'write', 'swirled', 'gallon-size', 'shop', 'arent', 'reconstituted', 'garlicky', 'ginger-garlic', 'theres', 'tartness', '16-ounce', 'liquified', 'alfalfa', 'danish', 'stretched', 'late', 'ratatouille', 'perk', 'fifth', '16-20', 'disappeared', 'anaheim', '22-25', 'spiralizer', 'suggests', 'squashes', 'crockery', 'milkshake', 'tm', 'sugar/cinnamon', '3-cup', 'popsicles', 'cupboard', 'side-by-side', 'flambe', 'pleat', 'decided', 'net', 'cut-sides', 'zipper-lock', 'patches', 'wrinkled', '220Â°c', 'patted', 'remembering', 'passes', 'braided', 'smokes', '60-65', 'stilton', 'serranos', 're', 'didnt', 'removes', 'dredged', 'ago', 'cutout', 'scrambling', 'decent', 'brim', 'adzuki', 'potstickers', 'passata', 'clementines', 'blobs', 'everywhere', 'latin', 'enclosed', 'imagine', 'chocolate-covered', 'semifreddo', 'aunt', 'moistening', '10-14', \"za'atar\", 'mizuna', 'hotdogs', 'k', 'kellogg', 'tendency', '1-pound', 'aniseed', 'exposing', 'blowtorch', 'stroganoff', 'prebake', 'stab', 'london', 'raising', 'extra-large', 'frosty', 'favas', 'roll-up', 'par', 'grouper', 'skinny', 'carmelize', 'lumping', 'heaven', 'moved', 'peal', 'p.', 'italy', 'baileys', '236Â°', 'soured', 'drumettes', 'lightly-floured', '1/2-qt', '9x13x2', 'holly', 'necks', 'gorgeous', 'forefinger', 'splatters', 'le', 'high-speed', 'slider', '30cm', 'accumulates', 'muenster', 'snug', 'levels', 'hangs', 'softness', 'a.1', 'pattie', 'dollar', 'boysenberries', 'suspended', 'settles', 'thumbs', 'disperse', 'sixteen', 'yukon', 'cocktails', 'razor', 'knuckle', 'grasp', '1tsp', 'frangipane', 'swap', 'sunday', 'granular', 'filing', 'don', 'buying', 'grown', 'parboiled', 'unto', '1/16-inch', '17-20', 'tucked', 'stopped', '8x12', 'tastier', 'baggies', 'coco', 'non-metal', 'salting', 'cut-out', 'blackening', 'fluffier', 'minutes.', 'neutral', '180Â°f', 'mature', 'snails', 'dices', 'emulsifies', 'scattering', 'intensify', 'teh', 'anko', 'pralines', '37', '10-cup', 'limas', '1/3-cup', 'mineral', 'overcrowding', 'tinned', 'greatly', '234', 'low/medium', '40-60', 'curly', 'tools', 'dicing', 'well-chilled', 'zester', 'steeping', 'structure', 'rating', '3cm', 'mg.', 'battered', 'cracklings', '340', 'giblet', '6-in', 'imprint', 'splattering', 'dunking', 'utensils', 'floss', 'frangelico', 'jalepenos', 'sauteeing', 'grindings', 'slap', 'pre-made', 'fallen', 'breastbone', 'salmonella', 'ridge', 'details', 'gallon-sized', 'ties', 'caramelization', 'proofed', 'selection', 'thickener', 'mitt', 'motions', 'non-fat', '360Â°f', '11g', 'well-stocked', 'gr', '115Â°', 'grandmother', 'vibrant', 'martha', 'majority', 'dial', 'taquitos', 'unlock', 'paratha', 'recommends', 'sure-jell', 'hide', 'york', 'tobasco', '475f', 'china', 'specific', 'untoasted', 'oak', 'tougher', 'v', 'asafetida', 'nam', 'escapes', 'em', 'saturate', 'nutrients', 'latter', 'upper-middle', 'zap', 'kim', 'mexico', '145f', 'rouille', 'surprise', 'perfection', 'ingred', 'reveal', 'strongly', 'diners', 'probe', 'pointy', 'unavailable', 'paper-towel', 'a.', 'bacteria', 'havarti', 'cluster', 'crisply', '31', '4-in', 'location', 'france', 'boursin', 'russet', 'heat-safe', 'add-ins', 'bash', 'liters', 'matchstick', 'causes', 'clean-up', '8x8x2-inch', '1/8th', 'separator', 'melded', 'sakura', 'piling', 'preceding', 'reheats', 'biggest', 'zigzag', 'bakery', 'powerful', 'stain', 'balm', '1-1/2-inch', 'orecchiette', 'literally', 'poulos', 'nicer', 'resembling', 'wilton', 'deglazing', 'plated', 'cabernet', 'compartment', 're-season', 'opinion', 'kelp', 'rimless', 'initially', '1/2c', 'useful', 'smokies', 'impression', 'glug', '155Â°', 'cordial', 'toughen', 'silken', 'video', 'condensation', 'theyll', 'velvet', 'flows', 'mediterranean', 'smallish', 'send', 'crevices', \"d'oeuvres\", 'permit', 'slower', 'dimple', 'jambalaya', 'replacement', 'grape-nuts', 'attempt', 'unitl', 'bang', 'labeled', 'extends', '2-1/4', 'romesco', '12g', 'microwave-proof', 'linen', 'topper', 'whoopie', 'braids', 'turkish', '12-24', '1-second', 'possibilities', 'seriously', 'pappardelle', 'macerated', 'wiggle', 'crunchier', 'nougat', 'deep-sided', 'rerolling', 'adjustments', 'feeds', 'minuets', 'rabbits', 'cloth-covered', 'peelings', 'distribution', 'sideways', 'vidalia', 'overprocess', 'meatloaves', 're-sealable', '1hr', 'prove', 'maldon', '46', 'guts', 'distinct', 'gherkins', 'capon', 'pleats', 'churros', '2-2', 'digital', '140Â°f', 'tightfitting', 'egg-milk', 'betty', 'assortment', '60-90', 'ghost', 'reseason', 'blini', 'zabaglione', 'ordinary', 'envelopes', 'birthday', 'drawing', 'wind', 'scent', 'santa', 'guanciale', '1/4-inch-wide', 'hijiki', '50g', '22cm', 'int', '7x11', 'warmth', 'kidneys', '9x11', 'detach', 'supply', 'occasional', 'spilling', 'click', 'ea', 'continuous', 'lace', 'frame', 'hydrate', 'satisfying', 'noir', 'delightful', 'fewer', '150Â°f', 'hog', 'blanket', 'delish', 'satisfied', 'urad', 'stable', '1.0g', 'candle', '6.', 'butters', 'variable', 'liqueurs', 'drizzles', 'prettier', 'blunt', 'egg-white', 'mutton', 'estimate', 'sixths', 'rutabagas', 'returned', 'fromage', 'mortadella', 'tartare', 'margerine', 'forever', 'butterfinger', 'judgement', 'suits', 'chunkier', 'ot', 'pistou', 'fleshy', '8x4-inch', 'men', 'smelling', 'sugary', 'grapefruits', 'bounce', 'unfilled', 'fuzzy', '1000', 'simultaneously', 'similarly', 'pina', 'reuse', '54', 'peppered', 'completly', 'lil', 'dowel', 'peper', 'chili-garlic', 'appetite', '550', 'chimichangas', 'kiwifruit', 'worried', 'chapati', '130Â°f', '|', 'explode', 'shortest', 'impossible', 'nature', 'skimmed', 'boy', 'moister', 'glucose', 'correctly', '1/5', 'minimize', 'szechuan', 'safflower', 'rearranging', '1-pint', '238', 'snacking', 'sew', 'north', 'carmel', 'boost', '1c', '1.5g', 'wants', 'degrease', 'goodies', 'moistness', 'safely', 'gotten', 'ans', 'now-empty', 'broths', 'colada', 'ink', 'prego', 'thorough', '56', 'versions', 'hue', 'bocconcini', 'rosti', '3mm', 'material', 'turtle', 'stripe', 'minimal', 'roulades', 'butchers', 'nuoc', 'half-moons', 'resift', 'submerging', 'steams', 'doubt', 'butter/oil', 'crust-lined', 'blob', 'southwest', '11x7-inch', 'p.s', 'guajillo', 'flat-leaf', 'beads', 'fixings', 'reseal', 'regulator', 'besides', 'crayfish', '1-tablespoon', 'montreal', 'lychee', '9x5x3-inch', 'natto', 'cassoulet', '140f', '1.preheat', 'sense', 'fowl', 'rue', 'saves', '120Â°-130Â°', 'merlot', 'ts', 'tower', 'sunchokes', 'sterilised', 'pb', 'crispix', 'replaced', 'loop', 'cloud', 'shrinking', 'castor', '25g', 'flavouring', 'centered', 'reading', 'piled', 'stabilize', 'sinew', 'pkgs', 'eyed', 'com', 'taffy', 'humid', 'silks', 'shoestring', 'tasso', 'path', 'goats', 'portobellos', 'church', 'joes', 'heavenly', 'drains', 'cork', 'pungent', 'jams', '2-ounce', 'intend', 'facts', 'pasilla', '400-degree', 'manis', 'unevenly', 'animal', 'herbal', 'absorbing', 'whack', 'windows', 'ahi', 'trader', 'stray', '30min', 'realemon', 'heavier', 'louisiana', 'latke', 'distilled', 'malleable', 'urge', 'cardamoms', 'pandan', 'dairy-free', 'onigiri', 'fine-meshed', 'pizzelle', 'fixed', 'forgot', 'aji', 'beak', 'encase', 'madeleines', 'caramelise', 'hulls', 'fizz', 'dillweed', 'business', '350-degrees', 'capsicums', '13g', 'indention', 'thumbprint', 'elephant', 'smokey', 'posole', 'accuracy', 'peppery', 'skilled', 'saw', 'kid', 'breadmaker', 'remaing', 'panettone', 'smoothness', 'mostaccioli', 'heinz', 'glitter', 'fiddleheads', 'sop', '150Â°c', 'pastas', 'lies', 'readily', 'whole-grain', 'moroccan', 'ie', 'okonomiyaki', '44', 'blanche', 'soybean', 'propane', 'portable', 'noted', 'discoloring', 'lumpia', 'reference', 'pads', '390', 'ladling', 'aromas', 'issue', 'deliciously', '-2', 'damaged', 'curing', 'bounces', '-3', 'son', 'puffing', 'seperately', '1/3-inch-thick', 'st.', 'everyday', 'stocks', 'microproof', 'bury', 'goya', 'regular-size', '1-1/3', 'lo', '100g', '8-inches', 'devil', 'darkening', 'cat', 'accurate', 'rolled-out', 'over-browning', 'dock', 'leaking', 'alter', '600w', 'seize', '8oz', 'heirloom', '10mins', 'goulash', 'inexpensive', 'card', 'nonmetal', 'nondairy', 'circulate', 'gumdrop', '1/4c', 'zinfandel', 'sawing', '10-11', 'desiccated', 'scapes', 'website', '175Â°', 'sinking', 'cheerios', 'weird', 'energy', '30-', 'oil/butter', 'pre-bake', 'glistening', 'escaping', 'overdone', 'stretchy', 'medley', 'teabags', 'occasionaly', 'pinenuts', 'vine', 'half-filled', 'tweezers', 'quark', '25cm', '-thick', 'cruet', 'micro-cook', 'spatzle', 'beards', 'torta', 'flans', 'noticeably', 'faced', 'hood', 'rate', '12-13', 'charring', 'states', 'collander', 'disintegrate', 'user', 'skor', 'kit', 'gathered', 'girl', 'bouillion', 'baster', 'desires', 'thick-bottomed', 'elements', 'maggi', 'amd', 'low-sodium', 'crostata', '260Â°', 'middles', 'nylon', 'fins', 'dryness', 'narrower', 'pluck', 'habaneros', 'vietnamese', 'differ', 'fan/gas', 'brickle', 'luke', '43', 'bunt', 'fatback', 'loaded', 'dose', 'unlike', 'illness', 'ras', 'weighted', '365Â°', 'undercook', 'cartons', 'molding', 'catching', 'sunlight', '12x8', 'precise', 'borders', 'calling', 'dotted', 'pout', 'tom', 'via', 'farmers', 'criss', 'tiles', 'flaxseeds', 'shaoxing', 'eats', 'dental', 'twenty-four', 'fat-side', 'rocky', '6-9', 'kugel', 'produced', 'gon', 'multi-functional', 'creuset', 'nutritious', 'thicknesses', 'steeped', 'looked', 'tapered', 'mirepoix', 'chantilly', 'throwing', '9x9x2', 'high-powered', 'squab', 'soft-serve', 'bloomed', 'occur', 'snowman', 'farina', 'carne', 'overnite', 'agitate', 'concoction', 'bursting', 'tier', 'fro', 'pieplate', 'lenghtwise', 'firstly', 'rewrap', 'cafe', 'expel', 'friendly', 'bowel', 'massaging', 'nog', 'durkee', '20-inch', 'lightens', 'aspic', 'foil-wrapped', 'cappuccino', 'coverage', 'farmer', 'scrapings', 'stirs', 'flare-ups', 'hanout', 'spinkle', '12-18', 'taters', 'overflowing', 'pigs', 'insulated', 'camp', 'pen', 'varied', 'bibb', 'decadent', 'desert', 'overs', 'lychees', 'incredibly', 'respectively', 'speck', 'earthy', 'en', '2tbsp', '150f', 'splashing', 'rake', 'oozing', 'wife', 'hate', 'losing', 'comal', 'meduim', 'pips', 'sauta', 'towellined', 'marbles', 'conch', 'styrofoam', 'substance', 'hydrated', 'sum', 'nigella', 'lager', '9-by-5-inch', 'crumpled', 'bet', 'leather', 'substitutions', 'trickle', 'chocolate-hazelnut', 'flatter', 'expected', 'elbows', 'bonus', 'nilla', 'finest', 'half-cooked', 'cheers', 'recently', 'medallion', 'steamy', 'sensitive', 'shichimi', 'farms', 'diabetic', 'saucepans', 'hunks', 'dr.', 'chewier', 'divine', 'babies', 'carved', 'venting', 'sauceboat', '18cm', 'chunked', 'porcelain', 'flattens', 'kanten', 'liquer', 'mood', 'wrinkle', 'task', 'macaron', 'kabob', 'nonpareils', 'enter', 'striped', 'pleasant', 'barrel', 'cassava', 'panic', 'ya', 'solidifies', 'ingedients', 'happening', 'shitake', '15g', '10min', 'utility', 'picnics', 'weighing', 'loafs', 'aware', 'vin', 'search', 'integrate', 'pla', 'stiffer', 'colder', 'ups', 'luscious', 'wave', '1-4', 'lava', 'opposed', 'treacle', 'taylor68too', 'smoothies', '20-second', 'kumquat', 'bayleaf', '170Â°c', 'armagnac', 'tamagoyaki', '12-inches', 'i.e.', 'pyramid', 'daughter', 'lily', '3-ounce', 'wetting', 'es', 'whir', 'writing', 'values', 'degress', '68', 'chest', 'matching', '-15', 'palate', 'ping', 'shrivel', 'eel', 'reasonably', 'diner', 'embers', '12x8-inch', 'mache', 'jammy', 'blast', 'batons', '360f', 'deliciousness', 'judgment', 'famous', 'frito', 'fo', 'forty', 'hatch', 'spuds', 'fluffing', 'partway', '10-oz', 'x5', '180c/350f', 'agent', '5-inches', 'dead', 'foiled', 'strew', 'krispie', 'brazil', 'milk/cream', 'shirataki', 'pomegranates', 'tuiles', 'brocolli', '5min', 'skate', 'beware', 'two-quart', 'slender', 'wreaths', 'zing', 'dryer', 'brewing', 'specks', 'tomorrow', 'pronounced', 'tabbouleh', 'centigrade', 'threw', '225Â°f', 'aa', 'surprised', 'indicates', 'tradition', 'stencil', 'lrg', 'manage', 'ragged', 'tag', 'veges', 'saucier', 'nb', '30mins', '15min', 'angles', 'uncle', 'sleeve', 'meatless', 'schnitzel', 'clockwise', '10cm', 'acetate', 'komatsuna', '112', 'yorkshire', 'sharply', 'left-over', 'culture', 'express', '20g', 'tblsps', '130f', 'lovers', 'wrinkles', 'compliments', 'dishwasher', 'mins.', 'convenience', 'de-vein', 'glove', '11-12', 'caponata', 'machines', 'dosa', 'de-glaze', '30g', 'f-convection', 'croquette', 'mistake', 'alarmed', 'selected', 'crocker', 'paintbrush', 'cake-like', 'differently', 'speckled', 'nd', 'positioned', 'blond', 'aiming', 'tinged', 'rod', 'frosts', '550Â°', 'chiffon', 'damage', 'listen', 'substitution', 'salt-free', 'major', 'acidulated', 'dukkah', 'peperoncino', 'crucial', 'twirl', 'transport', 'hardwood', 'aminos', 'glutinous', '-in', 'upto', 'duckling', 'lacy', '290Â°', 'crystallize', 'ornaments', 'sandwiched', 'self-sealing', 'coin', 'mention', 'meaning', 'parma', '1.in', 'unpopped', '60-75', 'lick', 'arrive', 'tri-tip', 'capellini', '245', 'essentially', 'lump-free', 'dance', 'fans', 'proportion', '290', 'sinks', 'weak', 'flaming', 'nonmetallic', 'dad', 'busy', 'thermos', 'hollowed-out', 'slows', '12-hole', 'rotis', '8-by-8-inch', 'overmixing', 'wit', 'pre-cook', 'beach', 'ditalini', 'cylindrical', 'spaghettini', 'sale', 'carafe', 'poppers', 'arepas', 'skipped', 'profile', 'pail', 'codfish', 'snail', 'hotdog', 'clears', 'extended', '235', 'beauty', 'critical', 'author', 'crisping', 'adhering', 'problems', 'grip', 'temptation', 'view', 'artisan', 'dispose', 'hopefully', 'wondra', 'thinking', '.5', 'intensity', 'accompanying', 'pom', 'workbowl', 'methi', 'haloumi', '2.in', '1520', 'buzz', 'angostura', 'hollows', 'desirable', 'bacardi', 'mahogany', 'greater', 'curdles', 'difficulty', 'bob', 'resume', 'onion/garlic', 'kg', '375-degree', 'latte', 'aka', 'bicarb', 'refrigerateat', \"d'oeuvre\", 'signs', 'discolor', 'persons', 'chokes', 'manie', 'boxed', 'cord', 'bearnaise', 'grooves', 'collapsed', 'region', 'marinades', 'adn', 'leafs', 'chillis', 'piquillo', 'Â°c', '100ml', 'formation', 'mornay', 'collects', 'riced', 'pinkish', 'mmm', 'droplets', '1/2-3/4', '120Â°f', '14-18', 'gnudi', 'second-lowest', 'unpricked', 'fresca', 'hulled', '280', 'stewart', 'heck', 'perogies', 'san', 'sashimi', 'medium-mesh', 'camping', 'faith', '270', 'cleaner', 'extracted', 'half-cup', 'odor', 'faucet', 'frog', 'ladled', 'nail', 'bead', 'chana', '125Â°f', '14-in', 'occurs', 'hence', 'practically', 'outdoors', 'chew', 'ouzo', 'groats', 'lighly', 'food-borne', 'shio-koji', 'dew', 'trash', 'tendons', '10-quart', 'david', 'sell', 'sweets', 'welcome', '310', 'swimming', 'petite', '4-7', 'siu', 'molten', '210c', 'litres', '500w', 'canapes', 'jimmies', 'attempting', 'retrieve', 'somen', 'outwards', 'pastes', 'coarsley', '15mins', '250c', 'potluck', 'dipper', 'boning', 'rarely', 'puddle', 'successfully', 'international', 'detailed', 'zested', 'shouldnt', 'fan-forced', '40c', 'lye', '52', 'permits', 'mrs.', 'ripple', 'antipasto', 'print', 'overpower', 'scrapping', '5-in', 'goji', 'chile-garlic', 'boysenberry', 'nestling', 'galettes', 'baba', '7-in', 'spoke', 'fiesta', 'adequate', '58', 'skimp', 'rocking', 'guidelines', 'profiteroles', 'growing', 'ultimate', 'shingle', 'pur', 'manually', 'sometime', 'jellied', 'suger', 'harvest', 'charlotte', 'grids', 'spoil', 'lying', '15x10-inch', 'cal.', 'heard', 'butter-flour', 'substantial', 'increases', 'align', '2/3rds', 'giardiniera', 'chaat', 'contributors', '700', 'crossways', 'quiches', 'underbake', 'cut-outs', 'flour-dusted', 'cross-wise', 'woman', 'nugget', 'learn', 'immediatly', 'forgiving', 'jerusalem', '11/4', '1/8-', '15-in', 'recoat', 'completing', 'gooseberries', 'nudge', 'wrist', 'pigeon', 'connected', 'prefers', 'bulghur', '5-ounce', 'consumed', 'looser', 'papper', 'phase', 'shaving', 'salsify', '135Â°f', 'bread-crumb', 'causing', '4-oz', 'movement', 'smush', 'crumple', 'succotash', 'flowing', 'fabric', 'lollipops', 'rapini', 'spinning', 'kebab', 'tenting', 'portabella', 'blackens', '1-1.5', 'crater', 'season-all', 'drive', 'device', '1hour', 'untouched', 'distance', 'shorten', 'ove', '380', 'impart', 'half-fill', 'complex', 'ignore', 'robust', 'mix-ins', 'koftas', 'untl', 'savoury', 'lightly-cooked', 'eggbeater', 'term', 'hard-crack', 'unusual', 'hooks', 'e.g', 'cabinet', 'applied', 'bagged', 'vegtables', 'purse', 'flare', 'buttered-side', '9in', 'porcinis', 'doubanjiang', 'vegemite', '225f', 'properly-refrigerated', '50ml', 'dishpan', 'event', 'fructose', 'sm', 'cress', 'cancel', 'abut', 'appx', 'strudels', 'odd', 'vital', 'food-safe', 'secrets', 'creases', 'nine-inch', 'goblet', 'longways', 'shredder', 'bout', 'gathers', 'tumble', 'even-sized', '1015', 'bucatini', 'attest', 'land', 'slat', 'cheaper', '1-1/2-quart', 'fulls', 'expanded', 'y', 'eyeballs', 'valentine', '1cup', 'suspend', 'light-colored', 'widely', 'ft', 'god', 'acts', 'substitutes', '230Â°', '1/2-3', 'john', 'stromboli', 'appetito', '20-24', 'yokes', 'excessively', 'ziptop', 'ghirardelli', 'sause', 'guessing', '1inch', 'elderflower', 'bombe', '1/2-in.-thick', 'advice', 'popper', 'creation', '330', 'prickly', 'sauced', 'ripeness', 'flying', 'subsided', 'standard-size', 'refrigeratein', 'barbecuing', 'turntable', 'hard-boil', 'stiffens', 'conserve', 'frankfurter', 'faint', 'stress', 'pause', 'furiously', 'modified', 'in.', 'de-bone', 'scrunch', '750', 'refined', 'varying', 'wobble', 'cockles', 'tomalley', 'colours', 'campbell', 'cow', 'staple', 'ben', 'fanning', 'margarine/butter', 'pan-fried', 'mandarins', 'scorched', 'half-hour', 'macadamias', 'estimates', 'swizzle', 'sling', '8-qt', 'brined', 'togarashi', '155f', 'benefits', '2.5g', 'redness', 'lefse', 'trap', 'maria', 'cheat', 'court', 'slippery', 'sardine', 'broiler-safe', 'necessarily', 'connective', 'deepen', 'quails', 'step-by-step', 'ateco', 'ramp', 'terry', 'turned-off', 'hare', '2-gallon', 'egg/sugar', 'display', 'surprisingly', 'beep', 'transluscent', 'reactive', '175f', 'fregola', 'pressure-release', 'boys', 'squirrel', 'overstir', 'arrangement', 'trunk', 'cheeseburgers', 'deep-fried', 'suppose', 'jackfruit', 'done-ness', '4cm', '14g', '20min', 'compliment', 'seemed', 'hardening', 'french-fried', 'ready-made', '82', 'automatic', 'dragees', 'mixure', 'preparations', 'chianti', 'appropriately', 'opens', 'kofta', 'margaritas', 'dough-like', 'johnny', 'watts', 'car', '39', 'system', 'east', 'abalone', 'whiskers', 'shrunk', 'choi', 'feathery', 'naked', 'carnitas', '175Â°f', 'silpats', 'calc', 'cook/stir', '16g', 'atsuage', 'enhances', 'unfloured', 'feathers', '2-1/2-inch', 'spend', 'burrito-style', 'shifting', 'incredible', 'rawspicebar', 'coils', 'dishcloth', 'boards', 'panfry', 'road', 'formula', 'art', '350-375', 'scampi', 'a1', 'oiling', 'guys', 'lunches', 'pampered', 'spoonfulls', 'cooktop', 'digestive', '9x12-inch', 'squishy', 'sacs', 'pasta-cooking', '250ml', '5mins', '41', 'pinkness', 'scrubbed', 'pleasing', 'unseasoned', 'permeate', 'slipping', 'scoring', 'premade', 'branch', 'sweating', 'seam-sides', 'shallow-fry', 'tennis', 'gal', 'beige', 'fool', 'alternatives', 'breyers', 'exotic', 'grana', 'gelatins', 'eggroll', 'exceed', 'garbage', 'zip-loc', 'softball', 'cage', 'goo', 'elongated', 'track', 'drench', 'eclair', 'sauce-like', 'mildly', 'omelettes', 'cresent', 'dhal', 'id', 'cakepans', 'spead', '810', 'zippered', 'character', 'accumulate', '125Â°', 'definite', 'fail', 'pie-shaped', 'abundant', 'mouths', 'quick-cooking', 'spokes', 'monkey', 'whitish', 'buon', 'morel', 'began', 'recombine', 'eggwash', 'framboise', 'well-incorporated', 'kecap', 'tarte', 'inactive', 'occasions', 'mazola', 'reassemble', 'marbleize', 'bugs', 'long-grain', 'clarify', 'crowns', 'coconuts', 'soil', 'dies', 'chargrill', 'incorporates', 'distinctive', 'jellies', 'sister', '3-minute', 'chees', '10-second', 'moist-looking', 'www', 'loosens', 'coca', '12-quart', 'contained', 'agitating', 'med/low', 'emerges', 'grappa', 'daal', '45-degree', 'rashers', 'anchos', 'tamago', 'two-inch', 'two-piece', 'glutamate', 'matzos', 'splits', '5/8', 'rump', 'top-side', 'trough', 'defrosting', 'unrolled', 'marshmellows', 'monterrey', 'happened', '7.', 'worries', 'schmaltz', '155Â°f', 'environment', 'italian-style', 'indoors', 'liquors', 'ghosts', 'warn', 'equal-size', 'mixers', 'premium', 'app', 'et', 'microwaves', 'suck', 'pools', 'tilted', 'evaporating', 'ripples', 'hairy', 'limit', 'seeing', '3/4-', 'wort', 'dry-roast', 'crispies', 'shovel', 'entertaining', 'monosodium', '9-inches', 'marination', '105Â°', 'reset', 'quarter-inch', 'injector', 'daiquiri', '7/8', 'beeps', 'sixth', 'lover', 'remaning', 'furikake', 'andes', 'tot', 'gut', '8x11', 'shortcut', 'national', 'hurricane', 'features', 'ran', 'butter/flour', 'side-down', 'sucanat', 'route', 'biga', 'note-', 'andrew', 'easy-to-eat', 'bud', 'spent', 'dixie', 'intermittently', 'separation', 'gross', 'introduce', 'pressure-cook', 'cajeta', 'x12', 'visual', 'aggressively', '24cm', 'oamc', 'f/gas', 'hunk', 'unattended', 'milk/egg', 'overlaps', '7-quart', 'spearmint', 'kamaboko', 'compensate', 'farfel', 'flakey', 'lead', 'pages', 'metallic', '8in', '.add', 'whistles', '4oz', 'cham', 'vitamins', 'pam-sprayed', 'watchers', 'ladlefuls', 'fours', 'a-1', 'considered', 'trip', 'disolve', 'cinammon', 'alive', 'b.', 'low-med', 'over-beat', 'al-dente', '9inch', 'gelee', 'grigio', 'techniques', 'misture', '200c/400f/gas', '350f/180c', 'honey-mustard', 'rigid', 'depressions', 'eaters', 'mainly', 'pheasants', 'immediate', 'froze', 'cram', 'scaloppine', '1.25', 'shades', 'unsaturated', 'ing', 'padano', 'silpat-lined', 'feeder', 'department', 'borax', 'wad', 'pete', 'turkeys', 'crossing', 'elk', 'breeze', 'shark', 'hats', 'purees', 'clafoutis', 'wineglasses', 'chesse', 'hight', 'tranfer', 'rices', 'clothes', 'wow', '24-inch', 'lopez', 'os', 'heartier', 'bank', 'checkerboard', 'mama', 'restaurants', 'v-shaped', 'recesses', 'cookware', '78', 'counting', 'bubbled', 'needles', 'ladel', 'west', 'signal', 'sweet-and-sour', 'edged', 'chapatis', '7.5', 'pepperjack', 'loose-bottomed', 'competition', '14-', 'milliliters', 'biscoff', 'mitsuba', 'pic', \"o'clock\", 'teas', 'hunt', '280Â°', 'duncan', 'tablespoon-size', 'demitasse', 'pole', 'ocean', 'zero', 'textures', '25-28', 'minis', 'err', 'factor', 'applewood', 'w/the', '375.', '2009', 'forcing', 'continued', 'freezer-proof', 'spirit', 'shielding', 'beard', 'spike', 'thrown', 'absinthe', 'coast', 'teaspoonsful', 'unsure', 'cassarole', '2-inch-long', 'kumara', 'stirr', '20mins', 'havent', 'firegrate', 'altered', 'treated', 'connect', 'instance', 'city', 'fermenting', 'hungarian', 'clotted', 'serious', 'pasteurized', 'starches', 'over-cook', '355Â°f', 'impatient', 'hanpen', 'flora', 'letters', 'feast', 'ornament', 'price', 'muscles', \"s'mores\", '47', 'charles', '2,000', 'angled', 'mud', 'doll', 'ti', 'hinge', 'flick', 'fishmonger', '2-tablespoon', 'decant', 'update', '140c', '1lb', 'direct-heat', 'mediumhigh', 'wedding', 'cavatelli', '220Â°', 'assist', 'fumes', 'tumblers', 'good-sized', '10-inches', 'mouse', 'browner', 'nights', 'regardless', 'mask', 'unnecessary', 'rendering', 'fly', 'brighten', 'contrasting', '-10', 'x3', 'chedder', '2-inch-wide', 'lighty', '510', 'helper', 'pepsi', 'dove', 'smothered', 'pricking', 'eighth', '8.5', 'ball-sized', 'blonde', 'cookers', 'dramatically', '18g', 'jam-like', 'umami', '9-inch-square', '15cm', '24g', '1/2-ounce', 'confetti', 'slot', 'bows', 'glassy', 'hines', 'unfrosted', 'jacket', 'succulent', 'wattage', 'shucked', 'regarding', 'cachaca', 'reinvert', 'alligator', 'seive', 'fingerling', 'fibre', '24-cup', 'became', 'finding', 'slim', 'alright', 'saltier', 'slips', 'pasties', 'western', 'concave', 'drown', 'met', 'optimal', '1.5-2', '2-inch-high', 'ps', 'chick-peas', '96', 'twin', 'secured', 'thinness', '8x10', 'brandied', '12-muffin', 'proteins', 'likewise', 'yeah', 'jamaican', 'supremes', 'inwards', '5-spice', 'honestly', 'besan', 'sprinke', 'vit', '180c/350f/gas', 'acceptable', 'seeps', 're-warm', 'sac', 'parathas', 'missing', 'flat-side', '1/4th', 'accidentally', '2.5cm', 'x10', 'swanson', 'retained', 'cupped', 'petit', 'slick', 'glazes', 'asked', '-1', 'agar-agar', '1in', 'berbere', 'earl', 'piecrusts', 'chermoula', 'paired', 'chamomile', '13-inches', 'ages', '235Â°', 'money', 'wavy', 'checked', 'butter-side', 'designed', 'thumped', 'expands', 'bleed', 'orange-flavored', 'williams', 'pudding-like', 'worcester', 'free-form', 'milled', 'ingredents', 'intended', '1/8-in.-thick', 'kernals', '10-inch-diameter', 'aldente', '6cm', '3.add', 'maitake', '340f/170c', 'wiped', 'drummettes', '88', 'household', 'advise', 'brief', 'guideline', 'hefty', 'regulate', 'w/a', 'assuming', 'pitta', '2012', 'episode', 'tastykitchen', 'lack', 'rods', 'fell', 'siphon', 'confection', 'elevated', 'slimy', 'half-full', 'compared', 'askew', 'wake', 'medium-fine', 'j', 'picky', 'wilting', 'oval-shaped', 'hubby', 'mincing', 'shortcrust', '-place', 'congee', 'mojito', '17g', '200ml', 'e-mail', 'triples', 'wonder', 'ovensafe', 'involved', 'indicate', 'underbeat', 'studded', 'cuban', 'adventurous', 'nasty', 'crumbed', 'untie', 'wherever', 'noise', 're-rolling', 'jump', 'appealing', 'savoy', 'vita-mix', '28g', 'one-crust', 'violet', 'hitting', 'lessen', 'pillow', 'satisfaction', 'rag', 'dive', 'stuffer', 'bush', 'pollen', 'capture', 'timbale', 'lighting', 'coatings', 'pan-', '420', 'egg-yolk', 'halt', '4-24', 'violently', 'dimples', 'zone', 'avacados', 'un', 'updated', 'itll', 'saver', 'anchor', 'snakes', '310Â°', 'limited', 'teacup', 'toll', 'numbers', 'lips', 'mock', '49', 'pleated', 'exude', 'pleasantly', '28-30', 'honeycomb', 'refrigerateand', 'waters', 'appeal', 'replenishing', 'gels', 'punching', 'pre-cut', 'model', 'bears', 'pt', 'lightly-greased', 'threading', 'commonly', 'bacon-wrapped', 'prettiest', 'overpowering', 'sweeteners', 'adequately']\n"
     ]
    }
   ],
   "source": [
    "with open(base_path + ing_vocab_path, 'r') as file:\n",
    "    ingredient_vocab = [t[0] for t in list(csv.reader(file))[1:]]\n",
    "with open(base_path + rec_vocab_path, 'r') as file:\n",
    "    recipie_vocab = [t[0] for t in list(csv.reader(file))[1:]]\n",
    "print(recipie_vocab)"
   ]
  },
  {
   "cell_type": "code",
   "execution_count": 82,
   "metadata": {},
   "outputs": [
    {
     "data": {
      "text/plain": [
       "8195"
      ]
     },
     "execution_count": 82,
     "metadata": {},
     "output_type": "execute_result"
    }
   ],
   "source": [
    "rec_input_offset = len(ingredient_vocab)\n",
    "input_vocab = ingredient_vocab + [\"R\"+r for r in recipie_vocab] + [\"<ING>\", \"<REC>\", \"<END>\"]\n",
    "output_vocab = recipie_vocab + [\"<END>\"]\n",
    "\n",
    "\n",
    "input_w2id =  {w:i for i,w in  enumerate(input_vocab)}\n",
    "input_id2w =  {i:w for i,w in  enumerate(input_vocab)}\n",
    "output_w2id =  {w:i for i,w in  enumerate(output_vocab)}\n",
    "output_id2w =  {i:w for i,w in  enumerate(output_vocab)}\n",
    "(output_w2id)[\"<END>\"]"
   ]
  },
  {
   "cell_type": "code",
   "execution_count": 83,
   "metadata": {},
   "outputs": [
    {
     "data": {
      "text/plain": [
       "tensor([[[1, 2, 3, 0],\n",
       "         [4, 5, 0, 0],\n",
       "         [6, 7, 8, 9]],\n",
       "\n",
       "        [[1, 2, 0, 0],\n",
       "         [4, 0, 0, 0],\n",
       "         [6, 7, 8, 0]]])"
      ]
     },
     "execution_count": 83,
     "metadata": {},
     "output_type": "execute_result"
    }
   ],
   "source": [
    "import torch\n",
    "from torch.nn.utils.rnn import pad_sequence\n",
    "\n",
    "# Your input sequences\n",
    "sequences = [\n",
    "    [torch.tensor([1, 2, 3]), torch.tensor([1, 2])],\n",
    "    [torch.tensor([4, 5]), torch.tensor([4])],\n",
    "    [torch.tensor([6, 7, 8, 9]), torch.tensor([6, 7, 8])]\n",
    "]\n",
    "\n",
    "\n",
    "padded_sequences = []\n",
    "for seq in sequences:\n",
    "    padded_sequences.extend(pad_sequence(seq, batch_first=True, padding_value=0))\n",
    "\n",
    "padded_sequences = pad_sequence(padded_sequences, batch_first=True, padding_value=0)\n",
    "\n",
    "y, x = padded_sequences.shape\n",
    "\n",
    "adjusted_y = y - (y % 2)\n",
    "\n",
    "# Reshape the tensor\n",
    "output_tensor = padded_sequences[:adjusted_y, :].view(adjusted_y // 2, 2, x).permute(1,0,2)\n",
    "\n",
    "# 'output_tensor' now has the desired shape (adjusted_y/2, 2, x)\n",
    "output_tensor\n"
   ]
  },
  {
   "cell_type": "code",
   "execution_count": 84,
   "metadata": {},
   "outputs": [],
   "source": [
    "\n",
    "\n",
    "# Define the Generator\n",
    "class Generator(nn.Module):\n",
    "    def __init__(self, input_vocab_len, hidden_size, rec_vocab_len, depth):\n",
    "        super(Generator, self).__init__()\n",
    "        self.hidden_size = hidden_size\n",
    "        self.embedding = nn.Embedding(input_vocab_len, hidden_size)\n",
    "        self.rnn = nn.LSTM(hidden_size, hidden_size, num_layers=depth, batch_first=True)\n",
    "        self.l1 = nn.Linear(hidden_size * depth, 10000)\n",
    "        self.l2 = nn.Linear(10000, 10000)\n",
    "        self.l3 = nn.Linear(10000, rec_vocab_len)\n",
    "\n",
    "    def forward(self, input_seq):\n",
    "        embedded = self.embedding(input_seq)\n",
    "        rand_source = torch.rand((embedded.shape[0], 1, embedded.shape[2])).to(device)\n",
    "        #embedded = torch.concat((rand_source, embedded), dim = 1)\n",
    "        hidden_states, (last_hidden, _) = self.rnn(embedded)\n",
    "        last_hidden = last_hidden.view(1, -1)\n",
    "        output1 = self.l1(last_hidden)\n",
    "        output2 = self.l2(output1)\n",
    "        logits = self.l3(output2)  # Using only the hidden state at the last time step\n",
    "        log_probs = F.log_softmax(logits, dim=-1)\n",
    "        return log_probs, hidden_states\n",
    "\n",
    "\n",
    "# Define the Discriminator\n",
    "class Discriminator(nn.Module):\n",
    "    def __init__(self, rec_vocab_len, hidden_size):\n",
    "        super(Discriminator, self).__init__()\n",
    "        self.embedding = nn.Embedding(rec_vocab_len, hidden_size)\n",
    "        self.rnn = nn.LSTM(hidden_size, hidden_size, batch_first=True)\n",
    "        self.fc = nn.Linear(hidden_size, 1)\n",
    "\n",
    "    def forward(self, input):\n",
    "        embedded = self.embedding(input)\n",
    "        hidden_states, (last_hidden, _) = self.rnn(embedded)\n",
    "        output = self.fc(last_hidden)\n",
    "        prob = F.sigmoid(output)\n",
    "        return prob, hidden_states"
   ]
  },
  {
   "cell_type": "code",
   "execution_count": 85,
   "metadata": {},
   "outputs": [],
   "source": [
    "class CSVDataLoader:\n",
    "    def __init__(self, csv_file_path, batch_size, num_rows):\n",
    "        self.csv_file_path = csv_file_path\n",
    "        self.batch_size = batch_size\n",
    "        self.num_rows = num_rows\n",
    "        self.current_index = 0\n",
    "        self.file_handle = None\n",
    "        self.csv_writer = None\n",
    "        self.headers = None\n",
    "\n",
    "    def open_csv_file(self):\n",
    "        self.file_handle = open(self.csv_file_path, 'r', newline='')\n",
    "        self.csv_writer = csv.reader(self.file_handle)\n",
    "        # Assuming the first row contains headers\n",
    "        self.headers = next(self.csv_writer)\n",
    "\n",
    "    def close_csv_file(self):\n",
    "        if self.file_handle is not None and not self.file_handle.closed:\n",
    "            self.file_handle.close()\n",
    "\n",
    "    def reset(self):\n",
    "        self.close_csv_file()\n",
    "        self.open_csv_file()\n",
    "        self.current_index = 0\n",
    "\n",
    "    def has_next_batch(self):\n",
    "        return self.current_index < self.num_rows\n",
    "\n",
    "    def get_next_batch(self, pad1, pad2, end_toekn):\n",
    "        ing_batch = [] \n",
    "        rec_batch = []\n",
    "        for _ in range(self.batch_size):\n",
    "            if not self.has_next_batch():\n",
    "                break\n",
    "            ing, rec = next(self.csv_writer)\n",
    "            ing_batch.append(torch.tensor(eval(ing)).to(device))\n",
    "            rec_batch.append(torch.tensor(eval(rec) + [end_toekn]).to(device))\n",
    "            self.current_index += 1\n",
    "        padded_sequences = []\n",
    "        \n",
    "\n",
    "        ing_padded = pad_sequence(ing_batch, batch_first=True, padding_value=pad1)\n",
    "        rec_padded = pad_sequence(rec_batch, batch_first=True, padding_value=pad2)\n",
    "        return ing_padded, rec_padded\n",
    "    \n",
    "    def batches_left(self):\n",
    "        return (self.num_rows - self.current_index) // self.batch_size\n",
    "    \n",
    "    def __del__(self):\n",
    "        self.close_csv_file()"
   ]
  },
  {
   "cell_type": "code",
   "execution_count": 86,
   "metadata": {},
   "outputs": [
    {
     "name": "stdout",
     "output_type": "stream",
     "text": [
      "torch.Size([2, 3]) torch.Size([2, 1]) torch.Size([2, 1])\n",
      "tensor([[ 1,  2,  3,  7,  9],\n",
      "        [ 4,  5,  6,  8, 10]])\n"
     ]
    }
   ],
   "source": [
    "import torch\n",
    "\n",
    "# Tensor with shape (x, 3)\n",
    "tensor_x3 = torch.tensor([[1, 2, 3], [4, 5, 6]])\n",
    "a =    torch.tensor([7, 8]).unsqueeze(1)\n",
    "b =    torch.tensor([9, 10]).unsqueeze(1)\n",
    "\n",
    "print(tensor_x3.shape, a.shape, b.shape)\n",
    "# Stack tensors along the second dimension (dimension 1)\n",
    "result_tensor = torch.cat((tensor_x3, a, b), dim=1)\n",
    "\n",
    "print(result_tensor)\n"
   ]
  },
  {
   "cell_type": "code",
   "execution_count": 87,
   "metadata": {},
   "outputs": [],
   "source": [
    "def patch_batch_input(ings, start, midel, end):\n",
    "    start_tokens = torch.full((ings.shape[0],), start).unsqueeze(1).to(device)\n",
    "    midel_tokens = torch.full((ings.shape[0],), midel).unsqueeze(1).to(device)\n",
    "    end_tokens = torch.full((ings.shape[0],), end).unsqueeze(1).to(device)\n",
    "    return torch.cat((start_tokens, ings, midel_tokens, end_tokens), dim=1).to(device)\n",
    "\n",
    "def patch_batch_output(recs, end):\n",
    "    end_tokens = torch.full((recs.shape[0],), end).unsqueeze(1).to(device)\n",
    "    return torch.cat((recs, end_tokens), dim=1).to(device)"
   ]
  },
  {
   "cell_type": "code",
   "execution_count": 88,
   "metadata": {},
   "outputs": [
    {
     "data": {
      "text/plain": [
       "torch.Size([32, 81])"
      ]
     },
     "execution_count": 88,
     "metadata": {},
     "output_type": "execute_result"
    }
   ],
   "source": [
    "data_path = r\"C:\\Users\\mrmrk\\OneDrive\\Documents\\GitHub\\recipe_generation\\prepeard_data.csv\"\n",
    "data_loader = CSVDataLoader(data_path, 32, 2231142)\n",
    "data_loader.open_csv_file()\n",
    "d = data_loader.get_next_batch(ingredient_vocab.index(\"<PAD>\"),\n",
    "                               recipie_vocab.index(\"<PAD>\"), \n",
    "                               output_vocab.index(\"<END>\"))\n",
    "data_loader.close_csv_file()\n",
    "\n",
    "patch_batch_input(d[0], input_w2id[\"<ING>\"], input_w2id[\"<REC>\"],  input_w2id[\"<END>\"]).shape"
   ]
  },
  {
   "cell_type": "code",
   "execution_count": 89,
   "metadata": {},
   "outputs": [
    {
     "data": {
      "text/plain": [
       "tensor([1, 2])"
      ]
     },
     "execution_count": 89,
     "metadata": {},
     "output_type": "execute_result"
    }
   ],
   "source": [
    "a = torch.tensor([1,2,3])\n",
    "(a[a != 3])"
   ]
  },
  {
   "cell_type": "code",
   "execution_count": 90,
   "metadata": {},
   "outputs": [
    {
     "data": {
      "text/plain": [
       "tensor([  1, 100,   2, 100,   3, 100])"
      ]
     },
     "execution_count": 90,
     "metadata": {},
     "output_type": "execute_result"
    }
   ],
   "source": [
    "import torch\n",
    "\n",
    "# Assuming you have a PyTorch tensor named 'your_tensor'\n",
    "your_tensor = torch.tensor([50, 100, 75, 100, 200, 100])\n",
    "\n",
    "# Find indices where values are equal to 100\n",
    "indices = torch.nonzero(~torch.eq(your_tensor, 100), as_tuple=False).squeeze()\n",
    "\n",
    "your_tensor[indices] = torch.tensor([1,2,3])\n",
    "your_tensor\n"
   ]
  },
  {
   "cell_type": "code",
   "execution_count": 91,
   "metadata": {},
   "outputs": [
    {
     "data": {
      "text/plain": [
       "tensor([ 75, 100])"
      ]
     },
     "execution_count": 91,
     "metadata": {},
     "output_type": "execute_result"
    }
   ],
   "source": [
    "your_tensor = torch.tensor([50, 100, 75, 100, 200, 100])\n",
    "your_tensor[torch.tensor([2,1])]"
   ]
  },
  {
   "cell_type": "code",
   "execution_count": 92,
   "metadata": {},
   "outputs": [
    {
     "name": "stdout",
     "output_type": "stream",
     "text": [
      "Original tensor:\n",
      "tensor([[ 1.,  2.,  3.],\n",
      "        [ 3.,  4.,  6.],\n",
      "        [71.,  8.,  9.]])\n",
      "\n",
      "Softmax for each row:\n",
      "tensor([1.0000, 1.0000, 1.0000])\n"
     ]
    }
   ],
   "source": [
    "import torch\n",
    "import torch.nn.functional as F\n",
    "\n",
    "# Create a sample tensor\n",
    "input_tensor = torch.tensor([[1.0, 2.0, 3.0],\n",
    "                            [3.0, 4.0, 6.0],\n",
    "                            [71.0, 8.0, 9.0]])\n",
    "\n",
    "# Apply softmax along rows (dimension 1)\n",
    "softmax_output = F.softmax(input_tensor, dim=1)\n",
    "\n",
    "print(\"Original tensor:\")\n",
    "print(input_tensor)\n",
    "print(\"\\nSoftmax for each row:\")\n",
    "print(torch.sum(softmax_output, dim=1))\n"
   ]
  },
  {
   "cell_type": "code",
   "execution_count": 93,
   "metadata": {},
   "outputs": [
    {
     "name": "stdout",
     "output_type": "stream",
     "text": [
      "Sampled Indices:\n",
      "tensor([0, 1, 1])\n"
     ]
    }
   ],
   "source": [
    "import torch\n",
    "\n",
    "# Assuming your matrix is a PyTorch tensor\n",
    "prob_matrix = torch.tensor([[0.2, 0.3, 0.5],\n",
    "                           [0.1, 0.6, 0.3],\n",
    "                           [0.4, 0.2, 0.4]])\n",
    "\n",
    "# Use torch.multinomial to sample indices for each row\n",
    "sampled_indices = torch.multinomial(prob_matrix, 1)\n",
    "\n",
    "print(\"Sampled Indices:\")\n",
    "print(sampled_indices.squeeze(1))\n"
   ]
  },
  {
   "cell_type": "code",
   "execution_count": 94,
   "metadata": {},
   "outputs": [
    {
     "data": {
      "text/plain": [
       "tensor([[0.2000, 0.3000, 1.0000, 0.5000],\n",
       "        [0.1000, 0.6000, 2.0000, 0.3000],\n",
       "        [0.4000, 0.2000, 3.0000, 0.4000]])"
      ]
     },
     "execution_count": 94,
     "metadata": {},
     "output_type": "execute_result"
    }
   ],
   "source": [
    "a =  torch.tensor([[0.2, 0.3, 0.5],\n",
    "                           [0.1, 0.6, 0.3],\n",
    "                           [0.4, 0.2, 0.4]])\n",
    "i = torch.tensor([1,3,5])\n",
    "\n",
    "a = torch.concat((a[:,:-1], torch.tensor([1,2,3]).unsqueeze(1), a[:,-1:]), dim = 1)\n",
    "\n",
    "a"
   ]
  },
  {
   "cell_type": "code",
   "execution_count": 95,
   "metadata": {},
   "outputs": [
    {
     "data": {
      "text/plain": [
       "torch.return_types.topk(\n",
       "values=tensor([[0.5000, 0.3000],\n",
       "        [0.6000, 0.3000],\n",
       "        [0.4000, 0.4000]]),\n",
       "indices=tensor([[2, 1],\n",
       "        [1, 2],\n",
       "        [0, 2]]))"
      ]
     },
     "execution_count": 95,
     "metadata": {},
     "output_type": "execute_result"
    }
   ],
   "source": [
    "a =  torch.tensor([[0.2, 0.3, 0.5],\n",
    "                           [0.1, 0.6, 0.3],\n",
    "                           [0.4, 0.2, 0.4]])\n",
    "\n",
    "torch.topk(a, k= 2, dim = 1)"
   ]
  },
  {
   "cell_type": "code",
   "execution_count": 96,
   "metadata": {},
   "outputs": [],
   "source": [
    "def topk_generator(generator, k, b, max_len, stop_token, pad):\n",
    "    batch_x = b\n",
    "    rec_start = batch_x.shape[1] - 1\n",
    "    i = 0\n",
    "    not_done_indices = torch.arange(batch_x.shape[0]).to(device)\n",
    "    while i < max_len != 0:\n",
    "        next_probs, hidden_states = generator(batch_x[not_done_indices])\n",
    "        topk_value, topk_index = torch.topk(next_probs, k, dim = 1)\n",
    "        topk_value, topk_index = topk_value.to(device), topk_index.to(device)\n",
    "        topk_index_index = torch.multinomial(torch.exp(topk_value), 1).squeeze(1).to(device)\n",
    "        next_tokens = topk_index[torch.arange(topk_index_index.shape[0]), topk_index_index]\n",
    "        \n",
    "        done_indices = torch.nonzero(torch.eq(next_tokens, stop_token), as_tuple=False).squeeze().to(device)\n",
    "        \"\"\"if done_indices.numel() != 0:\n",
    "            print(done_indices.shape[0], batch_x.shape[0] - not_done_indices.shape[0])\"\"\"\n",
    "        not_done_indices = not_done_indices[~torch.isin(not_done_indices, done_indices)]\n",
    "        \n",
    "        next_tokens_column = torch.full((batch_x.shape[0],), pad).to(device)\n",
    "        next_tokens_column[not_done_indices] = next_tokens\n",
    "        next_tokens_column = next_tokens_column.unsqueeze(1)\n",
    "\n",
    "        batch_x = torch.concat((batch_x[:,:-1], next_tokens_column, batch_x[:,-1:]), dim=1).to(device)\n",
    "        a = (not_done_indices.shape[0])\n",
    "        if not_done_indices.shape[0] == 0:\n",
    "            break\n",
    "        i +=1\n",
    "    output_end_tokens = torch.full((batch_x.shape[0],), pad).to(device)\n",
    "    output_end_tokens[not_done_indices] = stop_token\n",
    "    output_end_tokens = output_end_tokens.unsqueeze(1)\n",
    "    batch_x = torch.concat((batch_x[:, :-1], output_end_tokens), dim=1).to(device)\n",
    "    ings = batch_x[:,:rec_start]\n",
    "    recs = batch_x[:,rec_start:]\n",
    "    return recs, (ings, hidden_states)\n",
    "\n"
   ]
  },
  {
   "cell_type": "code",
   "execution_count": 97,
   "metadata": {},
   "outputs": [],
   "source": [
    "class Dummy_loader:\n",
    "    def __init__(self, d) -> None:\n",
    "        self.d = d\n",
    "\n",
    "    def reset(self):\n",
    "        pass\n",
    "    def open_csv_file(self):\n",
    "        pass\n",
    "    def batches_left(self):\n",
    "        return 1\n",
    "\n",
    "    def get_next_batch(self, a,b,c):\n",
    "        return self.d\n",
    "    "
   ]
  },
  {
   "cell_type": "code",
   "execution_count": 98,
   "metadata": {},
   "outputs": [],
   "source": [
    "# Hyperparameters\n",
    "generator_hidden_size = 500\n",
    "discriminator_hidden_size = 4\n",
    "#seq_length = 20  # Adjust based on your prompt length\n",
    "gen_lr  = 0.001\n",
    "disc_lr = gen_lr\n",
    "batch_size = 1\n",
    "\n",
    "k = 1\n",
    "max_gen_len = 4\n",
    "epochs = 300"
   ]
  },
  {
   "cell_type": "code",
   "execution_count": 99,
   "metadata": {},
   "outputs": [
    {
     "name": "stderr",
     "output_type": "stream",
     "text": [
      "  0%|          | 0/300 [00:00<?, ?it/s]\n"
     ]
    },
    {
     "ename": "RuntimeError",
     "evalue": "only Tensors of floating point and complex dtype can require gradients",
     "output_type": "error",
     "traceback": [
      "\u001b[1;31m---------------------------------------------------------------------------\u001b[0m",
      "\u001b[1;31mRuntimeError\u001b[0m                              Traceback (most recent call last)",
      "Cell \u001b[1;32mIn[99], line 52\u001b[0m\n\u001b[0;32m     46\u001b[0m real_batch_x \u001b[38;5;241m=\u001b[39m patch_batch_input(real_ingredients, \n\u001b[0;32m     47\u001b[0m                                 input_w2id[\u001b[38;5;124m\"\u001b[39m\u001b[38;5;124m<ING>\u001b[39m\u001b[38;5;124m\"\u001b[39m],\n\u001b[0;32m     48\u001b[0m                                 input_w2id[\u001b[38;5;124m\"\u001b[39m\u001b[38;5;124m<REC>\u001b[39m\u001b[38;5;124m\"\u001b[39m],\n\u001b[0;32m     49\u001b[0m                                 input_w2id[\u001b[38;5;124m\"\u001b[39m\u001b[38;5;124m<END>\u001b[39m\u001b[38;5;124m\"\u001b[39m], )\n\u001b[0;32m     51\u001b[0m generator\u001b[38;5;241m.\u001b[39mzero_grad()\n\u001b[1;32m---> 52\u001b[0m \u001b[43mreal_batch_x\u001b[49m\u001b[38;5;241;43m.\u001b[39;49m\u001b[43mrequires_grad\u001b[49m \u001b[38;5;241m=\u001b[39m \u001b[38;5;28;01mTrue\u001b[39;00m\n\u001b[0;32m     53\u001b[0m generated_recepies, _ \u001b[38;5;241m=\u001b[39m topk_generator(generator, \n\u001b[0;32m     54\u001b[0m                                     k, \n\u001b[0;32m     55\u001b[0m                                     real_batch_x, \n\u001b[0;32m     56\u001b[0m                                     max_gen_len, \n\u001b[0;32m     57\u001b[0m                                     output_w2id[\u001b[38;5;124m\"\u001b[39m\u001b[38;5;124m<END>\u001b[39m\u001b[38;5;124m\"\u001b[39m],\n\u001b[0;32m     58\u001b[0m                                     output_w2id[\u001b[38;5;124m\"\u001b[39m\u001b[38;5;124m<PAD>\u001b[39m\u001b[38;5;124m\"\u001b[39m])\n\u001b[0;32m     60\u001b[0m real_labels \u001b[38;5;241m=\u001b[39m torch\u001b[38;5;241m.\u001b[39mones((batch_size, ))\u001b[38;5;241m.\u001b[39mto(device)\n",
      "\u001b[1;31mRuntimeError\u001b[0m: only Tensors of floating point and complex dtype can require gradients"
     ]
    }
   ],
   "source": [
    "torch.autograd.set_grad_enabled(True)\n",
    "a = CSVDataLoader(r\"C:\\Users\\mrmrk\\OneDrive\\Documents\\GitHub\\recipe_generation\\dummy_data.csv\", 1, 1)\n",
    "a.open_csv_file()\n",
    "pad1 = input_w2id[\"<PAD>\"]\n",
    "pad2 = input_w2id[\"R<PAD>\"]\n",
    "end_token = output_w2id[\"<END>\"]\n",
    "dummy_loader = Dummy_loader(a.get_next_batch(pad1,pad2,end_token))\n",
    "#data_loader = CSVDataLoader(data_path, batch_size, 2231142)\n",
    "\n",
    "\n",
    "data_loader = dummy_loader\n",
    "\n",
    "\n",
    "data_loader.open_csv_file()\n",
    "# Instantiate Generator and Discriminator\n",
    "generator = Generator(len(input_vocab), generator_hidden_size, len(output_vocab), 2).to(device)\n",
    "discriminator = Discriminator(len(output_vocab), discriminator_hidden_size).to(device)\n",
    "generator.train()\n",
    "\n",
    "# Loss and Optimizer\n",
    "criterion = nn.BCEWithLogitsLoss()\n",
    "gen_optimizer = optim.Adam(generator.parameters(), lr=gen_lr)\n",
    "disc_optimizer = optim.Adam(discriminator.parameters(), lr=disc_lr)\n",
    "\n",
    "gen_losses = []\n",
    "real_losses = []\n",
    "fake_losses = []\n",
    "avg_real = []\n",
    "avg_fake = []\n",
    "\n",
    "\n",
    "for epoch in tqdm(range(epochs)):\n",
    "    if epoch == 40:\n",
    "        pass\n",
    "    data_loader.reset()\n",
    "    batch_nr = 0\n",
    "    total_nr_batches = data_loader.batches_left()\n",
    "    #total_nr_batches =  100\n",
    "    itr =(range(total_nr_batches))\n",
    "    for batch_nr in itr:\n",
    "        # Training the Discriminator\n",
    "        pad1 = input_w2id[\"<PAD>\"]\n",
    "        pad2 = input_w2id[\"R<PAD>\"]\n",
    "        end_token = output_w2id[\"<END>\"]\n",
    "        real_ingredients, real_batch_y = data_loader.get_next_batch(pad1,pad2, end_token)\n",
    "        real_batch_x = patch_batch_input(real_ingredients, \n",
    "                                        input_w2id[\"<ING>\"],\n",
    "                                        input_w2id[\"<REC>\"],\n",
    "                                        input_w2id[\"<END>\"], )\n",
    "    \n",
    "        \n",
    "        generated_recepies, _ = topk_generator(generator, \n",
    "                                            k, \n",
    "                                            real_batch_x, \n",
    "                                            max_gen_len, \n",
    "                                            output_w2id[\"<END>\"],\n",
    "                                            output_w2id[\"<PAD>\"])\n",
    "\n",
    "        real_labels = torch.ones((batch_size, )).to(device)\n",
    "        fake_labels = torch.zeros((batch_size, )).to(device)\n",
    "\n",
    "        disc_optimizer.zero_grad()\n",
    "        #print(real_batch_y.shape)\n",
    "        real_output, _ = discriminator(real_batch_y)\n",
    "        real_output = real_output.squeeze(-1).squeeze(0)\n",
    "        real_loss = criterion(real_output, real_labels)\n",
    "        avg_real.append(torch.mean(real_output).item())\n",
    "\n",
    "        #print(generated_recepies.shape)\n",
    "        fake_output, _ = discriminator(generated_recepies)\n",
    "        fake_output = fake_output.squeeze(-1).squeeze(0)\n",
    "        fake_loss = criterion(fake_output, fake_labels)\n",
    "        avg_fake.append(torch.mean(fake_output).item())\n",
    "\n",
    "        disc_loss = real_loss + fake_loss\n",
    "        if avg_fake[-1] > 0.4:\n",
    "            disc_loss.backward()\n",
    "            disc_optimizer.step()\n",
    "            \n",
    "            \n",
    "\n",
    "        # Training the Generator\n",
    "        gen_optimizer.zero_grad()\n",
    "        generator.zero_grad()\n",
    "\n",
    "        fake_output, _ = discriminator(generated_recepies)\n",
    "        fake_output = fake_output.squeeze(-1).squeeze(0)\n",
    "        gen_loss = criterion(fake_output, real_labels)\n",
    "        \n",
    "        if avg_fake[-1] <= 0.4:\n",
    "            \n",
    "            gen_loss.backward()\n",
    "            #print(gen_loss.item())\n",
    "            \n",
    "            gen_optimizer.step()\n",
    "            \n",
    "            \n",
    "\n",
    "        # Print losses\n",
    "      \n",
    "        gen_losses.append(gen_loss.item())\n",
    "        real_losses.append(real_loss.item())\n",
    "        fake_losses.append(fake_loss.item())\n",
    "\n",
    "    \n",
    "            "
   ]
  },
  {
   "cell_type": "code",
   "execution_count": null,
   "metadata": {},
   "outputs": [
    {
     "data": {
      "image/png": "[encoded data removed]",
      "text/plain": [
       "<Figure size 640x480 with 1 Axes>"
      ]
     },
     "metadata": {},
     "output_type": "display_data"
    },
    {
     "data": {
      "text/plain": [
       "0.3999994695186615"
      ]
     },
     "execution_count": 45,
     "metadata": {},
     "output_type": "execute_result"
    }
   ],
   "source": [
    "import matplotlib.pyplot as plt\n",
    "plt.plot(avg_real, color = \"red\")\n",
    "plt.plot(avg_fake, color = \"blue\")\n",
    "plt.show()\n",
    "avg_fake[-1]"
   ]
  },
  {
   "cell_type": "code",
   "execution_count": null,
   "metadata": {},
   "outputs": [
    {
     "name": "stdout",
     "output_type": "stream",
     "text": [
      "0.5130154490470886 0.47091764211654663 0.9130148887634277\n"
     ]
    }
   ],
   "source": [
    "print(gen_losses[-1], real_losses[-1], fake_losses[-1])"
   ]
  },
  {
   "cell_type": "code",
   "execution_count": null,
   "metadata": {},
   "outputs": [],
   "source": [
    "from nltk.tokenize import word_tokenize"
   ]
  },
  {
   "cell_type": "code",
   "execution_count": null,
   "metadata": {},
   "outputs": [],
   "source": [
    "def encode(prompt, dic):\n",
    "    return [dic.get(t.lower(),dic[\"<UKN>\"]) for t in word_tokenize(prompt)]"
   ]
  },
  {
   "cell_type": "code",
   "execution_count": null,
   "metadata": {},
   "outputs": [
    {
     "data": {
      "text/plain": [
       "[0, 2992, 41, 214, 4628, 156, 246, 656]"
      ]
     },
     "execution_count": 49,
     "metadata": {},
     "output_type": "execute_result"
    }
   ],
   "source": [
    "encode(\"1. break milk I brew a cool candy\", input_w2id)"
   ]
  },
  {
   "cell_type": "code",
   "execution_count": null,
   "metadata": {},
   "outputs": [],
   "source": [
    "def decode(answer, dic):\n",
    "    return \" \".join([dic[i] for i in answer])"
   ]
  },
  {
   "cell_type": "code",
   "execution_count": null,
   "metadata": {},
   "outputs": [
    {
     "data": {
      "text/plain": [
       "'we bake a <UKN> cake'"
      ]
     },
     "execution_count": 51,
     "metadata": {},
     "output_type": "execute_result"
    }
   ],
   "source": [
    "decode(encode(\"we bake a NLP cake\", output_w2id), output_id2w)"
   ]
  },
  {
   "cell_type": "code",
   "execution_count": null,
   "metadata": {},
   "outputs": [],
   "source": [
    "def generate(prompt, generator,k, max_len):\n",
    "    t = torch.tensor(encode(prompt, input_w2id)).unsqueeze(0).to(device)\n",
    "    batch = patch_batch_input(t,\n",
    "                              input_w2id[\"<ING>\"],\n",
    "                              input_w2id[\"<REC>\"],\n",
    "                              input_w2id[\"<END>\"],)\n",
    "    answer, _ = topk_generator(generator,k, batch, max_len,  output_w2id[\"<END>\"],output_w2id[\"<PAD>\"])\n",
    "\n",
    "    return decode([int(i) for i in answer[0][:-1]], output_id2w)"
   ]
  },
  {
   "cell_type": "code",
   "execution_count": null,
   "metadata": {},
   "outputs": [],
   "source": []
  },
  {
   "cell_type": "code",
   "execution_count": null,
   "metadata": {},
   "outputs": [
    {
     "name": "stdout",
     "output_type": "stream",
     "text": [
      "just just just just just just just just baller just just just just just baller just just just just just baller just just just just just baller just just just just just baller just just just just just baller just just just just just baller just just just just just\n",
      "just just just just just just just just baller just just just just just baller just just just just just baller just just just just just baller just just just just just baller just just just just just baller just just just just just baller just just just just just\n",
      "just just just just just just just just baller just just just just just baller just just just just just baller just just just just just baller just just just just just baller just just just just just baller just just just just just baller just just just just just\n",
      "\n",
      "In a heavy 2-quart saucepan, mix brown sugar, nuts, evaporated milk and butter or margarine. Stir over medium heat until mixture bubbles all over top. Boil and stir 5 minutes more. Take off heat. Stir in vanilla and cereal; mix well. Using 2 teaspoons, drop and shape into 30 clusters on wax paper. Let stand until firm, about 30 minutes.\n"
     ]
    }
   ],
   "source": [
    "seed = 1337\n",
    "torch.manual_seed(seed)\n",
    "if torch.cuda.is_available():\n",
    "    torch.cuda.manual_seed(seed)\n",
    "    torch.backends.cudnn.deterministic = True\n",
    "    torch.backends.cudnn.benchmark = False\n",
    "ing, rec =\"1 c. firmly packed brown sugar * 1/2 c. evaporated milk * 1/2 tsp. vanilla * 1/2 c. broken nuts (pecans) * 2 Tbsp. butter or margarine * 3 1/2 c. bite size shredded rice biscuits\",\"In a heavy 2-quart saucepan, mix brown sugar, nuts, evaporated milk and butter or margarine. Stir over medium heat until mixture bubbles all over top. Boil and stir 5 minutes more. Take off heat. Stir in vanilla and cereal; mix well. Using 2 teaspoons, drop and shape into 30 clusters on wax paper. Let stand until firm, about 30 minutes.\"\n",
    "\n",
    "generator.eval()\n",
    "with torch.no_grad():\n",
    "    for i in range(3):\n",
    "        print((generate(ing, generator, 1, 50)))\n",
    "print()\n",
    "print(rec)"
   ]
  },
  {
   "cell_type": "code",
   "execution_count": null,
   "metadata": {},
   "outputs": [],
   "source": []
  },
  {
   "cell_type": "code",
   "execution_count": null,
   "metadata": {},
   "outputs": [],
   "source": []
  },
  {
   "cell_type": "code",
   "execution_count": null,
   "metadata": {},
   "outputs": [],
   "source": []
  },
  {
   "cell_type": "code",
   "execution_count": null,
   "metadata": {},
   "outputs": [],
   "source": []
  }
 ],
 "metadata": {
  "kernelspec": {
   "display_name": ".venv",
   "language": "python",
   "name": "python3"
  },
  "language_info": {
   "codemirror_mode": {
    "name": "ipython",
    "version": 3
   },
   "file_extension": ".py",
   "mimetype": "text/x-python",
   "name": "python",
   "nbconvert_exporter": "python",
   "pygments_lexer": "ipython3",
   "version": "3.10.11"
  }
 },
 "nbformat": 4,
 "nbformat_minor": 2
}
