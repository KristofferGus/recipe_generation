{
 "cells": [
  {
   "cell_type": "code",
   "execution_count": 1,
   "metadata": {},
   "outputs": [],
   "source": [
    "import torch\n",
    "import torch.nn as nn\n",
    "import torch.optim as optim\n",
    "from torch.nn.utils.rnn import pad_sequence\n",
    "import csv\n",
    "from tqdm import tqdm\n",
    "import torch.nn.functional as F\n",
    "import os"
   ]
  },
  {
   "cell_type": "code",
   "execution_count": 2,
   "metadata": {},
   "outputs": [],
   "source": [
    "device = \"cuda\" if torch.cuda.is_available() else \"cpu\"\n",
    "\n"
   ]
  },
  {
   "cell_type": "code",
   "execution_count": 3,
   "metadata": {},
   "outputs": [],
   "source": [
    "base_path = r''\n",
    "\n",
    "ids_path = 'prepeard_data2.csv'\n",
    "vocab_path = \"vocab.csv\"\n",
    "\n",
    "data_len = 2231142"
   ]
  },
  {
   "cell_type": "code",
   "execution_count": 4,
   "metadata": {},
   "outputs": [
    {
     "name": "stdout",
     "output_type": "stream",
     "text": [
      "['<UKN>', '<PAD>', '.', '*', ',', 'and', 'the', '1', 'to', 'in', 'a', '2', 'with', '1/2', ')', '(', 'of', 'cup', 'until', 'add', 'for', 'or', 'c.', 'minutes', 'salt', 'sugar', 'into', 'on', 'pepper', 'heat', '3', 'teaspoon', 'butter', '1/4', 'chopped', 'oil', 'over', 'mix', 'cheese', 'water', ';', 'tsp', 'flour', 'large', 'cups', '4', 'cream', 'tablespoons', 'cook', 'pan', 'bowl', 'mixture', 'stir', 'about', 'onion', 'sauce', 'at', 'bake', 'baking', 'chicken', 'can', 'place', 'garlic', 'is', 'milk', 'tbsp', 'oven', 'it', 'medium', 'cut', 'top', 'eggs', 'brown', 'juice', 'ingredients', 'from', 'combine', 'pour', 'tablespoon', 'well', 'small', 'fresh', 'egg', 'remove', '5', 'serve', '8', 'then', 'vanilla', 'ground', 'cool', 'oz', 'powder', 'cover', '6', '12', 'you', 'each', 'all', '10', 'together', 'if', 'lemon', 'sliced', 'olive', '3/4', 'remaining', 'teaspoons', 'let', 'boil', 'set', 'lb', 'sprinkle', 'green', 'onions', ':', 'taste', 'are', 'hot', 'dough', 'as', 'red', 'ounces', 'tomatoes', 'stirring', 'chocolate', 'dry', 'beat', 'white', 'bread', 'potatoes', 'skillet', 'rice', 'dish', 'simmer', 'cooked', 'half', 'minced', 'preheat', '15', 'drain', 'put', 'up', 'bring', 'out', 'ounce', 'slices', 'soup', '30', 'grated', 'black', 'melted', 'vinegar', 'pieces', 'cake', 'beef', 'your', 'cinnamon', '1/3', 'use', 'spread', 'be', 'more', 'lightly', 'finely', 'hours', 'diced', 'not', 'meat', 'make', 'aside', 'saucepan', 'when', 'beans', 'parsley', 'whole', 'tomato', 'cloves', 'degrees', 'margarine', 'them', 'an', 'pkg', 'cooking', 'soda', 'smooth', '350Â°', 'tender', 'sheet', '20', 'serving', 'before', 'this', 'spoon', 'celery', 'one', 'low', 'just', 'warm', 'hour', 'broth', 'side', 'golden', 'shredded', 'sour', 'leaves', 'roll', 'corn', 'will', 'i', 'pot', 'x', 'using', 'dried', 'drained', 'whisk', 'pie', 'season', 'bacon', '14', 'crushed', 'nuts', 'peeled', 'optional', 'wine', 'bottom', 'paper', 'saute', 'frozen', 'vegetable', 'mushrooms', 'do', 'orange', 'blend', 'turn', 'transfer', 'mustard', 'inch', 'high', 'through', 'time', 'by', 'chips', 'layer', 'slice', 'refrigerate', 'toss', '!', 'crumbs', \"'s\", 'melt', 'extract', 'sides', 'parmesan', 'thick', 'off', 'desired', 'reduce', 'pasta', 'pork', 'but', 'batter', 'ginger', 'cold', 'syrup', 'coconut', 'pineapple', 'boiling', 'peppers', 'liquid', 'garnish', 'package', 'temperature', 'greased', 'onto', 'softened', 'spray', 'beaten', 'dressing', 'minute', 'crust', 'ice', 'filling', 'carrots', 'vegetables', 'slightly', 'chill', '9', 'light', 'chili', 'all-purpose', 'coat', 'browned', 'food', 'basil', 'down', '350', 'pound', 'cheddar', 'seeds', 'soft', 'fold', 'that', 'lime', 'grill', 'mayonnaise', 'stock', 'evenly', 'seasoning', 'heavy', 'stick', 'cookie', 'pecans', 'gently', 'room', 'rack', 'so', 'soy', 'salad', '&', 'freshly', 'center', 'very', 'thinly', 'have', 'while', 'once', 'done', 'occasionally', 'foil', 'whip', 'completely', 'they', 'honey', 'sweet', 'other', 'noodles', 'stand', 'little', 'min', 'another', 'bell', 'pinch', 'plate', 'shrimp', 'cans', 'thyme', 'any', 'fat', 'prepared', '1/8', 'paste', '2/3', '-', 'casserole', 'thin', 'like', 'cilantro', 'after', 'keep', 'wrap', '7', \"''\", 'mixing', '16', 'bag', 'powdered', 'sausage', 'some', 'nutmeg', 'peel', 'enough', 'mixer', 'first', '45', 'two', 'oregano', 'covered', 'fish', 'blender', 'apples', 'medium-high', 'cubes', 'shortening', 'press', 'cornstarch', 'spinach', 'peanut', 'form', 'least', 'blended', 'allow', 'topping', 'till', 'flakes', 'cocoa', 'whites', 'has', 'fry', 'paprika', 'cumin', 'apple', 'broccoli', 'makes', 'processor', 'grease', 'zest', '13', 'size', 'g', 'plastic', 'strips', 'divided', 'refrigerator', \"n't\", 'should', 'clove', 'few', '25', 'clean', 'pudding', 'drizzle', 'continue', 'rest', 'whipped', 'brush', 'immediately', 'plus', 'container', 'yellow', 'pastry', 'unsalted', 'arrange', 'fruit', 'jar', 'potato', 'mushroom', 'thoroughly', 'raisins', 'roast', 'extra', 'overnight', 'speed', 'bay', 'chop', 'walnuts', 'constantly', 'surface', 'return', 'box', 'fork', 'microwave', 'recipe', 'almonds', 'peas', 'toasted', 'around', 'buttermilk', 'worcestershire', 'yolks', 'kosher', 'may', 'yeast', 'yogurt', 'cookies', 'italian', 'take', 'loaf', 'turkey', 'prepare', 'dash', 'pounds', 'breasts', 'lettuce', 'mixed', 'ham', 'combined', 'longer', 'zucchini', 'firm', 'ready', 'packed', 'ml', 'meanwhile', 'edges', 'gradually', 'cabbage', 'pans', 'balls', 'both', 'fill', 'knife', 'sesame', '40', 'line', 'floured', 'back', 'crackers', 'glass', 'needed', 'fine', 'coarsely', 'seconds', 'mozzarella', 'comes', 'cayenne', 'wire', 'olives', 'no', 'repeat', 'puree', 'uncovered', 'leaf', 'divide', 'shape', 'granulated', 'squash', 'slowly', 'too', 'frying', 'c', 'strawberries', 'dip', 'inches', 'drop', 'shell', 'enjoy', 'skin', 'turning', 'according', 'boneless', 'piece', 'sheets', 'instant', 'lbs', 'cubed', 'store', 'process', 'sift', '9-inch', 'f', 'marinade', 'thawed', 'additional', 'pumpkin', 'grams', 'f.', 'rolls', 'bananas', 'breast', 'separate', 'steak', 'carrot', 'possibly', 'muffin', 'used', 'except', 'parchment', 'mins', 'thickened', 'dark', 'directions', 'discard', 'mint', 'chunks', 'chilled', 'tortillas', 'wedges', 'canned', 'round', 'sure', 'next', 'crumbled', 'plain', 'seed', 'sticks', 'adding', 'reserved', 'per', 'halved', 'oats', 'ball', 'crisp', 'cooled', 'freeze', 'again', 'good', 'carefully', 'almond', '1-1/2', 'cracker', 'heated', 'rosemary', '1/2-inch', 'shallow', 'long', 'wheat', 'electric', 'halves', 'salmon', 'cherry', 'chops', 'also', 'dill', 'between', 'seeded', '1-inch', 'note', 'none', 'salsa', 'nonstick', 'spaghetti', 'deep', 'confectioners', 'graham', 'gelatin', 'servings', 'lid', 'mashed', '18', '35', 'fluffy', 'preheated', 'creamy', 'rinse', 'leave', 'approximately', 'lengthwise', 'sea', 'reserve', 'get', 'inserted', 'salted', 'sharp', '375Â°', 'tortilla', '50', 'spices', 'frosting', 'excess', 'cherries', 'bit', 'still', 'coated', 'jalapeno', 'roasted', 'seal', 'curry', 'want', 'evaporated', 'removed', 'uncooked', 'platter', 'condensed', 'chives', 'squares', 'juices', '24', 'amount', 'flavor', 'spatula', 'coffee', '400', 'marshmallows', 'rinsed', 'necessary', '375', 'shallots', 'beating', 'pizza', 'virgin', 'rise', 'whipping', 'scallions', 'wash', 'only', 'glaze', 'oleo', \"'\", 'skinless', 'dissolved', 'layers', 'cider', 'coriander', 'pat', 'serves', 'unsweetened', 'head', 'ripe', 'several', 'work', 'dissolve', 'double', 'sifted', 'shake', 'asparagus', 'canola', 'qt', 'towels', 'hand', 'knead', 'consistency', 'need', 'hamburger', 'ribs', 'bean', 'freezer', 'sprigs', 'ketchup', 'towel', 'strain', 'same', 'sit', 'toast', 'fillets', 'under', 'cucumber', 'spice', 'hands', '``', 'macaroni', 'stiff', 'shells', 'rub', '13-inch', 'bunch', 'frequently', 'toothpick', 'coarse', '34', 'mash', 'such', 'pink', 'break', 'apart', '400Â°', 'see', 'square', 'wooden', '--', 'day', 'start', 'times', 'jello', 'tops', 'baby', 'dutch', 'maple', 'cranberries', 'breadcrumbs', 'last', 'buttered', 'dijon', 'raw', 'chilies', 'almost', 'stuffing', 'bouillon', 'avocado', 'ungreased', '325Â°', 'baked', 'lamb', 'scoop', 'seasoned', 'middle', 'full', 'banana', 'tightly', 'greens', 'peaches', 'bowls', 'end', 'stems', 'eggplant', 'seasonings', 'along', 'soak', 'icing', 'french', 'much', '%', 'trimmed', '2-3', 'made', 'making', 'flat', 'roasting', 'cutting', 'dice', 'bubbly', 'rind', 'cornmeal', 'cauliflower', 'broiler', 'balsamic', 'peanuts', 'blueberries', 'often', 'color', 'slow', 'extra-virgin', 'quartered', 'quart', 'medium-low', 'days', 'edge', 'than', 'cooker', 'bits', 'taco', 'adjust', 'sage', 'even', 'best', 'reduced', 'jars', 'lay', 'berries', 'sherry', 'steaks', 'biscuits', 'broil', 'plates', 'yolk', 'strawberry', 'ricotta', 'sweetened', 'marinate', 'been', 'oranges', 'squeeze', 'tuna', 'substitute', '350f', 'leaving', 'bottle', 'fridge', 'chile', 'pulse', 'smoked', 'scrape', 'rum', 'without', 'now', 'batches', 'molasses', 'herbs', 'lower', 'stalks', 'inside', 'cottage', 'allspice', 'quickly', 'roughly', 'candy', '2-inch', 'my', 'way', 'fennel', 'patties', 'second', 'meal', 'board', 'firmly', 'caramel', 'refrigerated', 'peaks', 'soften', 'airtight', 'three', 'chiles', 'jack', 'its', 'wet', 'pitted', 'ahead', 'rolling', 'everything', 'lean', 'four', 'gravy', 'favorite', 'begin', '60', 'feta', 'lined', 'away', 'choice', 'steam', 'packages', 'jam', 'less', 'open', 'begins', 'tofu', '1/4-inch', 'kraft', 'every', 'tea', 'wax', 'weight', 'meatballs', 'these', 'which', 'ends', 'thermometer', 'cereal', 'jell-o', 'aluminum', 'split', 'crumble', 'tart', 'depending', '350Â°f', 'step', 'tin', 'jelly', 'swiss', 'part', 'tray', 'single', 'addition', 'thickens', 'directed', 'lowfat', 'there', 'cucumbers', 'skim', 'barbecue', 'run', 'trim', '100', 'thicken', 'tbs', 'bars', 'drippings', '1-2', 'coloring', 'dates', 'stove', 'crisco', 'thickness', 'their', 'wok', 'flip', 'melts', 'shallot', 'fried', 'creamed', 'turmeric', 'regular', 'r', 'low-fat', 'beer', 'hard', 'raspberries', 'whisking', 'cored', 'racks', 'flatten', 'slotted', 'rings', '11', '8-inch', 'equal', 'reserving', 'great', 'buns', 'pt', 'sprouts', 'boiled', 'free', 'semi-sweet', '3-4', 'crispy', 'kidney', 'crab', 'incorporated', 'custard', 'brand', 'veggies', 'does', 'forms', 'added', 'rounds', 'absorbed', 'sandwich', 'bite', 'prevent', 'dust', 't', 'tube', 'cube', 'applesauce', 'creme', 'tabasco', 'waxed', 'preferably', 'right', 'tartar', 'cocktail', 'base', 'fully', 'oatmeal', 'alternately', 'tip', 'grain', '200', 'pears', 'fragrant', 'couple', 'moderate', 'wide', 'check', 'tarragon', 'cakes', 'translucent', 'easily', 'simmering', 'among', 'lentils', \"'re\", 'point', 'stir-fry', 'peppercorns', 'cranberry', 'velveeta', 'possible', 'sized', 'come', 'rolled', 'undrained', 'parts', 'quarts', 'lemons', 'hold', 'measure', 'nice', 'clear', 'boiler', 'crosswise', 'separated', '325', 'removing', 'eat', 'mini', 'mold', 'flavoring', 'starts', 'drops', 'total', 'grate', 'big', 'circle', 'blue', 'chestnuts', '10-inch', 'monterey', 'flavors', 'liqueur', 'pure', 'beets', 'pine', 'above', 'capers', 'finish', 'washed', 'punch', 'raspberry', 'fat-free', 'kitchen', 'mango', 'careful', 'increase', 'vinaigrette', 'spring', 'halfway', 'pint', '$', 'ladle', 'sugars', 'broken', 'quick', 'fingers', 'generously', 'horseradish', 'we', 'leeks', 'cutter', 'sieve', 'scraping', 'during', 'yield', 'self-rising', 'degree', 'give', 'muffins', 'most', 'better', 'left', 'instructions', 'scallops', 'wings', 'unbaked', 'loosely', 'coating', 'save', 'half-and-half', 'prefer', 'thru', 'brandy', 'non-stick', '2-quart', 'ranch', 'uncover', 'biscuit', 'bones', 'dozen', 'doubled', 'working', 'flaked', 'rectangle', 'mild', 'served', 'mayo', 'individual', 'yields', '28', 'stew', 'starting', 'burn', 'skewers', 'goat', '12-inch', 'bone', 'pesto', 'torn', 'close', 'iron', 'cooling', 'five', 'crumb', 'sodium', 'apricot', 'either', 'artichoke', 'al', 'quarters', 'clams', 'crusts', 'crush', 'metal', 'portion', 'touch', 'pull', 'peach', '175', 'thighs', '15-20', 'dente', 'florets', 'preserves', 'cheeses', 'kale', 'moistened', '23', 'carton', 'arugula', 'would', 'pecan', 'moist', 'glasses', 'catsup', 'chickpeas', 'pressing', 'delicious', 'warmed', 'sticky', 'heaping', 'skins', 'bags', 'bubbles', 'colander', 'handle', '300', 'go', 'hearts', 'how', 'portions', 'order', 'chipotle', '425', 'style', 'plum', '250', 'meringue', 'reaches', 'cardamom', 'quinoa', 'slivered', 'old', '-2', 'measuring', 'grind', 'chuck', 'crescent', 'frost', 'squeezed', 'third', 'fit', 'packet', 'shred', 'grapes', 'strainer', 'crumbly', 'marshmallow', 'miniature', 'stuff', 'vodka', 'apricots', '10-15', 'loaves', 'dipping', 'partially', 'concentrate', 'leftover', 'cracked', 'purpose', 'etc', 'running', '8-10', 'pack', 'de', 'herb', 'across', 'greek', 'create', '300Â°', 'grape', 'veal', 'really', 'look', 'outside', 'deveined', 'puff', 'mandarin', 'become', 'loosen', 'rhubarb', 'spicy', 'med', 'try', 'couscous', 'beginning', 'pulp', 'invert', 'sprayed', 'lift', '-3', 'crabmeat', '450', '9x13', 'wafers', '425Â°', 'semisweet', 'machine', 'easy', 'later', 'fitted', 'lasagna', 'kernels', 'because', 'texture', 'flavored', 'handful', 'jalapenos', 'crock', 'bisquick', 'doneness', 'envelope', 'cleaned', 'english', '4-5', 'dishes', 'larger', 'oiled', 'bundt', 'root', 'soaked', 'griddle', 'fluid', 'usually', 'becomes', 'was', 'tins', 'lukewarm', 'stem', 'sandwiches', 'level', 'ale', 'stalk', 'mexican', 'sprig', 'dissolves', 'original', 'dredge', 'assemble', 'rimmed', 'fillet', 'twice', 'dot', 'pancake', 'tenderloin', 'setting', 'decorate', '20-25', 'cornbread', 'smaller', 'panko', 'leek', 'flesh', \"'ll\", 'table', 'duck', 'help', 'real', 'thaw', 'candied', 'grilled', 'croutons', 'hash', 'instead', 'dessert', 'sticking', 'moderately', 'pin', 'swirl', 'nonfat', 'lumps', 'tossing', 'juiced', 'core', 'angel', '02/09', 'entire', 'cupcakes', 'poppy', 'avocados', 'holes', 'new', 'weeks', 'pita', 'romaine', 'skewer', 'quarter', 'being', 'bubbling', 'cheesecake', 'eagle', 'smoke', 'artichokes', 'attachment', 'rubber', 'chinese', 'pwdr', 'wilted', 'follows', '500', 'pickle', 'resembles', 'active', 'sunflower', 'pear', 'prosciutto', 'ritz', 'sausages', 'diameter', 'homemade', 'pick', 'lemonade', 'short', 'american', 'basting', 'springform', 'slicing', 'topped', 'generous', 'pressure', 'below', 'filled', 'own', '150', 'pickles', '32', 'reheat', 'phyllo', 'six', 'rounded', 'ramekins', 'marjoram', 'position', 'cm', 'pancakes', 'air', 'oyster', 'maraschino', 'cashews', 'butterscotch', 'toppings', 'finished', 'crisp-tender', 'pepperoni', 'browns', 'flame', 'seedless', 'dinner', 'saffron', 'chunky', 'pam', 'relish', '6-8', 'flat-leaf', 'bath', 'miracle', 'pimento', 'unpeeled', 'grnd', 'scatter', '450Â°', 't.', 'stewed', 'weed', 'wild', 'release', 'cupcake', 'pale', 'turns', 'skinned', 'walnut', 'scallion', 'starch', 'reduced-fat', 'week', 'strip', 'browning', 'loin', 'works', 'drink', 'kernel', 'diagonally', '375f', 'calories', 'bite-size', '...', 'popcorn', 'test', 'could', 'limes', '-4', 'philadelphia', 'barley', 'sprinkling', 'bourbon', 'hrs', 'find', 'and/or', 'organic', 'undiluted', '10-12', 'dollop', 'pureed', 'wipe', 'sauerkraut', 'bulk', 'rim', 'briefly', 'polenta', 'burgers', 'hazelnuts', 'pop', 'baguette', '400f', 'nicely', 'circles', 'mussels', 'ovenproof', 'pancetta', 'pipe', 'low-sodium', '1-1/4', 'tie', '400Â°f', 'sear', 'pressed', '55', 'shelled', 'simple', 'whatever', 'crusty']\n"
     ]
    }
   ],
   "source": [
    "with open(base_path + vocab_path, 'r') as file:\n",
    "    vocab = [t[0] for t in list(csv.reader(file))[1:]]\n",
    "\n",
    "print(vocab)"
   ]
  },
  {
   "cell_type": "code",
   "execution_count": 5,
   "metadata": {},
   "outputs": [
    {
     "data": {
      "text/plain": [
       "1501"
      ]
     },
     "execution_count": 5,
     "metadata": {},
     "output_type": "execute_result"
    }
   ],
   "source": [
    "\n",
    "vocab =  vocab + [\"<ING>\", \"<REC>\"]\n",
    "\n",
    "\n",
    "\n",
    "w2id =  {w:i for i,w in  enumerate(vocab)}\n",
    "id2w =  {i:w for i,w in  enumerate(vocab)}\n",
    "\n",
    "(w2id)[\"<REC>\"]"
   ]
  },
  {
   "cell_type": "code",
   "execution_count": 6,
   "metadata": {},
   "outputs": [
    {
     "name": "stdout",
     "output_type": "stream",
     "text": [
      "Input sequence shape: torch.Size([32, 10])\n",
      "Output vector shape: torch.Size([32, 5])\n"
     ]
    }
   ],
   "source": [
    "\n",
    "    \n",
    "class Generator_next_token(nn.Module):\n",
    "    def __init__(self, vocab_len, hidden_size, num_layers=1):\n",
    "        super(Generator_next_token, self).__init__()\n",
    "        self.embedding = nn.Embedding(num_embeddings=vocab_len, embedding_dim=hidden_size)\n",
    "        self.rnn = nn.LSTM(input_size, hidden_size, num_layers=num_layers, batch_first=True)\n",
    "        self.fc = nn.Linear(num_layers * hidden_size, vocab_len)\n",
    "\n",
    "    def forward(self, input_sequence):\n",
    "        embedded = self.embedding(input_sequence)\n",
    "        # input_sequence shape: (batch_size, sequence_length, input_size)\n",
    "        hidden_states, (h_n, _) = self.rnn(embedded)\n",
    "        # h_n shape: (num_layers, batch_size, hidden_size)\n",
    "\n",
    "        # Concatenate or stack hidden states from all layers\n",
    "        h_n_flat = h_n.permute(1, 0, 2).contiguous().view(input_sequence.size(0), -1)\n",
    "        \n",
    "        # Pass through the linear layer\n",
    "\n",
    "        output = self.fc(h_n_flat)\n",
    "        # output shape: (batch_size, output_size)\n",
    "       \n",
    "        return output, hidden_states\n",
    "\n",
    "# Example usage\n",
    "batch_size = 32\n",
    "sequence_length = 10\n",
    "input_size = 5\n",
    "hidden_size = 64\n",
    "output_size = input_size\n",
    "\n",
    "# Create an instance of the Generator\n",
    "generator = Generator_next_token(input_size, hidden_size, 2)\n",
    "\n",
    "# Generate a random batch of input sequences\n",
    "input_sequence = torch.randint(0,input_size,(batch_size, sequence_length))\n",
    "\n",
    "# Forward pass through the generator\n",
    "output_vector, _ = generator(input_sequence)\n",
    "\n",
    "print(\"Input sequence shape:\", input_sequence.shape)\n",
    "print(\"Output vector shape:\", output_vector.shape)\n"
   ]
  },
  {
   "cell_type": "code",
   "execution_count": 7,
   "metadata": {},
   "outputs": [],
   "source": [
    "\n",
    "\n",
    "# Define the Generator\n",
    "class Generator(nn.Module):\n",
    "    def __init__(self, vocab_len,hidden_size, depth,max_len):\n",
    "        super(Generator, self).__init__()\n",
    "        \n",
    "        self.embedding = nn.Linear(vocab_len, hidden_size)\n",
    "        self.rnn = nn.LSTM(hidden_size, hidden_size, num_layers=depth, batch_first=True)\n",
    "        self.hidden2vocab = nn.Linear(hidden_size, vocab_len)\n",
    "        self.hidden_l = nn.Linear(hidden_size * depth, hidden_size)\n",
    "        self.max_len = max_len\n",
    "        \n",
    "\n",
    "        \n",
    "        \n",
    "\n",
    "    def forward(self, input_seq):\n",
    "        original_input = input_seq.clone()\n",
    "        sequences = self.embedding(input_seq.float())\n",
    "        outputs = []\n",
    "    \n",
    "        for _ in range(self.max_len):\n",
    "            last_hidden, hidden_states = self.singel_pass(sequences)\n",
    "            outputs.append(last_hidden)\n",
    "            sequences = torch.cat((sequences, last_hidden.unsqueeze(1)), dim = 1)\n",
    "       \n",
    "        outputs = torch.stack(outputs, dim = 1)\n",
    "        vocab_vectors = self.hidden2vocab(outputs)\n",
    "        vocab_probs = torch.softmax(vocab_vectors, dim=2)\n",
    "        \n",
    "        out = torch.concat((original_input,vocab_probs), dim=1)\n",
    "        return out, hidden_states\n",
    "            \n",
    "        \n",
    "\n",
    "    def singel_pass(self, input_seq):\n",
    "        rand_source = torch.rand((input_seq.shape[0], 1, input_seq.shape[2])).to(device)\n",
    "        #embedded = torch.concat((rand_source, embedded), dim = 1)\n",
    "        hidden_states, (last_hidden, _) = self.rnn(input_seq)\n",
    "        last_hidden = last_hidden.view(1, -1)\n",
    "        output = self.hidden_l(last_hidden)\n",
    "        \n",
    "        return output, hidden_states\n",
    "\n",
    "\n",
    "# Define the Discriminator\n",
    "class Discriminator(nn.Module):\n",
    "    def __init__(self, vocab_len, hidden_size):\n",
    "        super(Discriminator, self).__init__()\n",
    "        self.embedding = nn.Embedding(num_embeddings=vocab_len, embedding_dim=hidden_size)\n",
    "        self.rnn = nn.LSTM(hidden_size, hidden_size, batch_first=True)\n",
    "        self.fc = nn.Linear(hidden_size, 1)\n",
    "\n",
    "    def forward(self, input):\n",
    "        embedded = self.embedding(input)\n",
    "        hidden_states, (last_hidden, _) = self.rnn(embedded)\n",
    "        output = self.fc(last_hidden)\n",
    "        prob = F.sigmoid(output)\n",
    "        return prob, hidden_states"
   ]
  },
  {
   "cell_type": "code",
   "execution_count": 8,
   "metadata": {},
   "outputs": [],
   "source": [
    "class CSVDataLoader:\n",
    "    def __init__(self, csv_file_path, batch_size, num_rows, start = 0):\n",
    "        self.csv_file_path = csv_file_path\n",
    "        self.batch_size = batch_size\n",
    "        self.num_rows = num_rows\n",
    "        self.current_index = 0\n",
    "        self.file_handle = None\n",
    "        self.csv_writer = None\n",
    "        self.headers = None\n",
    "\n",
    "    def open_csv_file(self):\n",
    "        self.file_handle = open(self.csv_file_path, 'r', newline='')\n",
    "        self.csv_writer = csv.reader(self.file_handle)\n",
    "        # Assuming the first row contains headers\n",
    "        self.headers = next(self.csv_writer)\n",
    "\n",
    "    def close_csv_file(self):\n",
    "        if self.file_handle is not None and not self.file_handle.closed:\n",
    "            self.file_handle.close()\n",
    "\n",
    "    def reset(self):\n",
    "        self.close_csv_file()\n",
    "        self.open_csv_file()\n",
    "        self.current_index = 0\n",
    "\n",
    "    def has_next_batch(self):\n",
    "        return self.current_index < self.num_rows\n",
    "\n",
    "    def get_next_batch(self, pad):\n",
    "        ing_batch = [] \n",
    "        rec_batch = []\n",
    "        for _ in range(self.batch_size):\n",
    "            if not self.has_next_batch():\n",
    "                break\n",
    "            ing, rec = next(self.csv_writer)\n",
    "            ing_batch.append(torch.tensor(eval(ing)).to(device))\n",
    "            rec_batch.append(torch.tensor(eval(rec)).to(device))\n",
    "            self.current_index += 1\n",
    "       \n",
    "        \n",
    "\n",
    "        ing_padded = pad_sequence(ing_batch, batch_first=True, padding_value=pad)\n",
    "        rec_padded = pad_sequence(rec_batch, batch_first=True, padding_value=pad)\n",
    "        return ing_padded, rec_padded\n",
    "    \n",
    "    def batches_left(self):\n",
    "        return (self.num_rows - self.current_index) // self.batch_size\n",
    "    \n",
    "    def __del__(self):\n",
    "        self.close_csv_file()"
   ]
  },
  {
   "cell_type": "code",
   "execution_count": 9,
   "metadata": {},
   "outputs": [
    {
     "name": "stdout",
     "output_type": "stream",
     "text": [
      "tensor([[0.1826, 0.3651, 0.9129]])\n",
      "tensor([[0.1826, 0.3651, 0.9129]])\n",
      "tensor([[0.1826, 0.3651, 0.9129]])\n",
      "tensor([[0.1826, 0.3651, 0.9129]])\n",
      "tensor([[0.1826, 0.3651, 0.9129]])\n",
      "tensor([[0.1826, 0.3651, 0.9129]])\n",
      "tensor([[0.1826, 0.3651, 0.9129]])\n",
      "tensor([[0.1826, 0.3651, 0.9129]])\n",
      "tensor([[0.1826, 0.3651, 0.9129]])\n",
      "tensor([[0.1826, 0.3651, 0.9129]])\n"
     ]
    }
   ],
   "source": [
    "for i in range(1,100,10):\n",
    "    print(F.normalize(torch.tensor([[0.1,0.2,0.5]], dtype=torch.float32) * i, dim = 1))"
   ]
  },
  {
   "cell_type": "code",
   "execution_count": null,
   "metadata": {},
   "outputs": [],
   "source": []
  },
  {
   "cell_type": "code",
   "execution_count": 10,
   "metadata": {},
   "outputs": [
    {
     "data": {
      "text/plain": [
       "'args = torch.randint(1,100, (1000, 3))\\nr = torch.arange(2500).view(50, -1)\\nfor b,c,d in tqdm(args):\\n    h = one_hot_noisify_tokens(r, 2500, b,c,30).argmax(dim=2)\\n    assert(torch.equal(r, h))'"
      ]
     },
     "execution_count": 10,
     "metadata": {},
     "output_type": "execute_result"
    }
   ],
   "source": [
    "\"\"\"args = torch.randint(1,100, (1000, 3))\n",
    "r = torch.arange(2500).view(50, -1)\n",
    "for b,c,d in tqdm(args):\n",
    "    h = one_hot_noisify_tokens(r, 2500, b,c,30).argmax(dim=2)\n",
    "    assert(torch.equal(r, h))\"\"\""
   ]
  },
  {
   "cell_type": "code",
   "execution_count": 11,
   "metadata": {},
   "outputs": [],
   "source": [
    "def patch_batch(ings, start, midel):\n",
    "    start_tokens = torch.full((ings.shape[0],), start).unsqueeze(1).to(device)\n",
    "    midel_tokens = torch.full((ings.shape[0],), midel).unsqueeze(1).to(device)\n",
    "    return torch.cat((start_tokens, ings, midel_tokens), dim=1).to(device)\n"
   ]
  },
  {
   "cell_type": "code",
   "execution_count": 12,
   "metadata": {},
   "outputs": [
    {
     "data": {
      "text/plain": [
       "tensor([1500,    7,   80,  434,    0,  155,    4,   69,  142,    3,   45,    0,\n",
       "          59,  472,    3,    7,   60,   46,   16,  436,  147,    3,    7, 1167,\n",
       "         204,   46,    1,    1,    1,    1,    1,    1,    1,    1,    1,    1,\n",
       "           1,    1,    1,    1,    1,    1,    1,    1,    1,    1,    1,    1,\n",
       "           1,    1,    1,    1,    1,    1,    1,    1,    1,    1,    1,    1,\n",
       "           1,    1,    1,    1,    1,    1,    1,    1,    1,    1,    1,    1,\n",
       "           1,    1,    1,    1,    1,    1,    1, 1501], device='cuda:0')"
      ]
     },
     "execution_count": 12,
     "metadata": {},
     "output_type": "execute_result"
    }
   ],
   "source": [
    "data_path = r\"prepeard_data2.csv\"\n",
    "data_loader = CSVDataLoader(data_path, 32, 2231142)\n",
    "data_loader.open_csv_file()\n",
    "d = data_loader.get_next_batch(w2id[\"<PAD>\"])\n",
    "data_loader.close_csv_file()\n",
    "\n",
    "patch_batch(d[0], w2id[\"<ING>\"], w2id[\"<REC>\"])[0]"
   ]
  },
  {
   "cell_type": "code",
   "execution_count": 13,
   "metadata": {},
   "outputs": [],
   "source": [
    "class Dummy_loader:\n",
    "    def __init__(self, d) -> None:\n",
    "        self.d = d\n",
    "\n",
    "    def reset(self):\n",
    "        pass\n",
    "    def open_csv_file(self):\n",
    "        pass\n",
    "    def batches_left(self):\n",
    "        return 1\n",
    "\n",
    "    def get_next_batch(self, a):\n",
    "        return self.d\n",
    "    "
   ]
  },
  {
   "cell_type": "code",
   "execution_count": 14,
   "metadata": {},
   "outputs": [],
   "source": [
    "class NextTokenPredictor(nn.Module):\n",
    "    def __init__(self, vocab_size, embedding_dim, hidden_dim,num_layers, dropout_rate):\n",
    "        super(NextTokenPredictor, self).__init__()\n",
    "        self.num_layers = num_layers\n",
    "        self.hidden_dim = hidden_dim\n",
    "        self.embedding_dim = embedding_dim\n",
    "\n",
    "        self.embedding = nn.Embedding(vocab_size, embedding_dim)\n",
    "        self.lstm = nn.LSTM(embedding_dim, hidden_dim, num_layers=num_layers, \n",
    "                    dropout=dropout_rate, batch_first=True)\n",
    "        self.dropout = nn.Dropout(dropout_rate)\n",
    "        self.fc = nn.Linear(hidden_dim, vocab_size)\n",
    "\n",
    "        self.init_hidden = nn.Parameter(torch.zeros(1, 1, hidden_dim), requires_grad=True)\n",
    "      \n",
    "\n",
    "    def forward(self, x):\n",
    "       \n",
    "        embedding = self.dropout(self.embedding(x))\n",
    "        output, hidden = self.lstm(embedding)          \n",
    "        output = self.dropout(output) \n",
    "        prediction = self.fc(output)\n",
    "        return prediction\n",
    "class NextTokenPredictor2(nn.Module):\n",
    "    def __init__(self, vocab_size, embedding_dim, hidden_dim,num_layers, dropout_rate):\n",
    "        super(NextTokenPredictor2, self).__init__()\n",
    "        self.num_layers = num_layers\n",
    "        self.hidden_dim = hidden_dim\n",
    "        self.embedding_dim = embedding_dim\n",
    "\n",
    "        self.embedding = nn.Embedding(vocab_size, embedding_dim)\n",
    "        self.lstm = nn.LSTM(embedding_dim, hidden_dim, num_layers=num_layers, \n",
    "                    dropout=dropout_rate, batch_first=True)\n",
    "        self.dropout = nn.Dropout(dropout_rate)\n",
    "        self.fc = nn.Linear(hidden_dim, vocab_size)\n",
    "\n",
    "        self.init_hidden = nn.Parameter(torch.zeros(1, 1, hidden_dim), requires_grad=True)\n",
    "      \n",
    "\n",
    "    def forward(self, x):\n",
    "       \n",
    "        embedding = (self.embedding(x))\n",
    "        output, hidden = self.lstm(embedding)          \n",
    "        output = self.dropout(output) \n",
    "        prediction = self.fc(output)\n",
    "        return prediction"
   ]
  },
  {
   "cell_type": "code",
   "execution_count": 15,
   "metadata": {},
   "outputs": [],
   "source": [
    "# Hyperparameters\n",
    "generator_hidden_size = 3048\n",
    "embed_size = 1500\n",
    "generator_depth = 4\n",
    "drop_rate = 0.8\n",
    "\n",
    "gen_lr  = 0.001\n",
    "batch_size = 1\n",
    "epochs = 1\n",
    "\n",
    "seq_len = 50\n",
    "\n",
    "nr_batches = 200\n",
    "\n",
    "test_size = 1000"
   ]
  },
  {
   "cell_type": "code",
   "execution_count": 19,
   "metadata": {},
   "outputs": [
    {
     "name": "stderr",
     "output_type": "stream",
     "text": [
      "  8%|▊         | 15/200 [01:27<18:00,  5.84s/it]\n"
     ]
    }
   ],
   "source": [
    "\n",
    "#a = CSVDataLoader(r\"C:\\Users\\mrmrk\\OneDrive\\Documents\\GitHub\\recipe_generation\\dummy_data.csv\", 1, 1)\n",
    "#a.open_csv_file()\n",
    "#pad1 = w2id[\"<PAD>\"]\n",
    "\n",
    "#dummy_loader = Dummy_loader(a.get_next_batch(pad1))\n",
    "data_loader = CSVDataLoader(data_path, batch_size, data_len - test_size)\n",
    "\n",
    "\n",
    "#data_loader = dummy_loader\n",
    "\n",
    "\n",
    "data_loader.open_csv_file()\n",
    "# Instantiate Generator and Discriminator\n",
    "generator = NextTokenPredictor(len(vocab),embed_size, generator_hidden_size, generator_depth, drop_rate).to(device)\n",
    "\n",
    "\n",
    "\n",
    "# Loss and Optimizer\n",
    "criterion = nn.CrossEntropyLoss()\n",
    "\n",
    "gen_optimizer = optim.Adam(generator.parameters(), lr=gen_lr)\n",
    "lr_scheduler = optim.lr_scheduler.ReduceLROnPlateau(gen_optimizer,mode='min',factor=0.8, patience=3, threshold=0.00005)\n",
    "max_grad_norm = 1.0\n",
    "#torch.nn.utils.clip_grad_norm_(discriminator.parameters(), max_grad_norm)\n",
    "#torch.nn.utils.clip_grad_norm_(generator.parameters(), max_grad_norm)\n",
    "\n",
    "\n",
    "avg_gen_losses = []\n",
    "\n",
    "\n",
    "if not os.path.exists(\"simpel_model2.pth\") or True:\n",
    "    for epoch in (range(epochs)):\n",
    "        \n",
    "        data_loader.reset()\n",
    "        batch_nr = 0\n",
    "        total_nr_batches = data_loader.batches_left()\n",
    "        #total_nr_batches =  100\n",
    "        itr =(range(total_nr_batches))\n",
    "        progress_bar = tqdm(total=nr_batches)\n",
    "        for batch_nr in itr:\n",
    "            if batch_nr == nr_batches:\n",
    "                break\n",
    "            \n",
    "            # Training the Discriminator\n",
    "            pad1 = w2id[\"<PAD>\"]\n",
    "        \n",
    "    \n",
    "            real_ingredients, real_recipies = data_loader.get_next_batch(pad1)\n",
    "            real_patched_ings = patch_batch(real_ingredients, \n",
    "                                                w2id[\"<ING>\"],\n",
    "                                                w2id[\"<REC>\"])\n",
    "            \n",
    "            #Generator input does not need to be smoothend\n",
    "            real_batch = torch.concat((real_patched_ings,\n",
    "                                        real_recipies), dim = 1)\n",
    "\n",
    "            if (seq_len >  real_batch.shape[1]):\n",
    "                pass\n",
    "            current_seq_len = min(seq_len,real_batch.shape[1]-1)\n",
    "            gen_losses = []\n",
    "            for index in range(0,real_batch.shape[1]- current_seq_len - 1, current_seq_len):\n",
    "                current_seq_len = min(current_seq_len, real_batch.shape[1]-index)\n",
    "                #current_seq_len = seq_len\n",
    "                gen_optimizer.zero_grad()\n",
    "                sequence_x = real_batch[:, index:index+current_seq_len]   \n",
    "                tokens_y = torch.nn.functional.one_hot(real_batch[:, index+1:index+current_seq_len+1]  , len(vocab))\n",
    "                \n",
    "                generated_logits = generator(sequence_x)\n",
    "                \n",
    "                gen_loss = criterion(generated_logits, tokens_y.float()) / current_seq_len\n",
    "                gen_loss.backward()\n",
    "                gen_optimizer.step()\n",
    "                gen_losses.append(gen_loss.item())\n",
    "            batch_avg_loss = sum(gen_losses) / len(gen_losses)\n",
    "            lr_scheduler.step(batch_avg_loss)\n",
    "            avg_gen_losses.append(batch_avg_loss)\n",
    "            progress_bar.update(1)\n",
    "    torch.save(generator.state_dict(), 'simpel_model2.pth')\n",
    "    torch.save(avg_gen_losses, 'simpel_model_losses2.pth')\n",
    "        \n",
    "\n",
    "    \n",
    "            "
   ]
  },
  {
   "cell_type": "code",
   "execution_count": null,
   "metadata": {},
   "outputs": [],
   "source": [
    "torch.cuda.empty_cache()\n",
    "generator = NextTokenPredictor(len(vocab),embed_size, generator_hidden_size, generator_depth, drop_rate).to(device)\n",
    "generator.load_state_dict(torch.load('simpel_model.pth'))\n",
    "avg_gen_losses = torch.load('simpel_model_losses.pth')"
   ]
  },
  {
   "cell_type": "code",
   "execution_count": null,
   "metadata": {},
   "outputs": [
    {
     "data": {
      "image/png": "[encoded data removed]",
      "text/plain": [
       "<Figure size 640x480 with 1 Axes>"
      ]
     },
     "metadata": {},
     "output_type": "display_data"
    },
    {
     "data": {
      "text/plain": [
       "0.0016510913264937699"
      ]
     },
     "execution_count": 42,
     "metadata": {},
     "output_type": "execute_result"
    }
   ],
   "source": [
    "import matplotlib.pyplot as plt\n",
    "plt.plot(avg_gen_losses, color = \"red\")\n",
    "plt.show()\n",
    "avg_gen_losses[-1]"
   ]
  },
  {
   "cell_type": "code",
   "execution_count": null,
   "metadata": {},
   "outputs": [
    {
     "data": {
      "text/plain": [
       "475.9781254483984"
      ]
     },
     "execution_count": 43,
     "metadata": {},
     "output_type": "execute_result"
    }
   ],
   "source": [
    "if not os.path.exists(\"perplexities2.pth\"):\n",
    "    from torcheval.metrics.text import Perplexity\n",
    "    test_batch_size = 1\n",
    "    data_loader = CSVDataLoader(data_path, test_batch_size, data_len - test_size)\n",
    "    data_loader.open_csv_file()\n",
    "    perplexities = []\n",
    "    with  tqdm(range(int(test_size / test_batch_size))) as itr:\n",
    "        with torch.no_grad():\n",
    "            metric=Perplexity().to(device)\n",
    "            perplexities = []\n",
    "            for i in itr:  # Use your validation data loader\n",
    "                real_ingredients, real_recipies = data_loader.get_next_batch(w2id[\"<PAD>\"])\n",
    "                real_ingredients, real_recipies = real_ingredients.to(device), real_recipies.to(device)\n",
    "                real_patched_ings = patch_batch(real_ingredients, \n",
    "                                                    w2id[\"<ING>\"],\n",
    "                                                    w2id[\"<REC>\"])\n",
    "                real = torch.concat((real_patched_ings,\n",
    "                                            real_recipies), dim = 1).to(device)\n",
    "                real_x = real[:,:-1]\n",
    "                real_y = real[:,1:].to(device)\n",
    "                outputs = generator(real_x).to(device)\n",
    "                #print(outputs.shape, real_y.shape)\n",
    "                metric.update(outputs, real_y)\n",
    "                perplexity = metric.compute()\n",
    "                perplexities.append(perplexity.item())\n",
    "                # calculating perplexity    \n",
    "\n",
    "perplexities = torch.load(\"perplexities2.pth\")\n",
    "sum(perplexities) / len(perplexities)"
   ]
  },
  {
   "cell_type": "code",
   "execution_count": null,
   "metadata": {},
   "outputs": [
    {
     "data": {
      "text/plain": [
       "285349694"
      ]
     },
     "execution_count": 44,
     "metadata": {},
     "output_type": "execute_result"
    }
   ],
   "source": [
    "sum(p.numel() for p in generator.parameters()) "
   ]
  },
  {
   "cell_type": "code",
   "execution_count": null,
   "metadata": {},
   "outputs": [
    {
     "data": {
      "text/plain": [
       "613.2825921306227"
      ]
     },
     "execution_count": 45,
     "metadata": {},
     "output_type": "execute_result"
    }
   ],
   "source": [
    "175000000000 / sum(p.numel() for p in generator.parameters()) "
   ]
  },
  {
   "cell_type": "code",
   "execution_count": null,
   "metadata": {},
   "outputs": [],
   "source": [
    "from nltk.tokenize import word_tokenize"
   ]
  },
  {
   "cell_type": "code",
   "execution_count": null,
   "metadata": {},
   "outputs": [],
   "source": [
    "def encode(prompt, dic):\n",
    "    return [dic.get(t.lower(),dic[\"<UKN>\"]) for t in word_tokenize(prompt)]"
   ]
  },
  {
   "cell_type": "code",
   "execution_count": null,
   "metadata": {},
   "outputs": [
    {
     "data": {
      "text/plain": [
       "[0, 733, 64, 209, 0, 10, 90, 855]"
      ]
     },
     "execution_count": 48,
     "metadata": {},
     "output_type": "execute_result"
    }
   ],
   "source": [
    "encode(\"1. break milk I brew a cool candy\", w2id)"
   ]
  },
  {
   "cell_type": "code",
   "execution_count": null,
   "metadata": {},
   "outputs": [],
   "source": [
    "def decode(answer, dic):\n",
    "    return \" \".join([dic[i] for i in answer])"
   ]
  },
  {
   "cell_type": "code",
   "execution_count": null,
   "metadata": {},
   "outputs": [
    {
     "data": {
      "text/plain": [
       "'we bake a <UKN> cake'"
      ]
     },
     "execution_count": 50,
     "metadata": {},
     "output_type": "execute_result"
    }
   ],
   "source": [
    "decode(encode(\"we bake a NLP cake\", w2id), id2w)"
   ]
  },
  {
   "cell_type": "code",
   "execution_count": null,
   "metadata": {},
   "outputs": [],
   "source": [
    "def topk(next_logits, k):\n",
    "    next_probs = torch.softmax(next_logits, dim=1)\n",
    "    topk_values, topk_indices = torch.topk(next_probs, k, dim=1)\n",
    "    topk_values, topk_indices = topk_values.to(device), topk_indices.to(device)\n",
    "    topk_index_indices = torch.multinomial((topk_values), 1).squeeze(1).to(device)\n",
    "    next_tokens = topk_indices[\n",
    "        torch.arange(topk_index_indices.shape[0]), topk_index_indices]\n",
    "    return next_tokens"
   ]
  },
  {
   "cell_type": "code",
   "execution_count": null,
   "metadata": {},
   "outputs": [],
   "source": []
  },
  {
   "cell_type": "code",
   "execution_count": null,
   "metadata": {},
   "outputs": [],
   "source": [
    "def generate(prompt, generator, gen_len, strat):\n",
    "    t = torch.tensor(encode(prompt, w2id)).unsqueeze(0).to(device)\n",
    "    batch = (patch_batch(t,\n",
    "                                w2id[\"<ING>\"],\n",
    "                                w2id[\"<REC>\"]))\n",
    "    for _ in range(gen_len):\n",
    "        answer = generator(batch)[:,-1, :]\n",
    "        valid_choices = answer[:,:-2]\n",
    "        new_token = strat(valid_choices)\n",
    "        if id2w[new_token.item()] == \"<PAD>\":\n",
    "            break\n",
    "        batch = torch.concat((batch, new_token.unsqueeze(1)), dim = 1)\n",
    "        \n",
    "\n",
    "    return decode([i.item() for i in batch[0]], id2w)"
   ]
  },
  {
   "cell_type": "code",
   "execution_count": null,
   "metadata": {},
   "outputs": [
    {
     "data": {
      "text/plain": [
       "'teaspoon drain will of'"
      ]
     },
     "execution_count": 60,
     "metadata": {},
     "output_type": "execute_result"
    }
   ],
   "source": [
    "decode([31, 140, 208, 16], id2w)"
   ]
  },
  {
   "cell_type": "code",
   "execution_count": null,
   "metadata": {},
   "outputs": [
    {
     "name": "stdout",
     "output_type": "stream",
     "text": [
      "['cm', 'pancakes', 'air', 'oyster', 'maraschino', 'cashews', 'butterscotch', 'toppings', 'finished', 'crisp-tender', 'pepperoni', 'browns', 'flame', 'seedless', 'dinner', 'saffron', 'chunky', 'pam', 'relish', '6-8', 'flat-leaf', 'bath', 'miracle', 'pimento', 'unpeeled', 'grnd', 'scatter', '450Â°', 't.', 'stewed', 'weed', 'wild', 'release', 'cupcake', 'pale', 'turns', 'skinned', 'walnut', 'scallion', 'starch', 'reduced-fat', 'week', 'strip', 'browning', 'loin', 'works', 'drink', 'kernel', 'diagonally', '375f', 'calories', 'bite-size', '...', 'popcorn', 'test', 'could', 'limes', '-4', 'philadelphia', 'barley', 'sprinkling', 'bourbon', 'hrs', 'find', 'and/or', 'organic', 'undiluted', '10-12', 'dollop', 'pureed', 'wipe', 'sauerkraut', 'bulk', 'rim', 'briefly', 'polenta', 'burgers', 'hazelnuts', 'pop', 'baguette', '400f', 'nicely', 'circles', 'mussels', 'ovenproof', 'pancetta', 'pipe', 'low-sodium', '1-1/4', 'tie', '400Â°f', 'sear', 'pressed', '55', 'shelled', 'simple', 'whatever', 'crusty', '<ING>']\n"
     ]
    }
   ],
   "source": [
    "print(list(w2id.keys())[-100:-1])"
   ]
  },
  {
   "cell_type": "markdown",
   "metadata": {},
   "source": []
  },
  {
   "cell_type": "code",
   "execution_count": null,
   "metadata": {},
   "outputs": [
    {
     "name": "stdout",
     "output_type": "stream",
     "text": [
      "\n",
      "[' , pour at ingredients ingredients . remove into 3 minutes or , makes can . makes 1 minutes stir cheese crusty and pour at a 1 c. add until . bake into 3/4 tsp minutes organic until . stir with all and sprinkle with 3 . makes well minutes or until . let 2 tsp and bake over a minutes . add 1 1/2 minutes or until until . stir at a 350Â° , sprinkle with and chopped until .', ' add cheese into 2 . makes at tsp minutes ) , add powder dollop , bake at 8 1/2 3 minutes . makes from c. pour in 1 minutes let * 4 minutes water simple add g g . add at all 350Â° and let 1/4 hour . add all all , bake in 3 tsp c. add with , salt and pour into 1/4 lb c. stir with pancetta , stir over a . bake well hour . bake', ' soup , place over 1/4 8 hour . sprinkle at , chopped into 2 c. let can pour and sprinkle * 1/2 minutes water or cheese bake and bake dollop hour . place 3 1/2 minutes minutes or , add in 3/4 . stir with for 4 c. add powder and add with a a tsp tsp . stir at ingredients c. stir powder and pour from tsp tsp . stir over 8-10 , add powder and add over minutes', ' add and place at minutes . pour 2 1/2 tsp minutes or . ) with ingredients . place powder * 3 hour organic add or dollop * 2 1/2 c. stir powder', '', ' cheese and place pesto dessert . bake well a 1/4 hours minutes . makes with ingredients of stir at 1 hour oz . remove at a , bake at a 30 1/2 1 minutes oz c. bake powder . add at a ingredients of ) a ingredients , place in 1/2 tsp . remove from 350Â° for 1 c. chopped cheese * 1/2 minutes stir , chopped dollop crispy crispy * 1 minutes sugar add and cut dollop . bake', ' , cut in 4 , chopped powder * 1 minutes minutes , add with over , sprinkle into a hours c. ) over c. remove . let into 1/3 minutes or limes * 3 tsp . remove beef add cheese dollop over and pour over c. pour at minutes . stir 1 tsp lb . add beef and bake powder and bake can . add from ingredients and add powder minutes * 45 minutes oz . ) well . pour', ' , chopped and pour into tsp tsp . remove well . bake from greased a cup * 2 c. pour , remove into all * 1 tsp . pour cheese * 1/2 minutes . bake with into 1 c. bake sauce , add from over and add over 1 lb . add can ingredients until for 1 c. bake cream , add with into 1 1/4 minutes . makes can and add until cheese of baguette pesto . remove 3', ' add 250 over , place over cup . sprinkle at 1/3 tsp cup let , add powder over , bake over 2 tsp . bake can of add and stir powder a 1/4 8 8 . remove at c. sprinkle at 1/4 3/4 minutes or , remove from * 2 c. pour juice pour * 3 tbsp . ground powder and add with a , remove over and sprinkle until c. . stir 2 minutes minutes . remove in 8', ' pour with a * 1 tsp oz minutes ) ) . sprinkle over with * 3 c. add beef and']\n"
     ]
    }
   ],
   "source": [
    "seed = 1337\n",
    "torch.manual_seed(seed)\n",
    "if torch.cuda.is_available():\n",
    "    torch.cuda.manual_seed(seed)\n",
    "    torch.backends.cudnn.deterministic = True\n",
    "    torch.backends.cudnn.benchmark = False\n",
    "ing, rec = \"1 tsp. olive oil * 1 1/2 lb. skinless, boneless chicken-breat halves * 1/2 tsp. dried oregano * salt and pepper * 1/4 c. tahini * 1/4 c. water * 3 tbsp. nonfat plain yogurt * 1 tbsp. fresh lemon juice * 1 clove garlic * 1/4 c. Cilantro leaves * 1/4 tsp. ground red pepper (cayenne) * 4 pitas * 2 c. romaine lettuce * 1/2 seedless cucumber * 1 large tomato * 2 green onions\",\"In 12-inch nonstick skillet, heat oil 1 minute on medium. Sprinkle chicken with oregano, 1/4 teaspoon salt, and 1/4 teaspoon freshly ground black pepper, and toss to coat. Add chicken to skillet and cook 5 to 7 minutes or until chicken is no longer pink throughout. Transfer chicken to plate or bowl; cover with foil to keep warm. Meanwhile, make tahini sauce: In small bowl, with wire whisk, combine tahini, water, yogurt, lemon juice, and garlic. Stir in cilantro, ground red pepper, 1/4 teaspoon salt, and 1/4 teaspoon freshly ground black pepper. Makes about 3/4 cup tahini sauce. To serve, cut off one-fourth of each pita and save for use another day. Carefully open each pita pocket and fill with one-fourth each romaine, cucumber, tomato, chicken, and green onions. Top with tahini sauce; serve gyros with any additional sauce on the side.\"\n",
    "gens = []\n",
    "generator.eval()\n",
    "with torch.no_grad():\n",
    "    for i in range(10):\n",
    "        gens.append(((generate(ing, generator, 80, lambda p: topk(p,10))).split(\"<REC>\")[1]))\n",
    "print()\n",
    "print(gens)"
   ]
  },
  {
   "cell_type": "code",
   "execution_count": null,
   "metadata": {},
   "outputs": [
    {
     "name": "stdout",
     "output_type": "stream",
     "text": [
      "81  , pour at ingredients ingredients . remove into 3 minutes or , makes can . makes 1 minutes stir cheese crusty and pour at a 1 c. add until . bake into 3/4 tsp minutes organic until . stir with all and sprinkle with 3 . makes well minutes or until . let 2 tsp and bake over a minutes . add 1 1/2 minutes or until until . stir at a 350Â° , sprinkle with and chopped until .\n",
      "81  add cheese into 2 . makes at tsp minutes ) , add powder dollop , bake at 8 1/2 3 minutes . makes from c. pour in 1 minutes let * 4 minutes water simple add g g . add at all 350Â° and let 1/4 hour . add all all , bake in 3 tsp c. add with , salt and pour into 1/4 lb c. stir with pancetta , stir over a . bake well hour . bake\n",
      "81  soup , place over 1/4 8 hour . sprinkle at , chopped into 2 c. let can pour and sprinkle * 1/2 minutes water or cheese bake and bake dollop hour . place 3 1/2 minutes minutes or , add in 3/4 . stir with for 4 c. add powder and add with a a tsp tsp . stir at ingredients c. stir powder and pour from tsp tsp . stir over 8-10 , add powder and add over minutes\n",
      "33  add and place at minutes . pour 2 1/2 tsp minutes or . ) with ingredients . place powder * 3 hour organic add or dollop * 2 1/2 c. stir powder\n",
      "1 \n",
      "81  cheese and place pesto dessert . bake well a 1/4 hours minutes . makes with ingredients of stir at 1 hour oz . remove at a , bake at a 30 1/2 1 minutes oz c. bake powder . add at a ingredients of ) a ingredients , place in 1/2 tsp . remove from 350Â° for 1 c. chopped cheese * 1/2 minutes stir , chopped dollop crispy crispy * 1 minutes sugar add and cut dollop . bake\n",
      "81  , cut in 4 , chopped powder * 1 minutes minutes , add with over , sprinkle into a hours c. ) over c. remove . let into 1/3 minutes or limes * 3 tsp . remove beef add cheese dollop over and pour over c. pour at minutes . stir 1 tsp lb . add beef and bake powder and bake can . add from ingredients and add powder minutes * 45 minutes oz . ) well . pour\n",
      "81  , chopped and pour into tsp tsp . remove well . bake from greased a cup * 2 c. pour , remove into all * 1 tsp . pour cheese * 1/2 minutes . bake with into 1 c. bake sauce , add from over and add over 1 lb . add can ingredients until for 1 c. bake cream , add with into 1 1/4 minutes . makes can and add until cheese of baguette pesto . remove 3\n",
      "81  add 250 over , place over cup . sprinkle at 1/3 tsp cup let , add powder over , bake over 2 tsp . bake can of add and stir powder a 1/4 8 8 . remove at c. sprinkle at 1/4 3/4 minutes or , remove from * 2 c. pour juice pour * 3 tbsp . ground powder and add with a , remove over and sprinkle until c. . stir 2 minutes minutes . remove in 8\n",
      "21  pour with a * 1 tsp oz minutes ) ) . sprinkle over with * 3 c. add beef and\n"
     ]
    }
   ],
   "source": [
    "for g in gens:\n",
    "    print(len(g.split(\" \")), g)"
   ]
  },
  {
   "cell_type": "code",
   "execution_count": null,
   "metadata": {},
   "outputs": [
    {
     "data": {
      "text/plain": [
       "'1 tsp . olive oil * 1 1/2 lb . skinless , boneless <UKN> halves * 1/2 tsp . dried oregano * salt and pepper * 1/4 c. <UKN> * 1/4 c. water * 3 tbsp . nonfat plain yogurt * 1 tbsp . fresh lemon juice * 1 clove garlic * 1/4 c. cilantro leaves * 1/4 tsp . ground red pepper ( cayenne ) * 4 <UKN> * 2 c. romaine lettuce * 1/2 seedless cucumber * 1 large tomato * 2 green onions'"
      ]
     },
     "execution_count": 58,
     "metadata": {},
     "output_type": "execute_result"
    }
   ],
   "source": [
    "decode(encode(ing, w2id), id2w)"
   ]
  },
  {
   "cell_type": "code",
   "execution_count": null,
   "metadata": {},
   "outputs": [],
   "source": []
  }
 ],
 "metadata": {
  "kernelspec": {
   "display_name": ".venv",
   "language": "python",
   "name": "python3"
  },
  "language_info": {
   "codemirror_mode": {
    "name": "ipython",
    "version": 3
   },
   "file_extension": ".py",
   "mimetype": "text/x-python",
   "name": "python",
   "nbconvert_exporter": "python",
   "pygments_lexer": "ipython3",
   "version": "3.10.11"
  }
 },
 "nbformat": 4,
 "nbformat_minor": 2
}
