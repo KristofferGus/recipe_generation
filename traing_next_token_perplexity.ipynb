{
 "cells": [
  {
   "cell_type": "code",
   "execution_count": 1,
   "metadata": {},
   "outputs": [],
   "source": [
    "import torch\n",
    "import torch.nn as nn\n",
    "import torch.optim as optim\n",
    "from torch.nn.utils.rnn import pad_sequence\n",
    "import csv\n",
    "from tqdm import tqdm\n",
    "import torch.nn.functional as F"
   ]
  },
  {
   "cell_type": "code",
   "execution_count": 2,
   "metadata": {},
   "outputs": [],
   "source": [
    "device = \"cuda\" if torch.cuda.is_available() else \"cpu\"\n",
    "\n"
   ]
  },
  {
   "cell_type": "code",
   "execution_count": 3,
   "metadata": {},
   "outputs": [],
   "source": [
    "base_path = r'C:\\Users\\mrmrk\\OneDrive\\Documents\\GitHub\\recipe_generation\\\\'\n",
    "\n",
    "ids_path = 'prepeard_data2.csv'\n",
    "vocab_path = \"vocab.csv\"\n",
    "\n",
    "data_len = 2231142"
   ]
  },
  {
   "cell_type": "code",
   "execution_count": 4,
   "metadata": {},
   "outputs": [
    {
     "name": "stdout",
     "output_type": "stream",
     "text": [
      "['<UKN>', '<PAD>', '.', '*', ',', 'and', 'the', '1', 'to', 'in', 'a', '2', 'with', '1/2', ')', '(', 'of', 'cup', 'until', 'add', 'for', 'or', 'c.', 'minutes', 'salt', 'sugar', 'into', 'on', 'pepper', 'heat', '3', 'teaspoon', 'butter', '1/4', 'chopped', 'oil', 'over', 'mix', 'cheese', 'water', ';', 'tsp', 'flour', 'large', 'cups', '4', 'cream', 'tablespoons', 'cook', 'pan', 'bowl', 'mixture', 'stir', 'about', 'onion', 'sauce', 'at', 'bake', 'baking', 'chicken', 'can', 'place', 'garlic', 'is', 'milk', 'tbsp', 'oven', 'it', 'medium', 'cut', 'top', 'eggs', 'brown', 'juice', 'ingredients', 'from', 'combine', 'pour', 'tablespoon', 'well', 'small', 'fresh', 'egg', 'remove', '5', 'serve', '8', 'then', 'vanilla', 'ground', 'cool', 'oz', 'powder', 'cover', '6', '12', 'you', 'each', 'all', '10', 'together', 'if', 'lemon', 'sliced', 'olive', '3/4', 'remaining', 'teaspoons', 'let', 'boil', 'set', 'lb', 'sprinkle', 'green', 'onions', ':', 'taste', 'are', 'hot', 'dough', 'as', 'red', 'ounces', 'tomatoes', 'stirring', 'chocolate', 'dry', 'beat', 'white', 'bread', 'potatoes', 'skillet', 'rice', 'dish', 'simmer', 'cooked', 'half', 'minced', 'preheat', '15', 'drain', 'put', 'up', 'bring', 'out', 'ounce', 'slices', 'soup', '30', 'grated', 'black', 'melted', 'vinegar', 'pieces', 'cake', 'beef', 'your', 'cinnamon', '1/3', 'use', 'spread', 'be', 'more', 'lightly', 'finely', 'hours', 'diced', 'not', 'meat', 'make', 'aside', 'saucepan', 'when', 'beans', 'parsley', 'whole', 'tomato', 'cloves', 'degrees', 'margarine', 'them', 'an', 'pkg', 'cooking', 'soda', 'smooth', '350Â°', 'tender', 'sheet', '20', 'serving', 'before', 'this', 'spoon', 'celery', 'one', 'low', 'just', 'warm', 'hour', 'broth', 'side', 'golden', 'shredded', 'sour', 'leaves', 'roll', 'corn', 'will', 'i', 'pot', 'x', 'using', 'dried', 'drained', 'whisk', 'pie', 'season', 'bacon', '14', 'crushed', 'nuts', 'peeled', 'optional', 'wine', 'bottom', 'paper', 'saute', 'frozen', 'vegetable', 'mushrooms', 'do', 'orange', 'blend', 'turn', 'transfer', 'mustard', 'inch', 'high', 'through', 'time', 'by', 'chips', 'layer', 'slice', 'refrigerate', 'toss', '!', 'crumbs', \"'s\", 'melt', 'extract', 'sides', 'parmesan', 'thick', 'off', 'desired', 'reduce', 'pasta', 'pork', 'but', 'batter', 'ginger', 'cold', 'syrup', 'coconut', 'pineapple', 'boiling', 'peppers', 'liquid', 'garnish', 'package', 'temperature', 'greased', 'onto', 'softened', 'spray', 'beaten', 'dressing', 'minute', 'crust', 'ice', 'filling', 'carrots', 'vegetables', 'slightly', 'chill', '9', 'light', 'chili', 'all-purpose', 'coat', 'browned', 'food', 'basil', 'down', '350', 'pound', 'cheddar', 'seeds', 'soft', 'fold', 'that', 'lime', 'grill', 'mayonnaise', 'stock', 'evenly', 'seasoning', 'heavy', 'stick', 'cookie', 'pecans', 'gently', 'room', 'rack', 'so', 'soy', 'salad', '&', 'freshly', 'center', 'very', 'thinly', 'have', 'while', 'once', 'done', 'occasionally', 'foil', 'whip', 'completely', 'they', 'honey', 'sweet', 'other', 'noodles', 'stand', 'little', 'min', 'another', 'bell', 'pinch', 'plate', 'shrimp', 'cans', 'thyme', 'any', 'fat', 'prepared', '1/8', 'paste', '2/3', '-', 'casserole', 'thin', 'like', 'cilantro', 'after', 'keep', 'wrap', '7', \"''\", 'mixing', '16', 'bag', 'powdered', 'sausage', 'some', 'nutmeg', 'peel', 'enough', 'mixer', 'first', '45', 'two', 'oregano', 'covered', 'fish', 'blender', 'apples', 'medium-high', 'cubes', 'shortening', 'press', 'cornstarch', 'spinach', 'peanut', 'form', 'least', 'blended', 'allow', 'topping', 'till', 'flakes', 'cocoa', 'whites', 'has', 'fry', 'paprika', 'cumin', 'apple', 'broccoli', 'makes', 'processor', 'grease', 'zest', '13', 'size', 'g', 'plastic', 'strips', 'divided', 'refrigerator', \"n't\", 'should', 'clove', 'few', '25', 'clean', 'pudding', 'drizzle', 'continue', 'rest', 'whipped', 'brush', 'immediately', 'plus', 'container', 'yellow', 'pastry', 'unsalted', 'arrange', 'fruit', 'jar', 'potato', 'mushroom', 'thoroughly', 'raisins', 'roast', 'extra', 'overnight', 'speed', 'bay', 'chop', 'walnuts', 'constantly', 'surface', 'return', 'box', 'fork', 'microwave', 'recipe', 'almonds', 'peas', 'toasted', 'around', 'buttermilk', 'worcestershire', 'yolks', 'kosher', 'may', 'yeast', 'yogurt', 'cookies', 'italian', 'take', 'loaf', 'turkey', 'prepare', 'dash', 'pounds', 'breasts', 'lettuce', 'mixed', 'ham', 'combined', 'longer', 'zucchini', 'firm', 'ready', 'packed', 'ml', 'meanwhile', 'edges', 'gradually', 'cabbage', 'pans', 'balls', 'both', 'fill', 'knife', 'sesame', '40', 'line', 'floured', 'back', 'crackers', 'glass', 'needed', 'fine', 'coarsely', 'seconds', 'mozzarella', 'comes', 'cayenne', 'wire', 'olives', 'no', 'repeat', 'puree', 'uncovered', 'leaf', 'divide', 'shape', 'granulated', 'squash', 'slowly', 'too', 'frying', 'c', 'strawberries', 'dip', 'inches', 'drop', 'shell', 'enjoy', 'skin', 'turning', 'according', 'boneless', 'piece', 'sheets', 'instant', 'lbs', 'cubed', 'store', 'process', 'sift', '9-inch', 'f', 'marinade', 'thawed', 'additional', 'pumpkin', 'grams', 'f.', 'rolls', 'bananas', 'breast', 'separate', 'steak', 'carrot', 'possibly', 'muffin', 'used', 'except', 'parchment', 'mins', 'thickened', 'dark', 'directions', 'discard', 'mint', 'chunks', 'chilled', 'tortillas', 'wedges', 'canned', 'round', 'sure', 'next', 'crumbled', 'plain', 'seed', 'sticks', 'adding', 'reserved', 'per', 'halved', 'oats', 'ball', 'crisp', 'cooled', 'freeze', 'again', 'good', 'carefully', 'almond', '1-1/2', 'cracker', 'heated', 'rosemary', '1/2-inch', 'shallow', 'long', 'wheat', 'electric', 'halves', 'salmon', 'cherry', 'chops', 'also', 'dill', 'between', 'seeded', '1-inch', 'note', 'none', 'salsa', 'nonstick', 'spaghetti', 'deep', 'confectioners', 'graham', 'gelatin', 'servings', 'lid', 'mashed', '18', '35', 'fluffy', 'preheated', 'creamy', 'rinse', 'leave', 'approximately', 'lengthwise', 'sea', 'reserve', 'get', 'inserted', 'salted', 'sharp', '375Â°', 'tortilla', '50', 'spices', 'frosting', 'excess', 'cherries', 'bit', 'still', 'coated', 'jalapeno', 'roasted', 'seal', 'curry', 'want', 'evaporated', 'removed', 'uncooked', 'platter', 'condensed', 'chives', 'squares', 'juices', '24', 'amount', 'flavor', 'spatula', 'coffee', '400', 'marshmallows', 'rinsed', 'necessary', '375', 'shallots', 'beating', 'pizza', 'virgin', 'rise', 'whipping', 'scallions', 'wash', 'only', 'glaze', 'oleo', \"'\", 'skinless', 'dissolved', 'layers', 'cider', 'coriander', 'pat', 'serves', 'unsweetened', 'head', 'ripe', 'several', 'work', 'dissolve', 'double', 'sifted', 'shake', 'asparagus', 'canola', 'qt', 'towels', 'hand', 'knead', 'consistency', 'need', 'hamburger', 'ribs', 'bean', 'freezer', 'sprigs', 'ketchup', 'towel', 'strain', 'same', 'sit', 'toast', 'fillets', 'under', 'cucumber', 'spice', 'hands', '``', 'macaroni', 'stiff', 'shells', 'rub', '13-inch', 'bunch', 'frequently', 'toothpick', 'coarse', '34', 'mash', 'such', 'pink', 'break', 'apart', '400Â°', 'see', 'square', 'wooden', '--', 'day', 'start', 'times', 'jello', 'tops', 'baby', 'dutch', 'maple', 'cranberries', 'breadcrumbs', 'last', 'buttered', 'dijon', 'raw', 'chilies', 'almost', 'stuffing', 'bouillon', 'avocado', 'ungreased', '325Â°', 'baked', 'lamb', 'scoop', 'seasoned', 'middle', 'full', 'banana', 'tightly', 'greens', 'peaches', 'bowls', 'end', 'stems', 'eggplant', 'seasonings', 'along', 'soak', 'icing', 'french', 'much', '%', 'trimmed', '2-3', 'made', 'making', 'flat', 'roasting', 'cutting', 'dice', 'bubbly', 'rind', 'cornmeal', 'cauliflower', 'broiler', 'balsamic', 'peanuts', 'blueberries', 'often', 'color', 'slow', 'extra-virgin', 'quartered', 'quart', 'medium-low', 'days', 'edge', 'than', 'cooker', 'bits', 'taco', 'adjust', 'sage', 'even', 'best', 'reduced', 'jars', 'lay', 'berries', 'sherry', 'steaks', 'biscuits', 'broil', 'plates', 'yolk', 'strawberry', 'ricotta', 'sweetened', 'marinate', 'been', 'oranges', 'squeeze', 'tuna', 'substitute', '350f', 'leaving', 'bottle', 'fridge', 'chile', 'pulse', 'smoked', 'scrape', 'rum', 'without', 'now', 'batches', 'molasses', 'herbs', 'lower', 'stalks', 'inside', 'cottage', 'allspice', 'quickly', 'roughly', 'candy', '2-inch', 'my', 'way', 'fennel', 'patties', 'second', 'meal', 'board', 'firmly', 'caramel', 'refrigerated', 'peaks', 'soften', 'airtight', 'three', 'chiles', 'jack', 'its', 'wet', 'pitted', 'ahead', 'rolling', 'everything', 'lean', 'four', 'gravy', 'favorite', 'begin', '60', 'feta', 'lined', 'away', 'choice', 'steam', 'packages', 'jam', 'less', 'open', 'begins', 'tofu', '1/4-inch', 'kraft', 'every', 'tea', 'wax', 'weight', 'meatballs', 'these', 'which', 'ends', 'thermometer', 'cereal', 'jell-o', 'aluminum', 'split', 'crumble', 'tart', 'depending', '350Â°f', 'step', 'tin', 'jelly', 'swiss', 'part', 'tray', 'single', 'addition', 'thickens', 'directed', 'lowfat', 'there', 'cucumbers', 'skim', 'barbecue', 'run', 'trim', '100', 'thicken', 'tbs', 'bars', 'drippings', '1-2', 'coloring', 'dates', 'stove', 'crisco', 'thickness', 'their', 'wok', 'flip', 'melts', 'shallot', 'fried', 'creamed', 'turmeric', 'regular', 'r', 'low-fat', 'beer', 'hard', 'raspberries', 'whisking', 'cored', 'racks', 'flatten', 'slotted', 'rings', '11', '8-inch', 'equal', 'reserving', 'great', 'buns', 'pt', 'sprouts', 'boiled', 'free', 'semi-sweet', '3-4', 'crispy', 'kidney', 'crab', 'incorporated', 'custard', 'brand', 'veggies', 'does', 'forms', 'added', 'rounds', 'absorbed', 'sandwich', 'bite', 'prevent', 'dust', 't', 'tube', 'cube', 'applesauce', 'creme', 'tabasco', 'waxed', 'preferably', 'right', 'tartar', 'cocktail', 'base', 'fully', 'oatmeal', 'alternately', 'tip', 'grain', '200', 'pears', 'fragrant', 'couple', 'moderate', 'wide', 'check', 'tarragon', 'cakes', 'translucent', 'easily', 'simmering', 'among', 'lentils', \"'re\", 'point', 'stir-fry', 'peppercorns', 'cranberry', 'velveeta', 'possible', 'sized', 'come', 'rolled', 'undrained', 'parts', 'quarts', 'lemons', 'hold', 'measure', 'nice', 'clear', 'boiler', 'crosswise', 'separated', '325', 'removing', 'eat', 'mini', 'mold', 'flavoring', 'starts', 'drops', 'total', 'grate', 'big', 'circle', 'blue', 'chestnuts', '10-inch', 'monterey', 'flavors', 'liqueur', 'pure', 'beets', 'pine', 'above', 'capers', 'finish', 'washed', 'punch', 'raspberry', 'fat-free', 'kitchen', 'mango', 'careful', 'increase', 'vinaigrette', 'spring', 'halfway', 'pint', '$', 'ladle', 'sugars', 'broken', 'quick', 'fingers', 'generously', 'horseradish', 'we', 'leeks', 'cutter', 'sieve', 'scraping', 'during', 'yield', 'self-rising', 'degree', 'give', 'muffins', 'most', 'better', 'left', 'instructions', 'scallops', 'wings', 'unbaked', 'loosely', 'coating', 'save', 'half-and-half', 'prefer', 'thru', 'brandy', 'non-stick', '2-quart', 'ranch', 'uncover', 'biscuit', 'bones', 'dozen', 'doubled', 'working', 'flaked', 'rectangle', 'mild', 'served', 'mayo', 'individual', 'yields', '28', 'stew', 'starting', 'burn', 'skewers', 'goat', '12-inch', 'bone', 'pesto', 'torn', 'close', 'iron', 'cooling', 'five', 'crumb', 'sodium', 'apricot', 'either', 'artichoke', 'al', 'quarters', 'clams', 'crusts', 'crush', 'metal', 'portion', 'touch', 'pull', 'peach', '175', 'thighs', '15-20', 'dente', 'florets', 'preserves', 'cheeses', 'kale', 'moistened', '23', 'carton', 'arugula', 'would', 'pecan', 'moist', 'glasses', 'catsup', 'chickpeas', 'pressing', 'delicious', 'warmed', 'sticky', 'heaping', 'skins', 'bags', 'bubbles', 'colander', 'handle', '300', 'go', 'hearts', 'how', 'portions', 'order', 'chipotle', '425', 'style', 'plum', '250', 'meringue', 'reaches', 'cardamom', 'quinoa', 'slivered', 'old', '-2', 'measuring', 'grind', 'chuck', 'crescent', 'frost', 'squeezed', 'third', 'fit', 'packet', 'shred', 'grapes', 'strainer', 'crumbly', 'marshmallow', 'miniature', 'stuff', 'vodka', 'apricots', '10-15', 'loaves', 'dipping', 'partially', 'concentrate', 'leftover', 'cracked', 'purpose', 'etc', 'running', '8-10', 'pack', 'de', 'herb', 'across', 'greek', 'create', '300Â°', 'grape', 'veal', 'really', 'look', 'outside', 'deveined', 'puff', 'mandarin', 'become', 'loosen', 'rhubarb', 'spicy', 'med', 'try', 'couscous', 'beginning', 'pulp', 'invert', 'sprayed', 'lift', '-3', 'crabmeat', '450', '9x13', 'wafers', '425Â°', 'semisweet', 'machine', 'easy', 'later', 'fitted', 'lasagna', 'kernels', 'because', 'texture', 'flavored', 'handful', 'jalapenos', 'crock', 'bisquick', 'doneness', 'envelope', 'cleaned', 'english', '4-5', 'dishes', 'larger', 'oiled', 'bundt', 'root', 'soaked', 'griddle', 'fluid', 'usually', 'becomes', 'was', 'tins', 'lukewarm', 'stem', 'sandwiches', 'level', 'ale', 'stalk', 'mexican', 'sprig', 'dissolves', 'original', 'dredge', 'assemble', 'rimmed', 'fillet', 'twice', 'dot', 'pancake', 'tenderloin', 'setting', 'decorate', '20-25', 'cornbread', 'smaller', 'panko', 'leek', 'flesh', \"'ll\", 'table', 'duck', 'help', 'real', 'thaw', 'candied', 'grilled', 'croutons', 'hash', 'instead', 'dessert', 'sticking', 'moderately', 'pin', 'swirl', 'nonfat', 'lumps', 'tossing', 'juiced', 'core', 'angel', '02/09', 'entire', 'cupcakes', 'poppy', 'avocados', 'holes', 'new', 'weeks', 'pita', 'romaine', 'skewer', 'quarter', 'being', 'bubbling', 'cheesecake', 'eagle', 'smoke', 'artichokes', 'attachment', 'rubber', 'chinese', 'pwdr', 'wilted', 'follows', '500', 'pickle', 'resembles', 'active', 'sunflower', 'pear', 'prosciutto', 'ritz', 'sausages', 'diameter', 'homemade', 'pick', 'lemonade', 'short', 'american', 'basting', 'springform', 'slicing', 'topped', 'generous', 'pressure', 'below', 'filled', 'own', '150', 'pickles', '32', 'reheat', 'phyllo', 'six', 'rounded', 'ramekins', 'marjoram', 'position', 'cm', 'pancakes', 'air', 'oyster', 'maraschino', 'cashews', 'butterscotch', 'toppings', 'finished', 'crisp-tender', 'pepperoni', 'browns', 'flame', 'seedless', 'dinner', 'saffron', 'chunky', 'pam', 'relish', '6-8', 'flat-leaf', 'bath', 'miracle', 'pimento', 'unpeeled', 'grnd', 'scatter', '450Â°', 't.', 'stewed', 'weed', 'wild', 'release', 'cupcake', 'pale', 'turns', 'skinned', 'walnut', 'scallion', 'starch', 'reduced-fat', 'week', 'strip', 'browning', 'loin', 'works', 'drink', 'kernel', 'diagonally', '375f', 'calories', 'bite-size', '...', 'popcorn', 'test', 'could', 'limes', '-4', 'philadelphia', 'barley', 'sprinkling', 'bourbon', 'hrs', 'find', 'and/or', 'organic', 'undiluted', '10-12', 'dollop', 'pureed', 'wipe', 'sauerkraut', 'bulk', 'rim', 'briefly', 'polenta', 'burgers', 'hazelnuts', 'pop', 'baguette', '400f', 'nicely', 'circles', 'mussels', 'ovenproof', 'pancetta', 'pipe', 'low-sodium', '1-1/4', 'tie', '400Â°f', 'sear', 'pressed', '55', 'shelled', 'simple', 'whatever', 'crusty', 'vigorously', 'legs', 'mince', 'caramelized', 'kind', 'romano', 'boxes', 'steamed', 'hard-boiled', 'granules', 'log', 'spoonfuls', 'chorizo', 'foamy', '125', 'insert', 'spreading', '2-1/2', 'easier', 'barely', 'fudge', 'cloth', 'fraiche', 'baste', 'butternut', 'brushing', 'microwave-safe', 'fire', 'push', 'dusting', 'protein', '25-30', 'chilli', 'radishes', 'tips', '3-inch', 'directly', 'secure', 'seam', 'sun-dried', 'containers', 'what', 'tongs', 'ending', 'bran', 'cooks', 'moisture', 'okra', 'ring', 'sauteed', 'm', 'julienned', '5-10', 'stop', 'quite', 'brownie', '?', 'gas', 'moisten', 'lobster', 'kettle', 'morsels', 'pretzels', 'slide', 'masala', '1.5', 'including', 'blanched', 'sirloin', 'bubble', 'tear', 'here', 'grapefruit', '3-5', 'rye', 'approx', 'brisket', 'bottoms', 'figs', 'many', 'thai', 'bbq', 'gallon', 'espresso', 'notes', 'brownies', 'dumplings', 'karo', 'remainder', 'rib', '1-', 'bar', 'wedge', 'refried', 'batch', 'shapes', 'available', 'puffed', 'liners', 'shaker', 'anise', 'incorporate', 'looks', 'splenda', 'coals', 'heads', 'nut', 'distribute', 'pinto', 'poultry', 'throw', 'move', 'bun', 'crunchy', 'stage', 'months', 'pomegranate', 'mascarpone', 'granny', 'damp', 'crack', 'pistachios', 'smith', '3/4-inch', 'unbleached', 'penne', '1/2-quart', 'strong', 'caraway', 'registers', 'shaking', 'oysters', 'tight', 'adobo', 'star', 'breaking', 'boils', 'pickled', 'within', 'stemmed', 'watch', 'charred', 'nectar', 'following', 'paddle', 'recipes', 'tiny', 'avoid', 'lg', 'bittersweet', '180c', 'further', 'pitcher', 'blade', 'fryer', 'gal', 'gets', 'soups', 'healthy', 'placing', 'krispies', 'stream', 'splash', 'separately', 'gold', 'lard', 'colored', 'sprinkled', 'outer', 'fruits', 'marmalade', 'spanish', 'ears', '..', 'enchilada', 'stuffed', 'pods', 'sections', 'pcs', 'flake', 'seafood', 'sake', 'hole', 'brine', 'tapioca', '375Â°f', 'natural', 'boned', 'twist', 'page', 'snow', 'heatproof', 'string', 'curd', 'foam', 'dashes', 'mine', 'thirds', 'steamer', 'temp', 'toothpicks', '3-quart', 'elbow', 'smoking', 'halve', 'caps', 'prick', 'cast', 'stack', 'counter', 'cheesecloth', '+', 'dont', 'mound', 'oat', 'tough', 'power', 'leftovers', 'maker', 'blackberries', 'chutney', 'crock-pot', 'teaspoonfuls', 'chard', 'sprinkles', \"'ve\", '[', 'cutlets', 'candies', 'ones', 'thread', ']', 'spoonful', 'spears', 'bite-sized', 'always', 'covering', 'feel', 'hershey', 'roux', 'linguine', 'assorted', 'wish', 'caramels', 'finger', 'agave', 'brussels', 'fluff', 'watercress', 'solid', 'grilling', 'watermelon', 'serrano', 'parmigiano-reggiano', 'follow', 'allowing', '#', 'bunches', 'snipped', '17', 'elastic', 'wo', 'til', 'stockpot', 'oreo', 's', 'solids', 'asian', 'cajun', 'essence', 'well-greased', 'opaque', 'champagne', 'liking', 'peppermint', 'might', 'triangles', '180', 'anchovy', 'shaved', 'gruyere', 'shiitake', '5-6', 'type', 'wait', 'cod', 'crockpot', 'blueberry', 'takes', 'mirin', 'different', 'frothy', 'currants', 'resealable', 'grits', 'blending', 'smashed', 'garam', 'night', 'wrappers', 'finally', 'whiz', 'marinated', 'charcoal', 'simply', 'forming', 'caster', 'burger', 'marinara', 'unflavored', 'contents', 'recommended', 'amounts', 'empty', 'patty', 'orzo', 'king', 'alternating', 'kg', 'quality', 'sm', 'clam', 'miso', 'medium-sized', 'shoulder', 'manufacturer', 'molds', 'discarding', 'bottled', 'reach', 'soon', 'lot', 'near', 'poke', 'overcook', 'flours', '90', 'provolone', 'cavity', 'japanese', 'preferred', 'corner', 'reduced-sodium', 'safe', 'listed', 'bulb', 'stored', 'heating', 'burning', 'eight', 'ensure', 'wrapped', '8-ounce', 'sweetener', 'melon', 'button', 'packets', 'tahini', 'diagonal', 'space', 'keeping', 'centre', 'must', 'disk', 'pints', 'tequila', '4-6', '/', 'waffle', 'people', 'pimentos', 'method', 'did', 'plums', 'sriracha', '70', 'internal', '5-7', 'advance', 'safeway', '225', 'hoisin', 'stone', 'flax', 'lids', 'eggplants', 'block', 'overlapping', 'horizontally', '20-30', 'against', 'nearly', 'me', 'section', 'formed', 'remain', 'gentle', 'going', 'pretty', 'replace', 'deli', 'garbanzo', 'tester', '30-35', 'sherbet', 'baker', 'pea', 'tub', 'cream-style', 'scant', 'roma', 'cast-iron', 'garnished', 'slaw', 'alternate', 'ro-tel', 'ganache', 'club', '48', 'picante', 'thicker', 'meats', 'choy', 'think', 'slits', 'wrapper', 'palm', 'dump', 'dogs', 'rich', 'pickling', 'prawns', 'germ', 'anchovies', 'medium-size', 'tails', '-6', 'whiskey', 'bamboo', 'russet', 'wafer', 'blanch', 'raise', 'omit', 'followed', 'keeps', 'masher', 'drip', 'fiber', 'where', 'combination', 'border', 'julienne', 'lite', 'tall', 'eye', '80', 'lima', 'lengths', 'pies', 'crepe', 'those', 'chunk', 'loose', 'cheez', 'mortar', 'throughout', 'lemongrass', 'final', 'deglaze', 'gingerroot', 'fettuccine', 'absorb', 'teriyaki', '12-15', '1/8-inch', 'corned', 'pinches', 'beet', 'prunes', 'tastes', 'sealed', 'tap', 'family', 'basket', 'guacamole', 'important', 'pyrex', 'ten', 'grinder', 'burner', 'snap', 'reads', 'vermouth', 'drizzling', 'pierce', 'berry', 'preparing', 'bok', 'pecorino', 'flank', '36', 'quick-cooking', 'parsnips', 'pattern', 'thickest', 'kalamata', 'pass', 'heavy-duty', 'rare', 'perfect', 'bottles', 'noodle', 'poblano', 'cools', 'fairly', 'o', 'farm', 'tested', 'found', 'foods', 'scrubbed', 'piping', 'creole', 'mousse', 'ravioli', 'bone-in', '6-ounce', 'steep', 'pistachio', 'tablespoonfuls', 'popped', 'love', 'instant-read', 'plenty', 'proof', 'saute/fry', 'summer', 'unroll', 'kept', 'thigh', 'leg', 'rectangles', 'alternatively', 'tasty', 'soaking', 'pile', 'harden', 'bird', '75', 'results', 'pierced', 'fries', 'fall', '21', 'dream', 'beaters', 'glossy', 'runny', 'sourdough', 'ghee', 'vegan', 'pillsbury', 'pre-heat', 'granola', '160', 'continuously', 'radish', 'frzn', 'raisin', 'letting', 'liberally', 'special', 'dipped', 'bed', 'transparent', 'since', 'steel', '1-quart', 'centers', '165', 'slit', '35-40', 'score', '250Â°', 'pearl', '30-40', 'crepes', 'yukon', 'nutritional', 'brie', 'chip', 'tortellini', 'taking', 'volume', 'substituted', 'segments', 'paper-lined', 'sterilized', 'preference', 'oblong', 'prep', '6-inch', 'reached', 'lots', 'had', 'sec', 'rough', 'intact', 'links', 'tamari', 'folding', 'heavy-bottomed', 'seems', 'holds', 'placed', 'care', 'sugar-free', 'were', 'appear', '13x9', 'house', 'unmold', 'strained', 'intervals', 'salami', 'already', '7-up', '-5', 'beater', 'length', 'called', 'tomatillos', '190', '4-inch', 'breakfast', 'rotating', 'liver', 'coleslaw', 'non', 'gluten', '325f', 'cannellini', 'lipton', 'hollow', 'gone', 'rose', 'morning', 'wonton', 'month', 'zested', 'rising', 'sometimes', 'logs', 'looking', 'port', 'starter', 'pepperidge', 'crumbles', 'pretzel', 'cuts', 'thickly', 'given', 'scalded', 'toffee', 'purple', 'cornflakes', 'corners', 'fahrenheit', 'variety', 'ancho', 'read', 'pestle', 'recommend', 'vary', 'german', 'lowest', 'heart', 'goes', 'gnocchi', 'mushy', 'bright', '1/2-inch-thick', 'grains', 'trays', 'liter', '1/4-inch-thick', 'immersion', 'gather', 'preparation', 'part-skim', 'wood', 'please', 'pimiento', 'peeler', 'eating', 'sooper', 'cholesterol', 'bulgur', 'similar', 'buttercream', 'rectangular', '22', 'jumbo', 'neck', 'closed', 'know', 'atop', 'course', 'foil-lined', 'mark', 'picked', 'tail', 'kielbasa', 'citrus', 'basmati', 'medium-rare', 'squid', 'pouring', 'chickens', 'turnips', 'steady', 'tuck', 'yet', 'halibut', '3/8', 'ca', 'choose', 'basic', 'putting', 'sparkling', 'scoops', 'fast', 'hard-cooked', 'kiwi', 'door', 'liquids', 'ingredient', 'kneading', 'risotto', 'gin', 'worry', '325Â°f', 'needs', 'risen', 'lrg', 'ramen', 'store-bought', 'caramelize', 'veggie', 'sq', 'dog', 'yoghurt', 'venison', 'person', 'springs', 'oscar', 'variation', 'valley', 'buy', 'consomme', 'brewed', 'yams', 'amaretto', 'though', 'pectin', 'required', 'wesson', 'triangle', 'hulled', 'equally', 'long-grain', 'chow', 'complete', 'tenderloins', 'country', 'healthier', 'tots', 'mayer', 'triple', 'our', 'land', '4-quart', 'nori', 'gelatine', 'straight', '-8', 'evaporates', \"'d\", '9-in', 'layering', 'doritos', 'cognac', '15-ounce', 'upside', 'shiny', 'forks', '19', '13x9-inch', 'paring', 'additions', 'hook', 'vidalia', 'creating', 'grapeseed', 'drumsticks', 'evoo', 'float', 'procedure', 'mein', 'otherwise', 'chillies', 'hens', 'lakes', 'pit', 'sponge', 'getting', 'dairy', 'mccormick', 'mesh', 'mill', 'streusel', 'grand', 'prior', 'crimp', 'souffle', 'jiffy', 'lump', '7/8', 'mg', 'meatloaf', 'adapted', 'serrated', 'gluten-free', 'sufficient', 'however', 'sink', '120', 'helps', 'remember', 'hair', 'lumpy', 'cob', 'colour', 'shaped', 'fingertips', 'spots', 'hidden', 'pod', 'truffle', 'savory', '425Â°f', 'traditional', 'meantime', 'porcini', 'ziploc', 'probably', 'accent', 'syrupy', 'version', 'rotel', 'sautee', 'rotate', 'flowers', 'freezes', 'tamarind', 'macadamia', 'coats', '1-3/4', 'product', 'cane', 'bought', 'canning', '14.5', 'toward', 'wing', 'turned', 'opening', 'overmix', 'upper', 'unwrap', 'marnier', 'thinner', '40-45', 'clumps', 'gorgonzola', 'confectioner', 'standing', 'trout', 'vermicelli', 'rather', 'wilt', 'campbell', 'shanks', 'underneath', 'shimmering', 'marsala', 'remains', 'stretch', 'touched', 'holding', 'cacao', 'pocket', 'omelet', 'discarded', 'cashew', 'med-high', 'tater', '5-inch', 'oval', 'flipping', 'superfine', 'nestle', 'iceberg', 'melting', 'hines', 'salty', 'alongside', 'depends', 'irish', 'duncan', 'flaky', 'thing', 'never', 'wasabi', 'scones', 'chex', 'mace', 'maintain', 'grater', 'husks', 'kahlua', 'hellmann', 'alfredo', 'area', 'livers', 'bitters', 'northern', 'date', 'parchment-lined', 'kool-aid', 'casings', 'stay', 'party', 'filets', 'opposite', 'radicchio', 'change', '0.5', 'mallet', 'bouquet', 'greasing', 'tidbits', 'able', 'mostly', '8x8', 'cornflour', 'steaming', 'touching', 'case', 'overbake', 'anything', 'somewhat', 'attached', 'bitter', 'cantaloupe', 'eyes', '0.99', 'else', 'tent', '46', 'dashi', 'whole-wheat', 'stores', 'daikon', 'fashioned', 'body', 'sweat', 'carving', 'one-third', 'mug', 'martini', '425f', 'spreadable', 'mangoes', 'mounds', 'gm', 'shavings', 'saturated', 'endive', 'deseeded', 'something', 'escape', 'distributed', 'rapidly', 'continuing', 'patted', 'smell', 'unsifted', 'liquor', 'giblets', 'extracts', 'envelopes', 'ragu', 'fontina', 'standard', 'scraps', 'rotini', 'depth', 'spiced', 'shoots', 'scrub', 'gum', 'saltine', 'arborio', 'seaweed', 'flavour', 'black-eyed', 'combining', 'cremini', 'hazelnut', '3-1/2', 'select', 'tbls', 'zesty', 'bark', '02/06', 'semolina', 'balance', 'edamame', 'microwaveable', 'home', 'breads', 'waffles', 'sushi', 'sauces', 'gratin', 'stainless', 'ok', 'jelly-roll', '2-1/4', 'checking', 'threads', 'film', 'tenders', 'processed', 'wonderful', 'glazed', 'frypan', 'stovetop', 'asiago', 'steps', 'paraffin', 'crystals', 'flower', 'desire', 'weights', 'papaya', '12-ounce', 'cycle', 'drying', 'ribbons', 'vegetarian', 'mixtures', 'celsius', 'pet', 'nutella', 'defrosted', '9x13-inch', 'fl', 'sorbet', 'storage', 'attach', 'oils', 'handfuls', 'key', 'snack', 'fine-mesh', '16-ounce', 'facing', 'scraped', 'okay', 'tilapia', '10-ounce', 'cutters', 'hominy', '12-cup', '750', 'garnishes', 'spoons', '200c', '2-4', 'uniform', 'scramble', 'ladyfingers', 'hummus', 'slivers', 'belly', 'habanero', 'curls', 'milliliters', 'breadcrumb', 'masa', 'deboned', 'blackberry', 'lavender', 'insides', 'amp', '5/8', 'katakuriko', 'scald', 'turnip', 'smash', 'sizzle', 'maybe', 'swirling', '11/2', 'enclose', 'stopping', 'rendered', 'pimientos', 'chefs', 'thumb', 'oreos', 'moving', 'pith', 'crunch', '26', 'source', 'scissors', 'silicone', 'crawfish', '30-45', 'tests', 'flute', '450f', 'blackened', 'main', 'cling', 'two-thirds', 'blood', 'queso', 'puffs', '170', 'enchiladas', 'juicy', '2-inches', 'chia', 'ramekin', 'unbeaten', 'roaster', 'clarified', 'information', 'decorating', 'ceramic', '8-oz', 'colby', 'tbl', 'overhang', 'self', 'sets', 'distilled', 'zip-top', 'omitting', 'filet', 'tb', 'defrost', 'quiche', 'minimum', 'equipment', 'fig', 'variations', '2-', 'veg', 'seven', 'fan', 'chewy', 'alcohol', '14-1/2', 'decorative', 'portobello', 'options', 'freezing', 'itself', 'twine', 'aioli', 'pockets', 'smoker', 'resemble', 'count', 'poached', 'decoration', '110', '@', 'cap', 'fritos', 'teaspoonful', 'soymilk', '14-ounce', '29', 'include', 'proceed', 'grocery', '2.5', 'assembly', 'knorr', '4-1/2', 'classic', 'scrambled', 'rows', 'toaster', 'crystallized', '7-inch', 'flowerets', 'label', '5-8', 'eaten', 'angle', 'old-fashioned', 'fluted', 'jasmine', 'sun', 'pliable', 'aromatic', 'grey', 'bulbs', '7-8', 'jicama', 'shortbread', 'mixes', 'especially', 'sealing', 'rabbit', 'slight', 'who', 'imitation', 'gives', 'apply', '4-ounce', 'feed', 'pared', 'fashion', 'poach', 'hickory', '6-quart', 'sweetness', 'chef', 'matchsticks', 'gouda', 'dusted', 'debone', 'based', 'butt', 'provided', 'lasagne', 'catch', 'decrease', 'spiral', 'overlap', 'navy', 'min.', 'carbohydrate', 'upright', 'char', 'doz', '475', 'face', 'proportionately', 'mat', 'capsicum', 'peels', 'indirect', 'direct', 'slip', 'fork-tender', 'tilt', 'falling', 'planters', 'membranes', '11-inch', 'stiffly', 'snapper', 'nonreactive', 'individually', '45-50', 'heinz', 'nacho', 'ciabatta', 'rope', '1-1/3', 'fronds', 'seperate', 'folded', 'deg', 'drizzled', \"'n\", '3.5', 'rigatoni', 'finishing', 'narrow', 'pounded', 'doughnuts', 'diet', 'matzo', 'catfish', 'rises', 'excellent', 'grm', 'visible', 'bechamel', 'puffy', 'photo', 'hamburg', 'casing', 'yummy', 'chervil', 'aged', '14-inch', 'towards', 'yourself', 'stevia', 'marks', 'heath', 'n', 'adhere', 'shelf', \"'m\", 'creamer', 'indentation', 'inner', 'limp', 'doing', 'super', 'things', 'bow', 'motor', 'achieve', 'salads', '600', 'disc', 'carve', '5.00', 'towel-lined', 'kids', 'emulsified', 'compote', 'colors', 'transferring', 'turbinado', 'develop', 'plantains', 'lawry', 'worth', 'softens', 'pkt', 'rotisserie', 'accumulated', 'dress', 'skip', 'sizzling', 'build', 'xanthan', 'zip', 'provence', 'buffalo', 'knives', 'shot', 'w/', 'vertically', 'spacing', 'gel', '6-7', 'napa', 'lock', '1/2-ounce', 'arrowroot', 'cointreau', 'saving', 'barrel', 'bundle', 'crabs', 'spareribs', 'rubbed', 'parmigiano', 'draining', 'offset', '275Â°', 'slurry', 'motion', 'membrane', 'closely', 'stirred', 'stale', 'lemon-lime', 'points', 'items', 'hen', 'markets', '450Â°f', 'cut-up', 'option', 'ziti', 'flavorings', 'sambal', 'switch', 'bass', 'escarole', 'grainy', 'plunge', 'fun', 'rock', 'bias', 'stuck', 'ziplock', 'strands', 'crowd', '_____', 'percent', 'whirl', 'pulls', 'wraps', 'tight-fitting', 'farro', 'reduces', 'rims', '-10', 'appetizer', 'equivalent', 'link', 'reheated', 'pulled', 'chopping', 'front', 'removable', 'gloves', 'fitting', 'grenadine', '1/2-', 'got', 'visit', 'cobs', 'microwavable', 'pre', 'places', 'california', 'tacos', 'outdoor', 'grass', 'tender-crisp', 'youre', 'number', 'plan', 'dal', 'disks', 'bagel', 'soggy', 'veg-all', '65', '220', 'target', 'amber', 'evaporate', 'actually', 'pushing', '0', 'photograph', 'securely', '50-60', 'lobsters', 'acorn', 'deep-fry', 'schnapps', 'brioche', 'circular', 'fourths', 'covers', 'sub', 'guests', 'anyone', 'accompaniment', 'appears', 'perfectly', 'wheel', 'malt', 'boston', 'squeezing', 'non-fat', 'meld', 'eggnog', 'singles', 'seem', 'fondue', 'no-salt-added', 'fritters', 'young', 'pouch', 'tossed', 'jarred', 'quail', 'meaty', 'aid', 'crystal', 'saucepot', 'diamond', 'snip', 'lines', 'dropped', 'cross', 'adds', 'oven-proof', 'plump', 'sand', 'buckwheat', '28-ounce', 'smear', 'rabe', '190c', 'undisturbed', 'weigh', 'carnation', 'jug', 'totally', 'bagels', 'access', 'http', 'submerge', 'suit', 'verde', 'buttery', '=', 'neufchatel', 'frittata', 'chilis', 'brick', 'dumpling', 'harissa', 'underside', 'scotch', 'shreds', 'flattened', 'kisses', 'sort', 'butcher', 'five-spice', 'island', 'manner', 'currant', 'preserved', 'seams', 'heavily', 'nectarines', 'aroma', 'spot', 'analysis', 'toasts', 'soya', 'chestnut', 'dividing', 'draw', 'chickpea', 'medium-hot', 'truffles', 'properly', 'marinating', 'ear', 'effect', 'suggested', 'opened', '140', 'winter', '5-quart', 'buds', 'canadian', 'sauteing', 'correct', 'herbes', 'andouille', 'spring-form', 'dab', 'parsnip', 'palms', 'tangerine', 'garni', 'calorie', 'collard', 'peeling', 'hock', 'navel', 'am', 'bottomed', 'manicotti', 'scorching', 'tang', 'lattice', 'network', 'retain', 'carbohydrates', '3.99', 'precooked', 'screw', '-1', 'therefore', 'meatball', 'pizzas', 'kabocha', 'devil', 'garden', 'grab', 'vitamin', 'skimming', '160Â°', 'beverage', 'swordfish', 'seasons', 'tarts', 'flan', '300f', 'yum', '10.75', 'filo', 'tied', 'ever', 'america', 'cola', 'lastly', 'pitas', 'b', 'upon', 'chiffonade', 'chilling', '18-20', 'dollops', 'infuse', 'barbeque', 'pre-heated', 'straw', '9-', 'submerged', 'silver', 'devein', 'timer', 'quantity', 'briskly', 'supreme', 'franks', 'burrito', 'lose', 'fava', '10x', '275', 'stewing', 'mouth', 'started', 'mashing', 'petals', 'bigger', 'tines', 'paint', 'peppercorn', 'hang', 'settle', 'iced', '3-', 'l', '10-', 'exactly', 'lifting', 'usda', 'fresco', 'braising', '2nd', '15-inch', 'naan', 'blot', 'regularly', 'lunch', 'sprite', '1-pound', 'ribbon', 'normal', '9x9', 'texas', '145', 'feels', 'hocks', '85', 'sizes', 'granular', 'portabella', 'exposed', 'result', 'soupy', 'skin-side', 'limeade', 'chipped', 'rocks', '2-qt', 'roots', 'chive', 'whisked', 'saran', 'italian-style', 'faster', 'supermarkets', 'garnishing', 'knox', 'cone', 'artificial', 'vent', 'dv', 'u', 'fancy', 'eighths', 'brittle', 'edible', 'direction', 'medallions', 'mm', 'measured', 'simmers', 'others', 'forget', 'changes', 'pulling', 'rapid', 'cause', 'professional', 'partnership', '180Â°c', '.5', 'trove', 'myplate', 'myrecipes', 'seared', 'flavorful', 'spooning', 'fenugreek', 'mandoline', 'cylinder', 'unless', 'uncle', 'ct', 'slab', 'say', 'untill', 'gram', 'frank', 'semi', 'contains', 'meyer', '1-in', 'shucked', 'kitchenaid', 'meringues', 'packaged', 'bringing', 'trying', '13-', 'french-style', '~', 'purchased', '7-10', 'mrs', 'saltines', '10-3/4', 'strings', 'blanc', 'el', 'ea', 'although', 'aubergine', 'processing', 'released', 'wieners', 'mugs', 'braise', 'personal', 'pits', 'breakstone', '300Â°f', 'pico', 'silken', 'produce', 'lovely', 'non-reactive', 'catalina', 'year', 'wash.', '-ounce', 'canner', 'grinds', '5-', 'hardened', 'juniper', 'poaching', 'smoothing', 'christmas', 'liner', 'darker', '115', 'whole-grain', 'tempeh', 'caesar', 'resting', 'alum', '....', 'broiling', 'nutty', 'husk', 'cut-side', 'tblsp', 'lentil', 'pate', '1/16', 'unfold', 'seltzer', 'flaxseed', 'marble', 'liters', 'safflower', 'included', 'suggest', 'lighter', 'shaping', 'tubes', 'caviar', 'ice-cream', 'knudsen', 'gallo', 'day-old', 'dredging', 'a.1', 'good-quality', 'parboil', 'specialty', '8oz', 'runs', 'curl', 'ben', 'tapped', 'uses', 'parfait', 'gallons', 'burgundy', 'usual', '4-', 'blossom', 'convection', 'muddle', 'solution', 'one-half', 'fourth', 'crema', 'unseasoned', 'kimchi', 'waiting', 'flounder', 'breading', 'gooey', 'poured', 'heirloom', 'shave', 'duty', 'layered', 'commercial', 'passion', 'surfaces', 'reduction', 'hope', 'kaffir', 'favourite', 'omelette', 'kitchens', 'carbonated', 'temper', 'took', 'indian', 'strokes', 'falls', '13x9-in', 'massage', 'tried', 'restaurant', 'depend', 'pats', 'directs', 'birds', 'passing', 'bonito', 'pinching', 'tint', 'loses', 'hawaiian', 'doughnut', 'soba', 'gumbo', 'fillings', 'trifle', 'biscotti', 'chowder', '130', 'scallop', 'chick', 'beautiful', 'silpat', '15x10x1-in', 'spam', 'hungarian', 'feet', '110Â°', 'poupon', '15-18', 'hearty', '3.4', 'twists', 'trial', 'dilute', '1/2-pound', '40-50', 'sweeter', 'haddock', 'mass', 'sounds', 'thousand', 'shakes', 'diluted', 'popsicle', 'peak', 'wilts', 'low-salt', 'headspace', 'higher', 'tamales', 'bakes', 'madeira', 'v-8', 'millet', 'chunked', '12-14', '8-', '-12', 'burnt', 'honeydew', 'center-cut', 'tasting', 'pair', 'calamari', 'hr', 'sundried', 'surround', 'rewarm', 'burst', 'coke', 'design', 'containing', 'storing', 'marked', 'raising', 'cinnamon-sugar', 'matcha', 'watching', 'testing', 'rid', 'kombu', 'representation', 'increments', '13-in', 'shiso', 'allows', 'match', 'non-dairy', '200Â°', 'scum', 'skin-on', 'periodically', 'sound', '45-60', 'rump', 'achieved', 'far', 'spelt', 'flavours', 'mason', 'dulce', 'scraper', 'quesadillas', 'fusilli', 'korean', 'idea', 'watery', 'infused', 'joe', 'wisk', 'handheld', 'pastries', 'leche', 'pumpernickel', 'wontons', 'ways', 'octopus', 'doesnt', 'frosted', 'tomatillo', 'pepitas', 'chocolates', 'alone', 'adjusting', 'tablespoonful', 'treat', 'reducing', 'deep-frying', 'di', 'farfalle', 'cracks', 'well-blended', 'coming', 'betty', 'crostini', 'curly', 'crocker', 'butterfly', 'cooler', 'panini', 'sweeten', 'indicated', '35-45', 'gourmet', 'neutral', 'believe', 'crisps', 'rubbing', 'condiments', '1st', 'blossoms', 'less-sodium', 'hint', 'ease', 'croissants', 'shown', 'jellyroll', 'mind', 'grates', 'burners', 'acid', 'fondant', 'stout', 'petite', 'lengthways', 'premium', 'wrapping', 'oven-safe', 'easiest', 'kabobs', 'discs', 'says', 'linguini', 'bare', 'presentation', '1-inch-thick', 'whey', 'emeril', 'spooned', 'focaccia', 'kraut', 'mess', 'curdle', 'flatbread', 'polish', 'hollandaise', 'filter', 'matter', 'pops', 'scaled', 'early', 'funnel', 'bibb', 'bites', 'calls', 'sole', 'oriental', 'licorice', 'kirsch', 'au', 'curds', 'herbed', 'decoratively', 'render', '12-1', 'nuggets', 'golf', 'sel', 'sturdy', 'oelek', 'difficult', 'picture', 'drinking', 'moment', 'low-medium', 'tucking', '1-ounce', 'behind', 'scorch', '115Â°', 'skirt', 'separating', 'giving', 'yes', 'philly', 'partly', 'accordingly', 'extra-large', 'sardines', 'unwrapped', 'having', 'breaded', 'thickening', 'churn', 'anaheim', 'mincemeat', 'content', 'dirt', 'forth', 'alternative', 'deep-dish', 'papers', 'tenderness', '6-', 'donuts', 'mush', 'rustic', 'gingerbread', 'gray', 'chipotles', 'butterflied', 'torte', 'sits', 'harina', 'subsides', 'pulsing', 'shut', 'spear', 'jerk', 'heats', '1t', 'dressed', '8-in', 'deflate', 'la', 'butter-flavored', 'sultanas', 'plantain', 'cutlet', 'menthe', 'handling', 'sumac', 'hunt', 'book', 'foaming', 'everyone', 'entirely', 'no-stick', 'goose', '3-qt', 'well-floured', 'prune', 'cones', 'tenderizer', 'jus', 'means', 'twelve', 'perforations', 'pkgs', 'extending', 'fleur', 'softer', 'idaho', 'doubles', 'she', 'tony', 'breadsticks', 'braid', 'wanted', 'durkee', 'sectioned', 'approximate', 'throughly', 'sealable', 'magic', '160c', 'tupperware', 'held', 'sizzles', 'shears', 'belgian', 'frisee', 'mung', 'row', 'he', 'fruity', '2-cup', 'vents', 'stays', 'desiccated', '4.5', '}', '1/2-in', 'rinds', '230', 'quesadilla', 'freshly-grnd', 'concentrated', 'highest', 'width', 'margarita', 'classico', 'reynolds', 'goya', 'disposable', 'southern', 'types', 'golden-brown', 'marzipan', 'overbeat', 'smoky', 'calcium', 'grade', 'piecrust', '13x9x2', 'cartons', 'heaped', 'hardens', 'reggiano', 'pulses', 'craisins', 'countertop', 'handles', 'tend', 'springy', 'cavities', 'cured', 'tapenade', '9x5', 'sauvignon', 'dehydrated', 'cornflake', 'kaiser', '1-cup', 'burned', 'heat-proof', 'popping', 'pepperoncini', 'skillets', '4-serving', 'chopper', 'normally', 'refresh', '14-12', 'extremely', 'kebabs', 'sprout', 'fajita', 'praline', 'all-bran', 'youll', 'nothing', 'glue', 'bonnet', 'ropes', 'spaced', 'proportions', 'pare', 'nine', 'call', 'one-fourth', 'slushy', 'blocks', 'tell', 'dijon-style', 'live', 'self-raising', 'draft-free', 'sugared', 'ricer', '{', 'smoothly', 'joint', 'shank', '240', '27', 'nutrition', '-inch', 'highball', 'burritos', 'show', 'tinfoil', 'lining', 'rutabaga', 'bon', 'bicarbonate', 'bands', 'game', '700', 'w', 'hormel', 'simmered', 'swanson', 'assembling', 'qts', 'naturally', 'shrimps', 'med-low', 'gummy', 'nondairy', 'arbol', 'ensuring', 'giant', 'kick', 'p', '1/3-inch', 'persimmon', 'stops', 'lady', 'meet', 'cotija', 'streaks', 'twenty', 'trimmings', 'seam-side', 'won', 'three-quarters', '9/16', 'tree', '8-12', 'russian', 'baller', 'flexible', 'share', '>', 'gingersnaps', 'congeal', 'absorbent', 'broccolini', 'why', 'capacity', 'deeply', 'smoothie', 'pinot', 'pourable', 'picks', 'market', 'suggestions', 'particles', 'blistered', '1/2-inches', 'force', 'trimming', 'knob', 'lighten', 'kiss', 'essential', 'muenster', 'children', 'thick-cut', 'claws', 'cheerios', 'arranging', 'oil-packed', 'gr', 'baguettes', 'husked', '360', 'san', 'opt', 'delicate', 'crisscross', 'reese', 'taken', 'brew', 'local', 'tbsps', 'broiled', 'baggie', 'quaker', 'hotter', '2t', 'dig', 'theyre', 'kinds', 'manchego', 'gingersnap', 'hoagie', 'tilting', 'puddings', 'life', 'bundles', 'crisped', 'drape', 'louisiana', '2g', 'country-style', 'assembled', 'suggestion', 'bleu', 'guinness', 'roe', 'crescents', 'proper', 'continually', 'sorghum', 'cornish', 'completed', 'list', 'mahi', '500Â°', 'cases', 'darken', 'demerara', 'range', 'angostura', '12-', 'dean', 'gala', 'carcass', 'udon', 'saut', 'secret', 'yam', 'guide', 'rocket', 'canes', 'chardonnay', 'refridgerate', 'pilaf', 'decorations', 'minus', 'drafts', '170c', 'handy', 'pre-cooked', '100g', 'slicer', 'pasteurized', 'jimmy', '10.5', 'celeriac', 'roquefort', 'rainbow', 'air-tight', 'cupfuls', 'largest', 'neat', '7-9', 'appetizers', 'broad', 'toasting', '6-cup', 'ton', 'stars', 'custards', 'eyeball', 'cores', 'eliminate', 'thats', '1/4-in', 'pan-fry', 'chopsticks', 'terrine', '8-quart', 'bologna', 'longhorn', 'begun', 'reduced-calorie', 'caution', 'leafy', 'pig', 'beetroot', 'saved', 'hit', 'wont', '1g', 'future', '64', 'expand', 'immerse', 'curacao', 'happy', 'farms', 'citron', 'worked', 'squirt', 'donut', 'pots', 'challah', 'dollar', 'whole-milk', 'dense', 'pointed', 'deviled', 'tzatziki', 'require', 'sat', '1cm', 'packs', 'sitting', '18.25', 'macaroons', 'savoy', 'blitz', 'boat', 'cheesy', '800', 'torch', 'silk', 'nose', 'file', 'croquettes', '10-in', 'shaken', 'her', 'md', 'due', '16-oz', 'mangos', 'extra-sharp', 'patting', 'filtered', 'grating', 'dripping', 'mac', 'manufacturers', 'various', 'frankfurters', 'tomatoe', 'thirty', 'toasty', 'known', '1/2-cup', 'suitable', 'ideal', '13x9x2-inch', 'carb', 'likely', 'nam', 'froth', 'saucer', 'grinding', 'lemon-pepper', 'york', 'well-combined', 'interior', 'mould', 'flow', '30-60', 'smoother', 'mist', 'tooth', 'purposes', 'fresh-ground', 'maldon', 'fifteen', 'plank', 'paneer', 'imported', 'ideally', 'typically', 'malted', '15-oz', 'shrink', 'preheating', 'scooped', 'trader', '9-by-13-inch', 'grit', 'poblanos', 'absorbs', 'contact', 'deluxe', 'royal', 'hungry', '6-qt', '3g', 'ask', 'ruby', 'mexico', 'ash', '38', 'hass', 'shoe', 'calvados', 'haricots', 'woody', 'tumeric', 'inverted', 'cobbler', 'coca-cola', 'suet', 'dampened', 'us', 'jet-puffed', 'holiday', 'appearance', 'ajar', '3-ounce', 'ice-filled', 'fingerling', 'previous', 'spritz', '6-oz', 'dropping', 'reg', '14.5-ounce', 'montreal', 'preserve', 'ponzu', 'guava', 'veins', 'verts', 'unused', 'ratio', 'difference', 'rite', 'bruised', 'stacks', 'hots', 'came', 'crowding', 'gift', 'flameproof', 'fettucine', 'crisply', 'silky', 'snugly', 'substituting', 'bullion', 'realemon', 'salt/pepper', 'daily', 'smells', 'tangy', 'chevre', '12-oz', '50-55', 'wish-bone', 'cartilage', 'dribble', 'bind', 'said', 'earlier', 'shimmers', 'messy', 'con', 'salt-free', 'clusters', 'trace', '8-9', 'glace', 'shows', 'earth', 'crushing', 'deep-fryer', 'tentacles', 'friends', 'broiler-fryer', 'bratwurst', 'prosecco', 'handled', 'obtain', 'mackerel', 'tomatos', 'short-grain', 'whether', 'moons', 'bosc', 'prevents', '.25', 'fire-roasted', 'maximum', 'mean', 'spider', '5-ounce', 'chocolate-covered', 'clump', 'overwork', 'coins', 'mandolin', 'warming', 'sloppy', 'whichever', 'washing', 'tuscan', 'arils', 'milnot', 'fermented', 'sold', 'peg', 'stands', 'crimini', 'mayonaise', 'vine', 'neatly', 'morels', 'jellied', 'flames', '10-20', 'v8', 'over-mix', '160f', 'fix', 'slash', 'galangal', '145Â°', 'fits', 'disappears', 'exact', 'mints', 'inserting', 'deep-fat', 'emulsify', 'dietary', 'post', 'tropical', 'height', 'hand-held', 'stronger', 'enameled', 'colouring', 'appetit', 'pace', 'glazing', 'altogether', 'deer', 'coarsley', 'rotary', 'awhile', '200Â°c', 'gumdrops', 'fuji', '1/8-inch-thick', 'control', 'ignite', 'aluminium', 'hollowed', 'env', 'firmer', 'alfalfa', 'jell', 'period', 'mazola', 'brushed', 'shorter', 'foams', 'brussel', 'hear', 'example', 'slather', 'incorporating', 'shaoxing', 'appropriate', 'bad', '15-', 'cardamon', 'previously', 'tongue', 'croissant', 'whilst', 'shoyu', 'dippers', 'bob', 'crouton', '200g', 'on/off', 'orange-flavored', 'paso', 'backbone', 'rice-a-roni', 'tempered', 'marzano', 'comments', 'sofrito', 'tempura', 'collards', 'congealed', 'reroll', 'snacks', 'cole', '1.25', 'chai', '20cm', 'i.e', 'parallel', '4g', 'milky', 'uniformly', 'three-fourths', 'red-wine', 'confit', 'etc.', 'chafing', 'pasty', 'residual', 'health', 'wear', 'cardboard', 'years', 'pch', 'relatively', 'notice', 'chimichurri', 'yuzu', '-7', 'allowed', 'separates', 'his', '1-1', 'kumquats', 'acidity', 'stones', 'tapping', 'spicier', 'clinging', '1/4-ounce', 'mesclun', 'powders', 'compact', 'dampen', 'shellfish', 'carbs', 'huge', 'msg', 'combo', 'timing', '7-ounce', '3/4-inch-thick', 'wells', '3-inches', 'nutmeats', 'gochujang', 'fasten', 'sazon', 'anywhere', 'extend', 'stone-ground', 'ovens', '105', 'full-fat', 'refrigeration', 'reheating', 'prebaked', 'shimeji', 'vessel', 'burns', 'tends', '5g', 'paella', 'sleeve', '13.5', 'cukes', 'contain', 'london', 'bench', 'hull', 'fatty', 'floret', 'band', 'choc', 'highly', 'cookbook', 'spraying', 'kellogg', 'quince', 'butter/margarine', 'strength', 'french-fried', 'nachos', 'trick', 'age', 'strudel', 'mesquite', 'beefsteak', '250g', 'cellophane', 'tacky', 'generally', 'decide', 'crispix', 'medjool', 'orleans', '2cm', '1-3', '5-qt', '165Â°', 'mochi', '1/2-1', '45-55', 'lidded', 'toweling', 'closest', '10-oz', 'slashes', 'colby-monterey', '4-cup', '15-30', 'softly', 'amazing', '2-layer', 'returns', 'prego', 'horizontal', 'hemp', 'cotton', 'packing', 'agar', 'mounding', 'peek', 'converted', 'proceeding', 'becoming', 'coulis', 'slc', 'roasts', '2-in', 'hamburgers', 'nest', 'unopened', 'specified', 'trust', 'havarti', 'substitutes', 'coloured', 'quantities', 'potatos', 'themselves', 'pla', 'mexican-style', 'bartlett', 'lower-sodium', '72', 'paper-thin', 'likes', 'curdled', 'turkish', 'worms', 'casseroles', 'cous', '57', 'published', 'ortega', 'creaming', 'ducks', 'resistance', 'parboiled', '42', 'gills', 'skimmed', 'mocha', 'areas', '25-35', 'litre', 'world', '1/4-1/2', 'medium-large', 'worchestershire', 'definitely', 'x13', 'pasilla', 'guajillo', 'equals', '170Â°', 'chambord', 'drips', 'spin', 'ms', 'ad', 'lifted', 'riesling', 'aisle', 'one-quarter', 'achiote', 'sack', '15.5', '3-pound', 'heavy-based', 'wise', '50g', 'aleppo', 'chili-garlic', 'seitan', '3/4-ounce', 'richer', 'scored', 'dry-roasted', '55-60', 'crown', 'nibs', '3.50', 'accompany', 'tangerines', 'stretching', 'clay', 'chance', 'refrigerating', 'slabs', 'grahams', 'sterile', 'brought', 'one-inch', 'melba', 'sichuan', 'cabernet', 'spaetzle', 'shots', 'personally', 'porridge', 'pineapples', 'splatter', 'limoncello', 'rinsing', 'parmesean', '4-pound', 'greaseproof', 'play', 'requires', 'bases', 'lager', 'panna', '02/07', 'beautifully', '475Â°', 'thins', 'mom', 'boullion', 'element', 'bodies', 'goodness', 'dunk', 'laying', 'attractive', 'microplane', 'desserts', 'overcrowd', 'del', 'smart', 'soap', 'cornichons', 'sterilize', 'tsps', 'floating', 'treats', 'happens', 'thinned', 'stripped', 'shade', 'micro', 'well-drained', 'emulsion', 'created', 'creamier', 'carob', '303', 'wiped', 'snickers', '1c', 'enoki', 'red-pepper', 'nectarine', 'saucy', '`', '2-ounce', 'milder', 'william', 'refer', 'ghirardelli', 'increasing', 'lotus', 'endives', 'gremolata', 'squish', 'braised', 'zip-lock', 'jalepeno', 'whisky', 'varieties', 'hurry', 'lea', 'shops', 'littleneck', 'decorator', 'gras', 'measurements', 'foie', '3.00', 'cotta', '2.99', '1lb', 'omitted', 'pheasant', 'pumpkins', '1/4-cup', 'microwaving', 'happen', 'zucchinis', 'moon', '85Â°', 'flattening', '113', 'corriander', 'courgettes', 'dots', 'lettuces', 'perhaps', 'oxtails', 'frangelico', '1/2-inch-wide', 'moulds', 'breaks', '180Â°', 'stripes', 'beyond', 'trans', 'tagliatelle', 'k', 'pernod', 'galette', '1-2/3', '140Â°', '74', '0g', 'sifter', 'tepid', 'crumbling', 'consistancy', 'gloss', 'favorites', 'includes', '4oz', 'mellow', 'smucker', 'poor', 'lip', 'fettucini', 'ready-to-use', 'sanding', 'lagasse', 'lollipop', 'grouper', 'amaretti', 'voila', '18-22', 'e.g', '135', 'floury', 'campari', 'dries', 'marrow', 'orecchiette', 'raised', 'supermarket', '340', 'inverting', 'persimmons', 'accompanied', 'merlot', 'poked', '2-pound', 'g.', 'scooping', 'extra-lean', '2-3/4', 'parm', 'mexicorn', 'certo', 'tartlet', '7.00', 'jiggly', 'tenderize', '1/2c', 'gyoza', 'passionfruit', 'condiment', '1tsp', 'gaps', 'vinegars', '30-second', 'past', 'absolutely', 'vertical', 'bucket', 'joy', 'e', 'lit', 'disappear', 'ladleful', 'burdock', 'unsliced', 'blacken', 'cassis', 'granita', 'outsides', 'bruschetta', 'monde', '4-oz', 'ingrediants', 'sorrel', 'coco', 'fresno', 'remoulade', 'soybeans', 'multigrain', 'wiener', 'bacardi', 'matchstick', 'quik', 'wheels', 'switching', 'mole', 'ditalini', '33', '1.29', 'skor', 'floats', 'shortly', 'shoepeg', '1-qt', 'spare', 'ready-made', 'twinkies', 'meatless', 'shortcake', '220c', 'straws', 'name', 'overhanging', 'beau', 'monte', 'stacked', 'varies', 'indentations', 'accommodate', 'grape-nuts', 'awesome', 'gizzards', 'reconstituted', 'measures', 'greek-style', 'firm-ripe', '6g', 're-roll', 'dull', 'ideas', 'baileys', '165f', 'husband', 'fragrance', 'vietnamese', '250f', 'swirls', 'perrins', 'residue', 'basically', '500g', 'twisting', 'parsely', 'hanging', 'pimenton', 'cure', 'experiment', 'technique', 'certain', '1993', 'cereals', 'jiggle', 'slush', 'blog', 'tostitos', 'stilton', '7g', 'basin', 'knot', 'shiitakes', 'mountain', 'camembert', 'x9', 'morrow', 'canister', 'salata', 'dsh', 'toll', 'heap', 'aminos', 'medium/high', 'aubergines', 'water-packed', 'overcooked', 'manual', 'concentric', 'grapefruits', 'herring', 'spun', '9x5-inch', 'latkes', 'zests', 'crispness', '155', 'joints', 'macerate', 'starchy', 'recommendation', 'comfort', 'juicer', 'rested', '11x7-in', 'drinks', 'caper', 'paper-towel-lined', '225Â°', 'creative', 'indefinitely', '15x10x1-inch', '-15', 'resulting', 'feeling', 'long-handled', 'mini-muffin', 'scale', 'butterfinger', 'prime', '-16', 'rip', 'szechuan', 'exterior', 'marbled', 'jessie', 'service', 'decorated', 'bailey', 'monkfish', '1/4-', 'prawn', 'colorful', 'heat-resistant', 'tripled', 'risk', '1/2-2', 'textured', 'helpful', 'french-cut', 'stringy', 'devour', 'friend', 'seasonal', 'pre-made', 'ramps', 'cheap', 'shitake', 'd', 'online', 'progresso', '8x8-inch', 'tirsch', 'collect', 'empanadas', 'passata', 'dandelion', 'stacking', 'asafoetida', 'cheesecakes', 'coupe', 'pete', 'mentsuyu', 'refreshing', 'instructed', '150g', 'overly', 'heel', 'description', '900', 'lardons', 'kiwis', 'halloumi', 'ap', 'bush', '0mg', 'depression', 'spaces', 'group', 'bakers', 'quicker', 'taro', 'ferment', 'maxwell', '2-2/3', 'half-inch', 'morton', 'segment', 'bend', '12-in', 'provide', 'pastrami', 'tinned', 'field', 'papery', 'kohlrabi', 'striped', 'master', 'shortcakes', 'described', 'youve', 'job', 'bella', 'securing', 'purchase', 'stainless-steel', 'upside-down', 'sifting', '13-15', 'walla', 'shaggy', 'half-moons', 'ts', '16-inch', 'passed', 'souffles', 'sachet', 'optionally', '185', 'expose', 'tearing', 'searing', 'positions', 'related', 'collins', '18-inch', 'whenever', 'picnic', 'pouches', 'persian', '56', 'reason', 'shredding', 'comfortably', 'present', 'mostaccioli', 'bing', 'albacore', 'mozarella', 'straining', 'nicoise', 'flavoured', 'curve', 'marry', 'grid', 'replacer', 'sure-jell', 'chachere', 'state', 'vein', 'cracking', 'ovals', 'marie', 'perimeter', 'nuoc', 'preferable', 'pea-sized', 'corkscrew', 'wakame', 'jigger', 'red-skinned', 'mitts', 'dairy-free', 'darkened', 'milligrams', 'conventional', 'arranged', 'shock', '250Â°f', 'traditionally', 'high-quality', 'cleaning', 'protect', 'removal', '9-11', 'clementine', 'delicately', 'mcintosh', 'fills', 'gherkins', 'sufficiently', 'castor', 'mother', 'turnovers', '224', 'flap', 'index', 'well-browned', 'stir-frying', 'widthwise', '14-oz', 'abt', 'madras', 'changing', '98', 'cannelloni', 'pad', 'wider', 'multi-grain', 'flatbreads', 'tostada', 'register', '6oz', 'de-seeded', 'aka', 'bloom', 'crazy', 'rehydrated', 'falafel', 'doughy', 'calorie-wise', 'sided', 'bertolli', '280', 'company', '9-10', 'kikkoman', 'spill', 'releases', 'chopstick', 'claw', 'polyunsaturated', '11/16', 'sieved', 'shoestring', 'oily', 'boursin', '2.8', 'zinfandel', 'branches', 'program', 'pappardelle', 'cleaver', 'microwaved', 'mineral', 'muslin', 'martha', 'lost', 'oh', 'make-ahead', 'courgette', 'particularly', '400g', 'enriched', 'smokies', 'success', '365', 'farmer', 'repeating', '3/8-inch', 'jamaican', 'brazil', 'annatto', 'accompaniments', 'parkay', 'double-acting', 'pimiento-stuffed', 'carmelized', 'scone', 'snaps', 'pearls', 'skimmer', 'blind', 'dome', 're-cover', '1-1/2-inch', 'dole', 'mussel', 'baklava', 'segmented', 'aburaage', 'buttering', 'clementines', '30g', 'pre-baked', 'waxy', 'mop', 'fingertip', 'well-beaten', 'pea-size', 'folds', 'sundae', 'sparingly', 'soybean', 'wholemeal', '1.4', 'amaranth', 'grana', 'luncheon', 'entree', 'anyway', 'zipper', 'chanterelles', 'kefir', 'gelato', 'clings', 'splashes', 'shoot', 'truss', 'mozzerella', '200f', 'bitterness', 'problem', 'hammer', 'distributing', 'chicory', 'white-wine', 'monounsaturated', 'altitude', 'drumstick', 'parma', 'cutouts', '1/6', 'brats', 'padano', 'brickle', 'parties', 'avacado', '3rd', 'citric', 'potassium', '60-70', 'hardboiled', 'flush', 'cute', 'homogeneous', 'unrefined', '9-inch-diameter', 'clover', '4-qt', 'double-crust', 'wring', 'tonic', 'consistent', 'cohesive', 'nature', 'well-buttered', 'rehydrate', 'plumped', 'milled', '0.0g', 'well-seasoned', 'chanterelle', '120Â°', 'beurre', 'relax', 'ginger-garlic', 'season-all', 'triangular', 'chikuwa', 'hibiscus', 'harder', 'wondra', 'seen', 'average', 'brands', 'plating', 'pastry-lined', 'draft', 'child', 'changed', 'verbena', 'oxtail', 'sweetcorn', 'closer', 'freezer-safe', 'maggi', 'pool', 'lily', 'islands', 'athenos', 'scalding', '21/2', '1-1/2-qt', 'refrigeratetill', 'determine', '1.', 'crispier', 'okara', 'backs', 'saltiness', 'foot', 'medium-well', '95', 'muscovado', 'roll-ups', 'raita', 'walls', 'stiring', 'debearded', 'hat', 'epazote', '14-16', 'beneath', '125g', '12-2', 'undercooked', '9x12', 'yours', 'mignon', '31', 'mintues', 'blister', 'cow', 'adjusted', 'crackle', 'heart-shaped', '200Â°f', 'aromatics', 'eventually', 'keebler', 'homestyle', 'vacuum', 'mary', 'vital', 'seals', 'cleanly', '0.25', 'authentic', 'blades', 'beforehand', 'aniseed', 'exchange', 'mediterranean', 'thinning', 'potatoe', 'whl', 'faces', '6.5', 'liked', 'rests', 'roughy', 'mature', 'rashers', 'sauted', 'umeboshi', 'evening', 'excessive', 'jiggles', 'dutch-processed', 'limas', 'tighten', 'kneaded', 'ahi', 'himalayan', 'barbecued', 'packaging', 'ripened', 'tandoori', 'stoned', 'cl', 'noir', '500f', 'roller', 'substitutions', 'baskets', 'tape', 'tostadas', 'mrs.', 'buttons', 'spout', 'caramelizes', '1tbsp', 'steadily', 'extra-firm', '-20', 'rosewater', 'solidify', 'medal', 'salts', 'matzoh', 'nilla', '3-3/4', 'powered', \"bull's-eye\", 'smallest', 'dirty', 'die', 'skewered', 'demi-glace', 'anglaise', 'room-temperature', 'refridgerator', '5cm', 'airy', 'ore-ida', 'maid', 'kiwifruit', 'drumettes', 'pantry', 'piles', 'danish', '3.9', 'trail', '3.5oz', 'southwest', 'youd', 'jelled', 'meals', 'thought', '15-17', '160Â°f', '1000', '16oz', 'drawn', 'mission', 'choke', 'leak', 'nests', 'glutamate', 'floor', 'afraid', 'boysenberries', '165Â°f', 'cloudy', 'satiny', 'monosodium', 'bakery', 'knock', 'fiesta', '20-22', 'eastern', 'collected', 'niblets', '210', 'midway', '<', 'creates', 'bento', 'stiffen', 'proscuitto', 'straight-sided', 'town', 'sandy', 'manis', 'vegies', 'workable', 'guess', 'bulgar', 'teas', '2.', 'seperated', 'pina', 'cardamoms', 'bocconcini', 'slider', 'weather', 'showing', 'ocean', 'streaky', 'applewood', 'sliver', 'cedar', 'jackets', 'wreath', 'goal', \"za'atar\", 'patience', '78', 'choosing', 'somewhere', 'consider', 'free-range', 'deeper', 'konnyaku', 'myself', 'warning', 'indoor', '1-gallon', 'thank', 'seep', '12-16', 'exchanges', 'mats', 'breadstick', 'unavailable', 'patient', 'shy', 'puncture', 'shuck', 'avoiding', 'chimney', 'intense', 'blanco', 'urad', '150c', 'uneven', 'brulee', '350-degree', 'tan', 'plant', 'tool', 'recover', 'necks', 'tartlets', 'criss-cross', 'offer', 'extravirgin', 'sunny', 'colada', 'scalloped', 'powdery', '1/5', '3-1/4', 'touches', 'anjou', 'fantastic', 'slow-cooker', 'inspired', 'bison', 'fifth', 'roses', 'half-moon', 'arthur', 'scrap', 'tripe', '9-ounce', 'enamel', 'pinwheels', 'bloody', 'proofing', 'grigio', '12-34', 'hashbrowns', 'wire-mesh', 'silicon', 'stamp', 'israeli', 'mizuna', 'st.', 'products', 'well-coated', 'pulverized', 'promise', 'mustards', 'overflow', 'vine-ripened', 'isnt', 'nabisco', 'dehydrator', 'icy', 'rhodes', 'lasts', 'diamonds', 'resist', '130Â°', 'dips', 'fettuccini', 'crimping', 'oil-cured', 'fibers', 'function', 'hi', 'bolognese', 'spirals', 'chayote', '12-count', 'forest', 'bursts', '8g', 'moroccan', 'homogenous', 'peices', 'mingle', 'enhance', 'dr.', 'chosen', 'experience', 'pencil', 'shimmer', 'macarons', '-1/2', '135Â°', 'attention', 'widest', 'mortadella', 'supposed', '1.00', 'bold', 'gazpacho', '15/16', 'roti', 'https', 'blends', 'kill', 'wearing', 'info', 'increased', 'improves', 'south', 'undersides', 'dutch-process', '5-1/2', 'brunch', 'figure', 'kasha', 'shortcrust', 'ice-cold', 'asafetida', 'planks', 'jaggery', '7-', 'hatch', 'strand', 'barilla', 'overripe', 'soured', '11-', 'balm', 'ras', 'posted', 'slender', 'fudgy', 'batters', 'viewer', 'herbal', 'item', 'ripen', '6-10', 'harvest', '115~', 'lavash', 'occassionally', 'fn', 'wall', 'fermentation', 'jif', 'low-moisture', 'twin', 'moments', 'replacement', 'milks', 'refill', 'lemony', 'spatulas', 'hanout', 'bother', 'ragout', 'cant', 'corns', 'valve', 'lower-middle', '4-inches', 'rib-eye', 'develops', 'churning', 'burrata', 'warmer', 'load', 'subside', 'rabbits', 'kelp', '2-5', 'releasing', 'capellini', 'ur', '500Â°f', '112', 'pricked', 'well-oiled', 'm.s.g', 'delight', 'pulverize', 'pom', 'snapped', 'pairs', 'premade', 'foil-covered', 'well-chilled', 'garbanzos', 'glutinous', 'kinako', 'chablis', 'elephant', 'velvet', 'tagine', 'true', '10-1/2', 'balloon', 'inch-thick', 'cheeks', 'hors', 'overcooking', 'holidays', 'thanksgiving', 'parcel', 'earl', '12oz', 'coil', 'greasy', '7.5', 'rutabagas', 'utensil', 'tobasco', 'tspn', 'tamale', 'dillweed', 'teflon', 'overbrowning', '15oz', '-less-sodium', 'hillshire', '8-cup', 'aji', 'piquillo', 'fritter', 'ridged', '3.', '63', '15.25', 'building', 'mode', 'calumet', 'high-sided', 'wholegrain', '10.00', 'lol', 'returning', 'earthenware', '1/4c', 'well-mixed', 'peppered', 'spearmint', 'general', 'muscle', 'liberal', 'cactus', '1/3-inch-thick', 'tvp', 'gizzard', 'half-pint', '8.5', 'medley', 'stove-top', 'craft', 'hits', 'collapse', 'adzuki', 'rosettes', 'ladyfinger', 'cal', 'farenheit', 'grandma', 'bn', 'lemon-colored', 'randomly', 'carry', 'manageable', '420', 'lettuce-lined', 'dressings', 'amongst', 'newspaper', 'samuel', 'unpopped', 'celtic', 'canchopped', 'walnut-sized', 'bisque', 'solid-pack', '5-pound', 'mojo', 'mentioned', '15ml', 'secrets', 'finer', 'common', \"'em\", 'tad', 'length-wise', 'genoa', 'no-boil', 'helping', 'quinces', 'triscuits', 'join', 'melty', 'fact', 'swell', 'blackening', 'enclosing', 'someone', 'spit', 'soft-ball', 'elderflower', 'gifts', 'pierogies', 'measurement', 'easter', 'spaghettini', '17-inch', 'napkin', 'redistribute', 'twisted', 'sliding', 'culinary', 'loves', 'festive', 'spreads', 'vanilla-flavored', 'whitefish', 'pimento-stuffed', 'object', 'spongy', 'medium/low', '1-inch-wide', 'precook', 'bear', 'outward', 'spinner', 'kneed', '9x5x3', '30ml', 'lopez', '6-1/2', 'portuguese', 'fibrous', 'refined', 'scratch', 'boats', 'lazy', 'chute', 'doubanjiang', 'tinted', 'velvety', '260', 'boboli', 'satay', 'value', 'bucatini', 'celcius', 'boca', 'tasted', 'lie', 'drag', 'clingfilm', 'solidified', 'cannoli', 'wiping', '0.5g', 'clumping', 'sucanat', 'plop', 'cigar', '320', 'pain', 'acidic', '350.', 'complement', 'bow-tie', 'unmolding', 'gf', 'bermuda', 'penetrate', 'spiciness', 'muesli', 'capsicums', '170f', 'preserving', '10g', 'centres', '300g', '96', 'liquidy', 'halloween', 'courtesy', 'enjoyed', 'serranos', '14-', 'im', 'flat-bottomed', 'calzones', 'half-way', 'mutton', 'napkins', 'lesueur', 'shine', 'holder', 'guest', 'fromage', 'papayas', 'eyed', 'uncut', 'pinched', 'macaroon', 'constant', 'rush', 'oak', 'underdone', 'ours', 'oiling', 'light-brown', '150Â°', 'improve', 'loins', '60g', 'surrounded', 'fructose', 'digestive', '15g', 'parcels', 'photos', 'atleast', 'fist', 'hotel', 'batons', 'candy-coated', 'longest', 'best-quality', 'tiger', 'lucky', 'stoneware', 'piercing', 'loosened', 'went', 'chedder', 'sweetbreads', 'joes', 'action', 'deseed', 'vitamix', 'arm', 'afterwards', 'farina', 'letter', 'scales', 'chilly', 'stk', '11x7', 'crusted', 'expect', 'blow', 'coffee-flavored', 'smallish', '1/3-less-fat', 'tears', 'planning', 'sultana', 'nearby', 'judges', 'indent', 'liquefy', 'grounded', 'originally', 'flouring', 'hellman', 'empanada', 'boxed', '1/2-3/4', 'dissolving', 'kirby', 'tubs', 'george', 'maria', 'aunt', 'overheat', 'glucose', 'curried', 'ooze', 'margerine', '9g', 'elbows', 'maui', 'nearest', 'richly', 'jarlsberg', 'unmelted', 'anymore', 'butter/sugar', 'crisper', 'hints', 'grands', 'bruise', 'sip', 'strongly', 'th', 'curdling', 'blackstrap', 'popover', 're-heat', 'yuca', 'coffee-mate', '225g', 'hog', 'incisions', 'jerky', 'beside', 'serving-size', '4-8', 'forced', '11/4', 'crank', 'popovers', '13/16', 'caramelised', 'gristle', 'retaining', 'fillo', 'tri-tip', 'clip', 'resistant', 'cinnamon/sugar', 'strata', 'rigate', 'chick-peas', 'dew', 'jeremiah', 'latin', '2oz', '1-lb', 'weave', 'ok.', 'today', '25g', 'nigella', 'shards', 'margin', 'support', 'andes', 'crudites', 'frig', '7-1/2', 'ie', 'a.', 'choux', '-thick', 'dices', 'bricks', 'pureeing', 'skinny', 'dye', 'kings', 'beefy', 'icebox', 'curved', 'luck', 'soaks', 'major', 'sangria', '16-20', 'malibu', '190Â°c', 'reverse', 'grounds', 'sheep', '3cm', 'sauterne', 'turner', 'curled', 'lee', 'blanching', 'sprouted', 'roulade', 'supper', 'extras', 'actual', 'braggs', 'mono', 'unthawed', 'oj', 'all-vegetable', 'pro', 'cheesecloth-lined', '3-in', 'whizz', 'weighing', 'pierogi', 'slim', 'morel', 'overfill', 'tasso', 'caribbean', 'walk', 'parchment-covered', 'rome', '58', 'julienne-cut', 'knuckles', 'palmful', 'smother', 'loved', 'uncovering', 'ozs', 'richness', 'non-hydrogenated', 'de-veined', 'lets', 'glad', 'swish', '2tbsp', 'mache', 'braeburn', '100Â°', 'international', 'ice-water', 'holders', 'defatted', 'cabbages', 'tarter', 'quark', 'click', 'lb./450', 'collar', 'initial', 'cylinders', 'nonpareils', 'stated', '-add', 'cuisine', 'yucca', '234Â°', 'popular', 'nozzle', 'libby', 'act', 'fajitas', 'cleanup', 'choices', 'european', 'brine-cured', 'living', 'temperatures', 'firmness', 'ontop', 'roof', 'moves', 'particular', 'wilton', '205', 'pebbles', 'fats', 'melons', 'stages', '4.', 'incision', 'forward', 'tm', 'miss', 'brining', 'humidity', 'compress', 'methi', '1/4-inch-wide', '43', 'untoasted', 'bagged', 'medium-', 'cauliflowerets', 'carne', 'shop', 'treacle', 'artisan', 'spins', 'perforated', 'debris', 'squashes', 'processer', 'quick-release', '450g', '9x5-in', '1.88', 'antonis', 'school', 'combinations', 'centimeter', 'labeled', 'groats', '8x4', '170Â°f', '230c', 'santa', '16-18', 'written', 'eg', 'cavatappi', 'pairing', 'prepped', 'glowing', 'magazine', 'sakura', 'feeding', 'unbuttered', 'darkens', 'multiple', 'softening', 'excluding', 'pinwheel', '20g', '1.99', 'hunts', 'provides', 'wobbly', 'slides', '1cup', 'aprox', 'sashimi', 'trouble', 'chose', 'station', '1.8oz', '54', 'expensive', 'liquefied', 'doughs', 'sediment', 'ended', '370', 'gutted', 'sliders', '60ml', '15-1/2', 'sweet-and-sour', 'speck', 'fleischmann', 'inward', 'monterrey', 'nor', 'non-metallic', 'stickers', 'frenched', 'preferences', 'consuming', 'louis', 'grow', '5.25', 'cordial', 'dislodge', 'pepperjack', 'patch', 'freshness', 'tissue', 'ribeye', 'p.', 'achilleos', 'compressed', 'unblanched', 'hottest', 'breast-side', 'template', '5mm', '950', 'smokey', '14oz', 'tons', 'tablespoon-sized', 'daniels', 'irregular', 'beards', 'insure', 'lychee', '//', 'equal-sized', '7.1oz', 'disturb', 'cost', 'cafe', '99', 'glitter', 'developed', 'briquettes', 'pomegranates', 'flaxseeds', 'breyers', 'w.', 'lychees', 'net', 'brined', '1/4-pound', '44', 'campfire', 'v', 'borden', 'elegant', 'famous', 'poking', 'football', 'fatback', 'shower', 'konbu', 'lightened', 'disolved', '175c', 'unheated', 'nougat', 'whole-berry', 'stir-fried', 'oz.', 'openings', 'goats', 'outline', '.....', 'interesting', 'bliss', '8-1/2', 'ro', 'knuckle', 'bland', '93', 'lively', 'sixths', 'sauteeing', 'pigeon', '5.5', 'na', 'deal', 'well-salted', 'peper', 'older', 'jerusalem', 'high-heat', 'palette', 'apprx', 'goji', 'occasion', 'grown', 'sorted', 'meets', '550', 'subtle', 'curing', 'double-boiler', 'certainly', 'herb-seasoned', '1/2-3', 'finishes', 'obviously', 'blondies', 'fat-skimmed', 'besan', 'single-crust', 'pry', 'concord', 'window', 'rubbery', 'icecream', 'ladles', 'tom', 'pictured', '250ml', 'firms', 'luke', 'produces', 'medium-grain', 'cassava', 'pandan', '4x', 'pounding', 'request', 'pepe', 'kit', 'walmart', '10-13', 'guanciale', 'unpared', 'continues', 'chills', 'supple', 'drier', 'judge', 'reconstitute', 'considerably', 'crayfish', 'tiramisu', 'mediums', 'knots', 'compound', 'ties', '240Â°', 'syrups', 'fryers', 'tureen', 'dungeness', '3oz', 'thinnest', 'preheats', 'adults', 'shichimi', 'frito', 'honeycrisp', 'vigorous', 'truvia', '2.25', 'gap', 'cracklings', 'hothouse', 'linguica', 'paste-like', '540', 'chocolate-hazelnut', '23cm', 'turtle', 'snails', '1.75', 'chianti', 'ina', 'armagnac', 'brunoise', 'copper', 'rotelle', 'smile', 'godiva', 'tricky', 'freeze-dried', 'petal', 'tenderized', 'trivet', 'midori', '105Â°', 'sample', 'maintaining', 'closing', '28-oz', 'centimeters', 'ive', 'pounder', 'tri-color', 'waste', 'presliced', 'imagination', 'de-seed', 'ouzo', 'le', 'portabello', 'scapes', 'perch', 'innards', 'avocadoes', 'poly', '15-25', 'tempering', 'blintzes', '105~', 'bain', 'versatile', 'percolator', 'stud', 'bunny', 'natural-style', '275f', '1-1/2-in', 'chicken-flavored', 'creaminess', 'piped', 'central', 'natto', 'homogenized', 'aerate', 'pushed', '3-6', 'bowtie', 'discoloration', 'chile-garlic', 'tartness', '175Â°c', 'crowns', 'truly', 'calzone', 'heavy-bottom', '11-ounce', '37', 'doubling', 'stews', 'effort', 'matchstick-size', 'sorry', 'scooper', 'cappuccino', 'paper-covered', 'integrated', 'jalepenos', 'lo', 'thin-sliced', 'paul', 'convenient', 'fabulous', 'knocking', 'perpendicular', 'word', 'assortment', 'overdo', 'adheres', 'refrigeratefor', 'ammonia', 'ruin', 'dent', 'flutes', 'snake', 'stirfry', 'tel', 'ware', 'giblet', 'swirled', \"o'brien\", 'reshape', 'lumpia', '270', 'designs', 'pacific', '2-1/2-in', 'ink', 'minestrone', 'fair', 'vegemite', 'fragile', 'pinenuts', 'brings', 'fond', 'scattered', 'animal', '1-pint', 'cuisinart', 'discolored', 'dishtowel', 'habaneros', 'hijiki', '15-1/4', '1/8-in', 'hotdogs', 'drummettes', 'surrounding', 'pointing', 'acini', 'crease', 'omelets', 'meant', 'flaps', 'needle', 'fine-quality', 'renders', 'crackling', 'glove', 'framboise', 'hush', 'thawing', 'instruction', 'garlicky', 'menu', 'peck', '6-inches', 'bud', 'ready-to-serve', 'max', 'clumpy', 'ridges', 'arms', 'reaching', 'affect', 'anytime', 'practice', 'coal', 'os', 'inexpensive', 'gave', 'trees', 'broiler/fryer', 'add-ins', 'Â°', '32-ounce', 'chol', 'fresca', 'lebanese', 'crosshatch', 'components', 'shift', 'domestic', 'screen', 'well-done', 'ensures', 'half-sheet', '3t', '9x9-inch', 'reddish', 'expansion', 'adult', 'un-greased', 'site', 'sugar-cinnamon', 'wonderfully', '3/16', '180f', 'peperoncino', 'lace', 'selection', 'downward', 'crustless', 'thick-sliced', 'silks', 'shriveled', 'kidneys', 'replacing', 'zester', 'consume', 'east', 'wines', 'hurt', 'douse', 'tempted', '2c', 'decent', 'puppies', 'girl', 'screw-top', '1/16-inch', 'attractively', 'wrung', '238Â°', 'unit', 'light-colored', 'teapot', 'x8', '160Â°c', 'gms', 'leafs', 'stir/saute', 'giardiniera', 'thanks', '1\\\\2', 'sign', 'lindt', 'farmers', 'shirataki', 'overtop', 'pepsi', 'unti', 'caramelizing', '-9', 'sabayon', 'litres', 'facilitate', 'hood', 'curling', 'razor', 'thouroughly', 'unsulphured', 'par', 'bain-marie', 'sunchokes', 'vented', 'whole-kernel', 'no-fat', 'en', 'filing', 'vin', 'tumbler', '5-oz', 'low-heat', 'pavlova', '275Â°f', 'methods', 'glug', 'man', 'parfaits', 'pay', 'prop', 'upwards', 'as-is', 'translucent/soft', 'corning', 'goods', 'trapped', 'sixteen', 'aim', 'dinners', 'newman', 'mealy', '8x8x2', 'nuke', '3/4-cup', 'thinly-sliced', '3/4-in', 'coursely', 'sleeves', 'notch', 'ceviche', '2-inch-long', 'cupful', '11-13', 'alot', 'dabs', 'thickener', 'redhot', 'stroganoff', 'wedged', 'gherkin', 'backfin', 'skippy', 'spine', 'boysenberry', 'flag', '9-12', 'enjoying', '40g', 'cultured', 'him', 'don', 'riced', 'patterns', 'regular-size', 'chamomile', 'guar', 'shield', 'flash', 'western', 'imagine', 'lacinato', 'walnut-size', 'peelings', 'loosening', 'hing', '1.2', 'rollers', 'maitake', 'contadina', 'creams', 'applying', 'sicilian', 'x2', 'clv', '15x10', 'jimmies', '10oz', 'secs', 'north', 'liquer', 'star-shaped', 'series', 'impurities', 'piecrusts', 'Â°f', 'anko', 'undissolved', 'gooseberries', 'profile', 'buffet', 'somen', 'teabags', '750-ml', '34-1', 'splitting', 'blisters', '10x15', 'unlit', 'i.e.', 'activate', 'assure', 'unique', 'settings', 'concerned', '100ml', 'non-aluminum', 'repeatedly', 'togarashi', 'estimated', 'mochiko', 'breeze', 'pre-shredded', 'chana', 'okonomiyaki', 'prepping', 'bouillion', 'crumbed', 'branch', 'turnover', 're', 'camp', 'platters', 'thus', 'grindings', '310', '1/8th', 'manila', 'ranch-style', 'brownish', 'ample', 'garlic-flavored', '330', 'carbo', 'romesco', '|', '8x4-in', 'liquify', 'late', 'upward', 'wrong', '12g', 'pralines', 'flowerpot', 'brisk', 'open-faced', 'ruler', 'circumference', 'gritty', 'firmed', '7/16', 'plug', 'butter-sugar', 'gauge', 'neither', 'ate', 'sputter', 'cansliced', 'typical', 'nog', 'dredged', 'goblets', 'infusion', 'elk', 'ratatouille', 'kecap', 'sheen', 'beauty', 'crocks', 'nonaluminum', 'muddler', 'backing', 'fresh-squeezed', 'absolut', '8-inch-square', 'crookneck', 'replaced', 'stomach', 'carolina', 'krazy', 'flipped', 'a-1', 'liquified', 'holly', 'needles', 'crispiness', 'rule', 'samosas', '0.79', 'bac', 'folks', 'contrast', 'soft-set', 'leaks', 'splutter', '6-in', 'obtained', '5-cup', 'teeth', 'endless', 'gumdrop', 'italy', 'proofed', 'ordinary', 'sir', 'pastas', 'suggests', '84', 'biscuit/baking', 'foreman', '168', 'lenghtwise', 'bleached', 'muscat', '12.5', 'comstock', '4th', 'sinew', 'laid', '2-2', 'pulpy', 'mam', 'frangipane', 'maple-flavored', 'lowering', 'substitution', 'boiling-water', 'cara', 'stickiness', 'conch', 'captain', 'cuban', 'cream-filled', '650', 'picking', 'soapy', 'jambalaya', 'masterpiece', 'alaskan', 'mex', 'promptly', 'exception', '370Â°', 'recommends', 'watchers', 'flecks', 'spills', 'absinthe', 'ghost', '15-second', '3-oz', 'pigs', '-14', 'storebought', 'lil', 'pictures', 'grappa', '145Â°f', 'afternoon', 'words', 'johnsonville', 'gemelli', 'chinois', 'tying', 'medium-heat', '235', 'macadamias', 'monitor', 'raviolis', 'cluster', 'wide-mouth', 'mounded', 'transferred', 'immersed', 'salting', 'rosette', 'inn', 'italian-seasoned', 'safety', 'rouille', 'molded', 'combines', 'dehydrate', 'kanten', 'settled', 'instantly', 'scattering', '55-65', 'bullet', '5.99', 'sooner', 'retains', 'boy', '15x10x1', 'replenish', 'cupboard', 'traces', 'exotic', 'a1', 'cachaca', 'well-shaken', 'shio-koji', 'egg/milk', '20-ounce', 'applejack', \"'til\", 'corer', 'cress', 'comfortable', 'finest', 'madeleine', 'chartreuse', 'portobellos', 'latte', 'peeking', '360Â°', 'unwhipped', 'rearrange', 'fowl', 'low-calorie', 'random', 'japanese-style', 'overall', 'capon', 'cubanelle', 'rawspicebar', 'numbers', 'china', 'filberts', 'warms', 'unfiltered', 'sum', 'borax', 'concentrates', 'dispersed', 'boar', '13-by-9-inch', 'nutrasweet', 'encourage', 'rap', 'balanced', 'deglazing', 'kinda', 'terrific', 'refreeze', 'no-sugar-added', 'told', 'spatter', 'sprg', 'florida', 'shrinks', 'jonathan', 'thin-bladed', 'panettone', 'candiced', 'southwestern', 'pierces', 'circulation', 'significantly', 'kcal', 'gill', 'topper', 'unsulfured', 'buying', 'milliliter', 'potstickers', 'junior', 'colby-jack', 'galliano', 'server', 'tastier', 'carmel', 'web', 'flavouring', 'spiralizer', 'beignets', 'braided', 'kim', '3/4-pound', 'minutes-', 'multi-colored', 'friendly', 'battered', 'groups', 'freely', 'learned', 'roll-up', '20-', 'semifreddo', 'biscoff', 'crowded', 'sunday', '1/3-cup', 'moistening', 'bratwursts', 'xylitol', 'oz/540', 'milkshake', 'favas', 'peppery', 'interval', 'macerated', 'f/45', 'inject', 'fines', 'cleans', 'zatarain', 'med-hi', 'chapati', 'shaving', 'med/high', 'swap', '18-14', 'sugar/cinnamon', '2-crust', 'removes', 'gathering', 'stretched', 'latter', 'gallon-size', '5.', 'domed', 'disturbing', 'butchers', 'home-made', 'cholula', 'imperial', 'filleted', 'tipping', 'passover', 'siu', 'tented', 'didnt', 'eclairs', 'smoosh', 'valrhona', 'everyday', 'stocks', 'pattie', 'popsicles', 'pollen', 'grills', '10-14', '2-1/2-qt', 'chaat', '475Â°f', 'smashing', 'briquets', 'details', 'hersheys', 'clamato', 'morningstar', 'pb', '30cm', 'tex', 'write', 'steeped', 'thumbs', 'dragees', '80/20', 'komatsuna', 'peasant', '52', 'slap', 'hydrated', 'decided', 'estimate', 'cinammon', 'toblerone', 'blowtorch', 'codfish', 'pak', 'cocktails', 'pleating', 'flora', 'cockles', 'arent', 'marinates', 'birthday', 'crumpled', 'preceding', 'wrinkled', 'floss', 'tawny', 'flambe', 'gem', 'bragg', 'ago', 'polly-o', '3/4-', 'delicata', '7.99', 'consistently', 'sprays', 'vermont', 'tools', 'rapini', 'hob', 'france', 'grandmother', 'drizzles', 'theres', 'iodized', '3-cup', 'lye', 'frosty', 'russets', 'fluffier', 'robust', 'choi', '500ml', 'studded', 'washington', 'dunking', 'claussen', 'bluefish', 'cloud', 'brocolli', 'smokes', 'int', '284', 'stripe', 'ray', 'marcona', 'finely-minced', 'a1/2', 'over-bake', 'enclosed', '.75', 'taquitos', 'freshly-ground', 'peal', 'bloomed', 'perk', 'john', 'posole', 'coca', 'mates', 'kumquat', 'cutout', 'specific', 'fewer', 'cavatelli', 'west', 'energy', '22-25', 'all-natural', 'seriously', 'crockery', 'everywhere', 'disappeared', '234', '116', 'gorgeous', 'suger', 'furikake', 'pistou', 'collection', 'pen', 'blobs', 'fixings', '1/', 'dicing', 'supply', 'eel', 'passes', '750ml', '60-65', 'italiano', 'unto', 'fiddleheads', 'hake', 'remembering', 'full-bodied', '1/2-qt', 'usukuchi', 'heaven', 'seashell', 'enhancer', '49', 'nicer', 'chillis', '1-tablespoon', '8.75', 'zipper-lock', 'paratha', '8.99', 'spike', 'vienna', 'patches', 'brim', 'side-by-side', 'maine', 'honey-roasted', 'pleat', '28oz', 'ot', 'scrambling', 'express', 'cut-sides', 'dukkah', 'tubular', 'mandarins', 'petit', '220Â°c', 'grasp', 'fleshy', 'bushel', 'creamettes', 'surprise', 'evans', 'levels', 'jams', 'tucked', 'biggest', 'opinion', 'forefinger', 'exposing', 'mirepoix', 'taleggio', '4-in', '8-inches', 'prebake', '.9', '.2', 'steeping', 'beetroots', '115g', 'judgement', 'ridge', 'stab', 'utensils', 'tendency', 'carmelize', 'chantilly', 'globe', '1inch', 'high-speed', 'well-stocked', 'moved', 'em', 'brandied', 'breastbone', 'hardwood', 'carnaroli', 'lumping', '1.3', '11.5', 'greatly', 'suits', 'granule', '750-milliliter', 'schmaltz', 'vibrant', '3-5/8', 'diabetic', 'baggies', 'fins', 'softness', 'left-over', 'intensify', 'accumulates', 'flowerettes', 'leveled', '125ml', '9x13x2', 'tia', 'detergent', 'cut-out', 'splatters', '227', '2-1/3', 'tartare', 'cava', 'teh', 'poundcake', 'bayleaf', 'coarsly', '236Â°', 'suspended', 'lightly-floured', '19-ounce', 'medium-dry', '1oz', 'manwich', 'margarine/butter', 'candle', 'faith', '10-cup', 'whoopie', 'heat-safe', 'versions', 'woven', 'rating', 'aperol', 'virginia', 'snug', 'hangs', '410', 'settles', 'krispie', 'mama', 'fed', 'salmonella', 'berbere', '75g', 'mg.', 't-bone', 'tougher', '40-60', 'disperse', '130Â°f', 'jeera', 'stopped', 'hulls', 'johnny', 'pisco', '17-20', 'zap', 'prettier', 'haloumi', '6:20', 'coconuts', '8x12', 'nutrients', 'sale', 'fallen', 'hanger', 'ya', 'minutes.', 'video', '11g', '15.5-ounce', 'preshredded', 'non-metal', 'daiquiri', 'flakey', 'separator', 'zabaglione', 'skate', '66', 'sense', 'cavender', 'bearnaise', '440', '180Â°f', 'gallon-sized', 'emulsifies', 'writing', '1-oz', 'agar-agar', 'structure', 'hide', 'williams', 'unshelled', '1/2-oz', 'chiffon', 'scent', 'overcrowding', 'similarly', 'choped', 'kumara', '53', 'sargento', 'low/medium', 'caramelization', 'bacteria', 'piloncillo', 'rods', 'butters', 'majority', 'sambuca', 'boost', 'umami', '115f', 'ra-yu', 'unprocessed', 'es', 'perfection', 'splattering', 'shark', 'powerful', 'prickly', 'poppyseed', 'digital', 'blini', 'haricot', 'imprint', 'unfilled', 'department', 'ingred', 'guts', 'mitt', '170g', 'millilitres', 'rapidrise', 'kamaboko', 'dove', 'submarine', 'resembling', 'nutter', 'dial', 'reveal', '12-24', 'minis', 'mezcal', 'worcestershire-style', 'cholesterol-free', 'devils', 'supplement', 'pungent', '1in', 'possibilities', 'anisette', '110~', '80Â°', 'pole', 'motions', 'diners', 'probe', '360Â°f', '390', 'view', 'literally', 'saturate', 'jiggers', 'appetite', '1-7/8', 'feeds', 'river', 'van', 'formula', 'y', 'brut', 'frog', 'du', 'channa', 'pointy', 'unlock', 'bistro', 'porterhouse', 'escapes', 'nonalcoholic', 'bang', '1-4', 'stain', '151', 'via', 'churros', 'sause', '0.75', 'stable', '3mm', 'bash', '475f', '1/2-pint', 'comino', '6-pound', 'moister', 'dixie', 'cat', 'brewer', 'bee', 'low-carb', 'rimless', 'copyright', 'anejo', '5.3oz', 'useful', 'linen', 'supermoist', 'pignoli', 'location', 'upper-middle', 'send', '145f', 'beads', 'crossways', 'causes', 'frankfurter', 'alter', 'cork', 'distinct', 'preferrably', '1/2t', '68', 'pads', 'no-salt', 'matzos', 'pioneer', 'beach', 'paper-towel', 'dowel', '-30', 'lillet', '80g', 'lovers', 'morsel', 'pre-cut', 'leather', 'braids', 'squab', 'blast', 'plated', 'teasp', '448', 'helper', 'compartment', 'huckleberries', 'steams', 'warmth', 'reheats', 'pearled', 'wind', '5-spice', '8x8x2-inch', 'kid', 'dessicated', 'multicolored', 'initially', 'teff', 'bicarb', 'steel-cut', 'canela', 'cheaper', 'piling', 'watkins', \"d'oeuvres\", 'crunchier', 'speckled', 'triscuit', 'clean-up', 'forgot', 'laughing', 'uncured', 'melded', 'borlotti', 'mitsuba', 'men', '238', 'attempt', '00', 'zigzag', 'sweets', 'variable', 'culture', 'frame', 'oil-flavored', 'certified', 'sidestm', 'gochugaru', 're-sealable', 'poulos', 'continuous', 'sugary', 'permit', 'snacking', 'b.', 'twenty-four', 'rancher', 'desert', '380', 'fuzzy', 'meatloaves', 'theyll', 'forever', 'damaged', 'szechwan', 'cortland', 'impression', '290', 'moistness', 're-season', 'sideways', 'tyson', 'alouette', 'chunkier', '.13', 'adjustments', '55g', 'microwave-proof', 'crispies', 'duckling', 'hotdog', 'flows', '155Â°', 'minimal', 'toughen', 'crevices', 'torta', 'condensation', '150ml', 'good-sized', 'slower', 'hydrate', 'dimple', 'lovage', '1-1.5', 'headnote', 'packagefrozen', 'england', 'nugget', 'unitl', 'styrofoam', 'lox', 'saves', 'liqueurs', 'delish', 'prove', 'blunt', 'chat', '1-second', 'moong', 'cultivated', '22cm', 'college', 'agent', 'heavier', 'fixed', 'drawing', 'rue', 'lemon-flavored', 'lecithin', 'extends', 'egg-white', 'comte', '1.5g', '1hr', 'lo-cal', 'weak', 'wiggle', 'lingonberry', 'deep-sided', '50ml', 'delightful', '30:12', 'ultimate', 'goodies', '7-oz', 'distribution', 'bream', 'butter/oil', 'correctly', '5-1/3', 'blanket', 'occasional', 'chimichangas', 'path', '31/2', 'reseason', 'rerolling', 'rosti', 'suey', 'taters', 'mock', 'minuets', 'cloth-covered', 'wants', 'material', 'honeycomb', 'overprocess', 'carved', 'moscato', 'sensitive', 'freshly-grated', '9x11', 'detach', 'returned', 'rocky', 'subs', '60-90', 'pleats', 'worried', 'cp', 'seperately', '140Â°f', 'tightfitting', 'pyramid', 'egg-milk', 'readily', 'bulghur', 'ans', 'satisfied', 'satisfying', 'meduim', 'pc', 'kamut', 'semi-skimmed', '300ml', '8.8oz', 'taffy', 'hunks', '6.', 'daniel', 'vera', 'decadent', 'small-medium', 'spilling', 'applewood-smoked', '140f', 'wholewheat', 'heavenly', '7x11', '150Â°f', 'jackfruit', 'beak', '1-1/8', '675', 'noted', 'desires', 'montrachet', 'roulades', 'maytag', 'kernals', '4cm', 'atsuage', 'rights', 'acceptable', 'overflowing', 'reuse', 'zing', '39', 'mildly', 'burrito-size', '1.0g', 'swans', 'pizzelle', 'haas', 'smelling', 'piled', 'pk', 'saw', 'tapatio', 'minimize', 'tweezers', 'onigiri', 'puy', 'website', 'weird', 'print', 'tabbouleh', 'simultaneously', '8x4-inch', 'cassoulet', 'grass-fed', '1kg', 'impossible', 'broths', 'braunschweiger', 'crisp-cooked', 'pheasants', 'safely', 'ready-to-spread', 'hate', 'besides', 'completly', 'cipollini', '200ml', 'explode', 'shortest', '5:25', 'household', 'fizz', 'spatzle', 'blob', 'bounce', 'brisee', 'son', 'hue', 'ketjap', 'aonori', 'madeleines', 'com', 'humid', 'foil-wrapped', 'gotten', 'zero', '1.8', 'states', 'flying', 'savoury', 'issue', 'card', 'sop', 'ener-g', 'search', '25cm', 'nbsp', 'glycerin', 'coin', 'violet', 'sew', 'thorough', '10-11', 'p.s', 'pips', 'erythritol', '13-12', 'kabob', 'goddess', 'leviticus', 'rearranging', '20-inch', 'pattypan', 'loop', 'non-alcoholic', 'thin-skinned', 'scrapings', 'facts', 'flat-leafed', 'pulsed', 'kilogram', 'wishbone', 'submerging', 'degrease', 'whack', 'accuracy', '.7', 'intend', 'salsify', 'tower', 'now-empty', 'macaron', 'salt-packed', 'resift', 'buddig', 'delights', 'blanche', 'fans', 'reading', 'stabilize', 'mini-marshmallows', 'varied', 'longways', 'de-stemmed', '1tbs', '12-3', 'church', 'goulash', '5-inches', 'doubt', '11x7-inch', '12-13', 'tonkatsu', 'business', 'swede', 'mild-flavored', 'capicola', 'eggwash', 'caponata', 'stray', 'sterilised', 'supercenter', 'wife', 'skipped', 'worcester', '41', 'propane', 'loaded', 'regulator', 'crust-lined', '120Â°-130Â°', 'caught', '9x5x3-inch', 'urge', '2.5cm', 'colours', '110f', 'siracha', '02/14', '4:22', '12-18', 'unwaxed', 'hunk', 'seven-up', 'extracted', 'prefers', 'reseal', 'coarse-grained', '4-1/4', 'costco', 'muir', 'glen', 'blond', 'rapeseed', '1.preheat', 'alaska', 'centered', 'calamata', 'shrinking', 'rolo', 'prechopped', 'lava', 'tikka', 'cham', '~1', '13g', 'thumbprint', 'aspic', 'latke', 'h', '6-9', 'fine-meshed', 'calf', 'unevenly', 'wyler', 'farfel', 'darkening', '3/4-1', 'drains', '1015', 'windows', 'reference', 'schnitzel', 'coleman', 'malleable', '400-degree', '2tsp', 'caramelise', 'manie', 'discoloring', 'teddy', 'molding', 'oil/butter', '0z', 'kugel', 'alligator', 'rimming', 'crostata', 'deliciously', 'dead', 'campbells', 'liverwurst', 'absorbing', 'spuds', 'lies', 'fungus', 'originals', 'scaloppine', 'signature', 'fregola', 'smoothness', 'spirit', 'accurate', 'ripple', 'groundnut', 'amd', 'dock', 'breadmaker', '30min', 'aa', 'piment', 'weighted', 'alphabet', 'cruet', 'pealed', 'dose', 'rate', 'unripe', 'tblsps', '120ml', 'shiratamako', 'judgment', 'sinking', 'crunched', 'grained', 'babies', 'encase', 'precise', '350-degrees', 'aromas', 'maida', 'tri-colored', 'ii', '5/16', 'selected', 'bead', 'overs', 'rolled-out', 'earthy', 'remaing', 'psyllium', 'indention', 'shin', 'eats', 'oxo', 'skilled', '1/8-1/4', 'sucralose', 'differ', '1.49', 'produced', '10cm', 'ripped', 'kroger', 'portable', '150Â°c', 'dryness', 'scampi', 'elements', 'pronounced', 'recently', 'fro', 'user', '355', 'soft-serve', '12-inches', 'acting', 'chocolate-flavored', 'bet', 'baster', 'cross-wise', 'skimp', 'bounces', 'kilo', 'quails', 'puffing', 'ladling', 'bury', 'ready-to-eat', 'kentucky', 'valencia', 'pre-bake', 'abalone', 'soft-shell', 'tiles', 'santo', 'naked', '10mins', 'reddi-wip', 'microproof', 'tendons', 'solo', 'fo', 'sell', 'coarse-ground', 'edam', 'dhal', 'cadbury', 'flans', 'smalls', 'confectionary', 'gathered', 'overdone', 'nylon', 'david', 'mornay', 'ups', 'dotted', 'pluck', 'deep-fried', 'over-browning', '245', 'seize', 'nutritious', 'butterfingers', 'confetti', 'snowman', 'nonmetal', 'pastel', 'leaking', '30-', 'divine', '600w', 'antipasto', 'collander', 'disintegrate', 'glistening', 'acidulated', 'kashmiri', 'peperoncini', 'soppressata', 'poppyseeds', 'amarula', '175Â°', 'circulate', 'persons', 'wagon', 'chewier', 'eyeballs', 'looked', '47', 'appx', 'sawing', '-1/4', 'medallion', 'mix-ins', 'feathery', '398', 'piri', 'swedish', 'eggroll', 'escaping', 'calling', 'savoiardi', 'stretchy', 'papper', 'charring', 'half-filled', 'mood', 'avacados', '1/8-', 'tamagoyaki', '120g', 'middles', 'four-cheese', 'faced', 'dental', 'occasionaly', 'author', 'baba', 'ramp', 'small-diced', 'marzetti', '62', 'succotash', 'greater', 'noticeably', 'micro-cook', '1/3-1/2', 'tot', 'narrower', 'sunlight', 'unlike', 'illness', 'tuiles', 'armour', 'undercook', 'loafs', 'paintbrush', 'overnite', 'morgan', 'catching', '17.3', 'brewing', 'wave', 'respectively', '14.5-oz', 'orgeat', 'opposed', 'gon', '250-g', 'bavarian', 'india', 'thick-bottomed', 'luscious', 'hops', '/2', 'tapered', '12x8', 'zuchinni', 'cajeta', 'fan/gas', 'alpine', '260Â°', 'bunt', 'milk/cream', 'pan-fried', 'pout', '1/2-lb', 'sweetner', 'spinkle', '130f', 'jim', 'thicknesses', 'dad', 'substance', 'yorkshire', 'court', 'sardine', 'napoli', '1.5-2', 'intro', 'creuset', 'god', '365Â°', 'sam', 'porcelain', 'kc', 'exceed', 'finely-chopped', 'tier', 'cresent', 'borders', 'hanpen', '18cm', '-pound', 'flatter', 'throwing', 'chokes', 'pleasant', 'emmenthaler', 'guessing', 'fat-side', 'muscles', 'aware', 'incredibly', 'concoction', 'reasonably', 'bursting', 'bowel', 'clotted', 'threw', 'criss', 'supremes', 'chees', 'marmite', 'chesse', '1/2-in.-thick', 'two-inch', 'domino', 'red-hot', 'coverage', 'bonus', '480', 'city', 'diner', 'convenience', 'mixers', '85g', 'juicing', 'high-powered', 'multi-functional', 'pintos', 'friendship', 'enter', 'lightens', 'insulated', 'shortcut', 'pages', 'comal', 'pieplate', '3-inch-long', 'machines', '97', 'expected', 'decaf', 'stiffer', 'conserve', 'smoothies', 'pre-sliced', 'yokes', 'marshmellows', '9x9x2', 'massaging', 'selects', 'frais', 'bot', 'kool', 'occur', 'road', 'snail', '4.5-ounce', 'rewrap', 'agitate', 'nasturtium', 'smirnoff', 'flare-ups', 'nd', 'fage', 'firstly', 'splashing', 'marbles', 'chest', 'goldfish', 'wit', 'compliments', 'trickle', 'expel', 'specks', 'e.g.', 'losing', 'sources', '1/2cup', 'daughter', 'sara', 'colder', 'national', 'medium-fine', 'stirs', 'porcinis', 'sauta', 'brook', 'squirrel', 'mistake', 'tradition', 'oozing', 'palate', 'connective', 'queen', 'ex', 'half-cooked', 'ingedients', 'labneh', '9-by-5-inch', '14g', '150f', 'oz/398', 'towellined', 'rennet', 'proportion', 'lb.', 'rake', 'forty', 'macintosh', 'locatelli', 'dl', 'task', 'tomato-basil', '11-12', 'rod', 'saucepans', 'viva', 'eights', 'fake', 'nail', 'miller', '20-24', 'sockeye', 'stewart', 'tamago', 'twirl', '2:13', 'utility', 'lake', 'kluski', 'wetting', 'cheese-filled', 'porter', 'manage', 'cheers', 'panic', 'overpower', '1/4-oz', 'lollipops', 'cannelini', 'acetate', 'wonder', 'desirable', 'pail', 'even-sized', 'poppers', 'modified', 'cheat', 'steamy', 'solidifies', 'lighly', 'sunbutter', 'arepas', '2tbs', 'wisconsin', 'matching', 'slat', 'cake-like', 'dishwasher', 'chayotes', 'valentine', 'venting', 'sauceboat', 'dosa', '10min', 'ichimi', 'puritan', 'flattens', 'cleaner', 'crucial', 'dryer', 'tab', 'meaning', 'wrinkle', 'nopales', 'veges', 'saucier', 'picnics', 'pre-cook', 'ultra', 'charlotte', 'chipolte', 'tag', 'x5', 'jammy', 'happening', 'fishmonger', 'torani', 'daal', 'mojito', 'degress', 'deliciousness', 'taylor68too', 'honey-mustard', 'scrod', 'fully-cooked', 'cord', 'tomorrow', 'tri', 'partway', 'values', 'integrate', 'chronicles', 'beware', 'unfrosted', 'lover', 'ping', 'app', 'embers', '12x8-inch', 'accompanying', 'weighed', '5oz', 'matchstick-cut', 'shiraz', 'nb', '118', '82', 'hopefully', 'wreaths', 'mahogany', 'boning', '20-second', 'fulls', 'whir', 'cylindrical', 'successfully', 'intensity', '170Â°c', '13.8', '120Â°f', 'shallow-fry', '40c', 'surprised', 'indicates', 'stencil', 'ragged', 'region', 'gourd', 'peppadew', 'rotis', 'upto', '180c/350f', 'unprepared', 'cantaloupes', 'dishpan', 'zwieback', 'foiled', 'strew', 'shrivel', 'fluffing', 'punnet', 'pilsner', 'reposado', 'spiralized', '360f', '5min', 'two-quart', 'bows', 'flaming', '.3', 'cage', 'onion/garlic', 'chihuahua', 'woman', 'problems', 'carnitas', 'oc=linkback', 'croquette', 'fibre', 'spry', 'loops', 'shao', '7up', 'critical', 'sharply', 'pref', 'de-vein', '7-1/4', 'tennis', '3/4c', 'toes', 'cheez-its', 'ornaments', 'indonesian', 'chinese-style', '3-minute', '1/2-4', 'hollowed-out', 'ready-cut', 'centigrade', 'phase', 'orange-flower', '225Â°f', 'molten', '-in', 'de-glaze', '15min', 'picholine', 'tolerance', 'tricolor', 'angles', 'cranberry-orange', 'shopping', 'holland', 'listen', 'clockwise', 'kebab', 'fuyu', '45ml', '30mins', 'spagetti', 'coffee/spice', 'crinkle', 'chili-o', 'sandwiched', 'half-cup', 'busy', 'multi', 'monkey', 'carcasses', 'adn', 'lacy', '10-quart', 'faucet', 'wrinkles', '2-1/2-inch', 'mr.', 'extended', 'thinking', 'choppped', 'mention', 'mexicana', 'differently', 'marinades', 'essentially', 'marscapone', 'aiming', 'rotisserie-cooked', 'kindness', 'growing', 'dipper', 'purslane', 'thermos', 'damage', 'shredder', 'mins.', '4-7', 'beansprouts', 'zaar', '5ml', 'f-convection', 'waverly', 'alarmed', 'sunshine', 'injector', 'car', 'lick', 'fruit-flavored', '1.1', 'swizzle', 'boule', '-25', 'crisping', 'pampered', 'transport', '12-hole', 'emmental', 'positioned', 'profiteroles', 'tinged', '9in', 'frosts', 'crystallize', '550Â°', 'bugs', 'j', 'arrive', 'ti', '1/2inch', 'fabric', 'pastes', 'gai', 'perogies', 'lump-free', 'biga', 'microgreens', '1.in', '1520', '9-inches', 'carp', 'moose', '60-75', 'difficulty', 'self-sealing', 'mmm', '1.28', 'boiling-hot', 'peri', '510', '-cup', 'buzz', 'dance', '290Â°', 'gels', 'nonmetallic', 'curdles', 'sometime', '7oz', 'rarely', 'detailed', '3x', 'connected', 'practically', 'pinkish', '67', 'droplets', 'varying', 'hefty', 'galettes', '17.6oz', 'everclear', 'pollock', 'sinks', '2lb', 'zealand', 'smuckers', 'cram', 'presoaked', 'lawrys', 'carafe', '1-minute', 'heck', 'coast', 'temptation', '454', 'food-safe', 'koftas', '8-by-8-inch', 'medium-mesh', 'nine-inch', 'trash', 'canapes', 'tablespoon-size', 'dispose', 'abut', 'unrolled', 'sago', 'slows', 'ripeness', '110Â°f', 'widely', '14-18', 'oaxaca', 'gnudi', 'understanding', \"d'oeuvre\", 'horse', 'overmixing', 'discolor', 'blonde', 'quarter-inch', '88', 'hence', 'alternatives', 'vegtables', 'grip', 'angus', 'culantro', '2.in', '7-in', 'oz/284', 'pur', 'clears', 'chocolate-coated', 'creations', 'giorno', 'bout', 'welcome', 'jellies', 'sister', 'grooves', 'oven-roasted', 'adhering', 'suppose', 'television', 'guidelines', 'workbowl', 'pasta-cooking', 'kum', 'kee', 'unpricked', 'popper', '70Â°', 'hollows', '24-inch', 'signs', '1/4-1/3', 'wrist', 'oregon', 'aquavit', 'mullet', 'feathers', 'victoria', 'boards', 'wheaties', 'resume', 'benedictine', '16-', 'chew', 'marg', '285', 'collapsed', 'amarillo', 'arabic', 'louisiana-style', 'freshly-squeezed', '375-degree', 'refrigerateat', 'bugles', 'alive', 'fours', 'odor', '1/2oz', 'swimming', 'lying', '336', 'kofta', 'step-by-step', 'pho', '175g', 'Â°c', '125Â°f', '14-in', '2.5g', 'camping', 'retained', 'formation', 'seas', 'substantial', 'mount', 'adequate', 'collects', 'australian', '24-ounce', '105-115', 'pre-soaked', 'farmhouse', '5-in', 'second-lowest', 'food-borne', '28g', 'contributors', 'increases', 'boil-in-bag', 'drambuie', 'pastina', 'outdoors', 'complex', 'groceries', 'heard', 'saigon', 'un', 'amaro', '2-inch-wide', '4t', '350g', 'handfull', 'quiches', 'occurs', 'device', 'squirts', 'dijonnaise', 'family-size', 'permits', 'flavorless', 'ladled', 'pinapple', '8-qt', 'scallopini', 'hill', 'spoil', 'adobe', '2/3rds', '17.5', '680', 'tbspn', 'terry', 'hare', 'fail', 'cut-outs', 'cabinet', 'attempting', 'sacs', 'romanesco', 'speculoos', 'durum', '14-13', \"cap'n\", 'violets', 'tex-mex', 'paula', 'puddle', 'retrieve', 'scented', 'consumed', 'looser', 'learn', 'odd', 'ww', 'chrysanthemum', 'ft', '140g', '210c', '500w', 'potluck', 'term', 'fin', 'compliment', '5.3', 'walker', 'african', 'forgiving', 'in.', 'all-butter', 'outwards', 'id', 'baharat', 'shishito', '15mins', 'shouldnt', '16g', '250c', 'tablets', 'smithfield', '4/5', 'shingle', 'cranberry-raspberry', 'drive', 'eaters', 'cassia', 'ignore', 'lt', '-18', '-24', 'equal-size', 'panela', 'ajwain', 'fan-forced', 'mozza', 'natvia', 'nero', 'advice', 'margaritas', 'fruitcake', 'manually', 'fresher', '61', 'canada', 'yakisoba', 'medium/large', 'flowing', 'cal.', 'scrapping', 'cu', 'tofutti', 'basics', 'nestling', 'mentaiko', 'anchos', 'bread-crumb', 'cuttlefish', 'attest', 'canof', 'enhances', 'spoke', 'genesis', 'eggbeater', 'pineapple-orange', 'coils', 'art', 'sodium-free', 'raspberry-flavored', 'low-sugar', 'grids', 'rocking', 'necessarily', 'coatings', '1:1', 'ethnic', 'purse', 'flare', 'tomalley', 'bombe', 'benefits', '810', 'roka', 'velvetta', 'trap', 'unusual', 'price', 'faint', '1/2tsp', 'applied', '15x10-inch', 'sauced', 'scape', 'hot-pepper', 'milkfat', 'barberries', 'chermoula', 'tarte', '15-in', '1/2in', 'offcuts', '2001', 'laughter', 'dannon', 'crater', 'butter-flour', 'align', 'beers', '1hour', 'distance', 'medium-thick', 'stromboli', '142', 'parmigiana', 'mud', 'incredible', 'standard-size', 'teardrop', '1/2-inch-long', 'prefered', '2lbs', '10.6oz', 'tastykitchen', '2.1', 'doves', 'underbake', 'hooks', 'spent', 'completing', 'flour-dusted', '10-inches', '123', 'creation', '51', 'smush', 'impart', 'knobs', 'immediatly', 'garlic-herb', 'guinea', 'lightly-cooked', 'presweetened', 'boys', 'acts', 'winesap', 'event', 'recoat', 'dare', 'softball', 'nudge', 'system', 'crumple', 'strudels', 'freshest', 'schnitzels', '14-3/4', 'tenting', '9inch', 'blackens', 'germain', '135Â°f', 'ume', 'properly-refrigerated', 'vinager', '4.00', 'robin', 'causing', 'mahatma', 'surimi', 'pan-frying', 'elongated', 'roni', 'movement', 'shorten', 'stress', 'ove', 'semi-soft', 'half-fill', 'sweeteners', 'slippery', 'squabs', 'spinning', 'vegenaise', 'lan', '255', 'colorings', '2-gallon', 'whiskers', 'bears', 'untouched', '50/50', 'expanded', 'surprisingly', '11-1/2', 'dinosaur', 'sac', 'squishy', 'parmesian', 'peruvian', 'untl', 'et', '2012', 'hard-crack', 'barbecuing', 'chucks', 'teacup', 'cherrystone', 'tact', 'glugs', 'de-bone', '110-115', 'unsmoked', 'buttered-side', 'shiro', '225f', 'ready-crust', 'ajinomoto', 'vitamins', 'staple', 'turntable', 'hotness', 'goblet', 'cancel', 'goo', '1-1/2-quart', 'scorched', 'cheeseburgers', '3-1/3', 'tumble', 'kudzu', 'minted', 'well-trimmed', 'guys', 'manzanilla', 'beep', 'zaatar', 'light-green', 'tendrils', 'pitta', 'cavolo', 'sun-dry', 'glycerine', 'pickapeppa', 'creases', 'hard-boil', 'nappa', 'mainly', 'treated', 'browner', 'beaujolais', 'estimates', 'gathers', 'excessively', 'yakiniku', 'corona', 'suspend', 'ateco', '9:9', 'discretion', 'chilean', 'dragon', 'turkeys', 'crimped', 'gulf', '195', 'automatic', 'ox', 'appetito', 'appropriately', 'preparations', 'ziptop', 'scrunch', 'tootsie', 'subsided', 'osso', 'nagaimo', '0.9oz', '230Â°', 'hardening', 'laurel', 'quick-rise', '2-liter', '215', 'garbage', 'spend', 'mccormicks', 'half-hour', 'chapatis', '3/4-oz', 'sling', 'soft-boiled', 'demi', 'fav', 'sauce-', '90g', 'on-the-go', '17.3-ounce', 'amos', 'shovel', 'seemed', 'lefse', 'polska', 'tablet', 'park', 'contained', 'matzah', 'display', 'soil', 'gross', 'ran', 'mars', 'cookers', 'spoonfulls', 'happened', 'deepen', 'sweating', 'inactive', 'refrigeratein', 'onion-mushroom', 'bull', 'mills', 'abundant', 'stiffens', 'ghiradelli', 'twigs', 'beige', 'hairy', 'fool', 'pause', 'furiously', 'generic', 'froze', 'amt', 'chourico', 'gut', 'gaeta', 'white-fleshed', 'wobble', 'rays', '18g', 'gelee', 'garlic-infused', 'techniques', '17-', '3.5fl', 'character', 'redness', 'laundry', 'fanning', 'pleasing', 'redfish', 'demitasse', 'arrangement', 'asadero', '1/4th', 'tast', 'hazelnut-flavored', '155f', 'silpats', 'sherbert', 'entertaining', 'marination', 'tbsp.', 'pippin', 'pike', 'zuchini', '177', 'slant', 'chilie', 'burrito-style', 'biryani', 'mopping', 'trunk', 'instance', 'mixure', 'amish', 'broiler-safe', '18-ounce', 'opens', '70g', 'limit', 'refridgerated', '8in', 'reduced-sugar', 'reactive', 'gris', 'pimm', 'trumpet', '1/2-inch-diameter', '20min', 'verjus', '175f', 'corn-on-the-cob', '1-8', 'gelatins', 'turned-off', 'one-crust', 'egg/sugar', 'confection', 'snackwell', 'makers', 'rockfish', 'tator', 'deli-sliced', 'factor', 'distinctive', 'eclair', 'metallic', 'transluscent', 'cup/', '6cm', 'khoya', \"d'or\", 'pressure-release', 'nahum', 'squirrels', 'molly', 'wedding', 'ronzoni', 'overstir', 'liquors', '9x12-inch', 'lesser', 'lead', 'al-dente', 'done-ness', 'fave', 'occasions', '18.5', '4:19', 'unfloured', 'soy-free', 'beard', '2x', 'drench', 'warn', 'shrunk', 'route', 'korma', 'visual', 'rices', 'walleye', 'dough-like', 'floral', 'mouths', '1.6', 'watts', 'panfry', '9-oz', 'commercially', 'wavy', 'track', 'scoring', 'rindless', \"s'mores\", 'lunches', 'suace', 'omelettes', 'vegetarians', 'vert', 'pic', '175Â°f', '5mins', 'calc', '340g', '105f', 'cook/stir', 'mayonaisse', \"d'espelette\", 'weipa', 'dime', 'forgiveness', 'splits', '12-pound', 'clarify', 'jacket', 'rasins', 'stuffer', 'cool-whip', 'buttercup', '32-oz', 'slipping', 'ghosts', 'current', 'sauce-like', 'grocer', 'rice-shaped', 'shifting', 'worries', 'acai', 'sauternes', 'spead', 'shiro-dashi', 'shades', 'money', 'dishcloth', 'heartier', 'peychaud', 'spoonable', '350-375', 'permeate', 'commonly', 'choco', 'buitoni', 'almond-flavored', 'restaurants', 'cooktop', 'pale-green', '2-inch-thick', 'lighty', 'chpd', '8ths', 'pinkness', '13/4', '12-quart', 'checked', 'ol', 'defrosting', '14-15', 'serious', 'seam-sides', 'emmentaler', 'ing', 'wort', 'paleo', '15cm', '~2', '35g', 'two-piece', 'smothered', 'clothes', 'oven-ready', 'definite', 'chi', 'zip-loc', 'sixth', 'colman', 'tube-shaped', 'shopped', 'whitish', 'buon', 'saltier', 'nesquik', 'yeah', 'gammon', '45-degree', '24cm', '2009', '3:12', 'zippered', '125Â°', 'pie-shaped', 'tubed', 'ken', 'turbot', 'considered', 'purees', 'regarding', 'angled', 'features', 'recombine', 'prewashed', 'x3', 'caul', 'poolish', 'cakepans', '24g', 'accumulate', 'counting', 'icings', 'eighth', 'spokes', 'topside', 'chargrill', 'seeing', 'compensate', 'incorporates', 'choclate', 'doll', 'began', 'mid', '7.', 'unsaturated', '4-inch-long', 'well-incorporated', 'asian-style', 'pomelo', '10-second', 'freekeh', 'note-', 'oamc', 'moist-looking', '600g', 'www', '2.6oz', 'loosens', 'reassemble', 'marbleize', 'environment', 'de-boned', 'indoors', 'leaner', 'suck', 'dies', 'trough', 'geranium', 'co', 'regular-sized', '385', 'rapid-rise', 'med/low', '71', 'emerges', 'nettles', 'wildflower', 'lactose', 'treviso', 'andrew', 'cookware', 'wow', 'aldente', 'british', 'thrown', '7-quart', 'yellowfin', 'agitating', 'unnecessary', 'ripples', '3.3', 'alder', 'tortelloni', 'gewurztraminer', 'tbps', 'unsure', 'wineglasses', 'x12', 'quorn', 'lack', 'capful', 'prepackaged', 'top-side', 'unattended', 'yellowtail', 'blotted', 'chix', 'proteins', 'daisy', 'tillamook', 'tilted', '8x11', 'yielding', 'fly', 'v-shaped', 'hubby', 'butter/flour', 'campanelle', 'equator', 'clafoutis', 'latino', '3tbsp', 'amchur', '155Â°f', 'dry-roast', 'lemon/lime', 'secured', 'subbed', '3-3', 'gingerale', 'pools', 'vacuum-packed', 'anna', '236', 'med.', 'whistles', 'tblspn', 'angelica', 'reset', 'microwaves', 'lessen', 'ladlefuls', 'beeps', 'bayou', 'adventurous', 'separation', 'backbones', 'trip', 'christopher', '213', 'evaporating', 'hurricane', 'textures', 'sunny-side', 'side-down', 'masoor', 'matchlike', 'cornichon', 'daiya', 'aggressively', 'update', '400ml', '2-lb', 'coconut-pecan', 'orange-pineapple', 'parker', 'reeses', 'intermittently', 'cinnamon-raisin', 'finding', 'sugar-sweetened', 'shad', 'churned', '9.5', 'sourcream', 'ivory', 'edged', 'remaning', 'marker', 'pullman', 'hats', 'gran', 'coolwhip', 'hellmans', 'parmasean', 'optimal', 'loose-bottomed', '13.5-ounce', 'easy-to-eat', '17:8', 'acids', 'budweiser', 'milk/egg', 'untrimmed', 'holy', 'bank', 'nights', 'starters', 'kirschwasser', 'introduce', 'ball-sized', 'foccacia', 'pressure-cook', '.add', 'misture', 'f/gas', '45g', '14:25', '1.55', 'decaffeinated', 'xxx', 'hugs', 'rigid', 'half-pints', 'all-fruit', 'baseball', 'overlaps', 'yoplait', 'checkerboard', 'disolve', 'tailed', 'rendering', 'contrasting', 'oval-shaped', 'slighly', 'sushi-grade', '2-tablespoon', 'substitue', 'tonight', 'letters', 'limited', 'feeder', 'feast', 'coarse-grain', 'pam-sprayed', '0.7', 'tennessee', 'ladel', 'crystalized', 'broke', '8-serving', 'width-wise', 'alright', 'honestly', 'err', 'gelatinous', 'low-med', 'over-beat', 'slighty', '200c/400f/gas', '350f/180c', 'g.p', '14.1oz', 'monster', 'cremora', \"o'clock\", 'wad', '/or', 'depressions', 'ole', 'ornament', 'crossing', '0.3', 'heels', 'mouse', 'asked', 'immediate', 'coral', \"shake'n\", 'cheese-flavored', '1/3c', 'seive', '10ml', 'penzey', '10-inch-diameter', 'silpat-lined', 'sansho', 'triples', 'saver', 'ho', 'mcbutter', 'kashi', '2-oz', 'altered', 'labels', 'fumes', 'shampoo', 'thumb-sized', 'tumblers', 'succulent', 'pts', 'pasties', 'cos', 'fermenting', 'superior', 'picky', 'calabaza', 'starches', 'competition', 'dolce', '3/4-inch-wide', 'hight', 'tranfer', 'sml', '1/4cup', 'anchor', 'cupped', 'continued', 'yellows', 'plants', 'siphon', 'thinness', 'bubbled', 'guavas', 'overpowering', 'toppers', 'signal', 'charles', 'crumpets', 'bunnies', 'missing', 'peeps', 'rasp', 'cassarole', '2-inch-high', 'spinich', 'havent', 'poussins', 'recesses', 'mahi-mahi', 'stella', 'fleshed', 'assist', 'lips', '14.75', '2+', 's.', 'regardless', 'extreme', 'prudhomme', 'alcoholic', 'eggbeaters', 'pato', 'veloute', 'ins', '25-28', 'mincing', 'teaspoonsful', 'st', '796', '1/3rd', 'quot', 'w/the', 'soboro', 'rounding', 'dills', 'copped', 'penny', 'magarine', '280Â°', 'connect', '20-oz', 'glazes', 'fanned', 'funfetti', 'spines', 'mulled', 'vanila', '2,000', 'mask', 'brat', 'drown', 'over-cook', 'impatient', '8.8', 'toor', '1/8-in.-thick', '375.', '20mins', 'deviened', '1425', '+/-', 'forcing', '5th', 'appeal', 'joshinko', '77', 'freezer-proof', 'hero', 'shielding', 'half-n-half', 'pre-washed', 'braciole', 'potent', 'brighten', 'ps', 'dramatically', 'gourmettm', 'sprinke', 'stirr', '3.5-ounce', 'firegrate', '2.3', 'pride', 'pareve', 'met', 'free-form', 'accidentally', '355Â°f', 'vit', 'flick', 'denser', 'essentials', 'decant', 'arctic', 'waters', 'snakes', 'knockwurst', 'binding', '128', 'fideo', 'brave', 'bat', 'pleated', 'parathas', 'mirlitons', 'vineger', 'crosses', 'gratings', 'ny', 'cinamon', 'hinge', 'grinded', 'intended', 'starbucks', 'swerve', 'shrub', 'syrah', '9-inch-square', 'zuccini', '140c', 'direct-heat', 'mediumhigh', '73', 'isaiah', '4:5', '24-cup', 'dale', 'tostados', '220Â°', '8x10', 'slick', 'pillow', 'ready-to-bake', 'spain', 'borage', 'prettiest', 'designed', '16.5', 'savor', 'jump', 'seeding', 'no-calorie', 'jam-like', 'espelette', 'assuming', 'x10', 'redcurrant', 'e-mail', 'slot', 'glassy', 'dishwashing', 'pricking', 'rosa', 'spirits', 'likewise', 'nasty', 'rag', 'advise', 'pices', 'bleed', 'concave', 'buter', 'shoulders', 'calimyrna', 'cabot', 'wheatberries', 'concasse', '625', 'paired', 'dark-brown', '115Â°f', 'ages', 'subtract', 'fell', 'indicate', 'pre-packaged', '12-muffin', 'booze', 'wattage', 'tv', 'comment', 'slips', 'yoke', 'amino', 'inclined', 'brains', 'reinvert', 'mined', 'portioned', 'congee', 'genoise', '1-inch-long', 'bitesize', '7fl', '13-inches', 'xxxx', 'cheeseburger', 'became', 'anne', 'roman', 'squeezes', '1+', 'piquant', '144', 'cranberry-apple', 'smokie', 'satisfaction', 'model', 'spiders', '2-6', 'mulberries', 'slimy', 'weber', 'sinews', 'cuervo', 'partial', '-40', 'editor', 'optional-', 'gound', 'comice', 'w/a', '17g', 'pastis', 'owens', 'strawberry-flavored', 'brothers', 'home-style', 'filler', 'threading', 'precut', 're-warm', 'paddles', 'guideline', 'eighteen', 'timbale', 'wake', 'referred', 'suddenly', 'appealing', 'filters', 'flat-side', 'inwards', 'slosh', 'portabellas', 'quart-sized', 'ingredents', '1tablespoon', 'zone', 'demiglace', '180c/350f/gas', 'neelys', 'episode', 'involved', 'pilot', 'lime-flavored', 'daddy', 'dorito', 'supplies', 'seeps', '3-lb', '154', 'wherever', 'ovaltine', 'saying', 'flanken', 'foster', 'pudding-like', 'absolute', '......', 'halt', '28-30', 'regulate', 'mozz', '395', 'masters', 'sous', 'updated', '3-58', 'hostess', 'confectionery', 'books', '1900', 'capped', 'destemmed', 'double-strength', 'drum', 'laces', 'noses', 'brief', 'expands', 'died', 'compared', 'fiery', 'cook-and-serve', 'pan-', 'borscht', 'noddles', 'vita-mix', 'rouge', 'beluga', '392', '18-', '-to', '1/4inch', 'sky', '235Â°', 'accents', 'jane', 'butter-side', 'bacon-wrapped', 'thumped', 'mozerella', 'mahimahi', '70-80', 'adequately', 'ta', 'wilting', '1-13', 'eggy', 'nonhydrogenated', 'flautas', 'wan', 'offers', 'castelvetrano', 'lactose-free', '26-ounce', 'latex', '2cups', 'alittle', 'oilve', '900g', '3.add', '340f/170c', 'ovensafe', 'beds', 'tendon', 'additionally', 'miniatures', 'epsom', '90Â°', 'canton', 'elevated', 'half-full', 'askew', 'lighting', 'x1', 'de-stem', 'carte', 'chicken-breast', 'finley', 'currents', 'unflavoured', '1.5cm', 'packageshredded', 'over-ripe', 'horn', 'crunchiness', 'pekoe', 'hitting', 'scrumptious', 'cilantro-lime', 'dive', 'firm-tender', 'review', 'sturgeon', 'weekend', '16.3', 'napoleon', '-place', 'buco', 'schmear', 'ff', 'schilling', 'uncoated', 'reviews', '2.6', 'teacups', 'argo', 'seville', 'underbeat', 'hubbard']\n"
     ]
    }
   ],
   "source": [
    "with open(base_path + vocab_path, 'r') as file:\n",
    "    vocab = [t[0] for t in list(csv.reader(file))[1:]]\n",
    "\n",
    "print(vocab)"
   ]
  },
  {
   "cell_type": "code",
   "execution_count": 5,
   "metadata": {},
   "outputs": [
    {
     "data": {
      "text/plain": [
       "10001"
      ]
     },
     "execution_count": 5,
     "metadata": {},
     "output_type": "execute_result"
    }
   ],
   "source": [
    "\n",
    "vocab =  vocab + [\"<ING>\", \"<REC>\"]\n",
    "\n",
    "\n",
    "\n",
    "w2id =  {w:i for i,w in  enumerate(vocab)}\n",
    "id2w =  {i:w for i,w in  enumerate(vocab)}\n",
    "\n",
    "(w2id)[\"<REC>\"]"
   ]
  },
  {
   "cell_type": "code",
   "execution_count": 6,
   "metadata": {},
   "outputs": [
    {
     "name": "stdout",
     "output_type": "stream",
     "text": [
      "Input sequence shape: torch.Size([32, 10])\n",
      "Output vector shape: torch.Size([32, 5])\n"
     ]
    }
   ],
   "source": [
    "\n",
    "    \n",
    "class Generator_next_token(nn.Module):\n",
    "    def __init__(self, vocab_len, hidden_size, num_layers=1):\n",
    "        super(Generator_next_token, self).__init__()\n",
    "        self.embedding = nn.Embedding(num_embeddings=vocab_len, embedding_dim=hidden_size)\n",
    "        self.rnn = nn.LSTM(input_size, hidden_size, num_layers=num_layers, batch_first=True)\n",
    "        self.fc = nn.Linear(num_layers * hidden_size, vocab_len)\n",
    "\n",
    "    def forward(self, input_sequence):\n",
    "        embedded = self.embedding(input_sequence)\n",
    "        # input_sequence shape: (batch_size, sequence_length, input_size)\n",
    "        hidden_states, (h_n, _) = self.rnn(embedded)\n",
    "        # h_n shape: (num_layers, batch_size, hidden_size)\n",
    "\n",
    "        # Concatenate or stack hidden states from all layers\n",
    "        h_n_flat = h_n.permute(1, 0, 2).contiguous().view(input_sequence.size(0), -1)\n",
    "        \n",
    "        # Pass through the linear layer\n",
    "\n",
    "        output = self.fc(h_n_flat)\n",
    "        # output shape: (batch_size, output_size)\n",
    "       \n",
    "        return output, hidden_states\n",
    "\n",
    "# Example usage\n",
    "batch_size = 32\n",
    "sequence_length = 10\n",
    "input_size = 5\n",
    "hidden_size = 64\n",
    "output_size = input_size\n",
    "\n",
    "# Create an instance of the Generator\n",
    "generator = Generator_next_token(input_size, hidden_size, 2)\n",
    "\n",
    "# Generate a random batch of input sequences\n",
    "input_sequence = torch.randint(0,input_size,(batch_size, sequence_length))\n",
    "\n",
    "# Forward pass through the generator\n",
    "output_vector, _ = generator(input_sequence)\n",
    "\n",
    "print(\"Input sequence shape:\", input_sequence.shape)\n",
    "print(\"Output vector shape:\", output_vector.shape)\n"
   ]
  },
  {
   "cell_type": "code",
   "execution_count": 7,
   "metadata": {},
   "outputs": [],
   "source": [
    "\n",
    "\n",
    "# Define the Generator\n",
    "class Generator(nn.Module):\n",
    "    def __init__(self, vocab_len,hidden_size, depth,max_len):\n",
    "        super(Generator, self).__init__()\n",
    "        \n",
    "        self.embedding = nn.Linear(vocab_len, hidden_size)\n",
    "        self.rnn = nn.LSTM(hidden_size, hidden_size, num_layers=depth, batch_first=True)\n",
    "        self.hidden2vocab = nn.Linear(hidden_size, vocab_len)\n",
    "        self.hidden_l = nn.Linear(hidden_size * depth, hidden_size)\n",
    "        self.max_len = max_len\n",
    "        \n",
    "\n",
    "        \n",
    "        \n",
    "\n",
    "    def forward(self, input_seq):\n",
    "        original_input = input_seq.clone()\n",
    "        sequences = self.embedding(input_seq.float())\n",
    "        outputs = []\n",
    "    \n",
    "        for _ in range(self.max_len):\n",
    "            last_hidden, hidden_states = self.singel_pass(sequences)\n",
    "            outputs.append(last_hidden)\n",
    "            sequences = torch.cat((sequences, last_hidden.unsqueeze(1)), dim = 1)\n",
    "       \n",
    "        outputs = torch.stack(outputs, dim = 1)\n",
    "        vocab_vectors = self.hidden2vocab(outputs)\n",
    "        vocab_probs = torch.softmax(vocab_vectors, dim=2)\n",
    "        \n",
    "        out = torch.concat((original_input,vocab_probs), dim=1)\n",
    "        return out, hidden_states\n",
    "            \n",
    "        \n",
    "\n",
    "    def singel_pass(self, input_seq):\n",
    "        rand_source = torch.rand((input_seq.shape[0], 1, input_seq.shape[2])).to(device)\n",
    "        #embedded = torch.concat((rand_source, embedded), dim = 1)\n",
    "        hidden_states, (last_hidden, _) = self.rnn(input_seq)\n",
    "        last_hidden = last_hidden.view(1, -1)\n",
    "        output = self.hidden_l(last_hidden)\n",
    "        \n",
    "        return output, hidden_states\n",
    "\n",
    "\n",
    "# Define the Discriminator\n",
    "class Discriminator(nn.Module):\n",
    "    def __init__(self, vocab_len, hidden_size):\n",
    "        super(Discriminator, self).__init__()\n",
    "        self.embedding = nn.Embedding(num_embeddings=vocab_len, embedding_dim=hidden_size)\n",
    "        self.rnn = nn.LSTM(hidden_size, hidden_size, batch_first=True)\n",
    "        self.fc = nn.Linear(hidden_size, 1)\n",
    "\n",
    "    def forward(self, input):\n",
    "        embedded = self.embedding(input)\n",
    "        hidden_states, (last_hidden, _) = self.rnn(embedded)\n",
    "        output = self.fc(last_hidden)\n",
    "        prob = F.sigmoid(output)\n",
    "        return prob, hidden_states"
   ]
  },
  {
   "cell_type": "code",
   "execution_count": 8,
   "metadata": {},
   "outputs": [],
   "source": [
    "class CSVDataLoader:\n",
    "    def __init__(self, csv_file_path, batch_size, num_rows):\n",
    "        self.csv_file_path = csv_file_path\n",
    "        self.batch_size = batch_size\n",
    "        self.num_rows = num_rows\n",
    "        self.current_index = 0\n",
    "        self.file_handle = None\n",
    "        self.csv_writer = None\n",
    "        self.headers = None\n",
    "\n",
    "    def open_csv_file(self):\n",
    "        self.file_handle = open(self.csv_file_path, 'r', newline='')\n",
    "        self.csv_writer = csv.reader(self.file_handle)\n",
    "        # Assuming the first row contains headers\n",
    "        self.headers = next(self.csv_writer)\n",
    "\n",
    "    def close_csv_file(self):\n",
    "        if self.file_handle is not None and not self.file_handle.closed:\n",
    "            self.file_handle.close()\n",
    "\n",
    "    def reset(self):\n",
    "        self.close_csv_file()\n",
    "        self.open_csv_file()\n",
    "        self.current_index = 0\n",
    "\n",
    "    def has_next_batch(self):\n",
    "        return self.current_index < self.num_rows\n",
    "\n",
    "    def get_next_batch(self, pad):\n",
    "        ing_batch = [] \n",
    "        rec_batch = []\n",
    "        for _ in range(self.batch_size):\n",
    "            if not self.has_next_batch():\n",
    "                break\n",
    "            ing, rec = next(self.csv_writer)\n",
    "            ing_batch.append(torch.tensor(eval(ing)).to(device))\n",
    "            rec_batch.append(torch.tensor(eval(rec)).to(device))\n",
    "            self.current_index += 1\n",
    "       \n",
    "        \n",
    "\n",
    "        ing_padded = pad_sequence(ing_batch, batch_first=True, padding_value=pad)\n",
    "        rec_padded = pad_sequence(rec_batch, batch_first=True, padding_value=pad)\n",
    "        return ing_padded, rec_padded\n",
    "    \n",
    "    def batches_left(self):\n",
    "        return (self.num_rows - self.current_index) // self.batch_size\n",
    "    \n",
    "    def __del__(self):\n",
    "        self.close_csv_file()"
   ]
  },
  {
   "cell_type": "code",
   "execution_count": 9,
   "metadata": {},
   "outputs": [
    {
     "name": "stdout",
     "output_type": "stream",
     "text": [
      "tensor([[0.1826, 0.3651, 0.9129]])\n",
      "tensor([[0.1826, 0.3651, 0.9129]])\n",
      "tensor([[0.1826, 0.3651, 0.9129]])\n",
      "tensor([[0.1826, 0.3651, 0.9129]])\n",
      "tensor([[0.1826, 0.3651, 0.9129]])\n",
      "tensor([[0.1826, 0.3651, 0.9129]])\n",
      "tensor([[0.1826, 0.3651, 0.9129]])\n",
      "tensor([[0.1826, 0.3651, 0.9129]])\n",
      "tensor([[0.1826, 0.3651, 0.9129]])\n",
      "tensor([[0.1826, 0.3651, 0.9129]])\n"
     ]
    }
   ],
   "source": [
    "for i in range(1,100,10):\n",
    "    print(F.normalize(torch.tensor([[0.1,0.2,0.5]], dtype=torch.float32) * i, dim = 1))"
   ]
  },
  {
   "cell_type": "code",
   "execution_count": null,
   "metadata": {},
   "outputs": [],
   "source": []
  },
  {
   "cell_type": "code",
   "execution_count": 10,
   "metadata": {},
   "outputs": [
    {
     "data": {
      "text/plain": [
       "'args = torch.randint(1,100, (1000, 3))\\nr = torch.arange(2500).view(50, -1)\\nfor b,c,d in tqdm(args):\\n    h = one_hot_noisify_tokens(r, 2500, b,c,30).argmax(dim=2)\\n    assert(torch.equal(r, h))'"
      ]
     },
     "execution_count": 10,
     "metadata": {},
     "output_type": "execute_result"
    }
   ],
   "source": [
    "\"\"\"args = torch.randint(1,100, (1000, 3))\n",
    "r = torch.arange(2500).view(50, -1)\n",
    "for b,c,d in tqdm(args):\n",
    "    h = one_hot_noisify_tokens(r, 2500, b,c,30).argmax(dim=2)\n",
    "    assert(torch.equal(r, h))\"\"\""
   ]
  },
  {
   "cell_type": "code",
   "execution_count": 11,
   "metadata": {},
   "outputs": [],
   "source": [
    "def patch_batch(ings, start, midel):\n",
    "    start_tokens = torch.full((ings.shape[0],), start).unsqueeze(1).to(device)\n",
    "    midel_tokens = torch.full((ings.shape[0],), midel).unsqueeze(1).to(device)\n",
    "    return torch.cat((start_tokens, ings, midel_tokens), dim=1).to(device)\n"
   ]
  },
  {
   "cell_type": "code",
   "execution_count": 12,
   "metadata": {},
   "outputs": [
    {
     "data": {
      "text/plain": [
       "tensor([10000,     3,    67,   206,  1827,    96,     4,    59,   345,     2,\n",
       "           23,   742,    55,   227,     2,     3,    28,    34,    48,   196,\n",
       "          103,     2,     3,   483,   117,    34,     1,     1,     1,     1,\n",
       "            1,     1,     1,     1,     1,     1,     1,     1,     1,     1,\n",
       "            1,     1,     1,     1,     1,     1,     1,     1,     1,     1,\n",
       "            1,     1,     1,     1,     1,     1,     1,     1,     1,     1,\n",
       "            1,     1,     1,     1,     1,     1,     1,     1,     1,     1,\n",
       "            1,     1,     1,     1,     1,     1,     1,     1,     1, 10001],\n",
       "       device='cuda:0')"
      ]
     },
     "execution_count": 12,
     "metadata": {},
     "output_type": "execute_result"
    }
   ],
   "source": [
    "data_path = r\"C:\\Users\\mrmrk\\OneDrive\\Documents\\GitHub\\recipe_generation\\prepeard_data.csv\"\n",
    "data_loader = CSVDataLoader(data_path, 32, 2231142)\n",
    "data_loader.open_csv_file()\n",
    "d = data_loader.get_next_batch(w2id[\"<PAD>\"])\n",
    "data_loader.close_csv_file()\n",
    "\n",
    "patch_batch(d[0], w2id[\"<ING>\"], w2id[\"<REC>\"])[0]"
   ]
  },
  {
   "cell_type": "code",
   "execution_count": 13,
   "metadata": {},
   "outputs": [],
   "source": [
    "class Dummy_loader:\n",
    "    def __init__(self, d) -> None:\n",
    "        self.d = d\n",
    "\n",
    "    def reset(self):\n",
    "        pass\n",
    "    def open_csv_file(self):\n",
    "        pass\n",
    "    def batches_left(self):\n",
    "        return 1\n",
    "\n",
    "    def get_next_batch(self, a):\n",
    "        return self.d\n",
    "    "
   ]
  },
  {
   "cell_type": "code",
   "execution_count": 14,
   "metadata": {},
   "outputs": [],
   "source": [
    "class NextTokenPredictor(nn.Module):\n",
    "    def __init__(self, vocab_size, embedding_dim, hidden_dim):\n",
    "        super(NextTokenPredictor, self).__init__()\n",
    "        self.embedding = nn.Embedding(vocab_size, embedding_dim)\n",
    "        self.lstm = nn.LSTM(embedding_dim, hidden_dim, batch_first=True)\n",
    "        self.fc = nn.Linear(hidden_dim, vocab_size)\n",
    "        self.hidden_dim = hidden_dim\n",
    "\n",
    "        # Initialize the hidden state as a learnable parameter\n",
    "        self.init_hidden = nn.Parameter(torch.zeros(1, 1, hidden_dim), requires_grad=True)\n",
    "\n",
    "    def forward(self, x):\n",
    "        batch_size = x.size(0)\n",
    "\n",
    "        # Repeat the initial hidden state for the entire batch\n",
    "        hidden = (self.init_hidden.repeat(1, batch_size, 1), torch.zeros(1, batch_size, self.hidden_dim).to(device))\n",
    "\n",
    "        x = self.embedding(x)\n",
    "        x, hidden = self.lstm(x, hidden)\n",
    "        x = self.fc(x[:, -1, :])  # Take the last time step output\n",
    "        return x"
   ]
  },
  {
   "cell_type": "code",
   "execution_count": 27,
   "metadata": {},
   "outputs": [],
   "source": [
    "# Hyperparameters\n",
    "generator_hidden_size = 128\n",
    "generator_depth = 8\n",
    "gen_lr  = 0.00001\n",
    "batch_size = 64\n",
    "epochs = 1\n",
    "\n",
    "nr_grads = 4000"
   ]
  },
  {
   "cell_type": "code",
   "execution_count": 29,
   "metadata": {},
   "outputs": [
    {
     "name": "stderr",
     "output_type": "stream",
     "text": [
      "  0%|          | 1/4000 [00:06<7:24:12,  6.66s/it]"
     ]
    },
    {
     "name": "stderr",
     "output_type": "stream",
     "text": [
      "\n",
      "17410it [9:35:07,  5.01s/it]                           "
     ]
    },
    {
     "ename": "KeyboardInterrupt",
     "evalue": "",
     "output_type": "error",
     "traceback": [
      "\u001b[1;31m---------------------------------------------------------------------------\u001b[0m",
      "\u001b[1;31mKeyboardInterrupt\u001b[0m                         Traceback (most recent call last)",
      "Cell \u001b[1;32mIn[29], line 65\u001b[0m\n\u001b[0;32m     62\u001b[0m generated_logits \u001b[38;5;241m=\u001b[39m generator(sequence_x)\n\u001b[0;32m     64\u001b[0m gen_loss \u001b[38;5;241m=\u001b[39m criterion(generated_logits, tokens_y\u001b[38;5;241m.\u001b[39mfloat())\n\u001b[1;32m---> 65\u001b[0m \u001b[43mgen_loss\u001b[49m\u001b[38;5;241;43m.\u001b[39;49m\u001b[43mbackward\u001b[49m\u001b[43m(\u001b[49m\u001b[43m)\u001b[49m\n\u001b[0;32m     66\u001b[0m gen_optimizer\u001b[38;5;241m.\u001b[39mstep()\n\u001b[0;32m     68\u001b[0m gen_losses\u001b[38;5;241m.\u001b[39mappend(gen_loss\u001b[38;5;241m.\u001b[39mitem())\n",
      "File \u001b[1;32mc:\\Users\\mrmrk\\OneDrive\\Documents\\GitHub\\recipe_generation\\.venv\\lib\\site-packages\\torch\\_tensor.py:492\u001b[0m, in \u001b[0;36mTensor.backward\u001b[1;34m(self, gradient, retain_graph, create_graph, inputs)\u001b[0m\n\u001b[0;32m    482\u001b[0m \u001b[38;5;28;01mif\u001b[39;00m has_torch_function_unary(\u001b[38;5;28mself\u001b[39m):\n\u001b[0;32m    483\u001b[0m     \u001b[38;5;28;01mreturn\u001b[39;00m handle_torch_function(\n\u001b[0;32m    484\u001b[0m         Tensor\u001b[38;5;241m.\u001b[39mbackward,\n\u001b[0;32m    485\u001b[0m         (\u001b[38;5;28mself\u001b[39m,),\n\u001b[1;32m   (...)\u001b[0m\n\u001b[0;32m    490\u001b[0m         inputs\u001b[38;5;241m=\u001b[39minputs,\n\u001b[0;32m    491\u001b[0m     )\n\u001b[1;32m--> 492\u001b[0m \u001b[43mtorch\u001b[49m\u001b[38;5;241;43m.\u001b[39;49m\u001b[43mautograd\u001b[49m\u001b[38;5;241;43m.\u001b[39;49m\u001b[43mbackward\u001b[49m\u001b[43m(\u001b[49m\n\u001b[0;32m    493\u001b[0m \u001b[43m    \u001b[49m\u001b[38;5;28;43mself\u001b[39;49m\u001b[43m,\u001b[49m\u001b[43m \u001b[49m\u001b[43mgradient\u001b[49m\u001b[43m,\u001b[49m\u001b[43m \u001b[49m\u001b[43mretain_graph\u001b[49m\u001b[43m,\u001b[49m\u001b[43m \u001b[49m\u001b[43mcreate_graph\u001b[49m\u001b[43m,\u001b[49m\u001b[43m \u001b[49m\u001b[43minputs\u001b[49m\u001b[38;5;241;43m=\u001b[39;49m\u001b[43minputs\u001b[49m\n\u001b[0;32m    494\u001b[0m \u001b[43m\u001b[49m\u001b[43m)\u001b[49m\n",
      "File \u001b[1;32mc:\\Users\\mrmrk\\OneDrive\\Documents\\GitHub\\recipe_generation\\.venv\\lib\\site-packages\\torch\\autograd\\__init__.py:251\u001b[0m, in \u001b[0;36mbackward\u001b[1;34m(tensors, grad_tensors, retain_graph, create_graph, grad_variables, inputs)\u001b[0m\n\u001b[0;32m    246\u001b[0m     retain_graph \u001b[38;5;241m=\u001b[39m create_graph\n\u001b[0;32m    248\u001b[0m \u001b[38;5;66;03m# The reason we repeat the same comment below is that\u001b[39;00m\n\u001b[0;32m    249\u001b[0m \u001b[38;5;66;03m# some Python versions print out the first line of a multi-line function\u001b[39;00m\n\u001b[0;32m    250\u001b[0m \u001b[38;5;66;03m# calls in the traceback and some print out the last line\u001b[39;00m\n\u001b[1;32m--> 251\u001b[0m \u001b[43mVariable\u001b[49m\u001b[38;5;241;43m.\u001b[39;49m\u001b[43m_execution_engine\u001b[49m\u001b[38;5;241;43m.\u001b[39;49m\u001b[43mrun_backward\u001b[49m\u001b[43m(\u001b[49m\u001b[43m  \u001b[49m\u001b[38;5;66;43;03m# Calls into the C++ engine to run the backward pass\u001b[39;49;00m\n\u001b[0;32m    252\u001b[0m \u001b[43m    \u001b[49m\u001b[43mtensors\u001b[49m\u001b[43m,\u001b[49m\n\u001b[0;32m    253\u001b[0m \u001b[43m    \u001b[49m\u001b[43mgrad_tensors_\u001b[49m\u001b[43m,\u001b[49m\n\u001b[0;32m    254\u001b[0m \u001b[43m    \u001b[49m\u001b[43mretain_graph\u001b[49m\u001b[43m,\u001b[49m\n\u001b[0;32m    255\u001b[0m \u001b[43m    \u001b[49m\u001b[43mcreate_graph\u001b[49m\u001b[43m,\u001b[49m\n\u001b[0;32m    256\u001b[0m \u001b[43m    \u001b[49m\u001b[43minputs\u001b[49m\u001b[43m,\u001b[49m\n\u001b[0;32m    257\u001b[0m \u001b[43m    \u001b[49m\u001b[43mallow_unreachable\u001b[49m\u001b[38;5;241;43m=\u001b[39;49m\u001b[38;5;28;43;01mTrue\u001b[39;49;00m\u001b[43m,\u001b[49m\n\u001b[0;32m    258\u001b[0m \u001b[43m    \u001b[49m\u001b[43maccumulate_grad\u001b[49m\u001b[38;5;241;43m=\u001b[39;49m\u001b[38;5;28;43;01mTrue\u001b[39;49;00m\u001b[43m,\u001b[49m\n\u001b[0;32m    259\u001b[0m \u001b[43m\u001b[49m\u001b[43m)\u001b[49m\n",
      "\u001b[1;31mKeyboardInterrupt\u001b[0m: "
     ]
    }
   ],
   "source": [
    "\n",
    "#a = CSVDataLoader(r\"C:\\Users\\mrmrk\\OneDrive\\Documents\\GitHub\\recipe_generation\\dummy_data.csv\", 1, 1)\n",
    "#a.open_csv_file()\n",
    "#pad1 = w2id[\"<PAD>\"]\n",
    "\n",
    "#dummy_loader = Dummy_loader(a.get_next_batch(pad1))\n",
    "data_loader = CSVDataLoader(data_path, batch_size, 2231142)\n",
    "\n",
    "\n",
    "#data_loader = dummy_loader\n",
    "\n",
    "\n",
    "data_loader.open_csv_file()\n",
    "# Instantiate Generator and Discriminator\n",
    "generator = NextTokenPredictor(len(vocab), generator_hidden_size, generator_hidden_size).to(device)\n",
    "\n",
    "\n",
    "\n",
    "# Loss and Optimizer\n",
    "criterion = nn.CrossEntropyLoss()\n",
    "gen_optimizer = optim.Adam(generator.parameters(), lr=gen_lr)\n",
    "max_grad_norm = 1.0\n",
    "#torch.nn.utils.clip_grad_norm_(discriminator.parameters(), max_grad_norm)\n",
    "#torch.nn.utils.clip_grad_norm_(generator.parameters(), max_grad_norm)\n",
    "\n",
    "\n",
    "avg_gen_losses = []\n",
    "\n",
    "progress_bar = tqdm(total=nr_grads)\n",
    "\n",
    "for epoch in (range(epochs)):\n",
    "    \n",
    "    data_loader.reset()\n",
    "    batch_nr = 0\n",
    "    total_nr_batches = data_loader.batches_left()\n",
    "    #total_nr_batches =  100\n",
    "    itr =(range(total_nr_batches))\n",
    "    for batch_nr in itr:\n",
    "        if progress_bar.n == nr_grads:\n",
    "            pass\n",
    "        \n",
    "        # Training the Discriminator\n",
    "        pad1 = w2id[\"<PAD>\"]\n",
    "       \n",
    "   \n",
    "        real_ingredients, real_recipies = data_loader.get_next_batch(pad1)\n",
    "        real_patched_ings = patch_batch(real_ingredients, \n",
    "                                            w2id[\"<ING>\"],\n",
    "                                            w2id[\"<REC>\"])\n",
    "        \n",
    "        #Generator input does not need to be smoothend\n",
    "        real_batch = torch.concat((real_patched_ings,\n",
    "                                     real_recipies), dim = 1)\n",
    "\n",
    "       \n",
    "  \n",
    "        gen_losses = []\n",
    "        for index in range(real_patched_ings.shape[1],real_batch.shape[1]):\n",
    "            gen_optimizer.zero_grad()\n",
    "            sequence_x = real_batch[:,:index]\n",
    "            tokens_y = torch.nn.functional.one_hot(real_batch[:,index], len(vocab))\n",
    "             \n",
    "            generated_logits = generator(sequence_x)\n",
    "            \n",
    "            gen_loss = criterion(generated_logits, tokens_y.float())\n",
    "            gen_loss.backward()\n",
    "            gen_optimizer.step()\n",
    "\n",
    "            gen_losses.append(gen_loss.item())\n",
    "        avg_gen_losses.append(sum(gen_losses) / len(gen_losses))\n",
    "        progress_bar.update(1)\n",
    "       \n",
    "      \n",
    "\n",
    "    \n",
    "            "
   ]
  },
  {
   "cell_type": "code",
   "execution_count": 30,
   "metadata": {},
   "outputs": [
    {
     "data": {
      "image/png": "[encoded data removed]",
      "text/plain": [
       "<Figure size 640x480 with 1 Axes>"
      ]
     },
     "metadata": {},
     "output_type": "display_data"
    },
    {
     "data": {
      "text/plain": [
       "0.4613361656665802"
      ]
     },
     "execution_count": 30,
     "metadata": {},
     "output_type": "execute_result"
    }
   ],
   "source": [
    "import matplotlib.pyplot as plt\n",
    "plt.plot(avg_gen_losses, color = \"red\")\n",
    "plt.show()\n",
    "gen_losses[-1]"
   ]
  },
  {
   "cell_type": "code",
   "execution_count": 31,
   "metadata": {},
   "outputs": [],
   "source": [
    "from nltk.tokenize import word_tokenize"
   ]
  },
  {
   "cell_type": "code",
   "execution_count": 32,
   "metadata": {},
   "outputs": [],
   "source": [
    "def encode(prompt, dic):\n",
    "    return [dic.get(t.lower(),dic[\"<UKN>\"]) for t in word_tokenize(prompt)]"
   ]
  },
  {
   "cell_type": "code",
   "execution_count": 33,
   "metadata": {},
   "outputs": [
    {
     "data": {
      "text/plain": [
       "[5182, 733, 64, 209, 3877, 10, 90, 855]"
      ]
     },
     "execution_count": 33,
     "metadata": {},
     "output_type": "execute_result"
    }
   ],
   "source": [
    "encode(\"1. break milk I brew a cool candy\", w2id)"
   ]
  },
  {
   "cell_type": "code",
   "execution_count": 34,
   "metadata": {},
   "outputs": [],
   "source": [
    "def decode(answer, dic):\n",
    "    return \" \".join([dic[i] for i in answer])"
   ]
  },
  {
   "cell_type": "code",
   "execution_count": 35,
   "metadata": {},
   "outputs": [
    {
     "data": {
      "text/plain": [
       "'we bake a <UKN> cake'"
      ]
     },
     "execution_count": 35,
     "metadata": {},
     "output_type": "execute_result"
    }
   ],
   "source": [
    "decode(encode(\"we bake a NLP cake\", w2id), id2w)"
   ]
  },
  {
   "cell_type": "code",
   "execution_count": 36,
   "metadata": {},
   "outputs": [],
   "source": [
    "def topk(next_logits, k):\n",
    "    next_probs = torch.softmax(next_logits, dim=1)\n",
    "    topk_values, topk_indices = torch.topk(next_probs, k, dim=1)\n",
    "    topk_values, topk_indices = topk_values.to(device), topk_indices.to(device)\n",
    "    topk_index_indices = torch.multinomial((topk_values), 1).squeeze(1).to(device)\n",
    "    next_tokens = topk_indices[\n",
    "        torch.arange(topk_index_indices.shape[0]), topk_index_indices]\n",
    "    return next_tokens"
   ]
  },
  {
   "cell_type": "code",
   "execution_count": 37,
   "metadata": {},
   "outputs": [],
   "source": [
    "def generate(prompt, generator, gen_len, strat):\n",
    "    t = torch.tensor(encode(prompt, w2id)).unsqueeze(0).to(device)\n",
    "    batch = (patch_batch(t,\n",
    "                                w2id[\"<ING>\"],\n",
    "                                w2id[\"<REC>\"]))\n",
    "    for _ in range(gen_len):\n",
    "        answer = generator(batch)\n",
    "        new_token = strat(answer)\n",
    "        if id2w[new_token.item()] == \"<PAD>\":\n",
    "            break\n",
    "        batch = torch.concat((batch, new_token.unsqueeze(1)), dim = 1)\n",
    "        \n",
    "\n",
    "    return decode([i.item() for i in batch[0]], id2w).split(\"<REC>\")[1]"
   ]
  },
  {
   "cell_type": "code",
   "execution_count": 38,
   "metadata": {},
   "outputs": [
    {
     "data": {
      "text/plain": [
       "'teaspoon mac will of'"
      ]
     },
     "execution_count": 38,
     "metadata": {},
     "output_type": "execute_result"
    }
   ],
   "source": [
    "decode([31, 4028, 208, 16], id2w)"
   ]
  },
  {
   "cell_type": "code",
   "execution_count": 40,
   "metadata": {},
   "outputs": [
    {
     "name": "stdout",
     "output_type": "stream",
     "text": [
      " cover cheese 1 shredded onions . teaspoon and half the to large minutes * , 2 and tablespoon * tablespoon , cook * sauce 2 and tablespoon , cook , or stir . teaspoon and can the to jello make , baking in food melt , heat ) lemon 1/2 another .\n",
      " cream milk 4 the to large minutes . tablespoons cup to before , about oz . cups in it it pan into . heat 3 shredded ) syrup 1/2 ( a cups over cooking , seeded . onion sliced in chicken * ( onion .\n",
      " cream and 4 the to slice chili , roasted a water over dough . 2 and at , pepper . 2 1 and 4 , sugar a and into over dough for tablespoons cup and soy salt , heat ) on potatoes . place the to large salt of using . place the and down ) lemon 1/2 stirring cooked .\n",
      " until flour the to large vanilla add is finely until . the vanilla add is until * cinnamon a soup oven * butter pour 1/2 . mixture , clove and can for juice boil . 2 and egg * pepper , cook 1 to brown . c. and can the to vanilla add boiling until ) butter on small 1 tsp 1/2 a soup oven * butter pour 1/2 . 2 and egg , c. a water vegetables still refrigerator , 2 1 and can wine , c. and can other ) butter lemon 7 . 2 and degrees *\n",
      " cream and flour * , egg . the to then minutes * or garlic and at , about beef . 2 and each , and pepper , cook . 2 and crust 1 and salt * , sugar stir . 2 and can into * , aside x 1 warm . 2 and it 4 , 6 1 to brown * pkg until , cool ) lemon 1/2 . onion in vinegar ( pork .\n",
      " until flour the to large combined ounce add is finely until . cinnamon and tablespoon , egg the lightly flour the and flour a and tablespoon over peanuts . 2 and white , and liquid , c. * ) combine 1 has 1/2 . 2 and can , wine , sugar 1 cream . cool ) lemon 1/2 . 2 and dried , sugar the and vinegar for cool ) butter slices 1/2 .\n",
      " cover cheese 1 shredded onions processor the to then minutes cream and it 4 mix plastic <UKN> oil , sugar stir a dough . 2 and it 4 1 and pineapple into . tablespoons cup before immediately separated . heat the and cheese ) on potatoes ( a and bread prepare well soup . place saute * , onion pieces .\n",
      " cover cheese 1 shredded onions . cream milk 4 . tablespoons cup to before about oz . heat ) salad 1/2 . onion in cabbage .\n",
      " cream milk and 4 the to then minutes . 2 and ground toasted into * breadcrumbs center * serve center . sugar the and it 4 , or stir . tablespoons and into cup and 1/3 with to about salt * baking * , heat the to shredded refrigerated cheese ) slices 1/2 * sauce and cups in to bag using . place saute * sauce mixture and cups . place of to bag using .\n",
      " cover and cheese 1 sprigs the and cheese , heat and can ) salad 1/2 * sauce 400 and until , c. of to 15 cooling ) to room low ( put .\n"
     ]
    }
   ],
   "source": [
    "seed = 1337\n",
    "torch.manual_seed(seed)\n",
    "if torch.cuda.is_available():\n",
    "    torch.cuda.manual_seed(seed)\n",
    "    torch.backends.cudnn.deterministic = True\n",
    "    torch.backends.cudnn.benchmark = False\n",
    "ing = \"Big apple * Two large apples * A few apples\"\n",
    "\n",
    "generator.eval()\n",
    "with torch.no_grad():\n",
    "    for i in range(10):\n",
    "        print((generate(ing, generator, 100, lambda p: topk(p,5))))"
   ]
  },
  {
   "cell_type": "code",
   "execution_count": null,
   "metadata": {},
   "outputs": [],
   "source": []
  },
  {
   "cell_type": "code",
   "execution_count": null,
   "metadata": {},
   "outputs": [],
   "source": []
  }
 ],
 "metadata": {
  "kernelspec": {
   "display_name": ".venv",
   "language": "python",
   "name": "python3"
  },
  "language_info": {
   "codemirror_mode": {
    "name": "ipython",
    "version": 3
   },
   "file_extension": ".py",
   "mimetype": "text/x-python",
   "name": "python",
   "nbconvert_exporter": "python",
   "pygments_lexer": "ipython3",
   "version": "3.10.11"
  }
 },
 "nbformat": 4,
 "nbformat_minor": 2
}
